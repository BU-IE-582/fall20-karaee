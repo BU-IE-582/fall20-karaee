{
 "cells": [
  {
   "cell_type": "markdown",
   "metadata": {},
   "source": [
    "# Homework 3\n",
    "<span style=\"font-size:1.25em\"> Emre Kara  </span>  \n",
    "<span style=\"font-size:1em\"> 01.02.2021 </span>"
   ]
  },
  {
   "cell_type": "markdown",
   "metadata": {},
   "source": [
    "## Data Load and Preparation"
   ]
  },
  {
   "cell_type": "code",
   "execution_count": 1,
   "metadata": {},
   "outputs": [
    {
     "name": "stderr",
     "output_type": "stream",
     "text": [
      "Warning message:\n",
      "\"package 'data.table' was built under R version 3.6.3\"Registered S3 methods overwritten by 'ggplot2':\n",
      "  method         from \n",
      "  [.quosures     rlang\n",
      "  c.quosures     rlang\n",
      "  print.quosures rlang\n",
      "Registered S3 method overwritten by 'xts':\n",
      "  method     from\n",
      "  as.zoo.xts zoo \n",
      "Registered S3 method overwritten by 'quantmod':\n",
      "  method            from\n",
      "  as.zoo.data.frame zoo \n"
     ]
    }
   ],
   "source": [
    "#Libraries\n",
    "require(data.table, quietly = TRUE)\n",
    "require(glue, quietly = TRUE)\n",
    "require(ggplot2, quietly = TRUE)\n",
    "require(scatterplot3d, quietly = TRUE)\n",
    "require(gridExtra, quietly = TRUE)\n",
    "require(tidyr, quietly = TRUE)\n",
    "require(tseries, quietly = TRUE)"
   ]
  },
  {
   "cell_type": "code",
   "execution_count": 2,
   "metadata": {},
   "outputs": [],
   "source": [
    "#Dataload\n",
    "path <- \"Data/RealTimeConsumption-01012016-01122020.csv\"\n",
    "df <- fread(path)"
   ]
  },
  {
   "cell_type": "code",
   "execution_count": 3,
   "metadata": {},
   "outputs": [
    {
     "data": {
      "text/html": [
       "<table>\n",
       "<thead><tr><th scope=col>Date</th><th scope=col>Hour</th><th scope=col>Consumption (MWh)</th></tr></thead>\n",
       "<tbody>\n",
       "\t<tr><td>01.01.2016</td><td>00:00     </td><td>26,277.24 </td></tr>\n",
       "\t<tr><td>01.01.2016</td><td>01:00     </td><td>24,991.82 </td></tr>\n",
       "\t<tr><td>01.01.2016</td><td>02:00     </td><td>23,532.61 </td></tr>\n",
       "\t<tr><td>01.01.2016</td><td>03:00     </td><td>22,464.78 </td></tr>\n",
       "\t<tr><td>01.01.2016</td><td>04:00     </td><td>22,002.91 </td></tr>\n",
       "\t<tr><td>01.01.2016</td><td>05:00     </td><td>21,957.08 </td></tr>\n",
       "</tbody>\n",
       "</table>\n"
      ],
      "text/latex": [
       "\\begin{tabular}{r|lll}\n",
       " Date & Hour & Consumption (MWh)\\\\\n",
       "\\hline\n",
       "\t 01.01.2016 & 00:00      & 26,277.24 \\\\\n",
       "\t 01.01.2016 & 01:00      & 24,991.82 \\\\\n",
       "\t 01.01.2016 & 02:00      & 23,532.61 \\\\\n",
       "\t 01.01.2016 & 03:00      & 22,464.78 \\\\\n",
       "\t 01.01.2016 & 04:00      & 22,002.91 \\\\\n",
       "\t 01.01.2016 & 05:00      & 21,957.08 \\\\\n",
       "\\end{tabular}\n"
      ],
      "text/markdown": [
       "\n",
       "| Date | Hour | Consumption (MWh) |\n",
       "|---|---|---|\n",
       "| 01.01.2016 | 00:00      | 26,277.24  |\n",
       "| 01.01.2016 | 01:00      | 24,991.82  |\n",
       "| 01.01.2016 | 02:00      | 23,532.61  |\n",
       "| 01.01.2016 | 03:00      | 22,464.78  |\n",
       "| 01.01.2016 | 04:00      | 22,002.91  |\n",
       "| 01.01.2016 | 05:00      | 21,957.08  |\n",
       "\n"
      ],
      "text/plain": [
       "  Date       Hour  Consumption (MWh)\n",
       "1 01.01.2016 00:00 26,277.24        \n",
       "2 01.01.2016 01:00 24,991.82        \n",
       "3 01.01.2016 02:00 23,532.61        \n",
       "4 01.01.2016 03:00 22,464.78        \n",
       "5 01.01.2016 04:00 22,002.91        \n",
       "6 01.01.2016 05:00 21,957.08        "
      ]
     },
     "metadata": {},
     "output_type": "display_data"
    },
    {
     "data": {
      "text/html": [
       "<dl class=dl-horizontal>\n",
       "\t<dt>Date</dt>\n",
       "\t\t<dd>'character'</dd>\n",
       "\t<dt>Hour</dt>\n",
       "\t\t<dd>'character'</dd>\n",
       "\t<dt>Consumption (MWh)</dt>\n",
       "\t\t<dd>'character'</dd>\n",
       "</dl>\n"
      ],
      "text/latex": [
       "\\begin{description*}\n",
       "\\item[Date] 'character'\n",
       "\\item[Hour] 'character'\n",
       "\\item[Consumption (MWh)] 'character'\n",
       "\\end{description*}\n"
      ],
      "text/markdown": [
       "Date\n",
       ":   'character'Hour\n",
       ":   'character'Consumption (MWh)\n",
       ":   'character'\n",
       "\n"
      ],
      "text/plain": [
       "             Date              Hour Consumption (MWh) \n",
       "      \"character\"       \"character\"       \"character\" "
      ]
     },
     "metadata": {},
     "output_type": "display_data"
    }
   ],
   "source": [
    "head(df);sapply(df, typeof) #Checking up on data"
   ]
  },
  {
   "cell_type": "code",
   "execution_count": 4,
   "metadata": {
    "scrolled": false
   },
   "outputs": [
    {
     "data": {
      "text/html": [
       "<table>\n",
       "<thead><tr><th scope=col>Datetime</th><th scope=col>Hour</th><th scope=col>Consumption</th></tr></thead>\n",
       "<tbody>\n",
       "\t<tr><td>2016-01-01 00:00:00</td><td>0                  </td><td>26277.24           </td></tr>\n",
       "\t<tr><td>2016-01-01 01:00:00</td><td>1                  </td><td>24991.82           </td></tr>\n",
       "\t<tr><td>2016-01-01 02:00:00</td><td>2                  </td><td>23532.61           </td></tr>\n",
       "\t<tr><td>2016-01-01 03:00:00</td><td>3                  </td><td>22464.78           </td></tr>\n",
       "\t<tr><td>2016-01-01 04:00:00</td><td>4                  </td><td>22002.91           </td></tr>\n",
       "\t<tr><td>2016-01-01 05:00:00</td><td>5                  </td><td>21957.08           </td></tr>\n",
       "\t<tr><td>2016-01-01 06:00:00</td><td>6                  </td><td>22203.54           </td></tr>\n",
       "\t<tr><td>2016-01-01 07:00:00</td><td>7                  </td><td>21844.16           </td></tr>\n",
       "\t<tr><td>2016-01-01 08:00:00</td><td>8                  </td><td>23094.73           </td></tr>\n",
       "\t<tr><td>2016-01-01 09:00:00</td><td>9                  </td><td>25202.27           </td></tr>\n",
       "</tbody>\n",
       "</table>\n"
      ],
      "text/latex": [
       "\\begin{tabular}{r|lll}\n",
       " Datetime & Hour & Consumption\\\\\n",
       "\\hline\n",
       "\t 2016-01-01 00:00:00 & 0                   & 26277.24           \\\\\n",
       "\t 2016-01-01 01:00:00 & 1                   & 24991.82           \\\\\n",
       "\t 2016-01-01 02:00:00 & 2                   & 23532.61           \\\\\n",
       "\t 2016-01-01 03:00:00 & 3                   & 22464.78           \\\\\n",
       "\t 2016-01-01 04:00:00 & 4                   & 22002.91           \\\\\n",
       "\t 2016-01-01 05:00:00 & 5                   & 21957.08           \\\\\n",
       "\t 2016-01-01 06:00:00 & 6                   & 22203.54           \\\\\n",
       "\t 2016-01-01 07:00:00 & 7                   & 21844.16           \\\\\n",
       "\t 2016-01-01 08:00:00 & 8                   & 23094.73           \\\\\n",
       "\t 2016-01-01 09:00:00 & 9                   & 25202.27           \\\\\n",
       "\\end{tabular}\n"
      ],
      "text/markdown": [
       "\n",
       "| Datetime | Hour | Consumption |\n",
       "|---|---|---|\n",
       "| 2016-01-01 00:00:00 | 0                   | 26277.24            |\n",
       "| 2016-01-01 01:00:00 | 1                   | 24991.82            |\n",
       "| 2016-01-01 02:00:00 | 2                   | 23532.61            |\n",
       "| 2016-01-01 03:00:00 | 3                   | 22464.78            |\n",
       "| 2016-01-01 04:00:00 | 4                   | 22002.91            |\n",
       "| 2016-01-01 05:00:00 | 5                   | 21957.08            |\n",
       "| 2016-01-01 06:00:00 | 6                   | 22203.54            |\n",
       "| 2016-01-01 07:00:00 | 7                   | 21844.16            |\n",
       "| 2016-01-01 08:00:00 | 8                   | 23094.73            |\n",
       "| 2016-01-01 09:00:00 | 9                   | 25202.27            |\n",
       "\n"
      ],
      "text/plain": [
       "   Datetime            Hour Consumption\n",
       "1  2016-01-01 00:00:00 0    26277.24   \n",
       "2  2016-01-01 01:00:00 1    24991.82   \n",
       "3  2016-01-01 02:00:00 2    23532.61   \n",
       "4  2016-01-01 03:00:00 3    22464.78   \n",
       "5  2016-01-01 04:00:00 4    22002.91   \n",
       "6  2016-01-01 05:00:00 5    21957.08   \n",
       "7  2016-01-01 06:00:00 6    22203.54   \n",
       "8  2016-01-01 07:00:00 7    21844.16   \n",
       "9  2016-01-01 08:00:00 8    23094.73   \n",
       "10 2016-01-01 09:00:00 9    25202.27   "
      ]
     },
     "metadata": {},
     "output_type": "display_data"
    },
    {
     "data": {
      "text/html": [
       "<dl class=dl-horizontal>\n",
       "\t<dt>Datetime</dt>\n",
       "\t\t<dd>'double'</dd>\n",
       "\t<dt>Hour</dt>\n",
       "\t\t<dd>'integer'</dd>\n",
       "\t<dt>Consumption</dt>\n",
       "\t\t<dd>'double'</dd>\n",
       "</dl>\n"
      ],
      "text/latex": [
       "\\begin{description*}\n",
       "\\item[Datetime] 'double'\n",
       "\\item[Hour] 'integer'\n",
       "\\item[Consumption] 'double'\n",
       "\\end{description*}\n"
      ],
      "text/markdown": [
       "Datetime\n",
       ":   'double'Hour\n",
       ":   'integer'Consumption\n",
       ":   'double'\n",
       "\n"
      ],
      "text/plain": [
       "   Datetime        Hour Consumption \n",
       "   \"double\"   \"integer\"    \"double\" "
      ]
     },
     "metadata": {},
     "output_type": "display_data"
    }
   ],
   "source": [
    "#Transforming Columns\n",
    "colnames(df)[3] <- \"Consumption\" #Renaming Column\n",
    "df[,Date := as.POSIXct(paste(Date,Hour,sep=\" \"), format = \"%d.%m.%Y %H:%M\")] #Converting to datetime\n",
    "df[,Hour := as.integer(hour(Date))] #Converting column \"Hour\" to integer \n",
    "df[,Consumption := as.numeric( sub(\",\",\"\",Consumption))] #Replacing ',' with NA\n",
    "names(df)[1] = \"Datetime\" #Renaming Column\n",
    "head(df,10);sapply(df, typeof)"
   ]
  },
  {
   "cell_type": "markdown",
   "metadata": {},
   "source": [
    "## Logical Check"
   ]
  },
  {
   "cell_type": "code",
   "execution_count": 5,
   "metadata": {},
   "outputs": [
    {
     "data": {
      "text/plain": [
       "tdiffs\n",
       "    0  3600 \n",
       "    1 43126 "
      ]
     },
     "metadata": {},
     "output_type": "display_data"
    },
    {
     "data": {
      "text/html": [
       "<table>\n",
       "<thead><tr><th scope=col>Datetime</th><th scope=col>Hour</th><th scope=col>Consumption</th></tr></thead>\n",
       "<tbody>\n",
       "\t<tr><td>2016-03-27 02:00:00</td><td> 2                 </td><td>    0.00           </td></tr>\n",
       "\t<tr><td>2020-04-12 08:00:00</td><td> 8                 </td><td>17387.69           </td></tr>\n",
       "\t<tr><td>2020-04-12 09:00:00</td><td> 9                 </td><td>17236.67           </td></tr>\n",
       "\t<tr><td>2020-04-12 10:00:00</td><td>10                 </td><td>17571.95           </td></tr>\n",
       "\t<tr><td>2020-05-23 08:00:00</td><td> 8                 </td><td>17352.54           </td></tr>\n",
       "\t<tr><td>2020-05-24 06:00:00</td><td> 6                 </td><td>17063.70           </td></tr>\n",
       "\t<tr><td>2020-05-24 07:00:00</td><td> 7                 </td><td>16654.68           </td></tr>\n",
       "\t<tr><td>2020-05-24 08:00:00</td><td> 8                 </td><td>16556.03           </td></tr>\n",
       "\t<tr><td>2020-05-24 09:00:00</td><td> 9                 </td><td>16894.48           </td></tr>\n",
       "\t<tr><td>2020-05-24 10:00:00</td><td>10                 </td><td>17197.38           </td></tr>\n",
       "\t<tr><td>2020-05-24 11:00:00</td><td>11                 </td><td>17169.11           </td></tr>\n",
       "\t<tr><td>2020-05-24 12:00:00</td><td>12                 </td><td>17415.20           </td></tr>\n",
       "\t<tr><td>2020-05-24 13:00:00</td><td>13                 </td><td>17174.75           </td></tr>\n",
       "\t<tr><td>2020-05-24 14:00:00</td><td>14                 </td><td>16925.06           </td></tr>\n",
       "\t<tr><td>2020-05-24 15:00:00</td><td>15                 </td><td>16622.64           </td></tr>\n",
       "\t<tr><td>2020-05-24 16:00:00</td><td>16                 </td><td>17237.53           </td></tr>\n",
       "\t<tr><td>2020-05-25 03:00:00</td><td> 3                 </td><td>17586.37           </td></tr>\n",
       "\t<tr><td>2020-05-25 04:00:00</td><td> 4                 </td><td>17255.50           </td></tr>\n",
       "\t<tr><td>2020-05-25 05:00:00</td><td> 5                 </td><td>16389.07           </td></tr>\n",
       "\t<tr><td>2020-05-25 06:00:00</td><td> 6                 </td><td>15595.52           </td></tr>\n",
       "\t<tr><td>2020-05-25 07:00:00</td><td> 7                 </td><td>15333.30           </td></tr>\n",
       "\t<tr><td>2020-05-25 08:00:00</td><td> 8                 </td><td>15489.26           </td></tr>\n",
       "\t<tr><td>2020-05-25 09:00:00</td><td> 9                 </td><td>15814.02           </td></tr>\n",
       "\t<tr><td>2020-05-25 10:00:00</td><td>10                 </td><td>16507.11           </td></tr>\n",
       "\t<tr><td>2020-05-25 11:00:00</td><td>11                 </td><td>17386.53           </td></tr>\n",
       "\t<tr><td>2020-05-26 05:00:00</td><td> 5                 </td><td>17094.32           </td></tr>\n",
       "\t<tr><td>2020-05-26 06:00:00</td><td> 6                 </td><td>16305.83           </td></tr>\n",
       "\t<tr><td>2020-05-26 07:00:00</td><td> 7                 </td><td>16136.13           </td></tr>\n",
       "\t<tr><td>2020-05-26 08:00:00</td><td> 8                 </td><td>16364.92           </td></tr>\n",
       "\t<tr><td>2020-05-26 09:00:00</td><td> 9                 </td><td>16857.25           </td></tr>\n",
       "</tbody>\n",
       "</table>\n"
      ],
      "text/latex": [
       "\\begin{tabular}{r|lll}\n",
       " Datetime & Hour & Consumption\\\\\n",
       "\\hline\n",
       "\t 2016-03-27 02:00:00 &  2                  &     0.00           \\\\\n",
       "\t 2020-04-12 08:00:00 &  8                  & 17387.69           \\\\\n",
       "\t 2020-04-12 09:00:00 &  9                  & 17236.67           \\\\\n",
       "\t 2020-04-12 10:00:00 & 10                  & 17571.95           \\\\\n",
       "\t 2020-05-23 08:00:00 &  8                  & 17352.54           \\\\\n",
       "\t 2020-05-24 06:00:00 &  6                  & 17063.70           \\\\\n",
       "\t 2020-05-24 07:00:00 &  7                  & 16654.68           \\\\\n",
       "\t 2020-05-24 08:00:00 &  8                  & 16556.03           \\\\\n",
       "\t 2020-05-24 09:00:00 &  9                  & 16894.48           \\\\\n",
       "\t 2020-05-24 10:00:00 & 10                  & 17197.38           \\\\\n",
       "\t 2020-05-24 11:00:00 & 11                  & 17169.11           \\\\\n",
       "\t 2020-05-24 12:00:00 & 12                  & 17415.20           \\\\\n",
       "\t 2020-05-24 13:00:00 & 13                  & 17174.75           \\\\\n",
       "\t 2020-05-24 14:00:00 & 14                  & 16925.06           \\\\\n",
       "\t 2020-05-24 15:00:00 & 15                  & 16622.64           \\\\\n",
       "\t 2020-05-24 16:00:00 & 16                  & 17237.53           \\\\\n",
       "\t 2020-05-25 03:00:00 &  3                  & 17586.37           \\\\\n",
       "\t 2020-05-25 04:00:00 &  4                  & 17255.50           \\\\\n",
       "\t 2020-05-25 05:00:00 &  5                  & 16389.07           \\\\\n",
       "\t 2020-05-25 06:00:00 &  6                  & 15595.52           \\\\\n",
       "\t 2020-05-25 07:00:00 &  7                  & 15333.30           \\\\\n",
       "\t 2020-05-25 08:00:00 &  8                  & 15489.26           \\\\\n",
       "\t 2020-05-25 09:00:00 &  9                  & 15814.02           \\\\\n",
       "\t 2020-05-25 10:00:00 & 10                  & 16507.11           \\\\\n",
       "\t 2020-05-25 11:00:00 & 11                  & 17386.53           \\\\\n",
       "\t 2020-05-26 05:00:00 &  5                  & 17094.32           \\\\\n",
       "\t 2020-05-26 06:00:00 &  6                  & 16305.83           \\\\\n",
       "\t 2020-05-26 07:00:00 &  7                  & 16136.13           \\\\\n",
       "\t 2020-05-26 08:00:00 &  8                  & 16364.92           \\\\\n",
       "\t 2020-05-26 09:00:00 &  9                  & 16857.25           \\\\\n",
       "\\end{tabular}\n"
      ],
      "text/markdown": [
       "\n",
       "| Datetime | Hour | Consumption |\n",
       "|---|---|---|\n",
       "| 2016-03-27 02:00:00 |  2                  |     0.00            |\n",
       "| 2020-04-12 08:00:00 |  8                  | 17387.69            |\n",
       "| 2020-04-12 09:00:00 |  9                  | 17236.67            |\n",
       "| 2020-04-12 10:00:00 | 10                  | 17571.95            |\n",
       "| 2020-05-23 08:00:00 |  8                  | 17352.54            |\n",
       "| 2020-05-24 06:00:00 |  6                  | 17063.70            |\n",
       "| 2020-05-24 07:00:00 |  7                  | 16654.68            |\n",
       "| 2020-05-24 08:00:00 |  8                  | 16556.03            |\n",
       "| 2020-05-24 09:00:00 |  9                  | 16894.48            |\n",
       "| 2020-05-24 10:00:00 | 10                  | 17197.38            |\n",
       "| 2020-05-24 11:00:00 | 11                  | 17169.11            |\n",
       "| 2020-05-24 12:00:00 | 12                  | 17415.20            |\n",
       "| 2020-05-24 13:00:00 | 13                  | 17174.75            |\n",
       "| 2020-05-24 14:00:00 | 14                  | 16925.06            |\n",
       "| 2020-05-24 15:00:00 | 15                  | 16622.64            |\n",
       "| 2020-05-24 16:00:00 | 16                  | 17237.53            |\n",
       "| 2020-05-25 03:00:00 |  3                  | 17586.37            |\n",
       "| 2020-05-25 04:00:00 |  4                  | 17255.50            |\n",
       "| 2020-05-25 05:00:00 |  5                  | 16389.07            |\n",
       "| 2020-05-25 06:00:00 |  6                  | 15595.52            |\n",
       "| 2020-05-25 07:00:00 |  7                  | 15333.30            |\n",
       "| 2020-05-25 08:00:00 |  8                  | 15489.26            |\n",
       "| 2020-05-25 09:00:00 |  9                  | 15814.02            |\n",
       "| 2020-05-25 10:00:00 | 10                  | 16507.11            |\n",
       "| 2020-05-25 11:00:00 | 11                  | 17386.53            |\n",
       "| 2020-05-26 05:00:00 |  5                  | 17094.32            |\n",
       "| 2020-05-26 06:00:00 |  6                  | 16305.83            |\n",
       "| 2020-05-26 07:00:00 |  7                  | 16136.13            |\n",
       "| 2020-05-26 08:00:00 |  8                  | 16364.92            |\n",
       "| 2020-05-26 09:00:00 |  9                  | 16857.25            |\n",
       "\n"
      ],
      "text/plain": [
       "   Datetime            Hour Consumption\n",
       "1  2016-03-27 02:00:00  2       0.00   \n",
       "2  2020-04-12 08:00:00  8   17387.69   \n",
       "3  2020-04-12 09:00:00  9   17236.67   \n",
       "4  2020-04-12 10:00:00 10   17571.95   \n",
       "5  2020-05-23 08:00:00  8   17352.54   \n",
       "6  2020-05-24 06:00:00  6   17063.70   \n",
       "7  2020-05-24 07:00:00  7   16654.68   \n",
       "8  2020-05-24 08:00:00  8   16556.03   \n",
       "9  2020-05-24 09:00:00  9   16894.48   \n",
       "10 2020-05-24 10:00:00 10   17197.38   \n",
       "11 2020-05-24 11:00:00 11   17169.11   \n",
       "12 2020-05-24 12:00:00 12   17415.20   \n",
       "13 2020-05-24 13:00:00 13   17174.75   \n",
       "14 2020-05-24 14:00:00 14   16925.06   \n",
       "15 2020-05-24 15:00:00 15   16622.64   \n",
       "16 2020-05-24 16:00:00 16   17237.53   \n",
       "17 2020-05-25 03:00:00  3   17586.37   \n",
       "18 2020-05-25 04:00:00  4   17255.50   \n",
       "19 2020-05-25 05:00:00  5   16389.07   \n",
       "20 2020-05-25 06:00:00  6   15595.52   \n",
       "21 2020-05-25 07:00:00  7   15333.30   \n",
       "22 2020-05-25 08:00:00  8   15489.26   \n",
       "23 2020-05-25 09:00:00  9   15814.02   \n",
       "24 2020-05-25 10:00:00 10   16507.11   \n",
       "25 2020-05-25 11:00:00 11   17386.53   \n",
       "26 2020-05-26 05:00:00  5   17094.32   \n",
       "27 2020-05-26 06:00:00  6   16305.83   \n",
       "28 2020-05-26 07:00:00  7   16136.13   \n",
       "29 2020-05-26 08:00:00  8   16364.92   \n",
       "30 2020-05-26 09:00:00  9   16857.25   "
      ]
     },
     "metadata": {},
     "output_type": "display_data"
    }
   ],
   "source": [
    "tdiffs <- df$Datetime[2:length(df$Datetime)] - df$Datetime[1:length(df$Datetime)-1]\n",
    "table(tdiffs)\n",
    "df[Consumption < mean(Consumption) - 3*sd(Consumption),]"
   ]
  },
  {
   "cell_type": "code",
   "execution_count": 6,
   "metadata": {},
   "outputs": [
    {
     "data": {
      "text/html": [
       "<table>\n",
       "<thead><tr><th scope=col>Datetime</th><th scope=col>Hour</th><th scope=col>Consumption</th></tr></thead>\n",
       "<tbody>\n",
       "\t<tr><td>2016-03-27 01:00:00</td><td>1                  </td><td>25949.63           </td></tr>\n",
       "\t<tr><td>2016-03-27 02:00:00</td><td>2                  </td><td>    0.00           </td></tr>\n",
       "\t<tr><td>2016-03-27 04:00:00</td><td>4                  </td><td>24776.94           </td></tr>\n",
       "\t<tr><td>2016-03-27 04:00:00</td><td>4                  </td><td>24776.94           </td></tr>\n",
       "\t<tr><td>2016-03-27 05:00:00</td><td>5                  </td><td>24098.97           </td></tr>\n",
       "</tbody>\n",
       "</table>\n"
      ],
      "text/latex": [
       "\\begin{tabular}{r|lll}\n",
       " Datetime & Hour & Consumption\\\\\n",
       "\\hline\n",
       "\t 2016-03-27 01:00:00 & 1                   & 25949.63           \\\\\n",
       "\t 2016-03-27 02:00:00 & 2                   &     0.00           \\\\\n",
       "\t 2016-03-27 04:00:00 & 4                   & 24776.94           \\\\\n",
       "\t 2016-03-27 04:00:00 & 4                   & 24776.94           \\\\\n",
       "\t 2016-03-27 05:00:00 & 5                   & 24098.97           \\\\\n",
       "\\end{tabular}\n"
      ],
      "text/markdown": [
       "\n",
       "| Datetime | Hour | Consumption |\n",
       "|---|---|---|\n",
       "| 2016-03-27 01:00:00 | 1                   | 25949.63            |\n",
       "| 2016-03-27 02:00:00 | 2                   |     0.00            |\n",
       "| 2016-03-27 04:00:00 | 4                   | 24776.94            |\n",
       "| 2016-03-27 04:00:00 | 4                   | 24776.94            |\n",
       "| 2016-03-27 05:00:00 | 5                   | 24098.97            |\n",
       "\n"
      ],
      "text/plain": [
       "  Datetime            Hour Consumption\n",
       "1 2016-03-27 01:00:00 1    25949.63   \n",
       "2 2016-03-27 02:00:00 2        0.00   \n",
       "3 2016-03-27 04:00:00 4    24776.94   \n",
       "4 2016-03-27 04:00:00 4    24776.94   \n",
       "5 2016-03-27 05:00:00 5    24098.97   "
      ]
     },
     "metadata": {},
     "output_type": "display_data"
    }
   ],
   "source": [
    "#Showing Duplicate and Missing Value\n",
    "idx = which((tdiffs == 0) %in% TRUE)\n",
    "df[(idx-2):(idx+2)]"
   ]
  },
  {
   "cell_type": "code",
   "execution_count": 7,
   "metadata": {},
   "outputs": [
    {
     "data": {
      "text/html": [
       "<table>\n",
       "<thead><tr><th scope=col>Datetime</th><th scope=col>Hour</th><th scope=col>Consumption</th></tr></thead>\n",
       "<tbody>\n",
       "\t<tr><td>2016-03-27 01:00:00</td><td>1                  </td><td>25949.63           </td></tr>\n",
       "\t<tr><td>2016-03-27 02:00:00</td><td>2                  </td><td>    0.00           </td></tr>\n",
       "\t<tr><td>2016-03-27 04:00:00</td><td>3                  </td><td>24776.94           </td></tr>\n",
       "\t<tr><td>2016-03-27 04:00:00</td><td>4                  </td><td>24776.94           </td></tr>\n",
       "\t<tr><td>2016-03-27 05:00:00</td><td>5                  </td><td>24098.97           </td></tr>\n",
       "</tbody>\n",
       "</table>\n"
      ],
      "text/latex": [
       "\\begin{tabular}{r|lll}\n",
       " Datetime & Hour & Consumption\\\\\n",
       "\\hline\n",
       "\t 2016-03-27 01:00:00 & 1                   & 25949.63           \\\\\n",
       "\t 2016-03-27 02:00:00 & 2                   &     0.00           \\\\\n",
       "\t 2016-03-27 04:00:00 & 3                   & 24776.94           \\\\\n",
       "\t 2016-03-27 04:00:00 & 4                   & 24776.94           \\\\\n",
       "\t 2016-03-27 05:00:00 & 5                   & 24098.97           \\\\\n",
       "\\end{tabular}\n"
      ],
      "text/markdown": [
       "\n",
       "| Datetime | Hour | Consumption |\n",
       "|---|---|---|\n",
       "| 2016-03-27 01:00:00 | 1                   | 25949.63            |\n",
       "| 2016-03-27 02:00:00 | 2                   |     0.00            |\n",
       "| 2016-03-27 04:00:00 | 3                   | 24776.94            |\n",
       "| 2016-03-27 04:00:00 | 4                   | 24776.94            |\n",
       "| 2016-03-27 05:00:00 | 5                   | 24098.97            |\n",
       "\n"
      ],
      "text/plain": [
       "  Datetime            Hour Consumption\n",
       "1 2016-03-27 01:00:00 1    25949.63   \n",
       "2 2016-03-27 02:00:00 2        0.00   \n",
       "3 2016-03-27 04:00:00 3    24776.94   \n",
       "4 2016-03-27 04:00:00 4    24776.94   \n",
       "5 2016-03-27 05:00:00 5    24098.97   "
      ]
     },
     "metadata": {},
     "output_type": "display_data"
    }
   ],
   "source": [
    "#Handling Duplicate Record\n",
    "df[idx,\"Hour\"] <- 3\n",
    "df[(idx-2):(idx+2)]"
   ]
  },
  {
   "cell_type": "code",
   "execution_count": 8,
   "metadata": {
    "scrolled": true
   },
   "outputs": [
    {
     "data": {
      "text/html": [
       "<table>\n",
       "<thead><tr><th scope=col>Datetime</th><th scope=col>Hour</th><th scope=col>Consumption</th></tr></thead>\n",
       "<tbody>\n",
       "\t<tr><td>2016-03-27 00:00:00</td><td>0                  </td><td>27424.42           </td></tr>\n",
       "\t<tr><td>2016-03-27 01:00:00</td><td>1                  </td><td>25949.63           </td></tr>\n",
       "\t<tr><td>2016-03-27 02:00:00</td><td>2                  </td><td>    0.00           </td></tr>\n",
       "\t<tr><td>2016-03-27 04:00:00</td><td>3                  </td><td>24776.94           </td></tr>\n",
       "\t<tr><td>2016-03-27 04:00:00</td><td>4                  </td><td>24776.94           </td></tr>\n",
       "</tbody>\n",
       "</table>\n"
      ],
      "text/latex": [
       "\\begin{tabular}{r|lll}\n",
       " Datetime & Hour & Consumption\\\\\n",
       "\\hline\n",
       "\t 2016-03-27 00:00:00 & 0                   & 27424.42           \\\\\n",
       "\t 2016-03-27 01:00:00 & 1                   & 25949.63           \\\\\n",
       "\t 2016-03-27 02:00:00 & 2                   &     0.00           \\\\\n",
       "\t 2016-03-27 04:00:00 & 3                   & 24776.94           \\\\\n",
       "\t 2016-03-27 04:00:00 & 4                   & 24776.94           \\\\\n",
       "\\end{tabular}\n"
      ],
      "text/markdown": [
       "\n",
       "| Datetime | Hour | Consumption |\n",
       "|---|---|---|\n",
       "| 2016-03-27 00:00:00 | 0                   | 27424.42            |\n",
       "| 2016-03-27 01:00:00 | 1                   | 25949.63            |\n",
       "| 2016-03-27 02:00:00 | 2                   |     0.00            |\n",
       "| 2016-03-27 04:00:00 | 3                   | 24776.94            |\n",
       "| 2016-03-27 04:00:00 | 4                   | 24776.94            |\n",
       "\n"
      ],
      "text/plain": [
       "  Datetime            Hour Consumption\n",
       "1 2016-03-27 00:00:00 0    27424.42   \n",
       "2 2016-03-27 01:00:00 1    25949.63   \n",
       "3 2016-03-27 02:00:00 2        0.00   \n",
       "4 2016-03-27 04:00:00 3    24776.94   \n",
       "5 2016-03-27 04:00:00 4    24776.94   "
      ]
     },
     "metadata": {},
     "output_type": "display_data"
    }
   ],
   "source": [
    "#Showing 0 Value\n",
    "idx = which( (df$Datetime== as.POSIXct(\"2016-03-27 02:00:00\")) %in% TRUE )\n",
    "df[(idx-2):(idx+2)]"
   ]
  },
  {
   "cell_type": "code",
   "execution_count": 9,
   "metadata": {
    "scrolled": false
   },
   "outputs": [
    {
     "data": {
      "text/html": [
       "<table>\n",
       "<thead><tr><th scope=col>Datetime</th><th scope=col>Hour</th><th scope=col>Consumption</th></tr></thead>\n",
       "<tbody>\n",
       "\t<tr><td>2016-03-27 01:00:00</td><td>1                  </td><td>25949.63           </td></tr>\n",
       "\t<tr><td>2016-03-27 02:00:00</td><td>2                  </td><td>25363.28           </td></tr>\n",
       "\t<tr><td>2016-03-27 04:00:00</td><td>3                  </td><td>24776.94           </td></tr>\n",
       "</tbody>\n",
       "</table>\n"
      ],
      "text/latex": [
       "\\begin{tabular}{r|lll}\n",
       " Datetime & Hour & Consumption\\\\\n",
       "\\hline\n",
       "\t 2016-03-27 01:00:00 & 1                   & 25949.63           \\\\\n",
       "\t 2016-03-27 02:00:00 & 2                   & 25363.28           \\\\\n",
       "\t 2016-03-27 04:00:00 & 3                   & 24776.94           \\\\\n",
       "\\end{tabular}\n"
      ],
      "text/markdown": [
       "\n",
       "| Datetime | Hour | Consumption |\n",
       "|---|---|---|\n",
       "| 2016-03-27 01:00:00 | 1                   | 25949.63            |\n",
       "| 2016-03-27 02:00:00 | 2                   | 25363.28            |\n",
       "| 2016-03-27 04:00:00 | 3                   | 24776.94            |\n",
       "\n"
      ],
      "text/plain": [
       "  Datetime            Hour Consumption\n",
       "1 2016-03-27 01:00:00 1    25949.63   \n",
       "2 2016-03-27 02:00:00 2    25363.28   \n",
       "3 2016-03-27 04:00:00 3    24776.94   "
      ]
     },
     "metadata": {},
     "output_type": "display_data"
    }
   ],
   "source": [
    "#Replacing with the Average of t-1 and t+1\n",
    "df[idx,Consumption := (df[idx-1,Consumption] + df[idx+1,Consumption] ) / 2 ]\n",
    "df[(idx-1):(idx+1)]"
   ]
  },
  {
   "cell_type": "markdown",
   "metadata": {},
   "source": [
    "# Task a"
   ]
  },
  {
   "cell_type": "markdown",
   "metadata": {},
   "source": [
    "## Train-Test Split Function"
   ]
  },
  {
   "cell_type": "code",
   "execution_count": 10,
   "metadata": {},
   "outputs": [],
   "source": [
    "dtsplit <- function(data) {\n",
    "    res <- list()\n",
    "    res[[1]] <- data[Datetime < as.POSIXct(\"2020-11-01 00:00:00\")]\n",
    "    res[[2]] <- data[Datetime >= as.POSIXct(\"2020-11-01 00:00:00\")]\n",
    "    return(res)\n",
    "}"
   ]
  },
  {
   "cell_type": "markdown",
   "metadata": {},
   "source": [
    "## Creating Variables"
   ]
  },
  {
   "cell_type": "code",
   "execution_count": 11,
   "metadata": {},
   "outputs": [
    {
     "data": {
      "text/html": [
       "<ol class=list-inline>\n",
       "\t<li>1</li>\n",
       "\t<li>2</li>\n",
       "\t<li>3</li>\n",
       "\t<li>4</li>\n",
       "\t<li>5</li>\n",
       "\t<li>6</li>\n",
       "</ol>\n"
      ],
      "text/latex": [
       "\\begin{enumerate*}\n",
       "\\item 1\n",
       "\\item 2\n",
       "\\item 3\n",
       "\\item 4\n",
       "\\item 5\n",
       "\\item 6\n",
       "\\end{enumerate*}\n"
      ],
      "text/markdown": [
       "1. 1\n",
       "2. 2\n",
       "3. 3\n",
       "4. 4\n",
       "5. 5\n",
       "6. 6\n",
       "\n",
       "\n"
      ],
      "text/plain": [
       "[1] 1 2 3 4 5 6"
      ]
     },
     "metadata": {},
     "output_type": "display_data"
    },
    {
     "data": {
      "text/html": [
       "<ol class=list-inline>\n",
       "\t<li>-47</li>\n",
       "\t<li>-46</li>\n",
       "\t<li>-45</li>\n",
       "\t<li>-44</li>\n",
       "\t<li>-43</li>\n",
       "\t<li>-42</li>\n",
       "</ol>\n"
      ],
      "text/latex": [
       "\\begin{enumerate*}\n",
       "\\item -47\n",
       "\\item -46\n",
       "\\item -45\n",
       "\\item -44\n",
       "\\item -43\n",
       "\\item -42\n",
       "\\end{enumerate*}\n"
      ],
      "text/markdown": [
       "1. -47\n",
       "2. -46\n",
       "3. -45\n",
       "4. -44\n",
       "5. -43\n",
       "6. -42\n",
       "\n",
       "\n"
      ],
      "text/plain": [
       "[1] -47 -46 -45 -44 -43 -42"
      ]
     },
     "metadata": {},
     "output_type": "display_data"
    },
    {
     "data": {
      "text/html": [
       "<ol class=list-inline>\n",
       "\t<li>-167</li>\n",
       "\t<li>-166</li>\n",
       "\t<li>-165</li>\n",
       "\t<li>-164</li>\n",
       "\t<li>-163</li>\n",
       "\t<li>-162</li>\n",
       "</ol>\n"
      ],
      "text/latex": [
       "\\begin{enumerate*}\n",
       "\\item -167\n",
       "\\item -166\n",
       "\\item -165\n",
       "\\item -164\n",
       "\\item -163\n",
       "\\item -162\n",
       "\\end{enumerate*}\n"
      ],
      "text/markdown": [
       "1. -167\n",
       "2. -166\n",
       "3. -165\n",
       "4. -164\n",
       "5. -163\n",
       "6. -162\n",
       "\n",
       "\n"
      ],
      "text/plain": [
       "[1] -167 -166 -165 -164 -163 -162"
      ]
     },
     "metadata": {},
     "output_type": "display_data"
    }
   ],
   "source": [
    "idx <- seq(1,nrow(df) )\n",
    "idx48 <- idx - 48\n",
    "idx168 <- idx - 168\n",
    "head(idx);head(idx48);head(idx168)"
   ]
  },
  {
   "cell_type": "code",
   "execution_count": 12,
   "metadata": {},
   "outputs": [
    {
     "data": {
      "text/html": [
       "<ol class=list-inline>\n",
       "\t<li>&lt;NA&gt;</li>\n",
       "\t<li>&lt;NA&gt;</li>\n",
       "\t<li>&lt;NA&gt;</li>\n",
       "\t<li>&lt;NA&gt;</li>\n",
       "\t<li>&lt;NA&gt;</li>\n",
       "\t<li>&lt;NA&gt;</li>\n",
       "</ol>\n"
      ],
      "text/latex": [
       "\\begin{enumerate*}\n",
       "\\item <NA>\n",
       "\\item <NA>\n",
       "\\item <NA>\n",
       "\\item <NA>\n",
       "\\item <NA>\n",
       "\\item <NA>\n",
       "\\end{enumerate*}\n"
      ],
      "text/markdown": [
       "1. &lt;NA&gt;\n",
       "2. &lt;NA&gt;\n",
       "3. &lt;NA&gt;\n",
       "4. &lt;NA&gt;\n",
       "5. &lt;NA&gt;\n",
       "6. &lt;NA&gt;\n",
       "\n",
       "\n"
      ],
      "text/plain": [
       "[1] NA NA NA NA NA NA"
      ]
     },
     "metadata": {},
     "output_type": "display_data"
    },
    {
     "data": {
      "text/html": [
       "<ol class=list-inline>\n",
       "\t<li>&lt;NA&gt;</li>\n",
       "\t<li>&lt;NA&gt;</li>\n",
       "\t<li>&lt;NA&gt;</li>\n",
       "\t<li>&lt;NA&gt;</li>\n",
       "\t<li>&lt;NA&gt;</li>\n",
       "\t<li>&lt;NA&gt;</li>\n",
       "</ol>\n"
      ],
      "text/latex": [
       "\\begin{enumerate*}\n",
       "\\item <NA>\n",
       "\\item <NA>\n",
       "\\item <NA>\n",
       "\\item <NA>\n",
       "\\item <NA>\n",
       "\\item <NA>\n",
       "\\end{enumerate*}\n"
      ],
      "text/markdown": [
       "1. &lt;NA&gt;\n",
       "2. &lt;NA&gt;\n",
       "3. &lt;NA&gt;\n",
       "4. &lt;NA&gt;\n",
       "5. &lt;NA&gt;\n",
       "6. &lt;NA&gt;\n",
       "\n",
       "\n"
      ],
      "text/plain": [
       "[1] NA NA NA NA NA NA"
      ]
     },
     "metadata": {},
     "output_type": "display_data"
    }
   ],
   "source": [
    "idx48[which(idx48 <1)] <- NA; head(idx48)\n",
    "idx168[which(idx168 <1)] <- NA; head(idx168)"
   ]
  },
  {
   "cell_type": "code",
   "execution_count": 13,
   "metadata": {},
   "outputs": [],
   "source": [
    "df[,Lag_48 := Consumption[idx48]]\n",
    "df[,Lag_168 := Consumption[idx168]]"
   ]
  },
  {
   "cell_type": "code",
   "execution_count": 14,
   "metadata": {},
   "outputs": [
    {
     "data": {
      "text/html": [
       "<table>\n",
       "<thead><tr><th scope=col>Lag_48</th></tr></thead>\n",
       "<tbody>\n",
       "\t<tr><td>35893.88</td></tr>\n",
       "</tbody>\n",
       "</table>\n"
      ],
      "text/latex": [
       "\\begin{tabular}{r|l}\n",
       " Lag\\_48\\\\\n",
       "\\hline\n",
       "\t 35893.88\\\\\n",
       "\\end{tabular}\n"
      ],
      "text/markdown": [
       "\n",
       "| Lag_48 |\n",
       "|---|\n",
       "| 35893.88 |\n",
       "\n"
      ],
      "text/plain": [
       "  Lag_48  \n",
       "1 35893.88"
      ]
     },
     "metadata": {},
     "output_type": "display_data"
    },
    {
     "data": {
      "text/html": [
       "<table>\n",
       "<thead><tr><th scope=col>Lag_168</th></tr></thead>\n",
       "<tbody>\n",
       "\t<tr><td>34914.82</td></tr>\n",
       "</tbody>\n",
       "</table>\n"
      ],
      "text/latex": [
       "\\begin{tabular}{r|l}\n",
       " Lag\\_168\\\\\n",
       "\\hline\n",
       "\t 34914.82\\\\\n",
       "\\end{tabular}\n"
      ],
      "text/markdown": [
       "\n",
       "| Lag_168 |\n",
       "|---|\n",
       "| 34914.82 |\n",
       "\n"
      ],
      "text/plain": [
       "  Lag_168 \n",
       "1 34914.82"
      ]
     },
     "metadata": {},
     "output_type": "display_data"
    },
    {
     "data": {
      "text/html": [
       "<table>\n",
       "<thead><tr><th scope=col>Consumption</th></tr></thead>\n",
       "<tbody>\n",
       "\t<tr><td>35893.88</td></tr>\n",
       "</tbody>\n",
       "</table>\n"
      ],
      "text/latex": [
       "\\begin{tabular}{r|l}\n",
       " Consumption\\\\\n",
       "\\hline\n",
       "\t 35893.88\\\\\n",
       "\\end{tabular}\n"
      ],
      "text/markdown": [
       "\n",
       "| Consumption |\n",
       "|---|\n",
       "| 35893.88 |\n",
       "\n"
      ],
      "text/plain": [
       "  Consumption\n",
       "1 35893.88   "
      ]
     },
     "metadata": {},
     "output_type": "display_data"
    },
    {
     "data": {
      "text/html": [
       "<table>\n",
       "<thead><tr><th scope=col>Consumption</th></tr></thead>\n",
       "<tbody>\n",
       "\t<tr><td>34914.82</td></tr>\n",
       "</tbody>\n",
       "</table>\n"
      ],
      "text/latex": [
       "\\begin{tabular}{r|l}\n",
       " Consumption\\\\\n",
       "\\hline\n",
       "\t 34914.82\\\\\n",
       "\\end{tabular}\n"
      ],
      "text/markdown": [
       "\n",
       "| Consumption |\n",
       "|---|\n",
       "| 34914.82 |\n",
       "\n"
      ],
      "text/plain": [
       "  Consumption\n",
       "1 34914.82   "
      ]
     },
     "metadata": {},
     "output_type": "display_data"
    }
   ],
   "source": [
    "df[500,\"Lag_48\"];df[500,\"Lag_168\"];df[452,\"Consumption\"];df[332,\"Consumption\"]"
   ]
  },
  {
   "cell_type": "code",
   "execution_count": 15,
   "metadata": {},
   "outputs": [
    {
     "data": {
      "text/html": [
       "<table>\n",
       "<thead><tr><th scope=col>Datetime</th><th scope=col>Hour</th><th scope=col>Consumption</th><th scope=col>Lag_48</th><th scope=col>Lag_168</th></tr></thead>\n",
       "<tbody>\n",
       "\t<tr><td>2020-11-01 00:00:00</td><td>0                  </td><td>28701.62           </td><td>29066.51           </td><td>29481.33           </td></tr>\n",
       "\t<tr><td>2020-11-01 01:00:00</td><td>1                  </td><td>27254.15           </td><td>27838.89           </td><td>28002.28           </td></tr>\n",
       "\t<tr><td>2020-11-01 02:00:00</td><td>2                  </td><td>26078.57           </td><td>26940.11           </td><td>27115.39           </td></tr>\n",
       "\t<tr><td>2020-11-01 03:00:00</td><td>3                  </td><td>25449.47           </td><td>26260.80           </td><td>26415.11           </td></tr>\n",
       "\t<tr><td>2020-11-01 04:00:00</td><td>4                  </td><td>25324.01           </td><td>26097.96           </td><td>26075.07           </td></tr>\n",
       "\t<tr><td>2020-11-01 05:00:00</td><td>5                  </td><td>25175.11           </td><td>26319.40           </td><td>26196.39           </td></tr>\n",
       "</tbody>\n",
       "</table>\n"
      ],
      "text/latex": [
       "\\begin{tabular}{r|lllll}\n",
       " Datetime & Hour & Consumption & Lag\\_48 & Lag\\_168\\\\\n",
       "\\hline\n",
       "\t 2020-11-01 00:00:00 & 0                   & 28701.62            & 29066.51            & 29481.33           \\\\\n",
       "\t 2020-11-01 01:00:00 & 1                   & 27254.15            & 27838.89            & 28002.28           \\\\\n",
       "\t 2020-11-01 02:00:00 & 2                   & 26078.57            & 26940.11            & 27115.39           \\\\\n",
       "\t 2020-11-01 03:00:00 & 3                   & 25449.47            & 26260.80            & 26415.11           \\\\\n",
       "\t 2020-11-01 04:00:00 & 4                   & 25324.01            & 26097.96            & 26075.07           \\\\\n",
       "\t 2020-11-01 05:00:00 & 5                   & 25175.11            & 26319.40            & 26196.39           \\\\\n",
       "\\end{tabular}\n"
      ],
      "text/markdown": [
       "\n",
       "| Datetime | Hour | Consumption | Lag_48 | Lag_168 |\n",
       "|---|---|---|---|---|\n",
       "| 2020-11-01 00:00:00 | 0                   | 28701.62            | 29066.51            | 29481.33            |\n",
       "| 2020-11-01 01:00:00 | 1                   | 27254.15            | 27838.89            | 28002.28            |\n",
       "| 2020-11-01 02:00:00 | 2                   | 26078.57            | 26940.11            | 27115.39            |\n",
       "| 2020-11-01 03:00:00 | 3                   | 25449.47            | 26260.80            | 26415.11            |\n",
       "| 2020-11-01 04:00:00 | 4                   | 25324.01            | 26097.96            | 26075.07            |\n",
       "| 2020-11-01 05:00:00 | 5                   | 25175.11            | 26319.40            | 26196.39            |\n",
       "\n"
      ],
      "text/plain": [
       "  Datetime            Hour Consumption Lag_48   Lag_168 \n",
       "1 2020-11-01 00:00:00 0    28701.62    29066.51 29481.33\n",
       "2 2020-11-01 01:00:00 1    27254.15    27838.89 28002.28\n",
       "3 2020-11-01 02:00:00 2    26078.57    26940.11 27115.39\n",
       "4 2020-11-01 03:00:00 3    25449.47    26260.80 26415.11\n",
       "5 2020-11-01 04:00:00 4    25324.01    26097.96 26075.07\n",
       "6 2020-11-01 05:00:00 5    25175.11    26319.40 26196.39"
      ]
     },
     "metadata": {},
     "output_type": "display_data"
    }
   ],
   "source": [
    "pAtest <- dtsplit(df)[[2]];head(pAtest)"
   ]
  },
  {
   "cell_type": "code",
   "execution_count": 16,
   "metadata": {},
   "outputs": [
    {
     "data": {
      "text/html": [
       "<table>\n",
       "<thead><tr><th scope=col>Datetime</th><th scope=col>Hour</th><th scope=col>Consumption</th><th scope=col>Lag_48</th><th scope=col>Lag_168</th><th scope=col>MAPE48</th><th scope=col>MAPE168</th></tr></thead>\n",
       "<tbody>\n",
       "\t<tr><td>2020-11-01 00:00:00</td><td>0                  </td><td>28701.62           </td><td>29066.51           </td><td>29481.33           </td><td>1.271322           </td><td>2.716606           </td></tr>\n",
       "\t<tr><td>2020-11-01 01:00:00</td><td>1                  </td><td>27254.15           </td><td>27838.89           </td><td>28002.28           </td><td>2.145508           </td><td>2.745013           </td></tr>\n",
       "\t<tr><td>2020-11-01 02:00:00</td><td>2                  </td><td>26078.57           </td><td>26940.11           </td><td>27115.39           </td><td>3.303632           </td><td>3.975755           </td></tr>\n",
       "\t<tr><td>2020-11-01 03:00:00</td><td>3                  </td><td>25449.47           </td><td>26260.80           </td><td>26415.11           </td><td>3.188004           </td><td>3.794342           </td></tr>\n",
       "\t<tr><td>2020-11-01 04:00:00</td><td>4                  </td><td>25324.01           </td><td>26097.96           </td><td>26075.07           </td><td>3.056191           </td><td>2.965802           </td></tr>\n",
       "\t<tr><td>2020-11-01 05:00:00</td><td>5                  </td><td>25175.11           </td><td>26319.40           </td><td>26196.39           </td><td>4.545323           </td><td>4.056705           </td></tr>\n",
       "</tbody>\n",
       "</table>\n"
      ],
      "text/latex": [
       "\\begin{tabular}{r|lllllll}\n",
       " Datetime & Hour & Consumption & Lag\\_48 & Lag\\_168 & MAPE48 & MAPE168\\\\\n",
       "\\hline\n",
       "\t 2020-11-01 00:00:00 & 0                   & 28701.62            & 29066.51            & 29481.33            & 1.271322            & 2.716606           \\\\\n",
       "\t 2020-11-01 01:00:00 & 1                   & 27254.15            & 27838.89            & 28002.28            & 2.145508            & 2.745013           \\\\\n",
       "\t 2020-11-01 02:00:00 & 2                   & 26078.57            & 26940.11            & 27115.39            & 3.303632            & 3.975755           \\\\\n",
       "\t 2020-11-01 03:00:00 & 3                   & 25449.47            & 26260.80            & 26415.11            & 3.188004            & 3.794342           \\\\\n",
       "\t 2020-11-01 04:00:00 & 4                   & 25324.01            & 26097.96            & 26075.07            & 3.056191            & 2.965802           \\\\\n",
       "\t 2020-11-01 05:00:00 & 5                   & 25175.11            & 26319.40            & 26196.39            & 4.545323            & 4.056705           \\\\\n",
       "\\end{tabular}\n"
      ],
      "text/markdown": [
       "\n",
       "| Datetime | Hour | Consumption | Lag_48 | Lag_168 | MAPE48 | MAPE168 |\n",
       "|---|---|---|---|---|---|---|\n",
       "| 2020-11-01 00:00:00 | 0                   | 28701.62            | 29066.51            | 29481.33            | 1.271322            | 2.716606            |\n",
       "| 2020-11-01 01:00:00 | 1                   | 27254.15            | 27838.89            | 28002.28            | 2.145508            | 2.745013            |\n",
       "| 2020-11-01 02:00:00 | 2                   | 26078.57            | 26940.11            | 27115.39            | 3.303632            | 3.975755            |\n",
       "| 2020-11-01 03:00:00 | 3                   | 25449.47            | 26260.80            | 26415.11            | 3.188004            | 3.794342            |\n",
       "| 2020-11-01 04:00:00 | 4                   | 25324.01            | 26097.96            | 26075.07            | 3.056191            | 2.965802            |\n",
       "| 2020-11-01 05:00:00 | 5                   | 25175.11            | 26319.40            | 26196.39            | 4.545323            | 4.056705            |\n",
       "\n"
      ],
      "text/plain": [
       "  Datetime            Hour Consumption Lag_48   Lag_168  MAPE48   MAPE168 \n",
       "1 2020-11-01 00:00:00 0    28701.62    29066.51 29481.33 1.271322 2.716606\n",
       "2 2020-11-01 01:00:00 1    27254.15    27838.89 28002.28 2.145508 2.745013\n",
       "3 2020-11-01 02:00:00 2    26078.57    26940.11 27115.39 3.303632 3.975755\n",
       "4 2020-11-01 03:00:00 3    25449.47    26260.80 26415.11 3.188004 3.794342\n",
       "5 2020-11-01 04:00:00 4    25324.01    26097.96 26075.07 3.056191 2.965802\n",
       "6 2020-11-01 05:00:00 5    25175.11    26319.40 26196.39 4.545323 4.056705"
      ]
     },
     "metadata": {},
     "output_type": "display_data"
    }
   ],
   "source": [
    "pAtest[,MAPE48 := 100*abs(Lag_48/Consumption-1)]\n",
    "pAtest[,MAPE168 := 100*abs(Lag_168/Consumption-1)]\n",
    "head(pAtest)"
   ]
  },
  {
   "cell_type": "code",
   "execution_count": 17,
   "metadata": {},
   "outputs": [
    {
     "data": {
      "text/plain": [
       "     MAPE48            MAPE168         \n",
       " Min.   : 0.00955   Min.   : 0.008521  \n",
       " 1st Qu.: 1.64348   1st Qu.: 1.335853  \n",
       " Median : 5.72972   Median : 2.514032  \n",
       " Mean   : 8.06031   Mean   : 3.449188  \n",
       " 3rd Qu.:10.10699   3rd Qu.: 4.548818  \n",
       " Max.   :43.77075   Max.   :19.565225  "
      ]
     },
     "metadata": {},
     "output_type": "display_data"
    }
   ],
   "source": [
    "summary(pAtest[,c(\"MAPE48\",\"MAPE168\")])"
   ]
  },
  {
   "cell_type": "markdown",
   "metadata": {},
   "source": [
    "**MAPE48**  \n",
    "The difference between mean and median values should be noted here. This situation indicates that the distribution is right-skewed and the mean value is affected by high outlier values. Also, 3rd quartile is around **10%** and the maximum value is roughly **44%** which is an extreme error percentage. These values show that the practical use of this estimator can be quite problematic.\n",
    "\n",
    "**MAPE168**  \n",
    "Median and mean values are closer which indicates a distribution closer to the normal one, but it is right-skewed again anyway. 3rd quartile value is roughly **5%** and this means one quarter of the estimations yield more than **5%** error and this is not preferrable in practical use either. However, all statistics belonging to the Lag168 estimation came out to be better than those of Lag48."
   ]
  },
  {
   "cell_type": "markdown",
   "metadata": {},
   "source": [
    "# Task b"
   ]
  },
  {
   "cell_type": "code",
   "execution_count": 18,
   "metadata": {},
   "outputs": [],
   "source": [
    "pBtrain <- dtsplit(df)[[1]]\n",
    "mb1 <- lm(Consumption~Lag_48+Lag_168,pBtrain,na.action = na.exclude )"
   ]
  },
  {
   "cell_type": "code",
   "execution_count": 19,
   "metadata": {},
   "outputs": [
    {
     "data": {
      "text/plain": [
       "\n",
       "Call:\n",
       "lm(formula = Consumption ~ Lag_48 + Lag_168, data = pBtrain, \n",
       "    na.action = na.exclude)\n",
       "\n",
       "Residuals:\n",
       "     Min       1Q   Median       3Q      Max \n",
       "-17126.4   -984.1     -0.3   1016.1  16105.8 \n",
       "\n",
       "Coefficients:\n",
       "             Estimate Std. Error t value Pr(>|t|)    \n",
       "(Intercept) 1.564e+03  8.340e+01   18.75   <2e-16 ***\n",
       "Lag_48      3.083e-01  3.093e-03   99.69   <2e-16 ***\n",
       "Lag_168     6.439e-01  3.090e-03  208.37   <2e-16 ***\n",
       "---\n",
       "Signif. codes:  0 '***' 0.001 '**' 0.01 '*' 0.05 '.' 0.1 ' ' 1\n",
       "\n",
       "Residual standard error: 2387 on 42213 degrees of freedom\n",
       "  (168 observations deleted due to missingness)\n",
       "Multiple R-squared:  0.7759,\tAdjusted R-squared:  0.7759 \n",
       "F-statistic: 7.308e+04 on 2 and 42213 DF,  p-value: < 2.2e-16\n"
      ]
     },
     "metadata": {},
     "output_type": "display_data"
    }
   ],
   "source": [
    "summary(mb1)"
   ]
  },
  {
   "cell_type": "code",
   "execution_count": 20,
   "metadata": {},
   "outputs": [],
   "source": [
    "pb1 <- predict.lm(mb1,pAtest)"
   ]
  },
  {
   "cell_type": "code",
   "execution_count": 21,
   "metadata": {},
   "outputs": [
    {
     "data": {
      "image/png": "[encoded data removed]",
      "text/plain": [
       "plot without title"
      ]
     },
     "metadata": {},
     "output_type": "display_data"
    }
   ],
   "source": [
    "qplot(x = pAtest$Consumption, y= pb1) + geom_abline(intercept=0,slope=1,col=2) +\n",
    "ggtitle(\"Actuals vs Predicted\",) + xlab(\"Actual\") + ylab(\"Predicted\")"
   ]
  },
  {
   "cell_type": "code",
   "execution_count": 22,
   "metadata": {},
   "outputs": [],
   "source": [
    "MAPEb = 100*abs(pb1/pAtest$Consumption-1)"
   ]
  },
  {
   "cell_type": "code",
   "execution_count": 23,
   "metadata": {
    "scrolled": true
   },
   "outputs": [
    {
     "data": {
      "text/plain": [
       "     MAPE48            MAPE168              MAPEb          \n",
       " Min.   : 0.00955   Min.   : 0.008521   Min.   : 0.000671  \n",
       " 1st Qu.: 1.64348   1st Qu.: 1.335853   1st Qu.: 1.824296  \n",
       " Median : 5.72972   Median : 2.514032   Median : 3.310063  \n",
       " Mean   : 8.06031   Mean   : 3.449188   Mean   : 4.228027  \n",
       " 3rd Qu.:10.10699   3rd Qu.: 4.548818   3rd Qu.: 5.706493  \n",
       " Max.   :43.77075   Max.   :19.565225   Max.   :16.605386  "
      ]
     },
     "metadata": {},
     "output_type": "display_data"
    }
   ],
   "source": [
    "summary(cbind(pAtest[,c(\"MAPE48\",\"MAPE168\")],MAPEb))"
   ]
  },
  {
   "cell_type": "markdown",
   "metadata": {},
   "source": [
    "The approach in Part b came out to be more succesful than lag48 approach looking at mean, median and maximum statistics but it is not easy to say the same while comparing to lag168. All statistics of Lag168 are better than those of part b approach except maximum and minimum values. This is due to linear regression being more robust against outliers compared to naïve approaches. Yet, Part b approach still cannot be evaluated better against Lag168 approach."
   ]
  },
  {
   "cell_type": "markdown",
   "metadata": {},
   "source": [
    "# Part c"
   ]
  },
  {
   "cell_type": "code",
   "execution_count": 24,
   "metadata": {
    "scrolled": true
   },
   "outputs": [],
   "source": [
    "mc1 <- list()\n",
    "pc1 <- list()\n",
    "MAPEc <- list()\n",
    "for (h in unique(pBtrain$Hour)){\n",
    "    datatr = pBtrain[Hour==h]\n",
    "    datatest = pAtest[Hour==h]\n",
    "    mc1[[h+1]] <- lm(Consumption ~ Lag_48 + Lag_168, datatr, na.action = na.omit )\n",
    "    pc1[[h+1]] <- predict.lm(mc1[[h+1]], datatest)\n",
    "    MAPEc[[h+1]] = 100*abs(pc1[[h+1]]/datatest$Consumption-1)\n",
    "}"
   ]
  },
  {
   "cell_type": "code",
   "execution_count": 25,
   "metadata": {},
   "outputs": [],
   "source": [
    "MAPEc <- data.frame(MAPEc)\n",
    "colnames(MAPEc) <- paste(\"MAPE_H\",unique(pBtrain$Hour),sep=\"\")"
   ]
  },
  {
   "cell_type": "markdown",
   "metadata": {},
   "source": [
    "## Performances of All 24 Models"
   ]
  },
  {
   "cell_type": "code",
   "execution_count": 26,
   "metadata": {
    "scrolled": false
   },
   "outputs": [
    {
     "data": {
      "text/plain": [
       "    MAPE_H0          MAPE_H1          MAPE_H2          MAPE_H3      \n",
       " Min.   :0.9125   Min.   :0.1607   Min.   :0.2742   Min.   :0.2059  \n",
       " 1st Qu.:1.8975   1st Qu.:2.0258   1st Qu.:2.1526   1st Qu.:1.9412  \n",
       " Median :3.1388   Median :3.0191   Median :3.5127   Median :2.6456  \n",
       " Mean   :3.2630   Mean   :3.2831   Mean   :3.4187   Mean   :3.2027  \n",
       " 3rd Qu.:4.6084   3rd Qu.:4.5855   3rd Qu.:4.5463   3rd Qu.:4.3030  \n",
       " Max.   :6.7730   Max.   :7.4922   Max.   :6.6630   Max.   :6.5773  \n",
       "    MAPE_H4           MAPE_H5          MAPE_H6          MAPE_H7      \n",
       " Min.   :0.07224   Min.   :0.2728   Min.   :0.1483   Min.   :0.3513  \n",
       " 1st Qu.:1.95131   1st Qu.:1.9876   1st Qu.:1.2048   1st Qu.:1.8397  \n",
       " Median :3.14458   Median :2.8513   Median :2.8687   Median :3.5869  \n",
       " Mean   :3.18302   Mean   :3.1875   Mean   :3.1481   Mean   :3.7761  \n",
       " 3rd Qu.:4.16730   3rd Qu.:4.6307   3rd Qu.:5.1662   3rd Qu.:5.0019  \n",
       " Max.   :6.42261   Max.   :6.3263   Max.   :6.7613   Max.   :9.2660  \n",
       "    MAPE_H8            MAPE_H9           MAPE_H10          MAPE_H11       \n",
       " Min.   : 0.06864   Min.   : 0.2369   Min.   : 0.7274   Min.   : 0.06982  \n",
       " 1st Qu.: 2.66744   1st Qu.: 2.5283   1st Qu.: 3.1416   1st Qu.: 3.05588  \n",
       " Median : 3.94405   Median : 5.1008   Median : 5.5376   Median : 5.64330  \n",
       " Mean   : 4.67235   Mean   : 5.4848   Mean   : 6.0873   Mean   : 6.27393  \n",
       " 3rd Qu.: 6.71833   3rd Qu.: 8.3210   3rd Qu.: 8.5436   3rd Qu.: 8.14542  \n",
       " Max.   :12.91707   Max.   :15.7775   Max.   :14.3043   Max.   :14.78579  \n",
       "    MAPE_H12          MAPE_H13         MAPE_H14          MAPE_H15      \n",
       " Min.   : 0.2661   Min.   : 0.781   Min.   : 0.2886   Min.   : 0.7939  \n",
       " 1st Qu.: 3.0198   1st Qu.: 2.877   1st Qu.: 3.2372   1st Qu.: 2.8386  \n",
       " Median : 5.9991   Median : 5.503   Median : 4.9482   Median : 5.4542  \n",
       " Mean   : 6.5443   Mean   : 6.685   Mean   : 6.4815   Mean   : 6.0830  \n",
       " 3rd Qu.: 9.0331   3rd Qu.: 9.168   3rd Qu.: 9.2705   3rd Qu.: 8.8907  \n",
       " Max.   :15.8751   Max.   :16.570   Max.   :15.2379   Max.   :13.1959  \n",
       "    MAPE_H16          MAPE_H17          MAPE_H18         MAPE_H19     \n",
       " Min.   : 0.4499   Min.   : 0.3549   Min.   :0.3662   Min.   :0.1527  \n",
       " 1st Qu.: 2.3202   1st Qu.: 2.0781   1st Qu.:2.2416   1st Qu.:1.9990  \n",
       " Median : 5.1938   Median : 4.2769   Median :3.3806   Median :3.2535  \n",
       " Mean   : 5.1474   Mean   : 4.6088   Mean   :3.7366   Mean   :3.4338  \n",
       " 3rd Qu.: 7.6296   3rd Qu.: 6.6597   3rd Qu.:5.1792   3rd Qu.:4.6243  \n",
       " Max.   :11.5060   Max.   :10.8611   Max.   :8.6178   Max.   :7.8104  \n",
       "    MAPE_H20         MAPE_H21        MAPE_H22         MAPE_H23     \n",
       " Min.   :0.1207   Min.   :0.109   Min.   :0.5967   Min.   :0.6148  \n",
       " 1st Qu.:1.4249   1st Qu.:1.592   1st Qu.:1.6801   1st Qu.:1.9757  \n",
       " Median :2.9475   Median :2.664   Median :2.9442   Median :2.8711  \n",
       " Mean   :3.1644   Mean   :3.166   Mean   :3.1670   Mean   :3.3867  \n",
       " 3rd Qu.:4.4626   3rd Qu.:4.429   3rd Qu.:4.2873   3rd Qu.:4.6819  \n",
       " Max.   :7.7154   Max.   :7.592   Max.   :6.9104   Max.   :7.4670  "
      ]
     },
     "metadata": {},
     "output_type": "display_data"
    }
   ],
   "source": [
    "summary(MAPEc)"
   ]
  },
  {
   "cell_type": "markdown",
   "metadata": {},
   "source": [
    "From **H0** to **H7**, mean and median percentage errors are around **3** which are around best metrics so far. However, from **H8** to **H17**, mean and median values disperse between **4** and **6** and these values seem slightly worse than previous models. From the performance difference between **H8-H17** interval and other hours, it can be deduced that electricity consumption varies more during daytime while during nights the consumption follows a more stable pattern. Looking at mean and median values of **H18-H23** interval, which are around **3** like mean and median values of morning hours, this hypothesis can be seen more probable.  "
   ]
  },
  {
   "cell_type": "markdown",
   "metadata": {},
   "source": [
    "## Comparing Overall Model with Previous Models"
   ]
  },
  {
   "cell_type": "code",
   "execution_count": 27,
   "metadata": {
    "scrolled": true
   },
   "outputs": [
    {
     "name": "stderr",
     "output_type": "stream",
     "text": [
      "No id variables; using all as measure variables\n"
     ]
    }
   ],
   "source": [
    "MAPEcAll <- reshape2::melt(MAPEc)[\"value\"]\n",
    "colnames(MAPEcAll)[1] <- \"MAPEcAll\" "
   ]
  },
  {
   "cell_type": "code",
   "execution_count": 28,
   "metadata": {
    "scrolled": true
   },
   "outputs": [
    {
     "data": {
      "text/plain": [
       "     MAPE48            MAPE168              MAPEb              MAPEcAll       \n",
       " Min.   : 0.00955   Min.   : 0.008521   Min.   : 0.000671   Min.   : 0.06864  \n",
       " 1st Qu.: 1.64348   1st Qu.: 1.335853   1st Qu.: 1.824296   1st Qu.: 2.17941  \n",
       " Median : 5.72972   Median : 2.514032   Median : 3.310063   Median : 3.72969  \n",
       " Mean   : 8.06031   Mean   : 3.449188   Mean   : 4.228027   Mean   : 4.35771  \n",
       " 3rd Qu.:10.10699   3rd Qu.: 4.548818   3rd Qu.: 5.706493   3rd Qu.: 5.91587  \n",
       " Max.   :43.77075   Max.   :19.565225   Max.   :16.605386   Max.   :16.57037  "
      ]
     },
     "metadata": {},
     "output_type": "display_data"
    }
   ],
   "source": [
    "summary(cbind(pAtest[,c(\"MAPE48\",\"MAPE168\")],MAPEb,MAPEcAll))"
   ]
  },
  {
   "cell_type": "markdown",
   "metadata": {},
   "source": [
    "From the summary statistics, **Part c** approach has very similar performance to that of **Part b**. All metrics have very close values but mean and median values of **part c** are slightly higher than those of **Part b**."
   ]
  },
  {
   "cell_type": "markdown",
   "metadata": {},
   "source": [
    "# Part d"
   ]
  },
  {
   "cell_type": "code",
   "execution_count": 29,
   "metadata": {
    "scrolled": true
   },
   "outputs": [
    {
     "data": {
      "text/html": [
       "<table>\n",
       "<thead><tr><th scope=col>Datetime</th><th scope=col>Hour</th><th scope=col>Consumption</th><th scope=col>Date</th></tr></thead>\n",
       "<tbody>\n",
       "\t<tr><td>2016-01-01 00:00:00</td><td>0                  </td><td>26277.24           </td><td>2016-01-01         </td></tr>\n",
       "\t<tr><td>2016-01-01 01:00:00</td><td>1                  </td><td>24991.82           </td><td>2016-01-01         </td></tr>\n",
       "\t<tr><td>2016-01-01 02:00:00</td><td>2                  </td><td>23532.61           </td><td>2016-01-01         </td></tr>\n",
       "\t<tr><td>2016-01-01 03:00:00</td><td>3                  </td><td>22464.78           </td><td>2016-01-01         </td></tr>\n",
       "\t<tr><td>2016-01-01 04:00:00</td><td>4                  </td><td>22002.91           </td><td>2016-01-01         </td></tr>\n",
       "\t<tr><td>2016-01-01 05:00:00</td><td>5                  </td><td>21957.08           </td><td>2016-01-01         </td></tr>\n",
       "</tbody>\n",
       "</table>\n"
      ],
      "text/latex": [
       "\\begin{tabular}{r|llll}\n",
       " Datetime & Hour & Consumption & Date\\\\\n",
       "\\hline\n",
       "\t 2016-01-01 00:00:00 & 0                   & 26277.24            & 2016-01-01         \\\\\n",
       "\t 2016-01-01 01:00:00 & 1                   & 24991.82            & 2016-01-01         \\\\\n",
       "\t 2016-01-01 02:00:00 & 2                   & 23532.61            & 2016-01-01         \\\\\n",
       "\t 2016-01-01 03:00:00 & 3                   & 22464.78            & 2016-01-01         \\\\\n",
       "\t 2016-01-01 04:00:00 & 4                   & 22002.91            & 2016-01-01         \\\\\n",
       "\t 2016-01-01 05:00:00 & 5                   & 21957.08            & 2016-01-01         \\\\\n",
       "\\end{tabular}\n"
      ],
      "text/markdown": [
       "\n",
       "| Datetime | Hour | Consumption | Date |\n",
       "|---|---|---|---|\n",
       "| 2016-01-01 00:00:00 | 0                   | 26277.24            | 2016-01-01          |\n",
       "| 2016-01-01 01:00:00 | 1                   | 24991.82            | 2016-01-01          |\n",
       "| 2016-01-01 02:00:00 | 2                   | 23532.61            | 2016-01-01          |\n",
       "| 2016-01-01 03:00:00 | 3                   | 22464.78            | 2016-01-01          |\n",
       "| 2016-01-01 04:00:00 | 4                   | 22002.91            | 2016-01-01          |\n",
       "| 2016-01-01 05:00:00 | 5                   | 21957.08            | 2016-01-01          |\n",
       "\n"
      ],
      "text/plain": [
       "  Datetime            Hour Consumption Date      \n",
       "1 2016-01-01 00:00:00 0    26277.24    2016-01-01\n",
       "2 2016-01-01 01:00:00 1    24991.82    2016-01-01\n",
       "3 2016-01-01 02:00:00 2    23532.61    2016-01-01\n",
       "4 2016-01-01 03:00:00 3    22464.78    2016-01-01\n",
       "5 2016-01-01 04:00:00 4    22002.91    2016-01-01\n",
       "6 2016-01-01 05:00:00 5    21957.08    2016-01-01"
      ]
     },
     "metadata": {},
     "output_type": "display_data"
    }
   ],
   "source": [
    "#Adding Dates\n",
    "dfD <- copy(df)\n",
    "dfD[, Lag_48:=NULL]; dfD[,Lag_168:=NULL] #Deleting columns\n",
    "dfD[, Date:=as.Date(Datetime,tz = Sys.timezone())]\n",
    "head(dfD)"
   ]
  },
  {
   "cell_type": "markdown",
   "metadata": {},
   "source": [
    "## Wide Format"
   ]
  },
  {
   "cell_type": "code",
   "execution_count": 30,
   "metadata": {},
   "outputs": [
    {
     "data": {
      "text/html": [
       "<table>\n",
       "<thead><tr><th scope=col>Date</th><th scope=col>0</th><th scope=col>1</th><th scope=col>2</th><th scope=col>3</th><th scope=col>4</th><th scope=col>5</th><th scope=col>6</th><th scope=col>7</th><th scope=col>8</th><th scope=col>...</th><th scope=col>14</th><th scope=col>15</th><th scope=col>16</th><th scope=col>17</th><th scope=col>18</th><th scope=col>19</th><th scope=col>20</th><th scope=col>21</th><th scope=col>22</th><th scope=col>23</th></tr></thead>\n",
       "<tbody>\n",
       "\t<tr><td>2016-01-01</td><td>26277.24  </td><td>24991.82  </td><td>23532.61  </td><td>22464.78  </td><td>22002.91  </td><td>21957.08  </td><td>22203.54  </td><td>21844.16  </td><td>23094.73  </td><td>...       </td><td>29548.32  </td><td>29390.89  </td><td>30734.97  </td><td>32048.02  </td><td>31438.11  </td><td>30728.47  </td><td>30166.14  </td><td>29461.28  </td><td>29242.83  </td><td>28069.09  </td></tr>\n",
       "\t<tr><td>2016-01-02</td><td>26224.60  </td><td>24708.58  </td><td>23771.58  </td><td>22921.29  </td><td>22870.89  </td><td>23325.63  </td><td>23604.98  </td><td>24022.70  </td><td>26930.48  </td><td>...       </td><td>32796.18  </td><td>32594.55  </td><td>33358.47  </td><td>34387.95  </td><td>33591.26  </td><td>32648.83  </td><td>31897.73  </td><td>31049.20  </td><td>30906.43  </td><td>29621.09  </td></tr>\n",
       "\t<tr><td>2016-01-03</td><td>27613.96  </td><td>25779.28  </td><td>24566.31  </td><td>23878.42  </td><td>23511.38  </td><td>23672.32  </td><td>23827.08  </td><td>23405.11  </td><td>24638.72  </td><td>...       </td><td>31056.47  </td><td>30979.53  </td><td>32297.46  </td><td>33462.96  </td><td>33151.03  </td><td>32450.21  </td><td>32093.93  </td><td>31315.16  </td><td>31014.19  </td><td>29462.06  </td></tr>\n",
       "\t<tr><td>2016-01-04</td><td>27103.09  </td><td>25439.84  </td><td>24395.07  </td><td>23961.03  </td><td>23860.63  </td><td>24418.47  </td><td>25708.59  </td><td>27455.39  </td><td>32982.07  </td><td>...       </td><td>39661.98  </td><td>39211.00  </td><td>39760.12  </td><td>39633.29  </td><td>37621.41  </td><td>35954.18  </td><td>35114.12  </td><td>34066.40  </td><td>33686.83  </td><td>31733.54  </td></tr>\n",
       "\t<tr><td>2016-01-05</td><td>29244.38  </td><td>27637.23  </td><td>26335.78  </td><td>25870.23  </td><td>25975.07  </td><td>26318.48  </td><td>27109.29  </td><td>28570.22  </td><td>33106.00  </td><td>...       </td><td>38086.11  </td><td>37834.89  </td><td>38599.34  </td><td>38669.63  </td><td>36954.78  </td><td>35306.11  </td><td>34301.59  </td><td>33400.82  </td><td>33359.37  </td><td>31629.97  </td></tr>\n",
       "\t<tr><td>2016-01-06</td><td>29189.27  </td><td>27614.02  </td><td>26578.97  </td><td>25719.19  </td><td>25864.63  </td><td>25918.59  </td><td>27091.94  </td><td>28533.05  </td><td>33203.34  </td><td>...       </td><td>36847.22  </td><td>36433.88  </td><td>37581.09  </td><td>37304.52  </td><td>35832.00  </td><td>34499.94  </td><td>33670.00  </td><td>32931.12  </td><td>32913.06  </td><td>31450.65  </td></tr>\n",
       "</tbody>\n",
       "</table>\n"
      ],
      "text/latex": [
       "\\begin{tabular}{r|lllllllllllllllllllllllll}\n",
       " Date & 0 & 1 & 2 & 3 & 4 & 5 & 6 & 7 & 8 & ... & 14 & 15 & 16 & 17 & 18 & 19 & 20 & 21 & 22 & 23\\\\\n",
       "\\hline\n",
       "\t 2016-01-01 & 26277.24   & 24991.82   & 23532.61   & 22464.78   & 22002.91   & 21957.08   & 22203.54   & 21844.16   & 23094.73   & ...        & 29548.32   & 29390.89   & 30734.97   & 32048.02   & 31438.11   & 30728.47   & 30166.14   & 29461.28   & 29242.83   & 28069.09  \\\\\n",
       "\t 2016-01-02 & 26224.60   & 24708.58   & 23771.58   & 22921.29   & 22870.89   & 23325.63   & 23604.98   & 24022.70   & 26930.48   & ...        & 32796.18   & 32594.55   & 33358.47   & 34387.95   & 33591.26   & 32648.83   & 31897.73   & 31049.20   & 30906.43   & 29621.09  \\\\\n",
       "\t 2016-01-03 & 27613.96   & 25779.28   & 24566.31   & 23878.42   & 23511.38   & 23672.32   & 23827.08   & 23405.11   & 24638.72   & ...        & 31056.47   & 30979.53   & 32297.46   & 33462.96   & 33151.03   & 32450.21   & 32093.93   & 31315.16   & 31014.19   & 29462.06  \\\\\n",
       "\t 2016-01-04 & 27103.09   & 25439.84   & 24395.07   & 23961.03   & 23860.63   & 24418.47   & 25708.59   & 27455.39   & 32982.07   & ...        & 39661.98   & 39211.00   & 39760.12   & 39633.29   & 37621.41   & 35954.18   & 35114.12   & 34066.40   & 33686.83   & 31733.54  \\\\\n",
       "\t 2016-01-05 & 29244.38   & 27637.23   & 26335.78   & 25870.23   & 25975.07   & 26318.48   & 27109.29   & 28570.22   & 33106.00   & ...        & 38086.11   & 37834.89   & 38599.34   & 38669.63   & 36954.78   & 35306.11   & 34301.59   & 33400.82   & 33359.37   & 31629.97  \\\\\n",
       "\t 2016-01-06 & 29189.27   & 27614.02   & 26578.97   & 25719.19   & 25864.63   & 25918.59   & 27091.94   & 28533.05   & 33203.34   & ...        & 36847.22   & 36433.88   & 37581.09   & 37304.52   & 35832.00   & 34499.94   & 33670.00   & 32931.12   & 32913.06   & 31450.65  \\\\\n",
       "\\end{tabular}\n"
      ],
      "text/markdown": [
       "\n",
       "| Date | 0 | 1 | 2 | 3 | 4 | 5 | 6 | 7 | 8 | ... | 14 | 15 | 16 | 17 | 18 | 19 | 20 | 21 | 22 | 23 |\n",
       "|---|---|---|---|---|---|---|---|---|---|---|---|---|---|---|---|---|---|---|---|---|\n",
       "| 2016-01-01 | 26277.24   | 24991.82   | 23532.61   | 22464.78   | 22002.91   | 21957.08   | 22203.54   | 21844.16   | 23094.73   | ...        | 29548.32   | 29390.89   | 30734.97   | 32048.02   | 31438.11   | 30728.47   | 30166.14   | 29461.28   | 29242.83   | 28069.09   |\n",
       "| 2016-01-02 | 26224.60   | 24708.58   | 23771.58   | 22921.29   | 22870.89   | 23325.63   | 23604.98   | 24022.70   | 26930.48   | ...        | 32796.18   | 32594.55   | 33358.47   | 34387.95   | 33591.26   | 32648.83   | 31897.73   | 31049.20   | 30906.43   | 29621.09   |\n",
       "| 2016-01-03 | 27613.96   | 25779.28   | 24566.31   | 23878.42   | 23511.38   | 23672.32   | 23827.08   | 23405.11   | 24638.72   | ...        | 31056.47   | 30979.53   | 32297.46   | 33462.96   | 33151.03   | 32450.21   | 32093.93   | 31315.16   | 31014.19   | 29462.06   |\n",
       "| 2016-01-04 | 27103.09   | 25439.84   | 24395.07   | 23961.03   | 23860.63   | 24418.47   | 25708.59   | 27455.39   | 32982.07   | ...        | 39661.98   | 39211.00   | 39760.12   | 39633.29   | 37621.41   | 35954.18   | 35114.12   | 34066.40   | 33686.83   | 31733.54   |\n",
       "| 2016-01-05 | 29244.38   | 27637.23   | 26335.78   | 25870.23   | 25975.07   | 26318.48   | 27109.29   | 28570.22   | 33106.00   | ...        | 38086.11   | 37834.89   | 38599.34   | 38669.63   | 36954.78   | 35306.11   | 34301.59   | 33400.82   | 33359.37   | 31629.97   |\n",
       "| 2016-01-06 | 29189.27   | 27614.02   | 26578.97   | 25719.19   | 25864.63   | 25918.59   | 27091.94   | 28533.05   | 33203.34   | ...        | 36847.22   | 36433.88   | 37581.09   | 37304.52   | 35832.00   | 34499.94   | 33670.00   | 32931.12   | 32913.06   | 31450.65   |\n",
       "\n"
      ],
      "text/plain": [
       "  Date       0        1        2        3        4        5        6       \n",
       "1 2016-01-01 26277.24 24991.82 23532.61 22464.78 22002.91 21957.08 22203.54\n",
       "2 2016-01-02 26224.60 24708.58 23771.58 22921.29 22870.89 23325.63 23604.98\n",
       "3 2016-01-03 27613.96 25779.28 24566.31 23878.42 23511.38 23672.32 23827.08\n",
       "4 2016-01-04 27103.09 25439.84 24395.07 23961.03 23860.63 24418.47 25708.59\n",
       "5 2016-01-05 29244.38 27637.23 26335.78 25870.23 25975.07 26318.48 27109.29\n",
       "6 2016-01-06 29189.27 27614.02 26578.97 25719.19 25864.63 25918.59 27091.94\n",
       "  7        8        ... 14       15       16       17       18       19      \n",
       "1 21844.16 23094.73 ... 29548.32 29390.89 30734.97 32048.02 31438.11 30728.47\n",
       "2 24022.70 26930.48 ... 32796.18 32594.55 33358.47 34387.95 33591.26 32648.83\n",
       "3 23405.11 24638.72 ... 31056.47 30979.53 32297.46 33462.96 33151.03 32450.21\n",
       "4 27455.39 32982.07 ... 39661.98 39211.00 39760.12 39633.29 37621.41 35954.18\n",
       "5 28570.22 33106.00 ... 38086.11 37834.89 38599.34 38669.63 36954.78 35306.11\n",
       "6 28533.05 33203.34 ... 36847.22 36433.88 37581.09 37304.52 35832.00 34499.94\n",
       "  20       21       22       23      \n",
       "1 30166.14 29461.28 29242.83 28069.09\n",
       "2 31897.73 31049.20 30906.43 29621.09\n",
       "3 32093.93 31315.16 31014.19 29462.06\n",
       "4 35114.12 34066.40 33686.83 31733.54\n",
       "5 34301.59 33400.82 33359.37 31629.97\n",
       "6 33670.00 32931.12 32913.06 31450.65"
      ]
     },
     "metadata": {},
     "output_type": "display_data"
    }
   ],
   "source": [
    "dfD <- dcast(data = dfD, value.var = names(dfD)[3],formula =  Date ~ Hour)\n",
    "head(dfD)"
   ]
  },
  {
   "cell_type": "code",
   "execution_count": 31,
   "metadata": {},
   "outputs": [
    {
     "data": {
      "text/plain": [
       "tdiffs\n",
       "   1 \n",
       "1796 "
      ]
     },
     "metadata": {},
     "output_type": "display_data"
    }
   ],
   "source": [
    "tdiffs <- dfD$Date[2:length(df$Date)] - dfD$Date[1:length(df$Date)-1] #All dates are available\n",
    "table(tdiffs)"
   ]
  },
  {
   "cell_type": "markdown",
   "metadata": {},
   "source": [
    "## Creating Variables"
   ]
  },
  {
   "cell_type": "code",
   "execution_count": 32,
   "metadata": {},
   "outputs": [],
   "source": [
    "idx <- seq(1,nrow(dfD))\n",
    "idx2 <- idx-2\n",
    "idx2[which(idx2 < 1)] <- NA\n",
    "\n",
    "for (i in seq(0,23)){\n",
    "    col <- paste(\"H\",i,sep=\"\")\n",
    "    colnames(dfD)[i+2] <- col\n",
    "    newcol <- paste(\"LagD2H\",i,sep = \"\")\n",
    "    dfD[,(newcol) :=      dfD[idx2, col,with = FALSE]  ]\n",
    "    \n",
    "}"
   ]
  },
  {
   "cell_type": "code",
   "execution_count": 33,
   "metadata": {},
   "outputs": [
    {
     "data": {
      "text/html": [
       "<table>\n",
       "<thead><tr><th scope=col>Date</th><th scope=col>H0</th><th scope=col>H1</th><th scope=col>H2</th><th scope=col>H3</th><th scope=col>H4</th><th scope=col>H5</th><th scope=col>H6</th><th scope=col>H7</th><th scope=col>H8</th><th scope=col>...</th><th scope=col>LagD7H14</th><th scope=col>LagD7H15</th><th scope=col>LagD7H16</th><th scope=col>LagD7H17</th><th scope=col>LagD7H18</th><th scope=col>LagD7H19</th><th scope=col>LagD7H20</th><th scope=col>LagD7H21</th><th scope=col>LagD7H22</th><th scope=col>LagD7H23</th></tr></thead>\n",
       "<tbody>\n",
       "\t<tr><td>2020-11-26</td><td>33902.71  </td><td>32459.36  </td><td>31023.35  </td><td>30190.73  </td><td>30055.35  </td><td>30335.29  </td><td>31201.79  </td><td>32775.21  </td><td>36882.21  </td><td>...       </td><td>39412.98  </td><td>39853.82  </td><td>40918.91  </td><td>42208.11  </td><td>41673.45  </td><td>40553.66  </td><td>39499.32  </td><td>38429.24  </td><td>37270.44  </td><td>35731.83  </td></tr>\n",
       "\t<tr><td>2020-11-27</td><td>33896.52  </td><td>31841.72  </td><td>30897.69  </td><td>30191.20  </td><td>29956.10  </td><td>30199.97  </td><td>31015.63  </td><td>32518.79  </td><td>36129.99  </td><td>...       </td><td>40727.71  </td><td>40550.85  </td><td>40976.32  </td><td>41854.37  </td><td>41564.30  </td><td>40221.79  </td><td>38875.45  </td><td>37749.83  </td><td>36786.90  </td><td>35102.41  </td></tr>\n",
       "\t<tr><td>2020-11-28</td><td>33935.56  </td><td>31919.44  </td><td>30439.27  </td><td>30020.41  </td><td>29825.63  </td><td>29984.86  </td><td>30444.97  </td><td>31159.67  </td><td>33325.74  </td><td>...       </td><td>35312.45  </td><td>35408.44  </td><td>36581.59  </td><td>38630.06  </td><td>39379.15  </td><td>38432.76  </td><td>37293.60  </td><td>36304.68  </td><td>35250.20  </td><td>33817.76  </td></tr>\n",
       "\t<tr><td>2020-11-29</td><td>32332.68  </td><td>30410.13  </td><td>29119.33  </td><td>28484.61  </td><td>28150.14  </td><td>28065.44  </td><td>28189.16  </td><td>27883.71  </td><td>27219.84  </td><td>...       </td><td>29334.07  </td><td>30301.50  </td><td>32108.31  </td><td>34919.68  </td><td>36647.32  </td><td>35999.47  </td><td>35183.37  </td><td>34230.51  </td><td>33602.91  </td><td>32178.03  </td></tr>\n",
       "\t<tr><td>2020-11-30</td><td>30828.40  </td><td>29350.31  </td><td>27689.33  </td><td>27608.55  </td><td>27566.71  </td><td>27897.84  </td><td>28873.20  </td><td>31137.18  </td><td>35801.80  </td><td>...       </td><td>37089.41  </td><td>37586.08  </td><td>39435.91  </td><td>41569.99  </td><td>41710.94  </td><td>40297.34  </td><td>38951.67  </td><td>37856.67  </td><td>36983.95  </td><td>35594.03  </td></tr>\n",
       "\t<tr><td>2020-12-01</td><td>33842.13  </td><td>32013.00  </td><td>30884.17  </td><td>30082.68  </td><td>29844.18  </td><td>30100.53  </td><td>30743.44  </td><td>32279.80  </td><td>36657.05  </td><td>...       </td><td>37830.17  </td><td>38656.92  </td><td>40396.69  </td><td>42486.34  </td><td>42255.24  </td><td>40895.17  </td><td>39240.65  </td><td>38366.41  </td><td>37446.73  </td><td>36186.83  </td></tr>\n",
       "</tbody>\n",
       "</table>\n"
      ],
      "text/latex": [
       "\\begin{tabular}{r|lllllllllllllllllllllllllllllllllllllllllllllllllllllllllllllllllllllllll}\n",
       " Date & H0 & H1 & H2 & H3 & H4 & H5 & H6 & H7 & H8 & ... & LagD7H14 & LagD7H15 & LagD7H16 & LagD7H17 & LagD7H18 & LagD7H19 & LagD7H20 & LagD7H21 & LagD7H22 & LagD7H23\\\\\n",
       "\\hline\n",
       "\t 2020-11-26 & 33902.71   & 32459.36   & 31023.35   & 30190.73   & 30055.35   & 30335.29   & 31201.79   & 32775.21   & 36882.21   & ...        & 39412.98   & 39853.82   & 40918.91   & 42208.11   & 41673.45   & 40553.66   & 39499.32   & 38429.24   & 37270.44   & 35731.83  \\\\\n",
       "\t 2020-11-27 & 33896.52   & 31841.72   & 30897.69   & 30191.20   & 29956.10   & 30199.97   & 31015.63   & 32518.79   & 36129.99   & ...        & 40727.71   & 40550.85   & 40976.32   & 41854.37   & 41564.30   & 40221.79   & 38875.45   & 37749.83   & 36786.90   & 35102.41  \\\\\n",
       "\t 2020-11-28 & 33935.56   & 31919.44   & 30439.27   & 30020.41   & 29825.63   & 29984.86   & 30444.97   & 31159.67   & 33325.74   & ...        & 35312.45   & 35408.44   & 36581.59   & 38630.06   & 39379.15   & 38432.76   & 37293.60   & 36304.68   & 35250.20   & 33817.76  \\\\\n",
       "\t 2020-11-29 & 32332.68   & 30410.13   & 29119.33   & 28484.61   & 28150.14   & 28065.44   & 28189.16   & 27883.71   & 27219.84   & ...        & 29334.07   & 30301.50   & 32108.31   & 34919.68   & 36647.32   & 35999.47   & 35183.37   & 34230.51   & 33602.91   & 32178.03  \\\\\n",
       "\t 2020-11-30 & 30828.40   & 29350.31   & 27689.33   & 27608.55   & 27566.71   & 27897.84   & 28873.20   & 31137.18   & 35801.80   & ...        & 37089.41   & 37586.08   & 39435.91   & 41569.99   & 41710.94   & 40297.34   & 38951.67   & 37856.67   & 36983.95   & 35594.03  \\\\\n",
       "\t 2020-12-01 & 33842.13   & 32013.00   & 30884.17   & 30082.68   & 29844.18   & 30100.53   & 30743.44   & 32279.80   & 36657.05   & ...        & 37830.17   & 38656.92   & 40396.69   & 42486.34   & 42255.24   & 40895.17   & 39240.65   & 38366.41   & 37446.73   & 36186.83  \\\\\n",
       "\\end{tabular}\n"
      ],
      "text/markdown": [
       "\n",
       "| Date | H0 | H1 | H2 | H3 | H4 | H5 | H6 | H7 | H8 | ... | LagD7H14 | LagD7H15 | LagD7H16 | LagD7H17 | LagD7H18 | LagD7H19 | LagD7H20 | LagD7H21 | LagD7H22 | LagD7H23 |\n",
       "|---|---|---|---|---|---|---|---|---|---|---|---|---|---|---|---|---|---|---|---|---|\n",
       "| 2020-11-26 | 33902.71   | 32459.36   | 31023.35   | 30190.73   | 30055.35   | 30335.29   | 31201.79   | 32775.21   | 36882.21   | ...        | 39412.98   | 39853.82   | 40918.91   | 42208.11   | 41673.45   | 40553.66   | 39499.32   | 38429.24   | 37270.44   | 35731.83   |\n",
       "| 2020-11-27 | 33896.52   | 31841.72   | 30897.69   | 30191.20   | 29956.10   | 30199.97   | 31015.63   | 32518.79   | 36129.99   | ...        | 40727.71   | 40550.85   | 40976.32   | 41854.37   | 41564.30   | 40221.79   | 38875.45   | 37749.83   | 36786.90   | 35102.41   |\n",
       "| 2020-11-28 | 33935.56   | 31919.44   | 30439.27   | 30020.41   | 29825.63   | 29984.86   | 30444.97   | 31159.67   | 33325.74   | ...        | 35312.45   | 35408.44   | 36581.59   | 38630.06   | 39379.15   | 38432.76   | 37293.60   | 36304.68   | 35250.20   | 33817.76   |\n",
       "| 2020-11-29 | 32332.68   | 30410.13   | 29119.33   | 28484.61   | 28150.14   | 28065.44   | 28189.16   | 27883.71   | 27219.84   | ...        | 29334.07   | 30301.50   | 32108.31   | 34919.68   | 36647.32   | 35999.47   | 35183.37   | 34230.51   | 33602.91   | 32178.03   |\n",
       "| 2020-11-30 | 30828.40   | 29350.31   | 27689.33   | 27608.55   | 27566.71   | 27897.84   | 28873.20   | 31137.18   | 35801.80   | ...        | 37089.41   | 37586.08   | 39435.91   | 41569.99   | 41710.94   | 40297.34   | 38951.67   | 37856.67   | 36983.95   | 35594.03   |\n",
       "| 2020-12-01 | 33842.13   | 32013.00   | 30884.17   | 30082.68   | 29844.18   | 30100.53   | 30743.44   | 32279.80   | 36657.05   | ...        | 37830.17   | 38656.92   | 40396.69   | 42486.34   | 42255.24   | 40895.17   | 39240.65   | 38366.41   | 37446.73   | 36186.83   |\n",
       "\n"
      ],
      "text/plain": [
       "  Date       H0       H1       H2       H3       H4       H5       H6      \n",
       "1 2020-11-26 33902.71 32459.36 31023.35 30190.73 30055.35 30335.29 31201.79\n",
       "2 2020-11-27 33896.52 31841.72 30897.69 30191.20 29956.10 30199.97 31015.63\n",
       "3 2020-11-28 33935.56 31919.44 30439.27 30020.41 29825.63 29984.86 30444.97\n",
       "4 2020-11-29 32332.68 30410.13 29119.33 28484.61 28150.14 28065.44 28189.16\n",
       "5 2020-11-30 30828.40 29350.31 27689.33 27608.55 27566.71 27897.84 28873.20\n",
       "6 2020-12-01 33842.13 32013.00 30884.17 30082.68 29844.18 30100.53 30743.44\n",
       "  H7       H8       ... LagD7H14 LagD7H15 LagD7H16 LagD7H17 LagD7H18 LagD7H19\n",
       "1 32775.21 36882.21 ... 39412.98 39853.82 40918.91 42208.11 41673.45 40553.66\n",
       "2 32518.79 36129.99 ... 40727.71 40550.85 40976.32 41854.37 41564.30 40221.79\n",
       "3 31159.67 33325.74 ... 35312.45 35408.44 36581.59 38630.06 39379.15 38432.76\n",
       "4 27883.71 27219.84 ... 29334.07 30301.50 32108.31 34919.68 36647.32 35999.47\n",
       "5 31137.18 35801.80 ... 37089.41 37586.08 39435.91 41569.99 41710.94 40297.34\n",
       "6 32279.80 36657.05 ... 37830.17 38656.92 40396.69 42486.34 42255.24 40895.17\n",
       "  LagD7H20 LagD7H21 LagD7H22 LagD7H23\n",
       "1 39499.32 38429.24 37270.44 35731.83\n",
       "2 38875.45 37749.83 36786.90 35102.41\n",
       "3 37293.60 36304.68 35250.20 33817.76\n",
       "4 35183.37 34230.51 33602.91 32178.03\n",
       "5 38951.67 37856.67 36983.95 35594.03\n",
       "6 39240.65 38366.41 37446.73 36186.83"
      ]
     },
     "metadata": {},
     "output_type": "display_data"
    }
   ],
   "source": [
    "idx7 <- idx-7\n",
    "idx7[which(idx7 < 1)] <- NA\n",
    "\n",
    "for (i in seq(0,23)){\n",
    "    col <- paste(\"H\",i,sep=\"\")\n",
    "    colnames(dfD)[i+2] <- col\n",
    "    newcol <- paste(\"LagD7H\",i,sep = \"\")\n",
    "    dfD[,(newcol) :=      dfD[idx7, col,with = FALSE]  ]\n",
    "    \n",
    "}\n",
    "tail(dfD)"
   ]
  },
  {
   "cell_type": "code",
   "execution_count": 34,
   "metadata": {
    "scrolled": true
   },
   "outputs": [
    {
     "data": {
      "text/html": [
       "<table>\n",
       "<thead><tr><th scope=col>LagD2H3</th><th scope=col>LagD7H3</th></tr></thead>\n",
       "<tbody>\n",
       "\t<tr><td>26790.64</td><td>24426.7 </td></tr>\n",
       "</tbody>\n",
       "</table>\n"
      ],
      "text/latex": [
       "\\begin{tabular}{r|ll}\n",
       " LagD2H3 & LagD7H3\\\\\n",
       "\\hline\n",
       "\t 26790.64 & 24426.7 \\\\\n",
       "\\end{tabular}\n"
      ],
      "text/markdown": [
       "\n",
       "| LagD2H3 | LagD7H3 |\n",
       "|---|---|\n",
       "| 26790.64 | 24426.7  |\n",
       "\n"
      ],
      "text/plain": [
       "  LagD2H3  LagD7H3\n",
       "1 26790.64 24426.7"
      ]
     },
     "metadata": {},
     "output_type": "display_data"
    },
    {
     "data": {
      "text/html": [
       "<table>\n",
       "<thead><tr><th scope=col>H3</th></tr></thead>\n",
       "<tbody>\n",
       "\t<tr><td>26790.64</td></tr>\n",
       "</tbody>\n",
       "</table>\n"
      ],
      "text/latex": [
       "\\begin{tabular}{r|l}\n",
       " H3\\\\\n",
       "\\hline\n",
       "\t 26790.64\\\\\n",
       "\\end{tabular}\n"
      ],
      "text/markdown": [
       "\n",
       "| H3 |\n",
       "|---|\n",
       "| 26790.64 |\n",
       "\n"
      ],
      "text/plain": [
       "  H3      \n",
       "1 26790.64"
      ]
     },
     "metadata": {},
     "output_type": "display_data"
    },
    {
     "data": {
      "text/html": [
       "<table>\n",
       "<thead><tr><th scope=col>H3</th></tr></thead>\n",
       "<tbody>\n",
       "\t<tr><td>24426.7</td></tr>\n",
       "</tbody>\n",
       "</table>\n"
      ],
      "text/latex": [
       "\\begin{tabular}{r|l}\n",
       " H3\\\\\n",
       "\\hline\n",
       "\t 24426.7\\\\\n",
       "\\end{tabular}\n"
      ],
      "text/markdown": [
       "\n",
       "| H3 |\n",
       "|---|\n",
       "| 24426.7 |\n",
       "\n"
      ],
      "text/plain": [
       "  H3     \n",
       "1 24426.7"
      ]
     },
     "metadata": {},
     "output_type": "display_data"
    }
   ],
   "source": [
    "#Check Variables\n",
    "dfD[500,c(29,53)];dfD[498,5];dfD[493,5]"
   ]
  },
  {
   "cell_type": "markdown",
   "metadata": {},
   "source": [
    "## Melting Y Variables (Hours)"
   ]
  },
  {
   "cell_type": "code",
   "execution_count": 35,
   "metadata": {},
   "outputs": [],
   "source": [
    "dfD <- melt(dfD,measure.vars = seq(2,25),value.name = \"Consumption\",variable.name = \"Hour\")"
   ]
  },
  {
   "cell_type": "code",
   "execution_count": 36,
   "metadata": {},
   "outputs": [
    {
     "data": {
      "text/html": [
       "<table>\n",
       "<thead><tr><th scope=col>Date</th><th scope=col>LagD2H0</th><th scope=col>LagD2H1</th><th scope=col>LagD2H2</th><th scope=col>LagD2H3</th><th scope=col>LagD2H4</th><th scope=col>LagD2H5</th><th scope=col>LagD2H6</th><th scope=col>LagD2H7</th><th scope=col>LagD2H8</th><th scope=col>...</th><th scope=col>LagD7H16</th><th scope=col>LagD7H17</th><th scope=col>LagD7H18</th><th scope=col>LagD7H19</th><th scope=col>LagD7H20</th><th scope=col>LagD7H21</th><th scope=col>LagD7H22</th><th scope=col>LagD7H23</th><th scope=col>Hour</th><th scope=col>Consumption</th></tr></thead>\n",
       "<tbody>\n",
       "\t<tr><td>2016-01-01</td><td>      NA  </td><td>      NA  </td><td>      NA  </td><td>      NA  </td><td>      NA  </td><td>      NA  </td><td>      NA  </td><td>      NA  </td><td>      NA  </td><td>...       </td><td>NA        </td><td>NA        </td><td>NA        </td><td>NA        </td><td>NA        </td><td>NA        </td><td>NA        </td><td>NA        </td><td>H0        </td><td>26277.24  </td></tr>\n",
       "\t<tr><td>2016-01-02</td><td>      NA  </td><td>      NA  </td><td>      NA  </td><td>      NA  </td><td>      NA  </td><td>      NA  </td><td>      NA  </td><td>      NA  </td><td>      NA  </td><td>...       </td><td>NA        </td><td>NA        </td><td>NA        </td><td>NA        </td><td>NA        </td><td>NA        </td><td>NA        </td><td>NA        </td><td>H0        </td><td>26224.60  </td></tr>\n",
       "\t<tr><td>2016-01-03</td><td>26277.24  </td><td>24991.82  </td><td>23532.61  </td><td>22464.78  </td><td>22002.91  </td><td>21957.08  </td><td>22203.54  </td><td>21844.16  </td><td>23094.73  </td><td>...       </td><td>NA        </td><td>NA        </td><td>NA        </td><td>NA        </td><td>NA        </td><td>NA        </td><td>NA        </td><td>NA        </td><td>H0        </td><td>27613.96  </td></tr>\n",
       "\t<tr><td>2016-01-04</td><td>26224.60  </td><td>24708.58  </td><td>23771.58  </td><td>22921.29  </td><td>22870.89  </td><td>23325.63  </td><td>23604.98  </td><td>24022.70  </td><td>26930.48  </td><td>...       </td><td>NA        </td><td>NA        </td><td>NA        </td><td>NA        </td><td>NA        </td><td>NA        </td><td>NA        </td><td>NA        </td><td>H0        </td><td>27103.09  </td></tr>\n",
       "\t<tr><td>2016-01-05</td><td>27613.96  </td><td>25779.28  </td><td>24566.31  </td><td>23878.42  </td><td>23511.38  </td><td>23672.32  </td><td>23827.08  </td><td>23405.11  </td><td>24638.72  </td><td>...       </td><td>NA        </td><td>NA        </td><td>NA        </td><td>NA        </td><td>NA        </td><td>NA        </td><td>NA        </td><td>NA        </td><td>H0        </td><td>29244.38  </td></tr>\n",
       "\t<tr><td>2016-01-06</td><td>27103.09  </td><td>25439.84  </td><td>24395.07  </td><td>23961.03  </td><td>23860.63  </td><td>24418.47  </td><td>25708.59  </td><td>27455.39  </td><td>32982.07  </td><td>...       </td><td>NA        </td><td>NA        </td><td>NA        </td><td>NA        </td><td>NA        </td><td>NA        </td><td>NA        </td><td>NA        </td><td>H0        </td><td>29189.27  </td></tr>\n",
       "</tbody>\n",
       "</table>\n"
      ],
      "text/latex": [
       "\\begin{tabular}{r|lllllllllllllllllllllllllllllllllllllllllllllllllll}\n",
       " Date & LagD2H0 & LagD2H1 & LagD2H2 & LagD2H3 & LagD2H4 & LagD2H5 & LagD2H6 & LagD2H7 & LagD2H8 & ... & LagD7H16 & LagD7H17 & LagD7H18 & LagD7H19 & LagD7H20 & LagD7H21 & LagD7H22 & LagD7H23 & Hour & Consumption\\\\\n",
       "\\hline\n",
       "\t 2016-01-01 &       NA   &       NA   &       NA   &       NA   &       NA   &       NA   &       NA   &       NA   &       NA   & ...        & NA         & NA         & NA         & NA         & NA         & NA         & NA         & NA         & H0         & 26277.24  \\\\\n",
       "\t 2016-01-02 &       NA   &       NA   &       NA   &       NA   &       NA   &       NA   &       NA   &       NA   &       NA   & ...        & NA         & NA         & NA         & NA         & NA         & NA         & NA         & NA         & H0         & 26224.60  \\\\\n",
       "\t 2016-01-03 & 26277.24   & 24991.82   & 23532.61   & 22464.78   & 22002.91   & 21957.08   & 22203.54   & 21844.16   & 23094.73   & ...        & NA         & NA         & NA         & NA         & NA         & NA         & NA         & NA         & H0         & 27613.96  \\\\\n",
       "\t 2016-01-04 & 26224.60   & 24708.58   & 23771.58   & 22921.29   & 22870.89   & 23325.63   & 23604.98   & 24022.70   & 26930.48   & ...        & NA         & NA         & NA         & NA         & NA         & NA         & NA         & NA         & H0         & 27103.09  \\\\\n",
       "\t 2016-01-05 & 27613.96   & 25779.28   & 24566.31   & 23878.42   & 23511.38   & 23672.32   & 23827.08   & 23405.11   & 24638.72   & ...        & NA         & NA         & NA         & NA         & NA         & NA         & NA         & NA         & H0         & 29244.38  \\\\\n",
       "\t 2016-01-06 & 27103.09   & 25439.84   & 24395.07   & 23961.03   & 23860.63   & 24418.47   & 25708.59   & 27455.39   & 32982.07   & ...        & NA         & NA         & NA         & NA         & NA         & NA         & NA         & NA         & H0         & 29189.27  \\\\\n",
       "\\end{tabular}\n"
      ],
      "text/markdown": [
       "\n",
       "| Date | LagD2H0 | LagD2H1 | LagD2H2 | LagD2H3 | LagD2H4 | LagD2H5 | LagD2H6 | LagD2H7 | LagD2H8 | ... | LagD7H16 | LagD7H17 | LagD7H18 | LagD7H19 | LagD7H20 | LagD7H21 | LagD7H22 | LagD7H23 | Hour | Consumption |\n",
       "|---|---|---|---|---|---|---|---|---|---|---|---|---|---|---|---|---|---|---|---|---|\n",
       "| 2016-01-01 |       NA   |       NA   |       NA   |       NA   |       NA   |       NA   |       NA   |       NA   |       NA   | ...        | NA         | NA         | NA         | NA         | NA         | NA         | NA         | NA         | H0         | 26277.24   |\n",
       "| 2016-01-02 |       NA   |       NA   |       NA   |       NA   |       NA   |       NA   |       NA   |       NA   |       NA   | ...        | NA         | NA         | NA         | NA         | NA         | NA         | NA         | NA         | H0         | 26224.60   |\n",
       "| 2016-01-03 | 26277.24   | 24991.82   | 23532.61   | 22464.78   | 22002.91   | 21957.08   | 22203.54   | 21844.16   | 23094.73   | ...        | NA         | NA         | NA         | NA         | NA         | NA         | NA         | NA         | H0         | 27613.96   |\n",
       "| 2016-01-04 | 26224.60   | 24708.58   | 23771.58   | 22921.29   | 22870.89   | 23325.63   | 23604.98   | 24022.70   | 26930.48   | ...        | NA         | NA         | NA         | NA         | NA         | NA         | NA         | NA         | H0         | 27103.09   |\n",
       "| 2016-01-05 | 27613.96   | 25779.28   | 24566.31   | 23878.42   | 23511.38   | 23672.32   | 23827.08   | 23405.11   | 24638.72   | ...        | NA         | NA         | NA         | NA         | NA         | NA         | NA         | NA         | H0         | 29244.38   |\n",
       "| 2016-01-06 | 27103.09   | 25439.84   | 24395.07   | 23961.03   | 23860.63   | 24418.47   | 25708.59   | 27455.39   | 32982.07   | ...        | NA         | NA         | NA         | NA         | NA         | NA         | NA         | NA         | H0         | 29189.27   |\n",
       "\n"
      ],
      "text/plain": [
       "  Date       LagD2H0  LagD2H1  LagD2H2  LagD2H3  LagD2H4  LagD2H5  LagD2H6 \n",
       "1 2016-01-01       NA       NA       NA       NA       NA       NA       NA\n",
       "2 2016-01-02       NA       NA       NA       NA       NA       NA       NA\n",
       "3 2016-01-03 26277.24 24991.82 23532.61 22464.78 22002.91 21957.08 22203.54\n",
       "4 2016-01-04 26224.60 24708.58 23771.58 22921.29 22870.89 23325.63 23604.98\n",
       "5 2016-01-05 27613.96 25779.28 24566.31 23878.42 23511.38 23672.32 23827.08\n",
       "6 2016-01-06 27103.09 25439.84 24395.07 23961.03 23860.63 24418.47 25708.59\n",
       "  LagD2H7  LagD2H8  ... LagD7H16 LagD7H17 LagD7H18 LagD7H19 LagD7H20 LagD7H21\n",
       "1       NA       NA ... NA       NA       NA       NA       NA       NA      \n",
       "2       NA       NA ... NA       NA       NA       NA       NA       NA      \n",
       "3 21844.16 23094.73 ... NA       NA       NA       NA       NA       NA      \n",
       "4 24022.70 26930.48 ... NA       NA       NA       NA       NA       NA      \n",
       "5 23405.11 24638.72 ... NA       NA       NA       NA       NA       NA      \n",
       "6 27455.39 32982.07 ... NA       NA       NA       NA       NA       NA      \n",
       "  LagD7H22 LagD7H23 Hour Consumption\n",
       "1 NA       NA       H0   26277.24   \n",
       "2 NA       NA       H0   26224.60   \n",
       "3 NA       NA       H0   27613.96   \n",
       "4 NA       NA       H0   27103.09   \n",
       "5 NA       NA       H0   29244.38   \n",
       "6 NA       NA       H0   29189.27   "
      ]
     },
     "metadata": {},
     "output_type": "display_data"
    },
    {
     "data": {
      "text/html": [
       "<table>\n",
       "<thead><tr><th scope=col>Date</th><th scope=col>LagD2H0</th><th scope=col>LagD2H1</th><th scope=col>LagD2H2</th><th scope=col>LagD2H3</th><th scope=col>LagD2H4</th><th scope=col>LagD2H5</th><th scope=col>LagD2H6</th><th scope=col>LagD2H7</th><th scope=col>LagD2H8</th><th scope=col>...</th><th scope=col>LagD7H16</th><th scope=col>LagD7H17</th><th scope=col>LagD7H18</th><th scope=col>LagD7H19</th><th scope=col>LagD7H20</th><th scope=col>LagD7H21</th><th scope=col>LagD7H22</th><th scope=col>LagD7H23</th><th scope=col>Hour</th><th scope=col>Consumption</th></tr></thead>\n",
       "<tbody>\n",
       "\t<tr><td>2020-11-26</td><td>33520.81  </td><td>31518.27  </td><td>30513.78  </td><td>29844.10  </td><td>29650.85  </td><td>29873.42  </td><td>30934.51  </td><td>32239.30  </td><td>35946.87  </td><td>...       </td><td>40918.91  </td><td>42208.11  </td><td>41673.45  </td><td>40553.66  </td><td>39499.32  </td><td>38429.24  </td><td>37270.44  </td><td>35731.83  </td><td>H23       </td><td>36156.08  </td></tr>\n",
       "\t<tr><td>2020-11-27</td><td>33585.86  </td><td>32175.55  </td><td>31064.86  </td><td>30213.43  </td><td>29958.96  </td><td>30234.26  </td><td>31138.64  </td><td>32838.39  </td><td>36634.41  </td><td>...       </td><td>40976.32  </td><td>41854.37  </td><td>41564.30  </td><td>40221.79  </td><td>38875.45  </td><td>37749.83  </td><td>36786.90  </td><td>35102.41  </td><td>H23       </td><td>36119.57  </td></tr>\n",
       "\t<tr><td>2020-11-28</td><td>33902.71  </td><td>32459.36  </td><td>31023.35  </td><td>30190.73  </td><td>30055.35  </td><td>30335.29  </td><td>31201.79  </td><td>32775.21  </td><td>36882.21  </td><td>...       </td><td>36581.59  </td><td>38630.06  </td><td>39379.15  </td><td>38432.76  </td><td>37293.60  </td><td>36304.68  </td><td>35250.20  </td><td>33817.76  </td><td>H23       </td><td>34500.14  </td></tr>\n",
       "\t<tr><td>2020-11-29</td><td>33896.52  </td><td>31841.72  </td><td>30897.69  </td><td>30191.20  </td><td>29956.10  </td><td>30199.97  </td><td>31015.63  </td><td>32518.79  </td><td>36129.99  </td><td>...       </td><td>32108.31  </td><td>34919.68  </td><td>36647.32  </td><td>35999.47  </td><td>35183.37  </td><td>34230.51  </td><td>33602.91  </td><td>32178.03  </td><td>H23       </td><td>32295.74  </td></tr>\n",
       "\t<tr><td>2020-11-30</td><td>33935.56  </td><td>31919.44  </td><td>30439.27  </td><td>30020.41  </td><td>29825.63  </td><td>29984.86  </td><td>30444.97  </td><td>31159.67  </td><td>33325.74  </td><td>...       </td><td>39435.91  </td><td>41569.99  </td><td>41710.94  </td><td>40297.34  </td><td>38951.67  </td><td>37856.67  </td><td>36983.95  </td><td>35594.03  </td><td>H23       </td><td>35775.04  </td></tr>\n",
       "\t<tr><td>2020-12-01</td><td>32332.68  </td><td>30410.13  </td><td>29119.33  </td><td>28484.61  </td><td>28150.14  </td><td>28065.44  </td><td>28189.16  </td><td>27883.71  </td><td>27219.84  </td><td>...       </td><td>40396.69  </td><td>42486.34  </td><td>42255.24  </td><td>40895.17  </td><td>39240.65  </td><td>38366.41  </td><td>37446.73  </td><td>36186.83  </td><td>H23       </td><td>35725.46  </td></tr>\n",
       "</tbody>\n",
       "</table>\n"
      ],
      "text/latex": [
       "\\begin{tabular}{r|lllllllllllllllllllllllllllllllllllllllllllllllllll}\n",
       " Date & LagD2H0 & LagD2H1 & LagD2H2 & LagD2H3 & LagD2H4 & LagD2H5 & LagD2H6 & LagD2H7 & LagD2H8 & ... & LagD7H16 & LagD7H17 & LagD7H18 & LagD7H19 & LagD7H20 & LagD7H21 & LagD7H22 & LagD7H23 & Hour & Consumption\\\\\n",
       "\\hline\n",
       "\t 2020-11-26 & 33520.81   & 31518.27   & 30513.78   & 29844.10   & 29650.85   & 29873.42   & 30934.51   & 32239.30   & 35946.87   & ...        & 40918.91   & 42208.11   & 41673.45   & 40553.66   & 39499.32   & 38429.24   & 37270.44   & 35731.83   & H23        & 36156.08  \\\\\n",
       "\t 2020-11-27 & 33585.86   & 32175.55   & 31064.86   & 30213.43   & 29958.96   & 30234.26   & 31138.64   & 32838.39   & 36634.41   & ...        & 40976.32   & 41854.37   & 41564.30   & 40221.79   & 38875.45   & 37749.83   & 36786.90   & 35102.41   & H23        & 36119.57  \\\\\n",
       "\t 2020-11-28 & 33902.71   & 32459.36   & 31023.35   & 30190.73   & 30055.35   & 30335.29   & 31201.79   & 32775.21   & 36882.21   & ...        & 36581.59   & 38630.06   & 39379.15   & 38432.76   & 37293.60   & 36304.68   & 35250.20   & 33817.76   & H23        & 34500.14  \\\\\n",
       "\t 2020-11-29 & 33896.52   & 31841.72   & 30897.69   & 30191.20   & 29956.10   & 30199.97   & 31015.63   & 32518.79   & 36129.99   & ...        & 32108.31   & 34919.68   & 36647.32   & 35999.47   & 35183.37   & 34230.51   & 33602.91   & 32178.03   & H23        & 32295.74  \\\\\n",
       "\t 2020-11-30 & 33935.56   & 31919.44   & 30439.27   & 30020.41   & 29825.63   & 29984.86   & 30444.97   & 31159.67   & 33325.74   & ...        & 39435.91   & 41569.99   & 41710.94   & 40297.34   & 38951.67   & 37856.67   & 36983.95   & 35594.03   & H23        & 35775.04  \\\\\n",
       "\t 2020-12-01 & 32332.68   & 30410.13   & 29119.33   & 28484.61   & 28150.14   & 28065.44   & 28189.16   & 27883.71   & 27219.84   & ...        & 40396.69   & 42486.34   & 42255.24   & 40895.17   & 39240.65   & 38366.41   & 37446.73   & 36186.83   & H23        & 35725.46  \\\\\n",
       "\\end{tabular}\n"
      ],
      "text/markdown": [
       "\n",
       "| Date | LagD2H0 | LagD2H1 | LagD2H2 | LagD2H3 | LagD2H4 | LagD2H5 | LagD2H6 | LagD2H7 | LagD2H8 | ... | LagD7H16 | LagD7H17 | LagD7H18 | LagD7H19 | LagD7H20 | LagD7H21 | LagD7H22 | LagD7H23 | Hour | Consumption |\n",
       "|---|---|---|---|---|---|---|---|---|---|---|---|---|---|---|---|---|---|---|---|---|\n",
       "| 2020-11-26 | 33520.81   | 31518.27   | 30513.78   | 29844.10   | 29650.85   | 29873.42   | 30934.51   | 32239.30   | 35946.87   | ...        | 40918.91   | 42208.11   | 41673.45   | 40553.66   | 39499.32   | 38429.24   | 37270.44   | 35731.83   | H23        | 36156.08   |\n",
       "| 2020-11-27 | 33585.86   | 32175.55   | 31064.86   | 30213.43   | 29958.96   | 30234.26   | 31138.64   | 32838.39   | 36634.41   | ...        | 40976.32   | 41854.37   | 41564.30   | 40221.79   | 38875.45   | 37749.83   | 36786.90   | 35102.41   | H23        | 36119.57   |\n",
       "| 2020-11-28 | 33902.71   | 32459.36   | 31023.35   | 30190.73   | 30055.35   | 30335.29   | 31201.79   | 32775.21   | 36882.21   | ...        | 36581.59   | 38630.06   | 39379.15   | 38432.76   | 37293.60   | 36304.68   | 35250.20   | 33817.76   | H23        | 34500.14   |\n",
       "| 2020-11-29 | 33896.52   | 31841.72   | 30897.69   | 30191.20   | 29956.10   | 30199.97   | 31015.63   | 32518.79   | 36129.99   | ...        | 32108.31   | 34919.68   | 36647.32   | 35999.47   | 35183.37   | 34230.51   | 33602.91   | 32178.03   | H23        | 32295.74   |\n",
       "| 2020-11-30 | 33935.56   | 31919.44   | 30439.27   | 30020.41   | 29825.63   | 29984.86   | 30444.97   | 31159.67   | 33325.74   | ...        | 39435.91   | 41569.99   | 41710.94   | 40297.34   | 38951.67   | 37856.67   | 36983.95   | 35594.03   | H23        | 35775.04   |\n",
       "| 2020-12-01 | 32332.68   | 30410.13   | 29119.33   | 28484.61   | 28150.14   | 28065.44   | 28189.16   | 27883.71   | 27219.84   | ...        | 40396.69   | 42486.34   | 42255.24   | 40895.17   | 39240.65   | 38366.41   | 37446.73   | 36186.83   | H23        | 35725.46   |\n",
       "\n"
      ],
      "text/plain": [
       "  Date       LagD2H0  LagD2H1  LagD2H2  LagD2H3  LagD2H4  LagD2H5  LagD2H6 \n",
       "1 2020-11-26 33520.81 31518.27 30513.78 29844.10 29650.85 29873.42 30934.51\n",
       "2 2020-11-27 33585.86 32175.55 31064.86 30213.43 29958.96 30234.26 31138.64\n",
       "3 2020-11-28 33902.71 32459.36 31023.35 30190.73 30055.35 30335.29 31201.79\n",
       "4 2020-11-29 33896.52 31841.72 30897.69 30191.20 29956.10 30199.97 31015.63\n",
       "5 2020-11-30 33935.56 31919.44 30439.27 30020.41 29825.63 29984.86 30444.97\n",
       "6 2020-12-01 32332.68 30410.13 29119.33 28484.61 28150.14 28065.44 28189.16\n",
       "  LagD2H7  LagD2H8  ... LagD7H16 LagD7H17 LagD7H18 LagD7H19 LagD7H20 LagD7H21\n",
       "1 32239.30 35946.87 ... 40918.91 42208.11 41673.45 40553.66 39499.32 38429.24\n",
       "2 32838.39 36634.41 ... 40976.32 41854.37 41564.30 40221.79 38875.45 37749.83\n",
       "3 32775.21 36882.21 ... 36581.59 38630.06 39379.15 38432.76 37293.60 36304.68\n",
       "4 32518.79 36129.99 ... 32108.31 34919.68 36647.32 35999.47 35183.37 34230.51\n",
       "5 31159.67 33325.74 ... 39435.91 41569.99 41710.94 40297.34 38951.67 37856.67\n",
       "6 27883.71 27219.84 ... 40396.69 42486.34 42255.24 40895.17 39240.65 38366.41\n",
       "  LagD7H22 LagD7H23 Hour Consumption\n",
       "1 37270.44 35731.83 H23  36156.08   \n",
       "2 36786.90 35102.41 H23  36119.57   \n",
       "3 35250.20 33817.76 H23  34500.14   \n",
       "4 33602.91 32178.03 H23  32295.74   \n",
       "5 36983.95 35594.03 H23  35775.04   \n",
       "6 37446.73 36186.83 H23  35725.46   "
      ]
     },
     "metadata": {},
     "output_type": "display_data"
    }
   ],
   "source": [
    "head(dfD);tail(dfD)"
   ]
  },
  {
   "cell_type": "markdown",
   "metadata": {},
   "source": [
    "## Finding Lambda Parameters"
   ]
  },
  {
   "cell_type": "code",
   "execution_count": 37,
   "metadata": {},
   "outputs": [
    {
     "name": "stderr",
     "output_type": "stream",
     "text": [
      "Loading required package: glmnet\n",
      "Loading required package: Matrix\n",
      "\n",
      "Attaching package: 'Matrix'\n",
      "\n",
      "The following object is masked from 'package:tidyr':\n",
      "\n",
      "    expand\n",
      "\n",
      "Loading required package: foreach\n",
      "Loaded glmnet 2.0-16\n",
      "\n"
     ]
    }
   ],
   "source": [
    "require(glmnet)"
   ]
  },
  {
   "cell_type": "code",
   "execution_count": 38,
   "metadata": {},
   "outputs": [],
   "source": [
    "dtsplitD <- function(data) {\n",
    "    res <- list()\n",
    "    res[[1]] <- data[Date <  as.Date(\"2020-11-01\", tz = Sys.timezone())]\n",
    "    res[[2]] <- data[Date >= as.Date(\"2020-11-01\", tz = Sys.timezone())]\n",
    "    return(res)\n",
    "}"
   ]
  },
  {
   "cell_type": "code",
   "execution_count": 39,
   "metadata": {},
   "outputs": [],
   "source": [
    "dfD <- data.table(dfD)\n",
    "dfDtrain <- dtsplitD(dfD)[[1]]\n",
    "dfDtrain <- dfDtrain[ complete.cases(dfDtrain)]"
   ]
  },
  {
   "cell_type": "code",
   "execution_count": 40,
   "metadata": {},
   "outputs": [],
   "source": [
    "#Alpha = 1 by default, Hence L1 regression\n",
    "set.seed(7)\n",
    "cvfitd1 <- list()\n",
    "for (h in seq(0,23)){\n",
    "    filter = paste(\"H\",h,sep=\"\")\n",
    "    data = dfDtrain[Hour == (filter)]\n",
    "    x = as.matrix(data[,-c('Consumption','Date','Hour'),with = FALSE])\n",
    "    y = data$Consumption\n",
    "    cvfitd1[[h+1]] <- cv.glmnet(x = x, y= y, family = \"gaussian\", nfolds = 10)\n",
    "}\n"
   ]
  },
  {
   "cell_type": "markdown",
   "metadata": {},
   "source": [
    "### Plot and Summary for H1"
   ]
  },
  {
   "cell_type": "code",
   "execution_count": 41,
   "metadata": {},
   "outputs": [
    {
     "data": {
      "image/png": "[encoded data removed]",
      "text/plain": [
       "plot without title"
      ]
     },
     "metadata": {},
     "output_type": "display_data"
    }
   ],
   "source": [
    "plot(cvfitd1[[2]])"
   ]
  },
  {
   "cell_type": "code",
   "execution_count": 42,
   "metadata": {},
   "outputs": [
    {
     "data": {
      "text/plain": [
       "$lambda\n",
       " [1] 2532.7118582 2307.7127174 2102.7018801 1915.9036405 1745.7000417\n",
       " [6] 1590.6168615 1449.3108436 1320.5580628 1203.2433242 1096.3505037\n",
       "[11]  998.9537467  910.2094491  829.3489504  755.6718755  688.5400688\n",
       "[16]  627.3720669  571.6380616  520.8553118  474.5839614  432.4232304\n",
       "[21]  394.0079424  359.0053628  327.1123158  298.0525593  271.5743914\n",
       "[26]  247.4484710  225.4658308  205.4360679  187.1856938  170.5566327\n",
       "[31]  155.4048515  141.5991128  129.0198379  117.5580711  107.1145361\n",
       "[36]   97.5987759   88.9283697   81.0282184   73.8298948   67.2710505\n",
       "[41]   61.2948758   55.8496079   50.8880827   46.3673257   42.2481803\n",
       "[46]   38.4949684   35.0751815   31.9591990   29.1200319   26.5330885\n",
       "[51]   24.1759621   22.0282362   20.0713084   18.2882287   16.6635529\n",
       "[56]   15.1832088   13.8343743   12.6053667   11.4855406   10.4651969\n",
       "[61]    9.5354976    8.6883903    7.9165376    7.2132543    6.5724486\n",
       "[66]    5.9885704    5.4565623    4.9718164    4.5301339    4.1276893\n",
       "[71]    3.7609967    3.4268802    3.1224456    2.8450561    2.5923092\n",
       "[76]    2.3620156    2.1521806    1.9609868    1.7867782    1.6280457\n",
       "[81]    1.4834146    1.3516322    1.2315569    1.1221488    1.0224602\n",
       "[86]    0.9316276    0.8488644    0.7734536    0.7047421    0.6421348\n",
       "[91]    0.5850893    0.5331116    0.4857514    0.4425986    0.4032794\n",
       "[96]    0.3674531    0.3348096    0.3050660    0.2779648\n",
       "\n",
       "$cvm\n",
       " [1] 8563997.8 7526005.5 6619922.7 5867643.2 5242683.6 4712059.0 4206452.2\n",
       " [8] 3779445.6 3424844.9 3130304.5 2885588.9 2681887.1 2511527.8 2368793.7\n",
       "[15] 2250014.9 2151359.9 2069420.2 2001361.1 1945134.8 1898569.1 1860087.4\n",
       "[22] 1828129.1 1801589.8 1779549.7 1761246.7 1746050.0 1732070.8 1680848.2\n",
       "[29] 1594576.9 1521517.5 1459967.5 1403515.7 1354570.8 1313433.2 1279826.6\n",
       "[36] 1252039.6 1229095.9 1209550.5 1192951.2 1177079.5 1155482.9 1116078.1\n",
       "[43] 1078306.3 1046421.6 1019631.9  995907.6  971626.6  950272.3  929586.8\n",
       "[50]  913056.0  899518.7  887759.1  878922.5  870597.8  864670.5  859516.8\n",
       "[57]  855190.6  850970.6  847565.4  844585.9  840633.1  833492.8  824651.9\n",
       "[64]  815921.5  807985.2  801334.3  795285.0  790250.1  785918.8  782110.0\n",
       "[71]  778622.9  775336.2  772451.7  770011.6  767964.5  766292.2  764861.7\n",
       "[78]  763744.9  762834.4  762215.0  761607.7  760362.8  759382.8  758123.8\n",
       "[85]  757526.1  757038.7  756828.1  756604.2  756412.1  756286.0  756247.9\n",
       "[92]  756158.4  755987.3  755868.5  755812.0  755792.7  755796.8  755840.3\n",
       "[99]  755892.5\n",
       "\n",
       "$cvsd\n",
       " [1] 372621.53 356926.55 322785.90 292992.99 267049.72 245328.37 221691.22\n",
       " [8] 200133.88 181592.54 165595.21 152034.18 140463.71 130702.25 122388.36\n",
       "[15] 115325.68 109381.06 104402.28 100214.55  96705.56  93771.36  91300.24\n",
       "[22]  89255.64  87570.51  86185.01  85048.33  84119.04  83561.74  83832.64\n",
       "[29]  80985.17  78265.88  76065.78  73655.61  71691.74  70373.02  69367.36\n",
       "[36]  68576.01  68033.27  67696.52  67539.08  67186.38  66299.06  66258.86\n",
       "[43]  66559.82  67244.37  67679.77  67844.71  68069.14  67951.47  67634.75\n",
       "[50]  66784.58  66181.10  65403.60  65142.21  65166.53  65073.47  64949.49\n",
       "[57]  64743.06  64465.81  64138.21  63936.33  63898.25  63605.37  62943.24\n",
       "[64]  62017.92  60808.23  59697.14  58675.34  57831.29  57147.50  56644.67\n",
       "[71]  56156.19  55757.61  55408.02  55112.15  54856.28  54652.18  54475.27\n",
       "[78]  54327.84  54179.90  54102.47  54006.61  53785.33  53508.49  53355.52\n",
       "[85]  53185.01  53050.53  52950.39  52887.13  52841.34  52814.36  52791.90\n",
       "[92]  52740.47  52723.76  52668.80  52612.53  52556.19  52495.36  52431.19\n",
       "[99]  52368.16\n",
       "\n",
       "$cvup\n",
       " [1] 8936619.3 7882932.0 6942708.6 6160636.2 5509733.3 4957387.4 4428143.5\n",
       " [8] 3979579.5 3606437.4 3295899.7 3037623.1 2822350.8 2642230.1 2491182.1\n",
       "[15] 2365340.6 2260741.0 2173822.5 2101575.7 2041840.4 1992340.4 1951387.6\n",
       "[22] 1917384.8 1889160.3 1865734.8 1846295.0 1830169.0 1815632.6 1764680.8\n",
       "[29] 1675562.1 1599783.4 1536033.2 1477171.3 1426262.6 1383806.2 1349194.0\n",
       "[36] 1320615.6 1297129.2 1277247.0 1260490.3 1244265.8 1221782.0 1182336.9\n",
       "[43] 1144866.1 1113665.9 1087311.7 1063752.4 1039695.7 1018223.8  997221.5\n",
       "[50]  979840.6  965699.8  953162.7  944064.7  935764.3  929743.9  924466.3\n",
       "[57]  919933.6  915436.4  911703.6  908522.3  904531.3  897098.1  887595.1\n",
       "[64]  877939.4  868793.4  861031.5  853960.4  848081.4  843066.3  838754.6\n",
       "[71]  834779.1  831093.8  827859.8  825123.7  822820.8  820944.4  819337.0\n",
       "[78]  818072.8  817014.3  816317.5  815614.3  814148.1  812891.2  811479.3\n",
       "[85]  810711.1  810089.2  809778.5  809491.3  809253.4  809100.4  809039.8\n",
       "[92]  808898.9  808711.1  808537.3  808424.5  808348.9  808292.1  808271.4\n",
       "[99]  808260.7\n",
       "\n",
       "$cvlo\n",
       " [1] 8191376.2 7169078.9 6297136.9 5574650.3 4975633.9 4466730.6 3984761.0\n",
       " [8] 3579311.7 3243252.3 2964709.3 2733554.8 2541423.4 2380825.6 2246405.4\n",
       "[15] 2134689.2 2041978.9 1965018.0 1901146.6 1848429.2 1804797.7 1768787.1\n",
       "[22] 1738873.5 1714019.3 1693364.7 1676198.4 1661930.9 1648509.1 1597015.6\n",
       "[29] 1513591.7 1443251.7 1383901.7 1329860.1 1282879.1 1243060.2 1210459.3\n",
       "[36] 1183463.6 1161062.7 1141854.0 1125412.2 1109893.1 1089183.9 1049819.2\n",
       "[43] 1011746.4  979177.2  951952.2  928062.9  903557.5  882320.8  861952.0\n",
       "[50]  846271.4  833337.6  822355.5  813780.3  805431.3  799597.0  794567.3\n",
       "[57]  790447.5  786504.7  783427.2  780649.6  776734.8  769887.4  761708.6\n",
       "[64]  753903.5  747177.0  741637.2  736609.7  732418.8  728771.3  725465.3\n",
       "[71]  722466.7  719578.5  717043.7  714899.4  713108.2  711640.0  710386.5\n",
       "[78]  709417.1  708654.5  708112.6  707601.1  706577.5  705874.3  704768.3\n",
       "[85]  704341.0  703988.2  703877.8  703717.1  703570.7  703471.7  703456.0\n",
       "[92]  703418.0  703263.5  703199.7  703199.4  703236.5  703301.4  703409.1\n",
       "[99]  703524.3\n",
       "\n",
       "$nzero\n",
       " s0  s1  s2  s3  s4  s5  s6  s7  s8  s9 s10 s11 s12 s13 s14 s15 s16 s17 s18 s19 \n",
       "  0   1   1   1   1   2   2   2   2   2   3   3   3   3   3   3   2   2   2   2 \n",
       "s20 s21 s22 s23 s24 s25 s26 s27 s28 s29 s30 s31 s32 s33 s34 s35 s36 s37 s38 s39 \n",
       "  2   2   2   2   2   2   2   3   3   4   5   5   5   5   5   5   6   7   6   7 \n",
       "s40 s41 s42 s43 s44 s45 s46 s47 s48 s49 s50 s51 s52 s53 s54 s55 s56 s57 s58 s59 \n",
       "  9   9  11  11  11  13  14  13  12  12  13  13  13  13  14  15  16  17  17  18 \n",
       "s60 s61 s62 s63 s64 s65 s66 s67 s68 s69 s70 s71 s72 s73 s74 s75 s76 s77 s78 s79 \n",
       " 19  20  20  20  21  21  20  20  19  20  20  20  21  20  19  20  21  22  23  24 \n",
       "s80 s81 s82 s83 s84 s85 s86 s87 s88 s89 s90 s91 s92 s93 s94 s95 s96 s97 s98 \n",
       " 24  27  27  27  26  26  29  32  35  35  36  37  37  37  39  40  41  42  42 \n",
       "\n",
       "$name\n",
       "                 mse \n",
       "\"Mean-Squared Error\" \n",
       "\n",
       "$glmnet.fit\n",
       "\n",
       "Call:  glmnet(x = x, y = y, family = \"gaussian\") \n",
       "\n",
       "       Df   %Dev    Lambda\n",
       "  [1,]  0 0.0000 2533.0000\n",
       "  [2,]  1 0.1267 2308.0000\n",
       "  [3,]  1 0.2319 2103.0000\n",
       "  [4,]  1 0.3192 1916.0000\n",
       "  [5,]  1 0.3917 1746.0000\n",
       "  [6,]  2 0.4532 1591.0000\n",
       "  [7,]  2 0.5128 1449.0000\n",
       "  [8,]  2 0.5623 1321.0000\n",
       "  [9,]  2 0.6035 1203.0000\n",
       " [10,]  2 0.6376 1096.0000\n",
       " [11,]  3 0.6659  999.0000\n",
       " [12,]  3 0.6896  910.2000\n",
       " [13,]  3 0.7096  829.3000\n",
       " [14,]  3 0.7261  755.7000\n",
       " [15,]  3 0.7398  688.5000\n",
       " [16,]  3 0.7512  627.4000\n",
       " [17,]  2 0.7607  571.6000\n",
       " [18,]  2 0.7685  520.9000\n",
       " [19,]  2 0.7749  474.6000\n",
       " [20,]  2 0.7803  432.4000\n",
       " [21,]  2 0.7848  394.0000\n",
       " [22,]  2 0.7885  359.0000\n",
       " [23,]  2 0.7915  327.1000\n",
       " [24,]  2 0.7941  298.1000\n",
       " [25,]  2 0.7962  271.6000\n",
       " [26,]  2 0.7980  247.4000\n",
       " [27,]  2 0.7994  225.5000\n",
       " [28,]  3 0.8055  205.4000\n",
       " [29,]  3 0.8157  187.2000\n",
       " [30,]  4 0.8242  170.6000\n",
       " [31,]  5 0.8311  155.4000\n",
       " [32,]  5 0.8380  141.6000\n",
       " [33,]  5 0.8438  129.0000\n",
       " [34,]  5 0.8486  117.6000\n",
       " [35,]  5 0.8525  107.1000\n",
       " [36,]  5 0.8557   97.6000\n",
       " [37,]  6 0.8584   88.9300\n",
       " [38,]  7 0.8607   81.0300\n",
       " [39,]  6 0.8627   73.8300\n",
       " [40,]  7 0.8646   67.2700\n",
       " [41,]  9 0.8670   61.2900\n",
       " [42,]  9 0.8721   55.8500\n",
       " [43,] 11 0.8764   50.8900\n",
       " [44,] 11 0.8804   46.3700\n",
       " [45,] 11 0.8835   42.2500\n",
       " [46,] 13 0.8862   38.4900\n",
       " [47,] 14 0.8890   35.0800\n",
       " [48,] 13 0.8919   31.9600\n",
       " [49,] 12 0.8943   29.1200\n",
       " [50,] 12 0.8960   26.5300\n",
       " [51,] 13 0.8974   24.1800\n",
       " [52,] 13 0.8986   22.0300\n",
       " [53,] 13 0.8996   20.0700\n",
       " [54,] 13 0.9006   18.2900\n",
       " [55,] 14 0.9014   16.6600\n",
       " [56,] 15 0.9021   15.1800\n",
       " [57,] 16 0.9026   13.8300\n",
       " [58,] 17 0.9032   12.6100\n",
       " [59,] 17 0.9036   11.4900\n",
       " [60,] 18 0.9041   10.4700\n",
       " [61,] 19 0.9047    9.5350\n",
       " [62,] 20 0.9056    8.6880\n",
       " [63,] 20 0.9068    7.9170\n",
       " [64,] 20 0.9079    7.2130\n",
       " [65,] 21 0.9087    6.5720\n",
       " [66,] 21 0.9094    5.9890\n",
       " [67,] 20 0.9102    5.4570\n",
       " [68,] 20 0.9108    4.9720\n",
       " [69,] 19 0.9112    4.5300\n",
       " [70,] 20 0.9118    4.1280\n",
       " [71,] 20 0.9122    3.7610\n",
       " [72,] 20 0.9126    3.4270\n",
       " [73,] 21 0.9129    3.1220\n",
       " [74,] 20 0.9132    2.8450\n",
       " [75,] 19 0.9135    2.5920\n",
       " [76,] 20 0.9137    2.3620\n",
       " [77,] 21 0.9138    2.1520\n",
       " [78,] 22 0.9140    1.9610\n",
       " [79,] 23 0.9141    1.7870\n",
       " [80,] 24 0.9142    1.6280\n",
       " [81,] 24 0.9143    1.4830\n",
       " [82,] 27 0.9145    1.3520\n",
       " [83,] 27 0.9148    1.2320\n",
       " [84,] 27 0.9151    1.1220\n",
       " [85,] 26 0.9152    1.0220\n",
       " [86,] 26 0.9154    0.9316\n",
       " [87,] 29 0.9155    0.8489\n",
       " [88,] 32 0.9156    0.7735\n",
       " [89,] 35 0.9158    0.7047\n",
       " [90,] 35 0.9159    0.6421\n",
       " [91,] 36 0.9160    0.5851\n",
       " [92,] 37 0.9161    0.5331\n",
       " [93,] 37 0.9162    0.4858\n",
       " [94,] 37 0.9162    0.4426\n",
       " [95,] 39 0.9163    0.4033\n",
       " [96,] 40 0.9164    0.3675\n",
       " [97,] 41 0.9164    0.3348\n",
       " [98,] 42 0.9165    0.3051\n",
       " [99,] 42 0.9165    0.2780\n",
       "[100,] 45 0.9166    0.2533\n",
       "\n",
       "$lambda.min\n",
       "[1] 0.3674531\n",
       "\n",
       "$lambda.1se\n",
       "[1] 6.572449\n",
       "\n",
       "attr(,\"class\")\n",
       "[1] \"cv.glmnet\""
      ]
     },
     "metadata": {},
     "output_type": "display_data"
    }
   ],
   "source": [
    "cvfitd1[[2]]"
   ]
  },
  {
   "cell_type": "code",
   "execution_count": 43,
   "metadata": {},
   "outputs": [
    {
     "data": {
      "text/html": [
       "0.367453128180376"
      ],
      "text/latex": [
       "0.367453128180376"
      ],
      "text/markdown": [
       "0.367453128180376"
      ],
      "text/plain": [
       "[1] 0.3674531"
      ]
     },
     "metadata": {},
     "output_type": "display_data"
    }
   ],
   "source": [
    "cvfitd1[[2]]$lambda.min"
   ]
  },
  {
   "cell_type": "code",
   "execution_count": 44,
   "metadata": {},
   "outputs": [
    {
     "data": {
      "text/html": [
       "<ol class=list-inline>\n",
       "\t<li>2.45456899947179</li>\n",
       "\t<li>0.367453128180376</li>\n",
       "\t<li>0.382015385918452</li>\n",
       "\t<li>0.531464381429131</li>\n",
       "\t<li>1.42844141844527</li>\n",
       "\t<li>0.482061669203653</li>\n",
       "\t<li>0.758449854402342</li>\n",
       "\t<li>1.3419620981454</li>\n",
       "\t<li>0.587253023821708</li>\n",
       "\t<li>0.944043636413825</li>\n",
       "\t<li>2.54951831946299</li>\n",
       "\t<li>1.30750795287318</li>\n",
       "\t<li>0.904809321325709</li>\n",
       "\t<li>1.8967145852703</li>\n",
       "\t<li>2.20863831989061</li>\n",
       "\t<li>0.37825346169957</li>\n",
       "\t<li>0.376756345149532</li>\n",
       "\t<li>0.363684030476909</li>\n",
       "\t<li>0.32193628674671</li>\n",
       "\t<li>0.28140817068557</li>\n",
       "\t<li>0.285578170116633</li>\n",
       "\t<li>0.370167648341068</li>\n",
       "\t<li>0.505341202435323</li>\n",
       "\t<li>0.376611036013526</li>\n",
       "</ol>\n"
      ],
      "text/latex": [
       "\\begin{enumerate*}\n",
       "\\item 2.45456899947179\n",
       "\\item 0.367453128180376\n",
       "\\item 0.382015385918452\n",
       "\\item 0.531464381429131\n",
       "\\item 1.42844141844527\n",
       "\\item 0.482061669203653\n",
       "\\item 0.758449854402342\n",
       "\\item 1.3419620981454\n",
       "\\item 0.587253023821708\n",
       "\\item 0.944043636413825\n",
       "\\item 2.54951831946299\n",
       "\\item 1.30750795287318\n",
       "\\item 0.904809321325709\n",
       "\\item 1.8967145852703\n",
       "\\item 2.20863831989061\n",
       "\\item 0.37825346169957\n",
       "\\item 0.376756345149532\n",
       "\\item 0.363684030476909\n",
       "\\item 0.32193628674671\n",
       "\\item 0.28140817068557\n",
       "\\item 0.285578170116633\n",
       "\\item 0.370167648341068\n",
       "\\item 0.505341202435323\n",
       "\\item 0.376611036013526\n",
       "\\end{enumerate*}\n"
      ],
      "text/markdown": [
       "1. 2.45456899947179\n",
       "2. 0.367453128180376\n",
       "3. 0.382015385918452\n",
       "4. 0.531464381429131\n",
       "5. 1.42844141844527\n",
       "6. 0.482061669203653\n",
       "7. 0.758449854402342\n",
       "8. 1.3419620981454\n",
       "9. 0.587253023821708\n",
       "10. 0.944043636413825\n",
       "11. 2.54951831946299\n",
       "12. 1.30750795287318\n",
       "13. 0.904809321325709\n",
       "14. 1.8967145852703\n",
       "15. 2.20863831989061\n",
       "16. 0.37825346169957\n",
       "17. 0.376756345149532\n",
       "18. 0.363684030476909\n",
       "19. 0.32193628674671\n",
       "20. 0.28140817068557\n",
       "21. 0.285578170116633\n",
       "22. 0.370167648341068\n",
       "23. 0.505341202435323\n",
       "24. 0.376611036013526\n",
       "\n",
       "\n"
      ],
      "text/plain": [
       " [1] 2.4545690 0.3674531 0.3820154 0.5314644 1.4284414 0.4820617 0.7584499\n",
       " [8] 1.3419621 0.5872530 0.9440436 2.5495183 1.3075080 0.9048093 1.8967146\n",
       "[15] 2.2086383 0.3782535 0.3767563 0.3636840 0.3219363 0.2814082 0.2855782\n",
       "[22] 0.3701676 0.5053412 0.3766110"
      ]
     },
     "metadata": {},
     "output_type": "display_data"
    }
   ],
   "source": [
    "lambdas <- numeric()\n",
    "for (h in seq(0,23)){\n",
    "    lambdas <- c(lambdas,cvfitd1[[h+1]]$lambda.min)\n",
    "}\n",
    "lambdas"
   ]
  },
  {
   "cell_type": "markdown",
   "metadata": {},
   "source": [
    "## Predicting Values"
   ]
  },
  {
   "cell_type": "code",
   "execution_count": 45,
   "metadata": {},
   "outputs": [],
   "source": [
    "dfDtest <- dtsplitD(dfD)[[2]]\n",
    "dfDtest <- dfDtest[complete.cases(dfDtest)]"
   ]
  },
  {
   "cell_type": "code",
   "execution_count": 46,
   "metadata": {},
   "outputs": [],
   "source": [
    "md1 <- list()\n",
    "pd1 <- list()\n",
    "MAPEd <- list()\n",
    "for (h in seq(0,23)){\n",
    "    filter = paste(\"H\",h,sep=\"\")\n",
    "    testdata = dfDtest[Hour == (filter)]\n",
    "    x = as.matrix(testdata[,-c('Consumption','Date','Hour'),with = FALSE])\n",
    "    pd1[[h+1]] <- predict(cvfitd1[[h+1]], x, s = \"lambda.min\")\n",
    "    MAPEd[[h+1]] = 100*abs(pd1[[h+1]]/testdata$Consumption-1)\n",
    "\n",
    "}"
   ]
  },
  {
   "cell_type": "code",
   "execution_count": 47,
   "metadata": {},
   "outputs": [],
   "source": [
    "MAPEd <- data.frame(MAPEd)\n",
    "colnames(MAPEd) <- paste(\"MAPE_\",unique(dfDtest$Hour),sep=\"\")"
   ]
  },
  {
   "cell_type": "markdown",
   "metadata": {},
   "source": [
    "## Performances of All 24 Models"
   ]
  },
  {
   "cell_type": "code",
   "execution_count": 48,
   "metadata": {
    "scrolled": false
   },
   "outputs": [
    {
     "data": {
      "text/plain": [
       "    MAPE_H0          MAPE_H1           MAPE_H2           MAPE_H3       \n",
       " Min.   :0.0919   Min.   :0.05076   Min.   :0.01505   Min.   :0.04709  \n",
       " 1st Qu.:0.4674   1st Qu.:0.46477   1st Qu.:0.42184   1st Qu.:0.46337  \n",
       " Median :1.0209   Median :1.28915   Median :1.21914   Median :1.34107  \n",
       " Mean   :1.3997   Mean   :1.54018   Mean   :1.49359   Mean   :1.38427  \n",
       " 3rd Qu.:2.1428   3rd Qu.:2.37590   3rd Qu.:2.17982   3rd Qu.:1.82496  \n",
       " Max.   :4.2358   Max.   :3.92005   Max.   :6.18140   Max.   :4.14850  \n",
       "    MAPE_H4           MAPE_H5          MAPE_H6          MAPE_H7       \n",
       " Min.   :0.02064   Min.   :0.1368   Min.   :0.1638   Min.   :0.09797  \n",
       " 1st Qu.:0.68313   1st Qu.:0.7835   1st Qu.:0.7326   1st Qu.:0.57275  \n",
       " Median :1.26762   Median :1.3091   Median :1.5065   Median :1.54268  \n",
       " Mean   :1.38887   Mean   :1.4245   Mean   :1.6704   Mean   :1.81303  \n",
       " 3rd Qu.:1.83431   3rd Qu.:1.7315   3rd Qu.:2.3501   3rd Qu.:2.23345  \n",
       " Max.   :3.81530   Max.   :4.3105   Max.   :5.0678   Max.   :5.88255  \n",
       "    MAPE_H8           MAPE_H9           MAPE_H10          MAPE_H11      \n",
       " Min.   : 0.2802   Min.   : 0.4547   Min.   : 0.6092   Min.   : 0.8163  \n",
       " 1st Qu.: 0.9505   1st Qu.: 1.5083   1st Qu.: 1.8611   1st Qu.: 1.8752  \n",
       " Median : 1.9658   Median : 2.4139   Median : 3.1448   Median : 3.7128  \n",
       " Mean   : 2.5944   Mean   : 3.6279   Mean   : 4.1695   Mean   : 4.3964  \n",
       " 3rd Qu.: 2.8702   3rd Qu.: 4.3837   3rd Qu.: 5.2688   3rd Qu.: 5.5823  \n",
       " Max.   :10.2280   Max.   :11.9370   Max.   :12.9153   Max.   :12.6258  \n",
       "    MAPE_H12          MAPE_H13          MAPE_H14         MAPE_H15      \n",
       " Min.   : 0.1143   Min.   : 0.2836   Min.   : 0.122   Min.   : 0.1198  \n",
       " 1st Qu.: 1.0896   1st Qu.: 1.1297   1st Qu.: 1.368   1st Qu.: 1.0904  \n",
       " Median : 4.2097   Median : 3.8876   Median : 3.328   Median : 3.5118  \n",
       " Mean   : 4.5953   Mean   : 4.4502   Mean   : 4.264   Mean   : 3.7703  \n",
       " 3rd Qu.: 6.4794   3rd Qu.: 6.3533   3rd Qu.: 6.264   3rd Qu.: 5.2952  \n",
       " Max.   :12.5730   Max.   :12.0528   Max.   :11.544   Max.   :12.2244  \n",
       "    MAPE_H16           MAPE_H17           MAPE_H18          MAPE_H19      \n",
       " Min.   : 0.02365   Min.   :0.008673   Min.   :0.01745   Min.   :0.08511  \n",
       " 1st Qu.: 1.19946   1st Qu.:0.766252   1st Qu.:0.55440   1st Qu.:0.34524  \n",
       " Median : 2.22964   Median :1.264984   Median :1.38663   Median :1.20279  \n",
       " Mean   : 2.86382   Mean   :2.031532   Mean   :1.63993   Mean   :1.57072  \n",
       " 3rd Qu.: 3.49997   3rd Qu.:2.230917   3rd Qu.:1.91470   3rd Qu.:1.95420  \n",
       " Max.   :11.10503   Max.   :9.434430   Max.   :8.15667   Max.   :7.44979  \n",
       "    MAPE_H20          MAPE_H21         MAPE_H22           MAPE_H23      \n",
       " Min.   :0.02906   Min.   :0.1208   Min.   :0.001939   Min.   :0.06238  \n",
       " 1st Qu.:0.57098   1st Qu.:0.5790   1st Qu.:0.682561   1st Qu.:0.87915  \n",
       " Median :1.18584   Median :1.4577   Median :1.372343   Median :1.47498  \n",
       " Mean   :1.67538   Mean   :1.6967   Mean   :1.581639   Mean   :1.81590  \n",
       " 3rd Qu.:2.11762   3rd Qu.:2.2548   3rd Qu.:2.128359   3rd Qu.:2.23867  \n",
       " Max.   :7.77865   Max.   :7.7047   Max.   :7.314711   Max.   :7.55264  "
      ]
     },
     "metadata": {},
     "output_type": "display_data"
    }
   ],
   "source": [
    "summary(MAPEd)"
   ]
  },
  {
   "cell_type": "markdown",
   "metadata": {},
   "source": [
    "We see a similar pattern among error statistics of seperate models of this approach to the one in Part c. All mean and median values of **H0-H7** interval are smaller than **2**. From **H8** to **H15** they are mostly between **3** and **4**. From **H16** to the end, we have again better results which are mostly smaller than **0** again.  \n",
    "Outcomes of these models also indicate that they are more robust. We can promote this idea looking at differences between mean and median values and maximum error percentages. All maximum error percentages yield values smaller than **13%** most of them being under **10%**. "
   ]
  },
  {
   "cell_type": "markdown",
   "metadata": {},
   "source": [
    "## MAPE's of All Approachs"
   ]
  },
  {
   "cell_type": "code",
   "execution_count": 49,
   "metadata": {},
   "outputs": [
    {
     "name": "stderr",
     "output_type": "stream",
     "text": [
      "No id variables; using all as measure variables\n"
     ]
    }
   ],
   "source": [
    "MAPEdAll <- reshape2::melt(MAPEd)[\"value\"]\n",
    "colnames(MAPEdAll)[1] <- \"MAPEdAll\" "
   ]
  },
  {
   "cell_type": "code",
   "execution_count": 50,
   "metadata": {},
   "outputs": [
    {
     "data": {
      "text/plain": [
       "     MAPE48            MAPE168              MAPEb              MAPEcAll       \n",
       " Min.   : 0.00955   Min.   : 0.008521   Min.   : 0.000671   Min.   : 0.06864  \n",
       " 1st Qu.: 1.64348   1st Qu.: 1.335853   1st Qu.: 1.824296   1st Qu.: 2.17941  \n",
       " Median : 5.72972   Median : 2.514032   Median : 3.310063   Median : 3.72969  \n",
       " Mean   : 8.06031   Mean   : 3.449188   Mean   : 4.228027   Mean   : 4.35771  \n",
       " 3rd Qu.:10.10699   3rd Qu.: 4.548818   3rd Qu.: 5.706493   3rd Qu.: 5.91587  \n",
       " Max.   :43.77075   Max.   :19.565225   Max.   :16.605386   Max.   :16.57037  \n",
       "    MAPEdAll        \n",
       " Min.   : 0.001939  \n",
       " 1st Qu.: 0.765615  \n",
       " Median : 1.627420  \n",
       " Mean   : 2.452410  \n",
       " 3rd Qu.: 3.160086  \n",
       " Max.   :12.915315  "
      ]
     },
     "metadata": {},
     "output_type": "display_data"
    }
   ],
   "source": [
    "summary(cbind(pAtest[,c(\"MAPE48\",\"MAPE168\")],MAPEb,MAPEcAll,MAPEdAll))"
   ]
  },
  {
   "cell_type": "markdown",
   "metadata": {},
   "source": [
    "Overall performance of Part d approach also seem to be much better compared to older models. Mean and median values are **1.63** and **2.45** respectively which are significantly smaller than closest values which are **2.51** and **3.45**. All error metrics of this approach is also far better than the other ones except minimum error percentage. "
   ]
  },
  {
   "cell_type": "markdown",
   "metadata": {},
   "source": [
    "# Part e"
   ]
  },
  {
   "cell_type": "code",
   "execution_count": 51,
   "metadata": {},
   "outputs": [],
   "source": [
    "# install.packages(\"CVXR\")\n",
    "# .libPaths()"
   ]
  },
  {
   "cell_type": "code",
   "execution_count": 52,
   "metadata": {},
   "outputs": [
    {
     "name": "stderr",
     "output_type": "stream",
     "text": [
      "Warning message:\n",
      "\"package 'CVXR' was built under R version 3.6.3\"\n",
      "Attaching package: 'CVXR'\n",
      "\n",
      "The following object is masked from 'package:tseries':\n",
      "\n",
      "    value\n",
      "\n",
      "The following object is masked from 'package:stats':\n",
      "\n",
      "    power\n",
      "\n"
     ]
    }
   ],
   "source": [
    "require(\"CVXR\",quietly=TRUE)"
   ]
  },
  {
   "cell_type": "code",
   "execution_count": 53,
   "metadata": {},
   "outputs": [],
   "source": [
    "kfoldsplit <- function(data,k,order){\n",
    "    order <- (order-1) %% k + 1\n",
    "    n <- dim(data)[1]\n",
    "    size <- ceiling(n/k)\n",
    "    idx <- ((order-1)*size + 1):(min(order*size,n))\n",
    "    \n",
    "    train <- data[-idx]\n",
    "    valid <- data[idx]\n",
    "    res <- list()\n",
    "    res[[1]] <- train\n",
    "    res[[2]] <- valid\n",
    "    return(res)\n",
    "}"
   ]
  },
  {
   "cell_type": "code",
   "execution_count": 79,
   "metadata": {},
   "outputs": [],
   "source": [
    "fusedloss <- function(X,y,beta,lambda1,lambda2){\n",
    "    y = matrix(y,ncol = 1)\n",
    "    X = matrix(X,ncol = dim(X)[2])\n",
    "    loss = 0\n",
    "    for (i in 1:dim(x)[1] ){\n",
    "        yone = as.matrix(y[i],ncol = 1)\n",
    "        xone = as.matrix(X[i,],nrow = 1)\n",
    "        loss = loss + sum( (yone- t(xone) %*% beta)^2 )\n",
    "    }\n",
    "    loss = loss \n",
    "    lambda2 * sum( abs(beta) ) +\n",
    "    lambda1 * sum( abs( (beta[ 3:25]-beta[ 2:24]) ) ) +\n",
    "    lambda1 * sum( abs( (beta[27:49]-beta[26:48]) ) )\n",
    "    return(loss)\n",
    "}"
   ]
  },
  {
   "cell_type": "code",
   "execution_count": 80,
   "metadata": {},
   "outputs": [],
   "source": [
    "kfoldloss <- function(data,k,lambda1,lambda2){\n",
    "    loss = 0\n",
    "    for(i in 1:k){\n",
    "        train = as.data.table(kfoldsplit(data,k,i)[[1]])\n",
    "        valid = as.data.table(kfoldsplit(data,k,i)[[2]])\n",
    "        Xtr = train[,-c('Consumption','Date','Hour'),with = FALSE]\n",
    "        Xtr = as.matrix(cbind(1,Xtr))\n",
    "        Xtr = matrix(Xtr,ncol = dim(Xtr)[2])\n",
    "        ytr = train$Consumption\n",
    "        Xvalid = valid[,-c('Consumption','Date','Hour'),with = FALSE]\n",
    "        Xvalid = as.matrix(cbind(1,Xvalid))\n",
    "        Xvalid = matrix(Xvalid,ncol = dim(Xvalid)[2])\n",
    "        yvalid = valid$Consumption\n",
    "        \n",
    "        beta <- Variable(49)\n",
    "        obj <- Minimize(fusedloss(Xtr,ytr,beta,lambda1,lambda2))\n",
    "        problem <- Problem(obj)\n",
    "        sln <- solve(problem)\n",
    "        betahat <- sln$getValue(beta)\n",
    "        validloss =  sum( (yvalid - Xvalid %*% betahat)^2 )\n",
    "        loss = loss + validloss\n",
    "    }\n",
    "    return(loss/k)\n",
    "}"
   ]
  },
  {
   "cell_type": "code",
   "execution_count": 73,
   "metadata": {},
   "outputs": [
    {
     "data": {
      "text/html": [
       "2241197821.08531"
      ],
      "text/latex": [
       "2241197821.08531"
      ],
      "text/markdown": [
       "2241197821.08531"
      ],
      "text/plain": [
       "[1] 2241197821"
      ]
     },
     "metadata": {},
     "output_type": "display_data"
    }
   ],
   "source": [
    "kfoldloss(dfDtrain[Hour == \"H4\"],10,5,5)"
   ]
  },
  {
   "cell_type": "code",
   "execution_count": null,
   "metadata": {
    "scrolled": true
   },
   "outputs": [],
   "source": [
    "# Cannot optimize due to convexity limitations\n",
    "sq <- seq(0,1,0.1)\n",
    "res <- list()\n",
    "for (h in seq(0,23)){\n",
    "    dataf <- data.frame()\n",
    "    for (l1 in sq){\n",
    "        for (l2 in sq){\n",
    "            filter = paste(\"H\",h,sep=\"\")\n",
    "            data = dfDtrain[Hour == (filter)]\n",
    "            l1 <- Variable(1)\n",
    "            l2 <- Variable(1)\n",
    "            dataf[paste(l1),paste(l2)] = kfoldloss(data,10,l1,l2)\n",
    "        }\n",
    "    }\n",
    "    res[[h+1]] <- dataf\n",
    "}"
   ]
  },
  {
   "cell_type": "code",
   "execution_count": 68,
   "metadata": {},
   "outputs": [
    {
     "data": {
      "text/plain": [
       "       V1          \n",
       " Min.   : 0.07069  \n",
       " 1st Qu.: 4.00927  \n",
       " Median : 9.03111  \n",
       " Mean   :12.66948  \n",
       " 3rd Qu.:21.89846  \n",
       " Max.   :41.39439  "
      ]
     },
     "metadata": {},
     "output_type": "display_data"
    }
   ],
   "source": [
    "Xtest = dfDtest[,-c('Consumption','Date','Hour'),with = FALSE]\n",
    "Xtest = as.matrix(cbind(1,Xtest))\n",
    "Xtest = matrix(Xtest,ncol = dim(Xtest)[2])\n",
    "ytest = dfDtest$Consumption\n",
    "ytest = as.matrix(ytest,ncol=1)\n",
    "MAPEe = 100*abs((Xtest %*% betahat)/ytest -1)\n",
    "summary(MAPEe)"
   ]
  },
  {
   "cell_type": "markdown",
   "metadata": {},
   "source": [
    "# Part f"
   ]
  },
  {
   "cell_type": "code",
   "execution_count": 202,
   "metadata": {},
   "outputs": [],
   "source": [
    "data = cbind(pAtest[,c(\"MAPE48\",\"MAPE168\")],MAPEb,MAPEcAll,MAPEdAll)"
   ]
  },
  {
   "cell_type": "code",
   "execution_count": 207,
   "metadata": {
    "scrolled": false
   },
   "outputs": [
    {
     "data": {
      "image/png": "[encoded data removed]",
      "text/plain": [
       "plot without title"
      ]
     },
     "metadata": {},
     "output_type": "display_data"
    }
   ],
   "source": [
    "boxplot(data)"
   ]
  },
  {
   "cell_type": "markdown",
   "metadata": {},
   "source": [
    "First, dispersion of naïve approaches are higher than other approaches as expected. However, MAPE of **Lag168** still looks competitive compared to other models and it even came out to be smaller than linear models of **Part b** and **Part c**. Considering **Lag168** as a baseline model, **Part d** model is the only satisfactory model we have. The dispersion of **Part d** also looks better than all other models. We can group approaches as **Part d** being the best; **Part c**, **Part b** and **Lag168** being in the middle ground and **Lag 48** being the worst."
   ]
  }
 ],
 "metadata": {
  "kernelspec": {
   "display_name": "R",
   "language": "R",
   "name": "ir"
  },
  "language_info": {
   "codemirror_mode": "r",
   "file_extension": ".r",
   "mimetype": "text/x-r-source",
   "name": "R",
   "pygments_lexer": "r",
   "version": "3.6.1"
  }
 },
 "nbformat": 4,
 "nbformat_minor": 4
}
