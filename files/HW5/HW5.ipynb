{
 "cells": [
  {
   "cell_type": "markdown",
   "metadata": {},
   "source": [
    "# Homework 5\n",
    "<span style=\"font-size:1.25em\"> Emre Kara  </span>  \n",
    "<span style=\"font-size:1em\"> 12.12.2020 </span>"
   ]
  },
  {
   "cell_type": "markdown",
   "metadata": {
    "heading_collapsed": true
   },
   "source": [
    "# Question 1"
   ]
  },
  {
   "cell_type": "markdown",
   "metadata": {
    "hidden": true
   },
   "source": [
    "## Data Load and Preparation"
   ]
  },
  {
   "cell_type": "code",
   "execution_count": 1,
   "metadata": {
    "hidden": true
   },
   "outputs": [
    {
     "name": "stderr",
     "output_type": "stream",
     "text": [
      "Warning message:\n",
      "\"package 'dplyr' was built under R version 3.6.3\"\n",
      "Attaching package: 'dplyr'\n",
      "\n",
      "The following objects are masked from 'package:stats':\n",
      "\n",
      "    filter, lag\n",
      "\n",
      "The following objects are masked from 'package:base':\n",
      "\n",
      "    intersect, setdiff, setequal, union\n",
      "\n",
      "\n",
      "Attaching package: 'data.table'\n",
      "\n",
      "The following objects are masked from 'package:dplyr':\n",
      "\n",
      "    between, first, last\n",
      "\n",
      "Warning message:\n",
      "\"package 'glue' was built under R version 3.6.3\"\n",
      "Attaching package: 'glue'\n",
      "\n",
      "The following object is masked from 'package:dplyr':\n",
      "\n",
      "    collapse\n",
      "\n",
      "Warning message:\n",
      "\"package 'ggplot2' was built under R version 3.6.3\"Warning message:\n",
      "\"package 'gridExtra' was built under R version 3.6.3\"\n",
      "Attaching package: 'gridExtra'\n",
      "\n",
      "The following object is masked from 'package:dplyr':\n",
      "\n",
      "    combine\n",
      "\n",
      "Warning message:\n",
      "\"package 'tidyr' was built under R version 3.6.3\""
     ]
    }
   ],
   "source": [
    "#Libraries\n",
    "require(dplyr, quietly = TRUE)\n",
    "require(data.table, quietly = TRUE)\n",
    "require(glue, quietly = TRUE)\n",
    "require(ggplot2, quietly = TRUE)\n",
    "require(scatterplot3d, quietly = TRUE)\n",
    "require(gridExtra, quietly = TRUE)\n",
    "require(tidyr, quietly = TRUE)"
   ]
  },
  {
   "cell_type": "code",
   "execution_count": 15,
   "metadata": {
    "hidden": true
   },
   "outputs": [],
   "source": [
    "#Dataload\n",
    "axes <- c(\"X\",\"Y\",\"Z\")\n",
    "df <- list(); dftest <- list()\n",
    "\n",
    "for (i in axes){\n",
    "    df[[length(df) + 1]] <- fread(glue(\"Data/Train/uWaveGestureLibrary_{i}_TRAIN\"))\n",
    "    dftest[[length(dftest) + 1]] <- fread(glue(\"Data/Test/uWaveGestureLibrary_{i}_TEST\"))\n",
    "    \n",
    "}"
   ]
  },
  {
   "cell_type": "code",
   "execution_count": 16,
   "metadata": {
    "hidden": true
   },
   "outputs": [],
   "source": [
    "for (i in 1:3){\n",
    "    ax = axes[i]\n",
    "\n",
    "    #Train Data Preparation\n",
    "    \n",
    "    df[[i]][,\"Observation\"] = 1:dim(df[[i]])[1]\n",
    "    setcolorder(df[[i]], c(length(df[[i]]),1,2:(length(df[[i]])-1)))\n",
    "    #New Colnames\n",
    "    newcolnames <- c(\"Observation\",\"Class\",1:(length(df[[1]])-2))\n",
    "    newcolnames <- c(\"Observation\",\"Class\",paste(glue(\"{ax}\"),\"_t\",newcolnames[3:length(newcolnames)],sep=\"\")) \n",
    "    colnames(df[[i]]) = newcolnames\n",
    "    \n",
    "    #Test Data Preparation\n",
    "    \n",
    "    dftest[[i]][,\"Observation\"] = 1:dim(dftest[[i]])[1]\n",
    "    setcolorder(dftest[[i]], c(length(dftest[[i]]),1,2:(length(dftest[[i]])-1)))\n",
    "    #New Colnames\n",
    "    newcolnames <- c(\"Observation\",\"Class\",1:(length(dftest[[1]])-2))\n",
    "    newcolnames <- c(\"Observation\",\"Class\",paste(glue(\"{ax}\"),\"_t\",newcolnames[3:length(newcolnames)],sep=\"\"))\n",
    "    colnames(dftest[[i]]) = newcolnames\n",
    "}\n"
   ]
  },
  {
   "cell_type": "code",
   "execution_count": 17,
   "metadata": {
    "hidden": true
   },
   "outputs": [],
   "source": [
    "# Merging Tables\n",
    "\n",
    "dfmerged <- merge(df[[1]], df[[2]], by = c(\"Observation\", \"Class\"), all=TRUE)\n",
    "dfmerged <- merge(dfmerged, df[[3]], by = c(\"Observation\", \"Class\"), all=TRUE)\n",
    "\n",
    "dftestmerged <- merge(dftest[[1]], dftest[[2]], by = c(\"Observation\", \"Class\"), all=TRUE)\n",
    "dftestmerged <- merge(dftestmerged, dftest[[3]], by = c(\"Observation\", \"Class\"), all=TRUE)"
   ]
  },
  {
   "cell_type": "code",
   "execution_count": 18,
   "metadata": {
    "hidden": true
   },
   "outputs": [
    {
     "data": {
      "text/html": [
       "<table>\n",
       "<thead><tr><th scope=col>row</th><th scope=col>col</th></tr></thead>\n",
       "<tbody>\n",
       "</tbody>\n",
       "</table>\n"
      ],
      "text/latex": [
       "\\begin{tabular}{ll}\n",
       " row & col\\\\\n",
       "\\hline\n",
       "\\end{tabular}\n"
      ],
      "text/markdown": [
       "\n",
       "| row | col |\n",
       "|---|---|\n",
       "\n"
      ],
      "text/plain": [
       "     row col"
      ]
     },
     "metadata": {},
     "output_type": "display_data"
    },
    {
     "data": {
      "text/html": [
       "<table>\n",
       "<thead><tr><th scope=col>row</th><th scope=col>col</th></tr></thead>\n",
       "<tbody>\n",
       "</tbody>\n",
       "</table>\n"
      ],
      "text/latex": [
       "\\begin{tabular}{ll}\n",
       " row & col\\\\\n",
       "\\hline\n",
       "\\end{tabular}\n"
      ],
      "text/markdown": [
       "\n",
       "| row | col |\n",
       "|---|---|\n",
       "\n"
      ],
      "text/plain": [
       "     row col"
      ]
     },
     "metadata": {},
     "output_type": "display_data"
    }
   ],
   "source": [
    "# Missing Data Check\n",
    "which(is.na(dfmerged),TRUE);which(is.na(dftestmerged),TRUE)"
   ]
  },
  {
   "cell_type": "markdown",
   "metadata": {
    "hidden": true
   },
   "source": [
    "Source data consists of time series observations in three axes: X, Y and Z. Each row of the final data table corresponds to a serie and distances betweens these series (observations) will be calculated."
   ]
  },
  {
   "cell_type": "code",
   "execution_count": 19,
   "metadata": {
    "hidden": true,
    "scrolled": true
   },
   "outputs": [
    {
     "data": {
      "text/html": [
       "<table>\n",
       "<thead><tr><th scope=col>Observation</th><th scope=col>Class</th><th scope=col>X_t1</th><th scope=col>X_t2</th><th scope=col>X_t3</th><th scope=col>X_t4</th><th scope=col>X_t5</th><th scope=col>X_t6</th><th scope=col>X_t7</th><th scope=col>X_t8</th><th scope=col>...</th><th scope=col>Z_t306</th><th scope=col>Z_t307</th><th scope=col>Z_t308</th><th scope=col>Z_t309</th><th scope=col>Z_t310</th><th scope=col>Z_t311</th><th scope=col>Z_t312</th><th scope=col>Z_t313</th><th scope=col>Z_t314</th><th scope=col>Z_t315</th></tr></thead>\n",
       "<tbody>\n",
       "\t<tr><td>1           </td><td>6           </td><td>-0.304243210</td><td>-0.304243210</td><td>-0.304243210</td><td>-0.304243210</td><td>-0.304243210</td><td>-0.304243210</td><td>-0.304243210</td><td>-0.304243210</td><td>...         </td><td> 0.5232168  </td><td> 0.5139944  </td><td> 0.50348075 </td><td> 0.49296714 </td><td> 0.47452222 </td><td> 0.4560773  </td><td> 0.4376324  </td><td> 0.4191875  </td><td> 0.4007426  </td><td> 0.3822976  </td></tr>\n",
       "\t<tr><td>2           </td><td>5           </td><td> 1.627311100</td><td> 1.627311100</td><td> 1.627311100</td><td> 1.627311100</td><td> 1.627311100</td><td> 1.627311100</td><td> 1.627311100</td><td> 1.627311100</td><td>...         </td><td>-0.4270104  </td><td>-0.4270104  </td><td>-0.42701043 </td><td>-0.42717222 </td><td>-0.42877307 </td><td>-0.4407199  </td><td>-0.4526667  </td><td>-0.4646135  </td><td>-0.4765603  </td><td>-0.4885071  </td></tr>\n",
       "\t<tr><td>3           </td><td>5           </td><td> 0.661276530</td><td> 0.661276530</td><td> 0.661276530</td><td> 0.661276530</td><td> 0.661276530</td><td> 0.661276530</td><td> 0.661276530</td><td> 0.661276530</td><td>...         </td><td>-0.8627172  </td><td>-0.8627172  </td><td>-0.86271720 </td><td>-0.86271720 </td><td>-0.86271720 </td><td>-0.8627172  </td><td>-0.8627172  </td><td>-0.8627172  </td><td>-0.8627172  </td><td>-0.8627172  </td></tr>\n",
       "\t<tr><td>4           </td><td>3           </td><td> 0.005184784</td><td> 0.005184784</td><td> 0.005184784</td><td> 0.005184784</td><td> 0.005184784</td><td> 0.005184784</td><td> 0.005184784</td><td> 0.005184784</td><td>...         </td><td>-0.1873845  </td><td>-0.1235489  </td><td>-0.05587047 </td><td> 0.01180812 </td><td> 0.07948656 </td><td> 0.1570561  </td><td> 0.2537396  </td><td> 0.4455027  </td><td> 0.6485381  </td><td> 0.8515735  </td></tr>\n",
       "\t<tr><td>5           </td><td>4           </td><td> 1.286197800</td><td> 1.286197800</td><td> 1.286197800</td><td> 1.286197800</td><td> 1.286197800</td><td> 1.286197800</td><td> 1.286197800</td><td> 1.286197800</td><td>...         </td><td> 1.8674725  </td><td> 1.8343190  </td><td> 1.75599960 </td><td> 1.63858220 </td><td> 1.52116390 </td><td> 1.4532661  </td><td> 1.5152189  </td><td> 1.6326367  </td><td> 1.7500543  </td><td> 1.8674725  </td></tr>\n",
       "\t<tr><td>6           </td><td>8           </td><td>-0.479252460</td><td>-0.479252460</td><td>-0.479252460</td><td>-0.479252460</td><td>-0.479252460</td><td>-0.479252460</td><td>-0.479252460</td><td>-0.479252460</td><td>...         </td><td> 0.6979770  </td><td> 0.6654623  </td><td> 0.63294758 </td><td> 0.60043289 </td><td> 0.55859021 </td><td> 0.5167475  </td><td> 0.4679755  </td><td> 0.4192035  </td><td> 0.3704314  </td><td> 0.3216594  </td></tr>\n",
       "</tbody>\n",
       "</table>\n"
      ],
      "text/latex": [
       "\\begin{tabular}{r|lllllllllllllllllllllllllllllllllllllllllllllllllllllllllllllllllllllllllllllllllllllllllllllllllllllllllllllllllllllllllllllllllllllllllllllllllllllllllllllllllllllllllllllllllllllllllllllllllllllllllllllllllllllllllllllllllllllllllllllllllllllllllllllllllllllllllllllllllllllllllllllllllllllllllllllllllllllllllllllllllllllllllllllllllllllllllllllllllllllllllllllllllllllllllllllllllllllllllllllllllllllllllllllllllllllllllllllllllllllllllllllllllllllllllllllllllllllllllllllllllllllllllllllllllllllllllllllllllllllllllllllllllllllllllllllllllllllllllllllllllllllllllllllllllllllllllllllllllllllllllllllllllllllllllllllllllllllllllllllllllllllllllllllllllllllllllllllllllllllllllllllllllllllllllllllllllllllllllllllllllllllllllllllllllllllllllllllllllllllllllllllllllllllllllllllllllllllllllllllllllllllllllllllllllllllllllllllllllllllllllllllllllllllllllllllllllllllllllllllllllllllllllllllllllllllllllllllllllllllllllllllllllllllllllllllllllll}\n",
       " Observation & Class & X\\_t1 & X\\_t2 & X\\_t3 & X\\_t4 & X\\_t5 & X\\_t6 & X\\_t7 & X\\_t8 & ... & Z\\_t306 & Z\\_t307 & Z\\_t308 & Z\\_t309 & Z\\_t310 & Z\\_t311 & Z\\_t312 & Z\\_t313 & Z\\_t314 & Z\\_t315\\\\\n",
       "\\hline\n",
       "\t 1            & 6            & -0.304243210 & -0.304243210 & -0.304243210 & -0.304243210 & -0.304243210 & -0.304243210 & -0.304243210 & -0.304243210 & ...          &  0.5232168   &  0.5139944   &  0.50348075  &  0.49296714  &  0.47452222  &  0.4560773   &  0.4376324   &  0.4191875   &  0.4007426   &  0.3822976  \\\\\n",
       "\t 2            & 5            &  1.627311100 &  1.627311100 &  1.627311100 &  1.627311100 &  1.627311100 &  1.627311100 &  1.627311100 &  1.627311100 & ...          & -0.4270104   & -0.4270104   & -0.42701043  & -0.42717222  & -0.42877307  & -0.4407199   & -0.4526667   & -0.4646135   & -0.4765603   & -0.4885071  \\\\\n",
       "\t 3            & 5            &  0.661276530 &  0.661276530 &  0.661276530 &  0.661276530 &  0.661276530 &  0.661276530 &  0.661276530 &  0.661276530 & ...          & -0.8627172   & -0.8627172   & -0.86271720  & -0.86271720  & -0.86271720  & -0.8627172   & -0.8627172   & -0.8627172   & -0.8627172   & -0.8627172  \\\\\n",
       "\t 4            & 3            &  0.005184784 &  0.005184784 &  0.005184784 &  0.005184784 &  0.005184784 &  0.005184784 &  0.005184784 &  0.005184784 & ...          & -0.1873845   & -0.1235489   & -0.05587047  &  0.01180812  &  0.07948656  &  0.1570561   &  0.2537396   &  0.4455027   &  0.6485381   &  0.8515735  \\\\\n",
       "\t 5            & 4            &  1.286197800 &  1.286197800 &  1.286197800 &  1.286197800 &  1.286197800 &  1.286197800 &  1.286197800 &  1.286197800 & ...          &  1.8674725   &  1.8343190   &  1.75599960  &  1.63858220  &  1.52116390  &  1.4532661   &  1.5152189   &  1.6326367   &  1.7500543   &  1.8674725  \\\\\n",
       "\t 6            & 8            & -0.479252460 & -0.479252460 & -0.479252460 & -0.479252460 & -0.479252460 & -0.479252460 & -0.479252460 & -0.479252460 & ...          &  0.6979770   &  0.6654623   &  0.63294758  &  0.60043289  &  0.55859021  &  0.5167475   &  0.4679755   &  0.4192035   &  0.3704314   &  0.3216594  \\\\\n",
       "\\end{tabular}\n"
      ],
      "text/markdown": [
       "\n",
       "| Observation | Class | X_t1 | X_t2 | X_t3 | X_t4 | X_t5 | X_t6 | X_t7 | X_t8 | ... | Z_t306 | Z_t307 | Z_t308 | Z_t309 | Z_t310 | Z_t311 | Z_t312 | Z_t313 | Z_t314 | Z_t315 |\n",
       "|---|---|---|---|---|---|---|---|---|---|---|---|---|---|---|---|---|---|---|---|---|\n",
       "| 1            | 6            | -0.304243210 | -0.304243210 | -0.304243210 | -0.304243210 | -0.304243210 | -0.304243210 | -0.304243210 | -0.304243210 | ...          |  0.5232168   |  0.5139944   |  0.50348075  |  0.49296714  |  0.47452222  |  0.4560773   |  0.4376324   |  0.4191875   |  0.4007426   |  0.3822976   |\n",
       "| 2            | 5            |  1.627311100 |  1.627311100 |  1.627311100 |  1.627311100 |  1.627311100 |  1.627311100 |  1.627311100 |  1.627311100 | ...          | -0.4270104   | -0.4270104   | -0.42701043  | -0.42717222  | -0.42877307  | -0.4407199   | -0.4526667   | -0.4646135   | -0.4765603   | -0.4885071   |\n",
       "| 3            | 5            |  0.661276530 |  0.661276530 |  0.661276530 |  0.661276530 |  0.661276530 |  0.661276530 |  0.661276530 |  0.661276530 | ...          | -0.8627172   | -0.8627172   | -0.86271720  | -0.86271720  | -0.86271720  | -0.8627172   | -0.8627172   | -0.8627172   | -0.8627172   | -0.8627172   |\n",
       "| 4            | 3            |  0.005184784 |  0.005184784 |  0.005184784 |  0.005184784 |  0.005184784 |  0.005184784 |  0.005184784 |  0.005184784 | ...          | -0.1873845   | -0.1235489   | -0.05587047  |  0.01180812  |  0.07948656  |  0.1570561   |  0.2537396   |  0.4455027   |  0.6485381   |  0.8515735   |\n",
       "| 5            | 4            |  1.286197800 |  1.286197800 |  1.286197800 |  1.286197800 |  1.286197800 |  1.286197800 |  1.286197800 |  1.286197800 | ...          |  1.8674725   |  1.8343190   |  1.75599960  |  1.63858220  |  1.52116390  |  1.4532661   |  1.5152189   |  1.6326367   |  1.7500543   |  1.8674725   |\n",
       "| 6            | 8            | -0.479252460 | -0.479252460 | -0.479252460 | -0.479252460 | -0.479252460 | -0.479252460 | -0.479252460 | -0.479252460 | ...          |  0.6979770   |  0.6654623   |  0.63294758  |  0.60043289  |  0.55859021  |  0.5167475   |  0.4679755   |  0.4192035   |  0.3704314   |  0.3216594   |\n",
       "\n"
      ],
      "text/plain": [
       "  Observation Class X_t1         X_t2         X_t3         X_t4        \n",
       "1 1           6     -0.304243210 -0.304243210 -0.304243210 -0.304243210\n",
       "2 2           5      1.627311100  1.627311100  1.627311100  1.627311100\n",
       "3 3           5      0.661276530  0.661276530  0.661276530  0.661276530\n",
       "4 4           3      0.005184784  0.005184784  0.005184784  0.005184784\n",
       "5 5           4      1.286197800  1.286197800  1.286197800  1.286197800\n",
       "6 6           8     -0.479252460 -0.479252460 -0.479252460 -0.479252460\n",
       "  X_t5         X_t6         X_t7         X_t8         ... Z_t306     Z_t307    \n",
       "1 -0.304243210 -0.304243210 -0.304243210 -0.304243210 ...  0.5232168  0.5139944\n",
       "2  1.627311100  1.627311100  1.627311100  1.627311100 ... -0.4270104 -0.4270104\n",
       "3  0.661276530  0.661276530  0.661276530  0.661276530 ... -0.8627172 -0.8627172\n",
       "4  0.005184784  0.005184784  0.005184784  0.005184784 ... -0.1873845 -0.1235489\n",
       "5  1.286197800  1.286197800  1.286197800  1.286197800 ...  1.8674725  1.8343190\n",
       "6 -0.479252460 -0.479252460 -0.479252460 -0.479252460 ...  0.6979770  0.6654623\n",
       "  Z_t308      Z_t309      Z_t310      Z_t311     Z_t312     Z_t313    \n",
       "1  0.50348075  0.49296714  0.47452222  0.4560773  0.4376324  0.4191875\n",
       "2 -0.42701043 -0.42717222 -0.42877307 -0.4407199 -0.4526667 -0.4646135\n",
       "3 -0.86271720 -0.86271720 -0.86271720 -0.8627172 -0.8627172 -0.8627172\n",
       "4 -0.05587047  0.01180812  0.07948656  0.1570561  0.2537396  0.4455027\n",
       "5  1.75599960  1.63858220  1.52116390  1.4532661  1.5152189  1.6326367\n",
       "6  0.63294758  0.60043289  0.55859021  0.5167475  0.4679755  0.4192035\n",
       "  Z_t314     Z_t315    \n",
       "1  0.4007426  0.3822976\n",
       "2 -0.4765603 -0.4885071\n",
       "3 -0.8627172 -0.8627172\n",
       "4  0.6485381  0.8515735\n",
       "5  1.7500543  1.8674725\n",
       "6  0.3704314  0.3216594"
      ]
     },
     "metadata": {},
     "output_type": "display_data"
    }
   ],
   "source": [
    "head(dfmerged)"
   ]
  },
  {
   "cell_type": "markdown",
   "metadata": {
    "heading_collapsed": true,
    "hidden": true
   },
   "source": [
    "## Task a: Train"
   ]
  },
  {
   "cell_type": "markdown",
   "metadata": {
    "hidden": true
   },
   "source": [
    "Before applying k-NN algorithm, distance measures of time series observations are calculated. Two distance measures are adapted:  \n",
    "- Euclidian:  $ d_{ij} = \\sum_{k = 1}^p{(x_{ik} - x_{jk})^2}  $\n",
    "- Manhattan:     $ d_{ij} = \\sum_{k = 1}^p {\\lvert x_{ik} - x_{jk} \\rvert }  $  \n",
    "\n",
    "Where i and j are observations and p is the number of variables."
   ]
  },
  {
   "cell_type": "code",
   "execution_count": 105,
   "metadata": {
    "code_folding": [
     0
    ],
    "hidden": true
   },
   "outputs": [],
   "source": [
    "kfoldsplit <- function(data,k,order){\n",
    "    order <- (order-1) %% k + 1\n",
    "    n <- dim(data)[1]\n",
    "    size <- ceiling(n/k)\n",
    "    idx <- ((order-1)*size + 1):(min(order*size,n))\n",
    "    \n",
    "    train <- data[-idx]\n",
    "    valid <- data[idx]\n",
    "    res <- list()\n",
    "    res[[1]] <- train\n",
    "    res[[2]] <- valid\n",
    "    return(res)\n",
    "}"
   ]
  },
  {
   "cell_type": "code",
   "execution_count": 233,
   "metadata": {
    "code_folding": [],
    "hidden": true,
    "scrolled": true
   },
   "outputs": [],
   "source": [
    "getmode <- function(v) {\n",
    "    v <- as.vector(v)\n",
    "   tbl <- table(v)\n",
    "   return(names(which.max(tbl)))\n",
    "}"
   ]
  },
  {
   "cell_type": "code",
   "execution_count": 234,
   "metadata": {
    "hidden": true
   },
   "outputs": [],
   "source": [
    "grid = 1:20"
   ]
  },
  {
   "cell_type": "code",
   "execution_count": 237,
   "metadata": {
    "code_folding": [],
    "hidden": true,
    "scrolled": true
   },
   "outputs": [],
   "source": [
    "knnfit <- function(df, foldnum = 10, grid = 1:2)\n",
    "{\n",
    "    start <- Sys.time()\n",
    "    AccEuc <- NULL; AccMan <- NULL; allpredseuc <- NULL; allpredsman <- NULL\n",
    "    \n",
    "    for(K in grid){\n",
    "        cat(\"K= \",K) \n",
    "        cvAccEuc <- NULL; cvAccMan <- NULL; cvpredseuc <- NULL; cvpredsman <- NULL\n",
    "        \n",
    "        for (fold in 1:foldnum){\n",
    "            cat(\"fold %d\",fold)\n",
    "            \n",
    "            split = kfoldsplit(df,foldnum,fold)\n",
    "            train <- split[[1]][,-c(1,2)]\n",
    "            valid <- split[[2]][,-c(1,2)]\n",
    "            trainclass <- split[[1]][,2]\n",
    "            validclass <- split[[2]][,2]\n",
    "            combined=rbind(valid,train)\n",
    "            \n",
    "            eucdistcombined = as.matrix(dist(combined, method = \"euclidian\")) # Euclidian Distance\n",
    "            mandistcombined = as.matrix(dist(combined, method = \"manhattan\")) # Manhattan Distance\n",
    "            \n",
    "            lnvalid = dim(valid)[1]; lntrain = dim(train)[1]; lnall = lnvalid + lntrain\n",
    "            \n",
    "            eucdistcombined = eucdistcombined[1:lnvalid,(lnvalid+1):lnall]\n",
    "            mandistcombined = mandistcombined[1:lnvalid,(lnvalid+1):lnall]\n",
    "            \n",
    "            neighbors_euc = t(apply(eucdistcombined, 1, order))\n",
    "            neighbors_man = t(apply(mandistcombined, 1, order))\n",
    "            \n",
    "            idxeuc = t(apply(neighbors_euc, 1, function(x) x[1:K] ) )\n",
    "            idxman = t(apply(neighbors_man, 1, function(x) x[1:K] ) )\n",
    "            \n",
    "            predseuc = apply(idxeuc, 1, function(x) as.numeric(getmode( trainclass[as.vector(x),1] )) )\n",
    "            predsman = apply(idxman, 1, function(x) as.numeric(getmode( trainclass[as.vector(x),1] )) )\n",
    "                         \n",
    "            cvAccEuc <- c( cvAccEuc, sum(validclass == predseuc)/dim(validclass)[1] )\n",
    "            cvAccMan <- c( cvAccMan, sum(validclass == predsman)/dim(validclass)[1] )\n",
    "        }                 \n",
    "        AccEuc <- rbind(AccEuc, t(c(K,cvAccEuc))); AccMan <- rbind(AccMan, t(c(K,cvAccMan)))\n",
    "    }\n",
    "    str(Sys.time() - start)\n",
    "    res = list();\n",
    "    res[[ length(res) + 1]] = AccEuc; res[[ length(res) + 1]] = AccMan\n",
    "    return(res)\n",
    "}\n",
    "                                           "
   ]
  },
  {
   "cell_type": "code",
   "execution_count": null,
   "metadata": {
    "hidden": true
   },
   "outputs": [],
   "source": [
    "fit <- knnfit(dfmerged, 10, grid)"
   ]
  },
  {
   "cell_type": "code",
   "execution_count": 239,
   "metadata": {
    "hidden": true,
    "scrolled": true
   },
   "outputs": [],
   "source": [
    "meanAccEuc <- cbind(fit[[1]][,1],apply(fit[[1]][,-1],1,mean))\n",
    "meanAccMan <- cbind(fit[[2]][,1],apply(fit[[2]][,-1],1,mean))"
   ]
  },
  {
   "cell_type": "markdown",
   "metadata": {
    "hidden": true
   },
   "source": [
    "Accuracy is calculated as: $$ \\frac{True Positive + True Negative}{ Total Observations}$$and error rate is calculated as: $$ \\frac{False Positive + False Negative}{Total Observations} = 1 - Accuracy$$   \n",
    "Hence, to minimize error rate, we can maximize accuracy."
   ]
  },
  {
   "cell_type": "markdown",
   "metadata": {
    "heading_collapsed": true,
    "hidden": true
   },
   "source": [
    "### Euclidian Distance "
   ]
  },
  {
   "cell_type": "code",
   "execution_count": 246,
   "metadata": {
    "hidden": true
   },
   "outputs": [
    {
     "data": {
      "image/png": "[encoded data removed]",
      "text/plain": [
       "Plot with title \"Euclidian Distance\""
      ]
     },
     "metadata": {},
     "output_type": "display_data"
    }
   ],
   "source": [
    "plot(meanAccEuc[-1,1],meanAccEuc[-1,2],type = 'l', ylab=\"Accuracy\",xlab=\"K\", main = \"Euclidian Distance\")"
   ]
  },
  {
   "cell_type": "code",
   "execution_count": 249,
   "metadata": {
    "hidden": true
   },
   "outputs": [
    {
     "data": {
      "text/html": [
       "3"
      ],
      "text/latex": [
       "3"
      ],
      "text/markdown": [
       "3"
      ],
      "text/plain": [
       "[1] 3"
      ]
     },
     "metadata": {},
     "output_type": "display_data"
    }
   ],
   "source": [
    "meanAccEuc[which.max(meanAccEuc[,2]),1]"
   ]
  },
  {
   "cell_type": "code",
   "execution_count": 253,
   "metadata": {
    "hidden": true
   },
   "outputs": [
    {
     "data": {
      "text/html": [
       "0.945348837209302"
      ],
      "text/latex": [
       "0.945348837209302"
      ],
      "text/markdown": [
       "0.945348837209302"
      ],
      "text/plain": [
       "[1] 0.9453488"
      ]
     },
     "metadata": {},
     "output_type": "display_data"
    }
   ],
   "source": [
    "meanAccEuc[which.max(meanAccEuc[,2]),2]"
   ]
  },
  {
   "cell_type": "markdown",
   "metadata": {
    "hidden": true
   },
   "source": [
    "Optimum K value is **3** for **Euclidian Distance**. Accuracy value for K=3 is **94.5349%**."
   ]
  },
  {
   "cell_type": "markdown",
   "metadata": {
    "heading_collapsed": true,
    "hidden": true
   },
   "source": [
    "### Manhattan Distance"
   ]
  },
  {
   "cell_type": "code",
   "execution_count": 250,
   "metadata": {
    "hidden": true
   },
   "outputs": [
    {
     "data": {
      "image/png": "[encoded data removed]",
      "text/plain": [
       "Plot with title \"Manhattan Distance\""
      ]
     },
     "metadata": {},
     "output_type": "display_data"
    }
   ],
   "source": [
    "plot(meanAccMan[-1,1],meanAccMan[-1,2],type = 'l', ylab=\"Accuracy\",xlab=\"K\", main = \"Manhattan Distance\")"
   ]
  },
  {
   "cell_type": "code",
   "execution_count": 251,
   "metadata": {
    "hidden": true
   },
   "outputs": [
    {
     "data": {
      "text/html": [
       "3"
      ],
      "text/latex": [
       "3"
      ],
      "text/markdown": [
       "3"
      ],
      "text/plain": [
       "[1] 3"
      ]
     },
     "metadata": {},
     "output_type": "display_data"
    }
   ],
   "source": [
    "meanAccMan[which.max(meanAccMan[,2]),1]"
   ]
  },
  {
   "cell_type": "code",
   "execution_count": 254,
   "metadata": {
    "hidden": true
   },
   "outputs": [
    {
     "data": {
      "text/html": [
       "0.955503875968992"
      ],
      "text/latex": [
       "0.955503875968992"
      ],
      "text/markdown": [
       "0.955503875968992"
      ],
      "text/plain": [
       "[1] 0.9555039"
      ]
     },
     "metadata": {},
     "output_type": "display_data"
    }
   ],
   "source": [
    "meanAccMan[which.max(meanAccMan[,2]),2]"
   ]
  },
  {
   "cell_type": "markdown",
   "metadata": {
    "hidden": true
   },
   "source": [
    "Optimum K value is same for **Manhattan Distance** as well:  **3**. The accuracy value is higher from the previous approach: **95.5504%** "
   ]
  },
  {
   "cell_type": "markdown",
   "metadata": {
    "heading_collapsed": true,
    "hidden": true
   },
   "source": [
    "## Task b: Test"
   ]
  },
  {
   "cell_type": "code",
   "execution_count": 263,
   "metadata": {
    "code_folding": [
     1
    ],
    "hidden": true
   },
   "outputs": [],
   "source": [
    "knntest <- function(traindf, testdf, K)\n",
    "{\n",
    "    start <- Sys.time()\n",
    "    AccEuc <- NULL; AccMan <- NULL; allpredseuc <- NULL; allpredsman <- NULL\n",
    "\n",
    "    train <- traindf[,-c(1,2)]\n",
    "    test <- testdf[,-c(1,2)]\n",
    "    trainclass <- traindf[,2]\n",
    "    testclass <- testdf[,2]\n",
    "    combined=rbind(test,train)\n",
    "    \n",
    "    eucdistcombined = as.matrix(dist(combined, method = \"euclidian\")) # Euclidian Distance\n",
    "    mandistcombined = as.matrix(dist(combined, method = \"manhattan\")) # Manhattan Distance\n",
    "    \n",
    "    lntest = dim(test)[1]; lntrain = dim(train)[1]; lnall = lntest + lntrain\n",
    "    \n",
    "    eucdistcombined = eucdistcombined[1:lntest,(lntest+1):lnall]\n",
    "    mandistcombined = mandistcombined[1:lntest,(lntest+1):lnall]\n",
    "    \n",
    "    neighbors_euc = t(apply(eucdistcombined, 1, order))\n",
    "    neighbors_man = t(apply(mandistcombined, 1, order))\n",
    "    \n",
    "    idxeuc = t(apply(neighbors_euc, 1, function(x) x[1:K] ) )\n",
    "    idxman = t(apply(neighbors_man, 1, function(x) x[1:K] ) )\n",
    "    \n",
    "    predseuc = apply(idxeuc, 1, function(x) as.numeric(getmode( trainclass[as.vector(x),1] )) )\n",
    "    predsman = apply(idxman, 1, function(x) as.numeric(getmode( trainclass[as.vector(x),1] )) )\n",
    "                 \n",
    "    AccEuc <- sum(testclass == predseuc)/dim(testclass)[1]\n",
    "    AccMan <- sum(testclass == predsman)/dim(testclass)[1]\n",
    "    \n",
    "    res = list();\n",
    "    res[[ length(res) + 1]] = predseuc; res[[ length(res) + 1]] = AccEuc\n",
    "    res[[ length(res) + 1]] = predsman; res[[ length(res) + 1]] = AccMan\n",
    "    str(Sys.time() - start)\n",
    "    return(res)\n",
    "}\n",
    "                                           "
   ]
  },
  {
   "cell_type": "code",
   "execution_count": 264,
   "metadata": {
    "hidden": true
   },
   "outputs": [
    {
     "name": "stdout",
     "output_type": "stream",
     "text": [
      " 'difftime' num 2.20502690076828\n",
      " - attr(*, \"units\")= chr \"mins\"\n"
     ]
    }
   ],
   "source": [
    "preds <- knntest(dfmerged, dftestmerged, K = 3)"
   ]
  },
  {
   "cell_type": "markdown",
   "metadata": {
    "hidden": true
   },
   "source": [
    "The algorithm took **2.21 minutes** to run."
   ]
  },
  {
   "cell_type": "code",
   "execution_count": 267,
   "metadata": {
    "hidden": true
   },
   "outputs": [
    {
     "data": {
      "text/html": [
       "<ol>\n",
       "\t<li><dl class=dl-horizontal>\n",
       "\t<dt>1</dt>\n",
       "\t\t<dd>5</dd>\n",
       "\t<dt>2</dt>\n",
       "\t\t<dd>1</dd>\n",
       "\t<dt>3</dt>\n",
       "\t\t<dd>4</dd>\n",
       "\t<dt>4</dt>\n",
       "\t\t<dd>4</dd>\n",
       "\t<dt>5</dt>\n",
       "\t\t<dd>5</dd>\n",
       "\t<dt>6</dt>\n",
       "\t\t<dd>4</dd>\n",
       "</dl>\n",
       "</li>\n",
       "\t<li>0.943886097152429</li>\n",
       "\t<li><dl class=dl-horizontal>\n",
       "\t<dt>1</dt>\n",
       "\t\t<dd>5</dd>\n",
       "\t<dt>2</dt>\n",
       "\t\t<dd>1</dd>\n",
       "\t<dt>3</dt>\n",
       "\t\t<dd>4</dd>\n",
       "\t<dt>4</dt>\n",
       "\t\t<dd>4</dd>\n",
       "\t<dt>5</dt>\n",
       "\t\t<dd>5</dd>\n",
       "\t<dt>6</dt>\n",
       "\t\t<dd>4</dd>\n",
       "</dl>\n",
       "</li>\n",
       "\t<li>0.950027917364601</li>\n",
       "</ol>\n"
      ],
      "text/latex": [
       "\\begin{enumerate}\n",
       "\\item \\begin{description*}\n",
       "\\item[1] 5\n",
       "\\item[2] 1\n",
       "\\item[3] 4\n",
       "\\item[4] 4\n",
       "\\item[5] 5\n",
       "\\item[6] 4\n",
       "\\end{description*}\n",
       "\n",
       "\\item 0.943886097152429\n",
       "\\item \\begin{description*}\n",
       "\\item[1] 5\n",
       "\\item[2] 1\n",
       "\\item[3] 4\n",
       "\\item[4] 4\n",
       "\\item[5] 5\n",
       "\\item[6] 4\n",
       "\\end{description*}\n",
       "\n",
       "\\item 0.950027917364601\n",
       "\\end{enumerate}\n"
      ],
      "text/markdown": [
       "1. 1\n",
       ":   52\n",
       ":   13\n",
       ":   44\n",
       ":   45\n",
       ":   56\n",
       ":   4\n",
       "\n",
       "\n",
       "2. 0.943886097152429\n",
       "3. 1\n",
       ":   52\n",
       ":   13\n",
       ":   44\n",
       ":   45\n",
       ":   56\n",
       ":   4\n",
       "\n",
       "\n",
       "4. 0.950027917364601\n",
       "\n",
       "\n"
      ],
      "text/plain": [
       "[[1]]\n",
       "1 2 3 4 5 6 \n",
       "5 1 4 4 5 4 \n",
       "\n",
       "[[2]]\n",
       "[1] 0.9438861\n",
       "\n",
       "[[3]]\n",
       "1 2 3 4 5 6 \n",
       "5 1 4 4 5 4 \n",
       "\n",
       "[[4]]\n",
       "[1] 0.9500279\n"
      ]
     },
     "metadata": {},
     "output_type": "display_data"
    }
   ],
   "source": [
    "lapply(preds,head)"
   ]
  },
  {
   "cell_type": "markdown",
   "metadata": {
    "heading_collapsed": true,
    "hidden": true
   },
   "source": [
    "### Euclidian Distance "
   ]
  },
  {
   "cell_type": "code",
   "execution_count": 275,
   "metadata": {
    "hidden": true
   },
   "outputs": [
    {
     "name": "stdout",
     "output_type": "stream",
     "text": [
      "EUCLIDIAN DISTANCE CONFUSION MATRIX"
     ]
    },
    {
     "data": {
      "text/plain": [
       "             Predictions\n",
       "Actuals.Class   1   2   3   4   5   6   7   8\n",
       "            1 431   0   0   2   0   4   0   0\n",
       "            2   1 449   0   0   0   0   2   0\n",
       "            3   2   0 413   0  15  20   4   0\n",
       "            4   7   0   0 370  60   6   0   7\n",
       "            5   3   0   6   1 422   1   0   0\n",
       "            6   6   0   7  15  28 392   1   0\n",
       "            7   0   0   1   0   0   0 446   0\n",
       "            8   0   0   0   1   1   0   0 458"
      ]
     },
     "metadata": {},
     "output_type": "display_data"
    },
    {
     "name": "stdout",
     "output_type": "stream",
     "text": [
      "Accuracy is:  94.38861 %"
     ]
    }
   ],
   "source": [
    "cat(\"EUCLIDIAN DISTANCE CONFUSION MATRIX\")\n",
    "table( cbind(Actuals = dftestmerged[,2] ,Predictions = preds[[1]]  ) )\n",
    "cat(\"Accuracy is: \",preds[[2]]*100,\"%\" )"
   ]
  },
  {
   "cell_type": "markdown",
   "metadata": {
    "heading_collapsed": true,
    "hidden": true
   },
   "source": [
    "### Manhattan Distance "
   ]
  },
  {
   "cell_type": "code",
   "execution_count": 276,
   "metadata": {
    "hidden": true
   },
   "outputs": [
    {
     "name": "stdout",
     "output_type": "stream",
     "text": [
      "MANHATTAN DISTANCE CONFUSION MATRIX"
     ]
    },
    {
     "data": {
      "text/plain": [
       "             Predictions\n",
       "Actuals.Class   1   2   3   4   5   6   7   8\n",
       "            1 432   0   0   2   0   3   0   0\n",
       "            2   1 451   0   0   0   0   0   0\n",
       "            3   3   0 420   0  11  16   4   0\n",
       "            4   3   0   0 385  48   7   0   7\n",
       "            5   3   0   5   2 422   1   0   0\n",
       "            6  10   0   4  16  25 394   0   0\n",
       "            7   0   0   5   0   0   0 442   0\n",
       "            8   0   0   0   2   1   0   0 457"
      ]
     },
     "metadata": {},
     "output_type": "display_data"
    },
    {
     "name": "stdout",
     "output_type": "stream",
     "text": [
      "Accuracy is:  95.00279 %"
     ]
    }
   ],
   "source": [
    "cat(\"MANHATTAN DISTANCE CONFUSION MATRIX\")\n",
    "table( cbind(Actuals = dftestmerged[,2] ,Predictions = preds[[3]]  ) )\n",
    "cat(\"Accuracy is: \",preds[[4]]*100,\"%\" )"
   ]
  },
  {
   "cell_type": "markdown",
   "metadata": {
    "heading_collapsed": true,
    "hidden": true
   },
   "source": [
    "## Task c: Weighted Distances"
   ]
  },
  {
   "cell_type": "markdown",
   "metadata": {
    "hidden": true
   },
   "source": [
    "When we calculate **Euclidian** distance matrix using all axes, in fact, we calculate **quadratic mean** of Euclidian distances based on all axes seperately. Quadratic mean is always greater than arithmetic mean which means this approach calculates distance closer to higher values. As for Manhattan distance, calculating overall distance or arihmetic mean of axis based distances yields the same result.\n",
    "\n",
    "If distances based on all axes are equally important, weighted approach with equal weights would be more sensible to calculate distances. Better accuracy results in both crass-validation and test sets also solidify this assumption. Hence, as an alternative approach, **arithmetic mean of axis based Euclidian distances** can be used.\n",
    "\n",
    "One other approach could be deciding importance of axis based distances looking at absolute correlation values. Sum of correlation values between instance classes and axis observations can be decided as weight of each axis and then the **correlation weighted average of axis based Euclidian/Manhattan distances** can be used as total distance.\n",
    "\n",
    "\n"
   ]
  },
  {
   "cell_type": "code",
   "execution_count": 289,
   "metadata": {
    "code_folding": [],
    "hidden": true
   },
   "outputs": [],
   "source": [
    "# Calculting correlation weights (-1 to remove observation ID's)\n",
    "wx = sum(cor(dfmerged[,-1])[1,2:316])\n",
    "wy = sum(cor(dfmerged[,-1])[1,317:631])\n",
    "wz = sum(cor(dfmerged[,-1])[1,632:946])\n",
    "wtot = wx + wy + wz"
   ]
  },
  {
   "cell_type": "code",
   "execution_count": 290,
   "metadata": {
    "hidden": true,
    "scrolled": true
   },
   "outputs": [
    {
     "data": {
      "text/html": [
       "0.602856214940997"
      ],
      "text/latex": [
       "0.602856214940997"
      ],
      "text/markdown": [
       "0.602856214940997"
      ],
      "text/plain": [
       "[1] 0.6028562"
      ]
     },
     "metadata": {},
     "output_type": "display_data"
    },
    {
     "data": {
      "text/html": [
       "0.236212826175685"
      ],
      "text/latex": [
       "0.236212826175685"
      ],
      "text/markdown": [
       "0.236212826175685"
      ],
      "text/plain": [
       "[1] 0.2362128"
      ]
     },
     "metadata": {},
     "output_type": "display_data"
    },
    {
     "data": {
      "text/html": [
       "0.160930958883318"
      ],
      "text/latex": [
       "0.160930958883318"
      ],
      "text/markdown": [
       "0.160930958883318"
      ],
      "text/plain": [
       "[1] 0.160931"
      ]
     },
     "metadata": {},
     "output_type": "display_data"
    }
   ],
   "source": [
    "wx = wx/wtot; wx\n",
    "wy = wy/wtot; wy\n",
    "wz = wz/wtot; wz"
   ]
  },
  {
   "cell_type": "markdown",
   "metadata": {
    "hidden": true
   },
   "source": [
    "X axis has the highest effect."
   ]
  },
  {
   "cell_type": "code",
   "execution_count": 305,
   "metadata": {
    "hidden": true
   },
   "outputs": [],
   "source": [
    "weightedknn <- function(dflist, dftestlist, wx, wy, wz, K)\n",
    "{\n",
    "    start <- Sys.time()\n",
    "    AccEuc <- NULL; AccMan <- NULL; allpredseuc <- NULL; allpredsman <- NULL\n",
    "\n",
    "    trainx <- dflist[[1]][,-c(1,2)]\n",
    "    trainy <- dflist[[2]][,-c(1,2)]\n",
    "    trainz <- dflist[[3]][,-c(1,2)]\n",
    "    trainclass <- dflist[[1]][,2]\n",
    "    \n",
    "    testx <- dftestlist[[1]][,-c(1,2)]\n",
    "    testy <- dftestlist[[2]][,-c(1,2)]\n",
    "    testz <- dftestlist[[3]][,-c(1,2)]\n",
    "    testclass <- dftestlist[[1]][,2]\n",
    "\n",
    "    combinedx=rbind(testx,trainx)\n",
    "    combinedy=rbind(testy,trainy)\n",
    "    combinedz=rbind(testz,trainz)\n",
    "    \n",
    "    eucdistcombinedx = as.matrix(dist(combinedx, method = \"euclidian\"))\n",
    "    mandistcombinedx = as.matrix(dist(combinedx, method = \"manhattan\"))\n",
    "    eucdistcombinedy = as.matrix(dist(combinedy, method = \"euclidian\"))\n",
    "    mandistcombinedy = as.matrix(dist(combinedy, method = \"manhattan\"))\n",
    "    eucdistcombinedz = as.matrix(dist(combinedz, method = \"euclidian\"))\n",
    "    mandistcombinedz = as.matrix(dist(combinedz, method = \"manhattan\"))\n",
    "    eucdistcombined = wx*eucdistcombinedx + wy*eucdistcombinedy + wz*eucdistcombinedz # Euclidian Distance\n",
    "    mandistcombined = wx*mandistcombinedx + wy*mandistcombinedy + wz*mandistcombinedz # Manhattan Distance\n",
    "    \n",
    "    lntest = dim(testx)[1]; lntrain = dim(trainx)[1]; lnall = lntest + lntrain\n",
    "    \n",
    "    eucdistcombined = eucdistcombined[1:lntest,(lntest+1):lnall]\n",
    "    mandistcombined = mandistcombined[1:lntest,(lntest+1):lnall]\n",
    "    \n",
    "    neighbors_euc = t(apply(eucdistcombined, 1, order))\n",
    "    neighbors_man = t(apply(mandistcombined, 1, order))\n",
    "    \n",
    "    idxeuc = t(apply(neighbors_euc, 1, function(x) x[1:K] ) )\n",
    "    idxman = t(apply(neighbors_man, 1, function(x) x[1:K] ) )\n",
    "    \n",
    "    predseuc = apply(idxeuc, 1, function(x) as.numeric(getmode( trainclass[as.vector(x),1] )) )\n",
    "    predsman = apply(idxman, 1, function(x) as.numeric(getmode( trainclass[as.vector(x),1] )) )\n",
    "                 \n",
    "    AccEuc <- sum(testclass == predseuc)/dim(testclass)[1]\n",
    "    AccMan <- sum(testclass == predsman)/dim(testclass)[1]\n",
    "    \n",
    "    res = list();\n",
    "    res[[ length(res) + 1]] = predseuc; res[[ length(res) + 1]] = AccEuc\n",
    "    res[[ length(res) + 1]] = predsman; res[[ length(res) + 1]] = AccMan\n",
    "    str(Sys.time() - start)\n",
    "    return(res)\n",
    "}\n",
    "                                           "
   ]
  },
  {
   "cell_type": "code",
   "execution_count": 310,
   "metadata": {
    "hidden": true
   },
   "outputs": [
    {
     "name": "stdout",
     "output_type": "stream",
     "text": [
      " 'difftime' num 1.21562515099843\n",
      " - attr(*, \"units\")= chr \"mins\"\n"
     ]
    }
   ],
   "source": [
    "predsweighted <- weightedknn(df,dftest,wx,wy,wz,K=3)"
   ]
  },
  {
   "cell_type": "markdown",
   "metadata": {
    "hidden": true
   },
   "source": [
    "Optimal K value is assumed to be 3 for this approach as well."
   ]
  },
  {
   "cell_type": "code",
   "execution_count": 311,
   "metadata": {
    "hidden": true
   },
   "outputs": [
    {
     "data": {
      "text/html": [
       "<ol>\n",
       "\t<li><dl class=dl-horizontal>\n",
       "\t<dt>1</dt>\n",
       "\t\t<dd>5</dd>\n",
       "\t<dt>2</dt>\n",
       "\t\t<dd>1</dd>\n",
       "\t<dt>3</dt>\n",
       "\t\t<dd>4</dd>\n",
       "\t<dt>4</dt>\n",
       "\t\t<dd>4</dd>\n",
       "\t<dt>5</dt>\n",
       "\t\t<dd>5</dd>\n",
       "\t<dt>6</dt>\n",
       "\t\t<dd>4</dd>\n",
       "</dl>\n",
       "</li>\n",
       "\t<li>0.94751535455053</li>\n",
       "\t<li><dl class=dl-horizontal>\n",
       "\t<dt>1</dt>\n",
       "\t\t<dd>4</dd>\n",
       "\t<dt>2</dt>\n",
       "\t\t<dd>1</dd>\n",
       "\t<dt>3</dt>\n",
       "\t\t<dd>4</dd>\n",
       "\t<dt>4</dt>\n",
       "\t\t<dd>4</dd>\n",
       "\t<dt>5</dt>\n",
       "\t\t<dd>5</dd>\n",
       "\t<dt>6</dt>\n",
       "\t\t<dd>4</dd>\n",
       "</dl>\n",
       "</li>\n",
       "\t<li>0.946398659966499</li>\n",
       "</ol>\n"
      ],
      "text/latex": [
       "\\begin{enumerate}\n",
       "\\item \\begin{description*}\n",
       "\\item[1] 5\n",
       "\\item[2] 1\n",
       "\\item[3] 4\n",
       "\\item[4] 4\n",
       "\\item[5] 5\n",
       "\\item[6] 4\n",
       "\\end{description*}\n",
       "\n",
       "\\item 0.94751535455053\n",
       "\\item \\begin{description*}\n",
       "\\item[1] 4\n",
       "\\item[2] 1\n",
       "\\item[3] 4\n",
       "\\item[4] 4\n",
       "\\item[5] 5\n",
       "\\item[6] 4\n",
       "\\end{description*}\n",
       "\n",
       "\\item 0.946398659966499\n",
       "\\end{enumerate}\n"
      ],
      "text/markdown": [
       "1. 1\n",
       ":   52\n",
       ":   13\n",
       ":   44\n",
       ":   45\n",
       ":   56\n",
       ":   4\n",
       "\n",
       "\n",
       "2. 0.94751535455053\n",
       "3. 1\n",
       ":   42\n",
       ":   13\n",
       ":   44\n",
       ":   45\n",
       ":   56\n",
       ":   4\n",
       "\n",
       "\n",
       "4. 0.946398659966499\n",
       "\n",
       "\n"
      ],
      "text/plain": [
       "[[1]]\n",
       "1 2 3 4 5 6 \n",
       "5 1 4 4 5 4 \n",
       "\n",
       "[[2]]\n",
       "[1] 0.9475154\n",
       "\n",
       "[[3]]\n",
       "1 2 3 4 5 6 \n",
       "4 1 4 4 5 4 \n",
       "\n",
       "[[4]]\n",
       "[1] 0.9463987\n"
      ]
     },
     "metadata": {},
     "output_type": "display_data"
    }
   ],
   "source": [
    "lapply(predsweighted,head)"
   ]
  },
  {
   "cell_type": "markdown",
   "metadata": {
    "hidden": true
   },
   "source": [
    "Accuracy scores came out to be worse. Thus, the assumptions did not lead to better results. Hyper-parameter tuning with cross-validation is necessary. Further work is needed to test this approaches however, results so far are not in favor of this new approach."
   ]
  },
  {
   "cell_type": "markdown",
   "metadata": {},
   "source": [
    "# Question 2"
   ]
  },
  {
   "cell_type": "markdown",
   "metadata": {
    "heading_collapsed": true
   },
   "source": [
    "## Data Load and Preparation "
   ]
  },
  {
   "cell_type": "code",
   "execution_count": 2,
   "metadata": {
    "hidden": true
   },
   "outputs": [
    {
     "name": "stdout",
     "output_type": "stream",
     "text": [
      "[1] 100  96\n"
     ]
    }
   ],
   "source": [
    "fname='Data/Train/ecgTRAIN' # data path\n",
    "traindata <- as.matrix(read.table(fname))  # read data into a matrix named traindata\n",
    "#first column is the class variable\n",
    "trainclass=traindata[,1] # takes -1 and 1\n",
    "#drop first column\n",
    "traindata=traindata[,2:ncol(traindata)]\n",
    "print(dim(traindata)) #shows that there 100 series (rows) of length 96 time units (columns)\n",
    "\n",
    "tlength=ncol(traindata)\n",
    "noftimeseries=nrow(traindata)\n",
    "\n",
    "#read test data\n",
    "fname='Data/Test/ecgTEST' # data path\n",
    "testdata <- as.matrix(read.table(fname))  # read data into a matrix named traindata\n",
    "#first column is the class variable\n",
    "testclass=testdata[,1] # takes -1 and 1\n",
    "#drop first column\n",
    "testdata=testdata[,2:ncol(testdata)]"
   ]
  },
  {
   "cell_type": "code",
   "execution_count": 3,
   "metadata": {
    "hidden": true
   },
   "outputs": [
    {
     "data": {
      "text/html": [
       "<table>\n",
       "<thead><tr><th scope=col>V2</th><th scope=col>V3</th><th scope=col>V4</th><th scope=col>V5</th><th scope=col>V6</th><th scope=col>V7</th><th scope=col>V8</th><th scope=col>V9</th><th scope=col>V10</th><th scope=col>V11</th><th scope=col>...</th><th scope=col>V88</th><th scope=col>V89</th><th scope=col>V90</th><th scope=col>V91</th><th scope=col>V92</th><th scope=col>V93</th><th scope=col>V94</th><th scope=col>V95</th><th scope=col>V96</th><th scope=col>V97</th></tr></thead>\n",
       "<tbody>\n",
       "\t<tr><td>0.5020555  </td><td>0.5421626  </td><td>0.7223835  </td><td>1.4288852  </td><td>2.1365158  </td><td> 2.2811490 </td><td> 1.93627370</td><td> 1.4688900 </td><td> 1.0088451 </td><td> 0.3802822 </td><td>...        </td><td> 0.93104294</td><td> 0.6102984 </td><td> 0.6388943 </td><td> 0.6846786 </td><td> 0.58323764</td><td> 0.6405217 </td><td> 0.70858515</td><td> 0.70501088</td><td> 0.7138155 </td><td> 0.4337646 </td></tr>\n",
       "\t<tr><td>0.1474864  </td><td>0.8032087  </td><td>0.3671757  </td><td>0.2435429  </td><td>0.0266927  </td><td>-0.2737281 </td><td> 0.09667076</td><td>-0.7461207 </td><td>-1.6064626 </td><td>-1.1771292 </td><td>...        </td><td>-0.53231711</td><td>-0.3993053 </td><td> 0.1758674 </td><td> 1.1097011 </td><td> 2.43373800</td><td> 2.7296122 </td><td> 1.73275310</td><td> 0.03691512</td><td>-1.2624415 </td><td>-0.2074816 </td></tr>\n",
       "\t<tr><td>0.3166462  </td><td>0.2431991  </td><td>0.3704714  </td><td>1.0637381  </td><td>1.6781871  </td><td> 1.7595575 </td><td> 1.69771720</td><td> 1.6121590 </td><td> 1.1681877 </td><td> 0.4999570 </td><td>...        </td><td> 0.76422904</td><td> 0.6106215 </td><td> 0.5529003 </td><td> 0.5667861 </td><td> 0.60400236</td><td> 0.7770678 </td><td> 0.81234542</td><td> 0.74884814</td><td> 0.8180420 </td><td> 0.5393470 </td></tr>\n",
       "\t<tr><td>1.1688741  </td><td>2.0759008  </td><td>1.7601405  </td><td>1.6064459  </td><td>1.9490456  </td><td> 1.3028421 </td><td> 0.45933154</td><td> 0.5164121 </td><td> 0.8521795 </td><td> 0.9892272 </td><td>...        </td><td> 0.41900645</td><td> 0.7238875 </td><td> 1.3239469 </td><td> 2.1364876 </td><td> 1.74659650</td><td> 1.4702205 </td><td> 1.89351230</td><td> 1.25694930</td><td> 0.8004066 </td><td> 0.7315398 </td></tr>\n",
       "\t<tr><td>0.6479446  </td><td>0.7512234  </td><td>2.6337955  </td><td>3.4525696  </td><td>2.1161707  </td><td> 0.5200183 </td><td>-0.18861376</td><td> 0.7799909 </td><td> 0.9328146 </td><td> 0.7006434 </td><td>...        </td><td>-0.09793465</td><td>-0.1368191 </td><td>-0.3400925 </td><td>-0.0895146 </td><td>-0.08037838</td><td>-0.1925682 </td><td>-0.30459103</td><td>-0.45431295</td><td> 0.3141666 </td><td> 0.5815342 </td></tr>\n",
       "\t<tr><td>0.4035074  </td><td>1.2771034  </td><td>2.5078283  </td><td>1.2957095  </td><td>1.4491787  </td><td> 0.4728490 </td><td>-1.39258560</td><td>-0.6452687 </td><td> 0.4306412 </td><td> 0.1320061 </td><td>...        </td><td> 0.37532545</td><td> 0.2769523 </td><td> 0.2249676 </td><td> 0.1585749 </td><td> 0.40711823</td><td> 0.5383992 </td><td>-0.02776744</td><td> 0.20283211</td><td> 0.3459054 </td><td> 0.3381487 </td></tr>\n",
       "</tbody>\n",
       "</table>\n"
      ],
      "text/latex": [
       "\\begin{tabular}{llllllllllllllllllllllllllllllllllllllllllllllllllllllllllllllllllllllllllllllllllllllllllllllll}\n",
       " V2 & V3 & V4 & V5 & V6 & V7 & V8 & V9 & V10 & V11 & ... & V88 & V89 & V90 & V91 & V92 & V93 & V94 & V95 & V96 & V97\\\\\n",
       "\\hline\n",
       "\t 0.5020555   & 0.5421626   & 0.7223835   & 1.4288852   & 2.1365158   &  2.2811490  &  1.93627370 &  1.4688900  &  1.0088451  &  0.3802822  & ...         &  0.93104294 &  0.6102984  &  0.6388943  &  0.6846786  &  0.58323764 &  0.6405217  &  0.70858515 &  0.70501088 &  0.7138155  &  0.4337646 \\\\\n",
       "\t 0.1474864   & 0.8032087   & 0.3671757   & 0.2435429   & 0.0266927   & -0.2737281  &  0.09667076 & -0.7461207  & -1.6064626  & -1.1771292  & ...         & -0.53231711 & -0.3993053  &  0.1758674  &  1.1097011  &  2.43373800 &  2.7296122  &  1.73275310 &  0.03691512 & -1.2624415  & -0.2074816 \\\\\n",
       "\t 0.3166462   & 0.2431991   & 0.3704714   & 1.0637381   & 1.6781871   &  1.7595575  &  1.69771720 &  1.6121590  &  1.1681877  &  0.4999570  & ...         &  0.76422904 &  0.6106215  &  0.5529003  &  0.5667861  &  0.60400236 &  0.7770678  &  0.81234542 &  0.74884814 &  0.8180420  &  0.5393470 \\\\\n",
       "\t 1.1688741   & 2.0759008   & 1.7601405   & 1.6064459   & 1.9490456   &  1.3028421  &  0.45933154 &  0.5164121  &  0.8521795  &  0.9892272  & ...         &  0.41900645 &  0.7238875  &  1.3239469  &  2.1364876  &  1.74659650 &  1.4702205  &  1.89351230 &  1.25694930 &  0.8004066  &  0.7315398 \\\\\n",
       "\t 0.6479446   & 0.7512234   & 2.6337955   & 3.4525696   & 2.1161707   &  0.5200183  & -0.18861376 &  0.7799909  &  0.9328146  &  0.7006434  & ...         & -0.09793465 & -0.1368191  & -0.3400925  & -0.0895146  & -0.08037838 & -0.1925682  & -0.30459103 & -0.45431295 &  0.3141666  &  0.5815342 \\\\\n",
       "\t 0.4035074   & 1.2771034   & 2.5078283   & 1.2957095   & 1.4491787   &  0.4728490  & -1.39258560 & -0.6452687  &  0.4306412  &  0.1320061  & ...         &  0.37532545 &  0.2769523  &  0.2249676  &  0.1585749  &  0.40711823 &  0.5383992  & -0.02776744 &  0.20283211 &  0.3459054  &  0.3381487 \\\\\n",
       "\\end{tabular}\n"
      ],
      "text/markdown": [
       "\n",
       "| V2 | V3 | V4 | V5 | V6 | V7 | V8 | V9 | V10 | V11 | ... | V88 | V89 | V90 | V91 | V92 | V93 | V94 | V95 | V96 | V97 |\n",
       "|---|---|---|---|---|---|---|---|---|---|---|---|---|---|---|---|---|---|---|---|---|\n",
       "| 0.5020555   | 0.5421626   | 0.7223835   | 1.4288852   | 2.1365158   |  2.2811490  |  1.93627370 |  1.4688900  |  1.0088451  |  0.3802822  | ...         |  0.93104294 |  0.6102984  |  0.6388943  |  0.6846786  |  0.58323764 |  0.6405217  |  0.70858515 |  0.70501088 |  0.7138155  |  0.4337646  |\n",
       "| 0.1474864   | 0.8032087   | 0.3671757   | 0.2435429   | 0.0266927   | -0.2737281  |  0.09667076 | -0.7461207  | -1.6064626  | -1.1771292  | ...         | -0.53231711 | -0.3993053  |  0.1758674  |  1.1097011  |  2.43373800 |  2.7296122  |  1.73275310 |  0.03691512 | -1.2624415  | -0.2074816  |\n",
       "| 0.3166462   | 0.2431991   | 0.3704714   | 1.0637381   | 1.6781871   |  1.7595575  |  1.69771720 |  1.6121590  |  1.1681877  |  0.4999570  | ...         |  0.76422904 |  0.6106215  |  0.5529003  |  0.5667861  |  0.60400236 |  0.7770678  |  0.81234542 |  0.74884814 |  0.8180420  |  0.5393470  |\n",
       "| 1.1688741   | 2.0759008   | 1.7601405   | 1.6064459   | 1.9490456   |  1.3028421  |  0.45933154 |  0.5164121  |  0.8521795  |  0.9892272  | ...         |  0.41900645 |  0.7238875  |  1.3239469  |  2.1364876  |  1.74659650 |  1.4702205  |  1.89351230 |  1.25694930 |  0.8004066  |  0.7315398  |\n",
       "| 0.6479446   | 0.7512234   | 2.6337955   | 3.4525696   | 2.1161707   |  0.5200183  | -0.18861376 |  0.7799909  |  0.9328146  |  0.7006434  | ...         | -0.09793465 | -0.1368191  | -0.3400925  | -0.0895146  | -0.08037838 | -0.1925682  | -0.30459103 | -0.45431295 |  0.3141666  |  0.5815342  |\n",
       "| 0.4035074   | 1.2771034   | 2.5078283   | 1.2957095   | 1.4491787   |  0.4728490  | -1.39258560 | -0.6452687  |  0.4306412  |  0.1320061  | ...         |  0.37532545 |  0.2769523  |  0.2249676  |  0.1585749  |  0.40711823 |  0.5383992  | -0.02776744 |  0.20283211 |  0.3459054  |  0.3381487  |\n",
       "\n"
      ],
      "text/plain": [
       "     V2        V3        V4        V5        V6        V7         V8         \n",
       "[1,] 0.5020555 0.5421626 0.7223835 1.4288852 2.1365158  2.2811490  1.93627370\n",
       "[2,] 0.1474864 0.8032087 0.3671757 0.2435429 0.0266927 -0.2737281  0.09667076\n",
       "[3,] 0.3166462 0.2431991 0.3704714 1.0637381 1.6781871  1.7595575  1.69771720\n",
       "[4,] 1.1688741 2.0759008 1.7601405 1.6064459 1.9490456  1.3028421  0.45933154\n",
       "[5,] 0.6479446 0.7512234 2.6337955 3.4525696 2.1161707  0.5200183 -0.18861376\n",
       "[6,] 0.4035074 1.2771034 2.5078283 1.2957095 1.4491787  0.4728490 -1.39258560\n",
       "     V9         V10        V11        ... V88         V89        V90       \n",
       "[1,]  1.4688900  1.0088451  0.3802822 ...  0.93104294  0.6102984  0.6388943\n",
       "[2,] -0.7461207 -1.6064626 -1.1771292 ... -0.53231711 -0.3993053  0.1758674\n",
       "[3,]  1.6121590  1.1681877  0.4999570 ...  0.76422904  0.6106215  0.5529003\n",
       "[4,]  0.5164121  0.8521795  0.9892272 ...  0.41900645  0.7238875  1.3239469\n",
       "[5,]  0.7799909  0.9328146  0.7006434 ... -0.09793465 -0.1368191 -0.3400925\n",
       "[6,] -0.6452687  0.4306412  0.1320061 ...  0.37532545  0.2769523  0.2249676\n",
       "     V91        V92         V93        V94         V95         V96       \n",
       "[1,]  0.6846786  0.58323764  0.6405217  0.70858515  0.70501088  0.7138155\n",
       "[2,]  1.1097011  2.43373800  2.7296122  1.73275310  0.03691512 -1.2624415\n",
       "[3,]  0.5667861  0.60400236  0.7770678  0.81234542  0.74884814  0.8180420\n",
       "[4,]  2.1364876  1.74659650  1.4702205  1.89351230  1.25694930  0.8004066\n",
       "[5,] -0.0895146 -0.08037838 -0.1925682 -0.30459103 -0.45431295  0.3141666\n",
       "[6,]  0.1585749  0.40711823  0.5383992 -0.02776744  0.20283211  0.3459054\n",
       "     V97       \n",
       "[1,]  0.4337646\n",
       "[2,] -0.2074816\n",
       "[3,]  0.5393470\n",
       "[4,]  0.7315398\n",
       "[5,]  0.5815342\n",
       "[6,]  0.3381487"
      ]
     },
     "metadata": {},
     "output_type": "display_data"
    }
   ],
   "source": [
    "head(traindata)"
   ]
  },
  {
   "cell_type": "code",
   "execution_count": 4,
   "metadata": {
    "hidden": true
   },
   "outputs": [],
   "source": [
    "trclass <- sign(trainclass + 1); tsclass <- sign(testclass + 1) # Convert -1's to 0"
   ]
  },
  {
   "cell_type": "markdown",
   "metadata": {
    "heading_collapsed": true
   },
   "source": [
    "## Plotting Data "
   ]
  },
  {
   "cell_type": "code",
   "execution_count": 314,
   "metadata": {
    "hidden": true
   },
   "outputs": [
    {
     "data": {
      "image/png": "[encoded data removed]",
      "text/plain": [
       "plot without title"
      ]
     },
     "metadata": {},
     "output_type": "display_data"
    }
   ],
   "source": [
    "#let's use line format\n",
    "plot(traindata[1,],type='l')"
   ]
  },
  {
   "cell_type": "code",
   "execution_count": 315,
   "metadata": {
    "hidden": true
   },
   "outputs": [
    {
     "data": {
      "image/png": "[encoded data removed]",
      "text/plain": [
       "plot without title"
      ]
     },
     "metadata": {},
     "output_type": "display_data"
    }
   ],
   "source": [
    "#multiple plots on single plot\n",
    "par(mfrow=c(2,2)) #2x2 grid\n",
    "plot(traindata[1,],type='l')\n",
    "plot(traindata[2,],type='l')\n",
    "plot(traindata[3,],type='l')\n",
    "plot(traindata[4,],type='l')"
   ]
  },
  {
   "cell_type": "code",
   "execution_count": 316,
   "metadata": {
    "hidden": true,
    "scrolled": true
   },
   "outputs": [
    {
     "data": {
      "image/png": "[encoded data removed]",
      "text/plain": [
       "plot without title"
      ]
     },
     "metadata": {},
     "output_type": "display_data"
    }
   ],
   "source": [
    "#problem with limits?\n",
    "lim=max(abs(traindata[1:4,])) #maximum of the absolute value of the observations for first 4 time series\n",
    "plot(traindata[1,],type='l',col=trainclass[1]+3,ylim=c(-1.1*lim,1.1*lim))\n",
    "points(traindata[2,],type='l',col=trainclass[2]+3)\n",
    "points(traindata[3,],type='l',col=trainclass[3]+3)\n",
    "points(traindata[4,],type='l',col=trainclass[4]+3)"
   ]
  },
  {
   "cell_type": "markdown",
   "metadata": {},
   "source": [
    "## Task a: Logistic Regression"
   ]
  },
  {
   "cell_type": "code",
   "execution_count": 5,
   "metadata": {
    "scrolled": false
   },
   "outputs": [
    {
     "name": "stderr",
     "output_type": "stream",
     "text": [
      "Warning message:\n",
      "\"package 'penalized' was built under R version 3.6.3\"Welcome to penalized. For extended examples, see vignette(\"penalized\").\n"
     ]
    }
   ],
   "source": [
    "require(penalized, quietly = TRUE)"
   ]
  },
  {
   "cell_type": "markdown",
   "metadata": {
    "heading_collapsed": true
   },
   "source": [
    "### Tuning L1 parameter"
   ]
  },
  {
   "cell_type": "code",
   "execution_count": 331,
   "metadata": {
    "hidden": true,
    "scrolled": false
   },
   "outputs": [
    {
     "name": "stdout",
     "output_type": "stream",
     "text": [
      "lambda= 8.374801 \tcvl= -46.70331 \n",
      "lambda= 13.55071 \tcvl= -55.44112 \n",
      "lambda= 5.175911 \tcvl= -39.97299 \n",
      "lambda= 3.198889 \tcvl= -36.3063 \n",
      "lambda= 1.977022 \tcvl= -36.3903 \n",
      "lambda= 2.645125 \tcvl= -35.89841 \n",
      "lambda= 2.616473 \tcvl= -35.90233 \n",
      "lambda= 2.676443 \tcvl= -35.89494 \n",
      "lambda= 2.875999 \tcvl= -35.91903 \n",
      "lambda= 2.787286 \tcvl= -35.89266 \n",
      "lambda= 2.748065 \tcvl= -35.88762 \n",
      "lambda= 2.736801 \tcvl= -35.88916 \n",
      "lambda= 2.755413 \tcvl= -35.88672 \n",
      "lambda= 2.767587 \tcvl= -35.88632 \n",
      "lambda= 2.765108 \tcvl= -35.88565 \n",
      "lambda= 2.76203 \tcvl= -35.88598 \n",
      "lambda= 2.764352 \tcvl= -35.88573 \n",
      "lambda= 2.766055 \tcvl= -35.88585 \n",
      "lambda= 2.765204 \tcvl= -35.88564 \n",
      "lambda= 2.765529 \tcvl= -35.88569 \n"
     ]
    }
   ],
   "source": [
    "fit2a <- optL1(response = as.factor(trclass), penalized=traindata ,fusedl = TRUE, fold = 10, model = \"logistic\")"
   ]
  },
  {
   "cell_type": "code",
   "execution_count": 348,
   "metadata": {
    "hidden": true
   },
   "outputs": [
    {
     "data": {
      "text/html": [
       "2.76520351963132"
      ],
      "text/latex": [
       "2.76520351963132"
      ],
      "text/markdown": [
       "2.76520351963132"
      ],
      "text/plain": [
       "[1] 2.765204"
      ]
     },
     "metadata": {},
     "output_type": "display_data"
    },
    {
     "data": {
      "text/html": [
       "-35.8856422534832"
      ],
      "text/latex": [
       "-35.8856422534832"
      ],
      "text/markdown": [
       "-35.8856422534832"
      ],
      "text/plain": [
       "[1] -35.88564"
      ]
     },
     "metadata": {},
     "output_type": "display_data"
    }
   ],
   "source": [
    "fit2a$lambda; fit2a$cvl"
   ]
  },
  {
   "cell_type": "markdown",
   "metadata": {
    "heading_collapsed": true
   },
   "source": [
    "### Tuning L2 parameter"
   ]
  },
  {
   "cell_type": "code",
   "execution_count": 334,
   "metadata": {
    "hidden": true
   },
   "outputs": [
    {
     "name": "stdout",
     "output_type": "stream",
     "text": [
      "lambda= Inf \tcvl= -63.62315 \n",
      "lambda= 1 \tcvl= -36.95078 \n",
      "lambda= 10 \tcvl= -43.42675 \n",
      "lambda= 0.1 \tcvl= -36.70208 \n",
      "lambda= 0.01 \tcvl= -37.33339 \n",
      "lambda= 0.3881464 \tcvl= -37.64095 \n",
      "lambda= 0.6218536 \tcvl= -38.1167 \n",
      "lambda= 0.2437073 \tcvl= -36.7799 \n",
      "lambda= 0.1544391 \tcvl= -36.63092 \n",
      "lambda= 0.1536404 \tcvl= -36.62696 \n",
      "lambda= 0.09877463 \tcvl= -36.82554 \n",
      "lambda= 0.1326835 \tcvl= -36.66819 \n",
      "lambda= 0.1462545 \tcvl= -36.63122 \n",
      "lambda= 0.1503742 \tcvl= -36.62309 \n",
      "lambda= 0.1513672 \tcvl= -36.62426 \n",
      "lambda= 0.1488006 \tcvl= -36.62329 \n",
      "lambda= 0.1497139 \tcvl= -36.62231 \n",
      "lambda= 0.1496325 \tcvl= -36.62221 \n",
      "lambda= 0.1493148 \tcvl= -36.62184 \n",
      "lambda= 0.1491184 \tcvl= -36.62231 \n",
      "lambda= 0.1493886 \tcvl= -36.62193 \n",
      "lambda= 0.1492398 \tcvl= -36.62193 \n",
      "lambda= 0.1493152 \tcvl= -36.62184 \n",
      "lambda= 0.1492861 \tcvl= -36.62181 \n",
      "lambda= 0.1492684 \tcvl= -36.62184 \n"
     ]
    }
   ],
   "source": [
    "fit2a1 <- optL2(response = as.factor(trclass), penalized=traindata ,fusedl = TRUE, fold = 10,\n",
    "               model = \"logistic\", lambda1 = fit2a$lambda )"
   ]
  },
  {
   "cell_type": "code",
   "execution_count": 349,
   "metadata": {
    "hidden": true
   },
   "outputs": [
    {
     "data": {
      "text/html": [
       "0.149286113639008"
      ],
      "text/latex": [
       "0.149286113639008"
      ],
      "text/markdown": [
       "0.149286113639008"
      ],
      "text/plain": [
       "[1] 0.1492861"
      ]
     },
     "metadata": {},
     "output_type": "display_data"
    },
    {
     "data": {
      "text/html": [
       "-36.6218071621438"
      ],
      "text/latex": [
       "-36.6218071621438"
      ],
      "text/markdown": [
       "-36.6218071621438"
      ],
      "text/plain": [
       "[1] -36.62181"
      ]
     },
     "metadata": {},
     "output_type": "display_data"
    }
   ],
   "source": [
    "fit2a1$lambda; fit2a1$cvl"
   ]
  },
  {
   "cell_type": "markdown",
   "metadata": {
    "heading_collapsed": true
   },
   "source": [
    "### Cross Check"
   ]
  },
  {
   "cell_type": "code",
   "execution_count": 337,
   "metadata": {
    "hidden": true
   },
   "outputs": [
    {
     "name": "stdout",
     "output_type": "stream",
     "text": [
      "lambda= 8.273808 \tcvl= -46.55654 \n",
      "lambda= 13.3873 \tcvl= -55.41976 \n",
      "lambda= 5.113494 \tcvl= -39.718 \n",
      "lambda= 3.160313 \tcvl= -36.68453 \n",
      "lambda= 1.953181 \tcvl= -35.95552 \n",
      "lambda= 1.55135 \tcvl= -35.99962 \n",
      "lambda= 1.875977 \tcvl= -36.01572 \n",
      "lambda= 2.414265 \tcvl= -35.81494 \n",
      "lambda= 2.69923 \tcvl= -36.06982 \n",
      "lambda= 2.238146 \tcvl= -35.81539 \n",
      "lambda= 2.327415 \tcvl= -35.81164 \n",
      "lambda= 2.329033 \tcvl= -35.81171 \n",
      "lambda= 2.293317 \tcvl= -35.81089 \n",
      "lambda= 2.291445 \tcvl= -35.81089 \n",
      "lambda= 2.291642 \tcvl= -35.81089 \n",
      "lambda= 2.264894 \tcvl= -35.81132 \n",
      "lambda= 2.281304 \tcvl= -35.81096 \n",
      "lambda= 2.286473 \tcvl= -35.81091 \n",
      "lambda= 2.289058 \tcvl= -35.8109 \n",
      "lambda= 2.29035 \tcvl= -35.81089 \n",
      "lambda= 2.290996 \tcvl= -35.81089 \n"
     ]
    }
   ],
   "source": [
    "fit2a2 <- optL1(response = as.factor(trclass), penalized=traindata ,fusedl = TRUE, fold = 10,\n",
    "                model = \"logistic\", lambda2 = fit2a1$lambda)"
   ]
  },
  {
   "cell_type": "code",
   "execution_count": 351,
   "metadata": {
    "hidden": true
   },
   "outputs": [
    {
     "data": {
      "text/html": [
       "2.29144540224507"
      ],
      "text/latex": [
       "2.29144540224507"
      ],
      "text/markdown": [
       "2.29144540224507"
      ],
      "text/plain": [
       "[1] 2.291445"
      ]
     },
     "metadata": {},
     "output_type": "display_data"
    },
    {
     "data": {
      "text/html": [
       "-35.8108927287704"
      ],
      "text/latex": [
       "-35.8108927287704"
      ],
      "text/markdown": [
       "-35.8108927287704"
      ],
      "text/plain": [
       "[1] -35.81089"
      ]
     },
     "metadata": {},
     "output_type": "display_data"
    }
   ],
   "source": [
    "fit2a2$lambda; fit2a2$cvl"
   ]
  },
  {
   "cell_type": "markdown",
   "metadata": {
    "hidden": true
   },
   "source": [
    "Cvl is increased!"
   ]
  },
  {
   "cell_type": "markdown",
   "metadata": {
    "heading_collapsed": true
   },
   "source": [
    "### Re-tuning L2 "
   ]
  },
  {
   "cell_type": "code",
   "execution_count": 342,
   "metadata": {
    "hidden": true
   },
   "outputs": [
    {
     "name": "stdout",
     "output_type": "stream",
     "text": [
      "lambda= Inf \tcvl= -63.41946 \n",
      "lambda= 1 \tcvl= -36.09964 \n",
      "lambda= 10 \tcvl= -42.38113 \n",
      "lambda= 0.1 \tcvl= -34.86183 \n",
      "lambda= 0.01 \tcvl= -35.96723 \n",
      "lambda= 0.3881464 \tcvl= -35.50943 \n",
      "lambda= 0.6218536 \tcvl= -35.91821 \n",
      "lambda= 0.2437073 \tcvl= -34.83896 \n",
      "lambda= 0.1544391 \tcvl= -34.6626 \n",
      "lambda= 0.1124857 \tcvl= -34.79015 \n",
      "lambda= 0.1732303 \tcvl= -34.64507 \n",
      "lambda= 0.1772798 \tcvl= -34.63887 \n",
      "lambda= 0.2026529 \tcvl= -34.64891 \n",
      "lambda= 0.1869444 \tcvl= -34.64268 \n",
      "lambda= 0.1807098 \tcvl= -34.64056 \n",
      "lambda= 0.175733 \tcvl= -34.64036 \n",
      "lambda= 0.178152 \tcvl= -34.63927 \n",
      "lambda= 0.1773263 \tcvl= -34.63888 \n",
      "lambda= 0.176689 \tcvl= -34.6387 \n",
      "lambda= 0.1763239 \tcvl= -34.63926 \n",
      "lambda= 0.1769147 \tcvl= -34.63877 \n",
      "lambda= 0.1765495 \tcvl= -34.63887 \n",
      "lambda= 0.1767656 \tcvl= -34.63872 \n",
      "lambda= 0.1766357 \tcvl= -34.63872 \n",
      "lambda= 0.1766981 \tcvl= -34.6387 \n",
      "lambda= 0.1766669 \tcvl= -34.63869 \n"
     ]
    }
   ],
   "source": [
    "fit2a3 <- optL2(response = as.factor(trclass), penalized=traindata ,fusedl = TRUE, fold = 10,\n",
    "                model = \"logistic\", lambda1 = fit2a2$lambda)"
   ]
  },
  {
   "cell_type": "code",
   "execution_count": 352,
   "metadata": {
    "hidden": true
   },
   "outputs": [
    {
     "data": {
      "text/html": [
       "0.176666905984604"
      ],
      "text/latex": [
       "0.176666905984604"
      ],
      "text/markdown": [
       "0.176666905984604"
      ],
      "text/plain": [
       "[1] 0.1766669"
      ]
     },
     "metadata": {},
     "output_type": "display_data"
    },
    {
     "data": {
      "text/html": [
       "-34.638694170729"
      ],
      "text/latex": [
       "-34.638694170729"
      ],
      "text/markdown": [
       "-34.638694170729"
      ],
      "text/plain": [
       "[1] -34.63869"
      ]
     },
     "metadata": {},
     "output_type": "display_data"
    }
   ],
   "source": [
    "fit2a3$lambda; fit2a3$cvl"
   ]
  },
  {
   "cell_type": "markdown",
   "metadata": {
    "hidden": true
   },
   "source": [
    "Cvl is increased"
   ]
  },
  {
   "cell_type": "markdown",
   "metadata": {},
   "source": [
    "### Re-tuning L1 "
   ]
  },
  {
   "cell_type": "code",
   "execution_count": 345,
   "metadata": {},
   "outputs": [
    {
     "name": "stdout",
     "output_type": "stream",
     "text": [
      "lambda= 8.343195 \tcvl= -47.04823 \n",
      "lambda= 13.49957 \tcvl= -55.48221 \n",
      "lambda= 5.156378 \tcvl= -40.65456 \n",
      "lambda= 3.186817 \tcvl= -38.02194 \n",
      "lambda= 1.969561 \tcvl= -37.55926 \n",
      "lambda= 1.945013 \tcvl= -37.54634 \n",
      "lambda= 1.202084 \tcvl= -37.15555 \n",
      "lambda= 0.742929 \tcvl= -38.00784 \n",
      "lambda= 1.485858 \tcvl= -37.29289 \n",
      "lambda= 1.026703 \tcvl= -37.32141 \n",
      "lambda= 1.266253 \tcvl= -37.17358 \n",
      "lambda= 1.135095 \tcvl= -37.14707 \n",
      "lambda= 1.114778 \tcvl= -37.16812 \n",
      "lambda= 1.163837 \tcvl= -37.1346 \n",
      "lambda= 1.164271 \tcvl= -37.13551 \n",
      "lambda= 1.151965 \tcvl= -37.13423 \n",
      "lambda= 1.145521 \tcvl= -37.1383 \n",
      "lambda= 1.157807 \tcvl= -37.13469 \n",
      "lambda= 1.149503 \tcvl= -37.13515 \n",
      "lambda= 1.154196 \tcvl= -37.13434 \n",
      "lambda= 1.151024 \tcvl= -37.13455 \n",
      "lambda= 1.152873 \tcvl= -37.13424 \n",
      "lambda= 1.152182 \tcvl= -37.13419 \n",
      "lambda= 1.152393 \tcvl= -37.1342 \n"
     ]
    }
   ],
   "source": [
    "fit2a4 <- optL1(response = as.factor(trclass), penalized=traindata ,fusedl = TRUE, fold = 10,\n",
    "                model = \"logistic\", lambda2 = fit2a3$lambda)"
   ]
  },
  {
   "cell_type": "code",
   "execution_count": 353,
   "metadata": {},
   "outputs": [
    {
     "data": {
      "text/html": [
       "1.15218216053559"
      ],
      "text/latex": [
       "1.15218216053559"
      ],
      "text/markdown": [
       "1.15218216053559"
      ],
      "text/plain": [
       "[1] 1.152182"
      ]
     },
     "metadata": {},
     "output_type": "display_data"
    },
    {
     "data": {
      "text/html": [
       "-37.1341903892906"
      ],
      "text/latex": [
       "-37.1341903892906"
      ],
      "text/markdown": [
       "-37.1341903892906"
      ],
      "text/plain": [
       "[1] -37.13419"
      ]
     },
     "metadata": {},
     "output_type": "display_data"
    }
   ],
   "source": [
    "fit2a4$lambda; fit2a4$cvl"
   ]
  },
  {
   "cell_type": "markdown",
   "metadata": {},
   "source": [
    "Cvl is decreased!. Best pair is **L1 = 2.2914** and **L2 = 0.1767**."
   ]
  },
  {
   "cell_type": "code",
   "execution_count": 354,
   "metadata": {},
   "outputs": [
    {
     "name": "stdout",
     "output_type": "stream",
     "text": [
      "2.291445 0.1766669"
     ]
    }
   ],
   "source": [
    "l1 = fit2a2$lambda; l2 = fit2a3$lambda; cat(l1,l2)"
   ]
  },
  {
   "cell_type": "markdown",
   "metadata": {},
   "source": [
    "### Training Model "
   ]
  },
  {
   "cell_type": "code",
   "execution_count": 19,
   "metadata": {},
   "outputs": [
    {
     "name": "stdout",
     "output_type": "stream",
     "text": [
      "\n"
     ]
    }
   ],
   "source": [
    "model2a <-penalized(response = as.factor(trclass), penalized = traindata, fusedl = TRUE,\n",
    "                 model = \"logistic\", lambda1 = l1, lambda2 = l2 )"
   ]
  },
  {
   "cell_type": "code",
   "execution_count": 20,
   "metadata": {},
   "outputs": [
    {
     "data": {
      "text/plain": [
       "Penalized logistic regression object\n",
       "97 regression coefficients of which 15 are non-zero\n",
       "\n",
       "Loglikelihood =\t -27.10339 \n",
       "L1 penalty =\t 10.47812 \tat lambda1 =  2.291445 \n",
       "L2 penalty =\t 0.7876814 \tat lambda2 =  0.1766669 "
      ]
     },
     "metadata": {},
     "output_type": "display_data"
    }
   ],
   "source": [
    "model2a"
   ]
  },
  {
   "cell_type": "markdown",
   "metadata": {},
   "source": [
    "### Testing Model "
   ]
  },
  {
   "cell_type": "code",
   "execution_count": 21,
   "metadata": {},
   "outputs": [],
   "source": [
    "preds2a <- predict(model2a, penalized = testdata  )"
   ]
  },
  {
   "cell_type": "code",
   "execution_count": 22,
   "metadata": {},
   "outputs": [],
   "source": [
    "preds2aClass <- 1*(preds2a >= 0.5)"
   ]
  },
  {
   "cell_type": "code",
   "execution_count": 23,
   "metadata": {
    "scrolled": false
   },
   "outputs": [
    {
     "name": "stdout",
     "output_type": "stream",
     "text": [
      "CONFUSION MATRIX"
     ]
    },
    {
     "data": {
      "text/plain": [
       "       preds2aClass\n",
       "tsclass  0  1\n",
       "      0 24 12\n",
       "      1  6 58"
      ]
     },
     "metadata": {},
     "output_type": "display_data"
    },
    {
     "name": "stdout",
     "output_type": "stream",
     "text": [
      "Accuracy is:  82 %"
     ]
    }
   ],
   "source": [
    "cat(\"CONFUSION MATRIX\")\n",
    "table( cbind(Actuals = as.data.frame(tsclass) ,Predictions = as.data.frame(preds2aClass)  ) )\n",
    "acc = sum(preds2aClass == tsclass)/length(tsclass)\n",
    "cat(\"Accuracy is: \",acc*100,\"%\" )"
   ]
  },
  {
   "cell_type": "markdown",
   "metadata": {},
   "source": [
    "## Task b: Interpretting Coefficients "
   ]
  },
  {
   "cell_type": "code",
   "execution_count": 440,
   "metadata": {},
   "outputs": [],
   "source": [
    "Coefficients = c(model2a@unpenalized,model2a@penalized)"
   ]
  },
  {
   "cell_type": "code",
   "execution_count": 442,
   "metadata": {
    "scrolled": false
   },
   "outputs": [
    {
     "data": {
      "text/html": [
       "<dl class=dl-horizontal>\n",
       "\t<dt>(Intercept)</dt>\n",
       "\t\t<dd>0.232199169434218</dd>\n",
       "\t<dt>2</dt>\n",
       "\t\t<dd>-0.0472562659770895</dd>\n",
       "\t<dt>3</dt>\n",
       "\t\t<dd>0</dd>\n",
       "\t<dt>4</dt>\n",
       "\t\t<dd>0</dd>\n",
       "\t<dt>5</dt>\n",
       "\t\t<dd>0</dd>\n",
       "\t<dt>6</dt>\n",
       "\t\t<dd>0</dd>\n",
       "\t<dt>7</dt>\n",
       "\t\t<dd>-0.0841960758319244</dd>\n",
       "\t<dt>8</dt>\n",
       "\t\t<dd>-0.391147256887169</dd>\n",
       "\t<dt>9</dt>\n",
       "\t\t<dd>0</dd>\n",
       "\t<dt>10</dt>\n",
       "\t\t<dd>0</dd>\n",
       "\t<dt>11</dt>\n",
       "\t\t<dd>0</dd>\n",
       "\t<dt>12</dt>\n",
       "\t\t<dd>0</dd>\n",
       "\t<dt>13</dt>\n",
       "\t\t<dd>0.790640014188663</dd>\n",
       "\t<dt>14</dt>\n",
       "\t\t<dd>0</dd>\n",
       "\t<dt>15</dt>\n",
       "\t\t<dd>0</dd>\n",
       "\t<dt>16</dt>\n",
       "\t\t<dd>0</dd>\n",
       "\t<dt>17</dt>\n",
       "\t\t<dd>0</dd>\n",
       "\t<dt>18</dt>\n",
       "\t\t<dd>0</dd>\n",
       "\t<dt>19</dt>\n",
       "\t\t<dd>0</dd>\n",
       "\t<dt>20</dt>\n",
       "\t\t<dd>0</dd>\n",
       "\t<dt>21</dt>\n",
       "\t\t<dd>0</dd>\n",
       "\t<dt>22</dt>\n",
       "\t\t<dd>0</dd>\n",
       "\t<dt>23</dt>\n",
       "\t\t<dd>0</dd>\n",
       "\t<dt>24</dt>\n",
       "\t\t<dd>0</dd>\n",
       "\t<dt>25</dt>\n",
       "\t\t<dd>0</dd>\n",
       "\t<dt>26</dt>\n",
       "\t\t<dd>0</dd>\n",
       "\t<dt>27</dt>\n",
       "\t\t<dd>0</dd>\n",
       "\t<dt>28</dt>\n",
       "\t\t<dd>0</dd>\n",
       "\t<dt>29</dt>\n",
       "\t\t<dd>0</dd>\n",
       "\t<dt>30</dt>\n",
       "\t\t<dd>0</dd>\n",
       "\t<dt>31</dt>\n",
       "\t\t<dd>-0.224136477063067</dd>\n",
       "\t<dt>32</dt>\n",
       "\t\t<dd>-0.224136477063067</dd>\n",
       "\t<dt>33</dt>\n",
       "\t\t<dd>-0.224136477063067</dd>\n",
       "\t<dt>34</dt>\n",
       "\t\t<dd>-0.104883911047582</dd>\n",
       "\t<dt>35</dt>\n",
       "\t\t<dd>-0.104883911047582</dd>\n",
       "\t<dt>36</dt>\n",
       "\t\t<dd>-0.104883911047582</dd>\n",
       "\t<dt>37</dt>\n",
       "\t\t<dd>0</dd>\n",
       "\t<dt>38</dt>\n",
       "\t\t<dd>0</dd>\n",
       "\t<dt>39</dt>\n",
       "\t\t<dd>0</dd>\n",
       "\t<dt>40</dt>\n",
       "\t\t<dd>0</dd>\n",
       "\t<dt>41</dt>\n",
       "\t\t<dd>0</dd>\n",
       "\t<dt>42</dt>\n",
       "\t\t<dd>0</dd>\n",
       "\t<dt>43</dt>\n",
       "\t\t<dd>0</dd>\n",
       "\t<dt>44</dt>\n",
       "\t\t<dd>0</dd>\n",
       "\t<dt>45</dt>\n",
       "\t\t<dd>0.463257841520017</dd>\n",
       "\t<dt>46</dt>\n",
       "\t\t<dd>0.463257841520017</dd>\n",
       "\t<dt>47</dt>\n",
       "\t\t<dd>0</dd>\n",
       "\t<dt>48</dt>\n",
       "\t\t<dd>0</dd>\n",
       "\t<dt>49</dt>\n",
       "\t\t<dd>0</dd>\n",
       "\t<dt>50</dt>\n",
       "\t\t<dd>0</dd>\n",
       "\t<dt>51</dt>\n",
       "\t\t<dd>0</dd>\n",
       "\t<dt>52</dt>\n",
       "\t\t<dd>0</dd>\n",
       "\t<dt>53</dt>\n",
       "\t\t<dd>0</dd>\n",
       "\t<dt>54</dt>\n",
       "\t\t<dd>0</dd>\n",
       "\t<dt>55</dt>\n",
       "\t\t<dd>0</dd>\n",
       "\t<dt>56</dt>\n",
       "\t\t<dd>0</dd>\n",
       "\t<dt>57</dt>\n",
       "\t\t<dd>0</dd>\n",
       "\t<dt>58</dt>\n",
       "\t\t<dd>0</dd>\n",
       "\t<dt>59</dt>\n",
       "\t\t<dd>0</dd>\n",
       "\t<dt>60</dt>\n",
       "\t\t<dd>0</dd>\n",
       "\t<dt>61</dt>\n",
       "\t\t<dd>0</dd>\n",
       "\t<dt>62</dt>\n",
       "\t\t<dd>0</dd>\n",
       "\t<dt>63</dt>\n",
       "\t\t<dd>0</dd>\n",
       "\t<dt>64</dt>\n",
       "\t\t<dd>0</dd>\n",
       "\t<dt>65</dt>\n",
       "\t\t<dd>0</dd>\n",
       "\t<dt>66</dt>\n",
       "\t\t<dd>0</dd>\n",
       "\t<dt>67</dt>\n",
       "\t\t<dd>0</dd>\n",
       "\t<dt>68</dt>\n",
       "\t\t<dd>0</dd>\n",
       "\t<dt>69</dt>\n",
       "\t\t<dd>0</dd>\n",
       "\t<dt>70</dt>\n",
       "\t\t<dd>0</dd>\n",
       "\t<dt>71</dt>\n",
       "\t\t<dd>0</dd>\n",
       "\t<dt>72</dt>\n",
       "\t\t<dd>0</dd>\n",
       "\t<dt>73</dt>\n",
       "\t\t<dd>0</dd>\n",
       "\t<dt>74</dt>\n",
       "\t\t<dd>0</dd>\n",
       "\t<dt>75</dt>\n",
       "\t\t<dd>0</dd>\n",
       "\t<dt>76</dt>\n",
       "\t\t<dd>0</dd>\n",
       "\t<dt>77</dt>\n",
       "\t\t<dd>0</dd>\n",
       "\t<dt>78</dt>\n",
       "\t\t<dd>0</dd>\n",
       "\t<dt>79</dt>\n",
       "\t\t<dd>0</dd>\n",
       "\t<dt>80</dt>\n",
       "\t\t<dd>0</dd>\n",
       "\t<dt>81</dt>\n",
       "\t\t<dd>0</dd>\n",
       "\t<dt>82</dt>\n",
       "\t\t<dd>0</dd>\n",
       "\t<dt>83</dt>\n",
       "\t\t<dd>0</dd>\n",
       "\t<dt>84</dt>\n",
       "\t\t<dd>0</dd>\n",
       "\t<dt>85</dt>\n",
       "\t\t<dd>0</dd>\n",
       "\t<dt>86</dt>\n",
       "\t\t<dd>0</dd>\n",
       "\t<dt>87</dt>\n",
       "\t\t<dd>0</dd>\n",
       "\t<dt>88</dt>\n",
       "\t\t<dd>0</dd>\n",
       "\t<dt>89</dt>\n",
       "\t\t<dd>0</dd>\n",
       "\t<dt>90</dt>\n",
       "\t\t<dd>0</dd>\n",
       "\t<dt>91</dt>\n",
       "\t\t<dd>0</dd>\n",
       "\t<dt>92</dt>\n",
       "\t\t<dd>0</dd>\n",
       "\t<dt>93</dt>\n",
       "\t\t<dd>0</dd>\n",
       "\t<dt>94</dt>\n",
       "\t\t<dd>0</dd>\n",
       "\t<dt>95</dt>\n",
       "\t\t<dd>0</dd>\n",
       "\t<dt>96</dt>\n",
       "\t\t<dd>-0.672948172012308</dd>\n",
       "\t<dt>97</dt>\n",
       "\t\t<dd>-0.672948172012308</dd>\n",
       "</dl>\n"
      ],
      "text/latex": [
       "\\begin{description*}\n",
       "\\item[(Intercept)] 0.232199169434218\n",
       "\\item[2] -0.0472562659770895\n",
       "\\item[3] 0\n",
       "\\item[4] 0\n",
       "\\item[5] 0\n",
       "\\item[6] 0\n",
       "\\item[7] -0.0841960758319244\n",
       "\\item[8] -0.391147256887169\n",
       "\\item[9] 0\n",
       "\\item[10] 0\n",
       "\\item[11] 0\n",
       "\\item[12] 0\n",
       "\\item[13] 0.790640014188663\n",
       "\\item[14] 0\n",
       "\\item[15] 0\n",
       "\\item[16] 0\n",
       "\\item[17] 0\n",
       "\\item[18] 0\n",
       "\\item[19] 0\n",
       "\\item[20] 0\n",
       "\\item[21] 0\n",
       "\\item[22] 0\n",
       "\\item[23] 0\n",
       "\\item[24] 0\n",
       "\\item[25] 0\n",
       "\\item[26] 0\n",
       "\\item[27] 0\n",
       "\\item[28] 0\n",
       "\\item[29] 0\n",
       "\\item[30] 0\n",
       "\\item[31] -0.224136477063067\n",
       "\\item[32] -0.224136477063067\n",
       "\\item[33] -0.224136477063067\n",
       "\\item[34] -0.104883911047582\n",
       "\\item[35] -0.104883911047582\n",
       "\\item[36] -0.104883911047582\n",
       "\\item[37] 0\n",
       "\\item[38] 0\n",
       "\\item[39] 0\n",
       "\\item[40] 0\n",
       "\\item[41] 0\n",
       "\\item[42] 0\n",
       "\\item[43] 0\n",
       "\\item[44] 0\n",
       "\\item[45] 0.463257841520017\n",
       "\\item[46] 0.463257841520017\n",
       "\\item[47] 0\n",
       "\\item[48] 0\n",
       "\\item[49] 0\n",
       "\\item[50] 0\n",
       "\\item[51] 0\n",
       "\\item[52] 0\n",
       "\\item[53] 0\n",
       "\\item[54] 0\n",
       "\\item[55] 0\n",
       "\\item[56] 0\n",
       "\\item[57] 0\n",
       "\\item[58] 0\n",
       "\\item[59] 0\n",
       "\\item[60] 0\n",
       "\\item[61] 0\n",
       "\\item[62] 0\n",
       "\\item[63] 0\n",
       "\\item[64] 0\n",
       "\\item[65] 0\n",
       "\\item[66] 0\n",
       "\\item[67] 0\n",
       "\\item[68] 0\n",
       "\\item[69] 0\n",
       "\\item[70] 0\n",
       "\\item[71] 0\n",
       "\\item[72] 0\n",
       "\\item[73] 0\n",
       "\\item[74] 0\n",
       "\\item[75] 0\n",
       "\\item[76] 0\n",
       "\\item[77] 0\n",
       "\\item[78] 0\n",
       "\\item[79] 0\n",
       "\\item[80] 0\n",
       "\\item[81] 0\n",
       "\\item[82] 0\n",
       "\\item[83] 0\n",
       "\\item[84] 0\n",
       "\\item[85] 0\n",
       "\\item[86] 0\n",
       "\\item[87] 0\n",
       "\\item[88] 0\n",
       "\\item[89] 0\n",
       "\\item[90] 0\n",
       "\\item[91] 0\n",
       "\\item[92] 0\n",
       "\\item[93] 0\n",
       "\\item[94] 0\n",
       "\\item[95] 0\n",
       "\\item[96] -0.672948172012308\n",
       "\\item[97] -0.672948172012308\n",
       "\\end{description*}\n"
      ],
      "text/markdown": [
       "(Intercept)\n",
       ":   0.2321991694342182\n",
       ":   -0.04725626597708953\n",
       ":   04\n",
       ":   05\n",
       ":   06\n",
       ":   07\n",
       ":   -0.08419607583192448\n",
       ":   -0.3911472568871699\n",
       ":   010\n",
       ":   011\n",
       ":   012\n",
       ":   013\n",
       ":   0.79064001418866314\n",
       ":   015\n",
       ":   016\n",
       ":   017\n",
       ":   018\n",
       ":   019\n",
       ":   020\n",
       ":   021\n",
       ":   022\n",
       ":   023\n",
       ":   024\n",
       ":   025\n",
       ":   026\n",
       ":   027\n",
       ":   028\n",
       ":   029\n",
       ":   030\n",
       ":   031\n",
       ":   -0.22413647706306732\n",
       ":   -0.22413647706306733\n",
       ":   -0.22413647706306734\n",
       ":   -0.10488391104758235\n",
       ":   -0.10488391104758236\n",
       ":   -0.10488391104758237\n",
       ":   038\n",
       ":   039\n",
       ":   040\n",
       ":   041\n",
       ":   042\n",
       ":   043\n",
       ":   044\n",
       ":   045\n",
       ":   0.46325784152001746\n",
       ":   0.46325784152001747\n",
       ":   048\n",
       ":   049\n",
       ":   050\n",
       ":   051\n",
       ":   052\n",
       ":   053\n",
       ":   054\n",
       ":   055\n",
       ":   056\n",
       ":   057\n",
       ":   058\n",
       ":   059\n",
       ":   060\n",
       ":   061\n",
       ":   062\n",
       ":   063\n",
       ":   064\n",
       ":   065\n",
       ":   066\n",
       ":   067\n",
       ":   068\n",
       ":   069\n",
       ":   070\n",
       ":   071\n",
       ":   072\n",
       ":   073\n",
       ":   074\n",
       ":   075\n",
       ":   076\n",
       ":   077\n",
       ":   078\n",
       ":   079\n",
       ":   080\n",
       ":   081\n",
       ":   082\n",
       ":   083\n",
       ":   084\n",
       ":   085\n",
       ":   086\n",
       ":   087\n",
       ":   088\n",
       ":   089\n",
       ":   090\n",
       ":   091\n",
       ":   092\n",
       ":   093\n",
       ":   094\n",
       ":   095\n",
       ":   096\n",
       ":   -0.67294817201230897\n",
       ":   -0.672948172012308\n",
       "\n"
      ],
      "text/plain": [
       "(Intercept)                                                             \n",
       " 0.23219917 -0.04725627  0.00000000  0.00000000  0.00000000  0.00000000 \n",
       "                                                                        \n",
       "-0.08419608 -0.39114726  0.00000000  0.00000000  0.00000000  0.00000000 \n",
       "                                                                        \n",
       " 0.79064001  0.00000000  0.00000000  0.00000000  0.00000000  0.00000000 \n",
       "                                                                        \n",
       " 0.00000000  0.00000000  0.00000000  0.00000000  0.00000000  0.00000000 \n",
       "                                                                        \n",
       " 0.00000000  0.00000000  0.00000000  0.00000000  0.00000000  0.00000000 \n",
       "                                                                        \n",
       "-0.22413648 -0.22413648 -0.22413648 -0.10488391 -0.10488391 -0.10488391 \n",
       "                                                                        \n",
       " 0.00000000  0.00000000  0.00000000  0.00000000  0.00000000  0.00000000 \n",
       "                                                                        \n",
       " 0.00000000  0.00000000  0.46325784  0.46325784  0.00000000  0.00000000 \n",
       "                                                                        \n",
       " 0.00000000  0.00000000  0.00000000  0.00000000  0.00000000  0.00000000 \n",
       "                                                                        \n",
       " 0.00000000  0.00000000  0.00000000  0.00000000  0.00000000  0.00000000 \n",
       "                                                                        \n",
       " 0.00000000  0.00000000  0.00000000  0.00000000  0.00000000  0.00000000 \n",
       "                                                                        \n",
       " 0.00000000  0.00000000  0.00000000  0.00000000  0.00000000  0.00000000 \n",
       "                                                                        \n",
       " 0.00000000  0.00000000  0.00000000  0.00000000  0.00000000  0.00000000 \n",
       "                                                                        \n",
       " 0.00000000  0.00000000  0.00000000  0.00000000  0.00000000  0.00000000 \n",
       "                                                                        \n",
       " 0.00000000  0.00000000  0.00000000  0.00000000  0.00000000  0.00000000 \n",
       "                                                                        \n",
       " 0.00000000  0.00000000  0.00000000  0.00000000  0.00000000 -0.67294817 \n",
       "            \n",
       "-0.67294817 "
      ]
     },
     "metadata": {},
     "output_type": "display_data"
    }
   ],
   "source": [
    "Coefficients"
   ]
  },
  {
   "cell_type": "code",
   "execution_count": 445,
   "metadata": {},
   "outputs": [
    {
     "data": {
      "text/html": [
       "<ol class=list-inline>\n",
       "\t<li>100</li>\n",
       "\t<li>96</li>\n",
       "</ol>\n"
      ],
      "text/latex": [
       "\\begin{enumerate*}\n",
       "\\item 100\n",
       "\\item 96\n",
       "\\end{enumerate*}\n"
      ],
      "text/markdown": [
       "1. 100\n",
       "2. 96\n",
       "\n",
       "\n"
      ],
      "text/plain": [
       "[1] 100  96"
      ]
     },
     "metadata": {},
     "output_type": "display_data"
    }
   ],
   "source": [
    "dim(testdata)"
   ]
  },
  {
   "cell_type": "markdown",
   "metadata": {},
   "source": [
    "Only **15** coefficients of the model is not equal to zero out of **96**. When we look at the coefficients, an interesting fact draws attention. We can see that many consecutive coefficients are equal. This outcome can be attributed to the fused loss function as equal consecutive coefficients would contribute zero to the fused loss function. Consecutive non-zero coefficients are as below:\n",
    "\n",
    "$\\theta_0 \\neq \\theta_1$   \n",
    "$\\theta_6 \\neq \\theta_7$   \n",
    "$\\theta_{30} = \\theta_{31} = \\theta_{32}$   \n",
    "$\\theta_{33} = \\theta_{34} = \\theta_{35}$    \n",
    "$\\theta_{44} = \\theta_{45}$   \n",
    "$\\theta_{95} = \\theta_{96}$   \n",
    "\n",
    "Among coefficients, the one with highest values is $\\theta_{12}$ and the ones with lowest value are $\\theta_{95} = \\theta_{96}$"
   ]
  },
  {
   "cell_type": "markdown",
   "metadata": {},
   "source": [
    "## Task c: Using Differences "
   ]
  },
  {
   "cell_type": "markdown",
   "metadata": {
    "heading_collapsed": true
   },
   "source": [
    "### Creating Datasets "
   ]
  },
  {
   "cell_type": "code",
   "execution_count": 6,
   "metadata": {
    "hidden": true
   },
   "outputs": [],
   "source": [
    "diffstrain = traindata[,-1] - traindata[,- dim(traindata)[2] ]\n",
    "diffstest = testdata[,-1] - testdata[,- dim(testdata)[2] ]"
   ]
  },
  {
   "cell_type": "markdown",
   "metadata": {
    "heading_collapsed": true
   },
   "source": [
    "### Tuning L1"
   ]
  },
  {
   "cell_type": "code",
   "execution_count": 7,
   "metadata": {
    "hidden": true
   },
   "outputs": [
    {
     "name": "stdout",
     "output_type": "stream",
     "text": [
      "lambda= 5.59949 \tcvl= -51.99793 \n",
      "lambda= 9.060165 \tcvl= -56.39873 \n",
      "lambda= 3.460675 \tcvl= -49.14314 \n",
      "lambda= 2.138815 \tcvl= -43.9736 \n",
      "lambda= 1.32186 \tcvl= -40.42611 \n",
      "lambda= 0.8169546 \tcvl= -40.92711 \n",
      "lambda= 1.192344 \tcvl= -39.96897 \n",
      "lambda= 1.110594 \tcvl= -39.8498 \n",
      "lambda= 1.077145 \tcvl= -39.86034 \n",
      "lambda= 1.104112 \tcvl= -39.84348 \n",
      "lambda= 1.097165 \tcvl= -39.84234 \n",
      "lambda= 1.09929 \tcvl= -39.8419 \n",
      "lambda= 1.099579 \tcvl= -39.84185 \n",
      "lambda= 1.10131 \tcvl= -39.84156 \n",
      "lambda= 1.102381 \tcvl= -39.8419 \n",
      "lambda= 1.100927 \tcvl= -39.84162 \n",
      "lambda= 1.101719 \tcvl= -39.8415 \n",
      "lambda= 1.101972 \tcvl= -39.84154 \n",
      "lambda= 1.101682 \tcvl= -39.8415 \n"
     ]
    }
   ],
   "source": [
    "set.seed(7)\n",
    "fit2b1 <- optL1(response = as.factor(trclass), penalized=diffstrain ,fusedl = TRUE, fold = 10, model = \"logistic\")"
   ]
  },
  {
   "cell_type": "code",
   "execution_count": 8,
   "metadata": {
    "hidden": true
   },
   "outputs": [
    {
     "data": {
      "text/html": [
       "1.10171927617207"
      ],
      "text/latex": [
       "1.10171927617207"
      ],
      "text/markdown": [
       "1.10171927617207"
      ],
      "text/plain": [
       "[1] 1.101719"
      ]
     },
     "metadata": {},
     "output_type": "display_data"
    },
    {
     "data": {
      "text/html": [
       "-39.841498890703"
      ],
      "text/latex": [
       "-39.841498890703"
      ],
      "text/markdown": [
       "-39.841498890703"
      ],
      "text/plain": [
       "[1] -39.8415"
      ]
     },
     "metadata": {},
     "output_type": "display_data"
    }
   ],
   "source": [
    "fit2b1$lambda; fit2b1$cvl"
   ]
  },
  {
   "cell_type": "markdown",
   "metadata": {
    "heading_collapsed": true
   },
   "source": [
    "### Tuning L2"
   ]
  },
  {
   "cell_type": "code",
   "execution_count": 9,
   "metadata": {
    "hidden": true
   },
   "outputs": [
    {
     "name": "stdout",
     "output_type": "stream",
     "text": [
      "lambda= Inf \tcvl= -63.15148 \n",
      "lambda= 1 \tcvl= -40.87305 \n",
      "lambda= 10 \tcvl= -55.08197 \n",
      "lambda= 0.1 \tcvl= -39.48898 \n",
      "lambda= 0.01 \tcvl= -39.84736 \n",
      "lambda= 0.3881464 \tcvl= -40.1331 \n",
      "lambda= 0.6218536 \tcvl= -40.42495 \n",
      "lambda= 0.2437073 \tcvl= -39.35899 \n",
      "lambda= 0.1544391 \tcvl= -39.40302 \n",
      "lambda= 0.2089226 \tcvl= -39.36683 \n",
      "lambda= 0.2492229 \tcvl= -39.38044 \n",
      "lambda= 0.2274182 \tcvl= -39.36134 \n",
      "lambda= 0.2374854 \tcvl= -39.36182 \n",
      "lambda= 0.2413308 \tcvl= -39.36468 \n",
      "lambda= 0.2458141 \tcvl= -39.37307 \n",
      "lambda= 0.2427995 \tcvl= -39.36685 \n",
      "lambda= 0.244512 \tcvl= -39.37035 \n",
      "lambda= 0.2433606 \tcvl= -39.36798 \n",
      "lambda= 0.2440147 \tcvl= -39.36932 \n",
      "lambda= 0.2435749 \tcvl= -39.36842 \n",
      "lambda= 0.2438247 \tcvl= -39.36893 \n",
      "lambda= 0.2436567 \tcvl= -39.36859 \n",
      "lambda= 0.2437521 \tcvl= -39.36878 \n"
     ]
    }
   ],
   "source": [
    "set.seed(7)\n",
    "fit2b2 <- optL2(response = as.factor(trclass), penalized=diffstrain ,fusedl = TRUE, fold = 10,\n",
    "                model = \"logistic\", lambda1 = fit2b1$lambda)"
   ]
  },
  {
   "cell_type": "code",
   "execution_count": 10,
   "metadata": {
    "hidden": true
   },
   "outputs": [
    {
     "data": {
      "text/html": [
       "0.243707297724792"
      ],
      "text/latex": [
       "0.243707297724792"
      ],
      "text/markdown": [
       "0.243707297724792"
      ],
      "text/plain": [
       "[1] 0.2437073"
      ]
     },
     "metadata": {},
     "output_type": "display_data"
    },
    {
     "data": {
      "text/html": [
       "-39.358987140136"
      ],
      "text/latex": [
       "-39.358987140136"
      ],
      "text/markdown": [
       "-39.358987140136"
      ],
      "text/plain": [
       "[1] -39.35899"
      ]
     },
     "metadata": {},
     "output_type": "display_data"
    }
   ],
   "source": [
    "fit2b2$lambda; fit2b2$cvl"
   ]
  },
  {
   "cell_type": "markdown",
   "metadata": {
    "hidden": true
   },
   "source": [
    "(Note: I could note tune further because of crashes) "
   ]
  },
  {
   "cell_type": "code",
   "execution_count": 11,
   "metadata": {
    "hidden": true
   },
   "outputs": [
    {
     "name": "stdout",
     "output_type": "stream",
     "text": [
      "1.101719 0.2437073"
     ]
    }
   ],
   "source": [
    "l1 = fit2b1$lambda; l2 = fit2b2$lambda; cat(l1,l2)"
   ]
  },
  {
   "cell_type": "markdown",
   "metadata": {
    "heading_collapsed": true
   },
   "source": [
    "### Training Model"
   ]
  },
  {
   "cell_type": "code",
   "execution_count": 12,
   "metadata": {
    "hidden": true
   },
   "outputs": [
    {
     "name": "stdout",
     "output_type": "stream",
     "text": [
      "\n"
     ]
    }
   ],
   "source": [
    "set.seed(7)\n",
    "model2b <-penalized(response = as.factor(trclass), penalized = diffstrain, fusedl = TRUE,\n",
    "                 model = \"logistic\", lambda1 = l1, lambda2 = l2 )"
   ]
  },
  {
   "cell_type": "code",
   "execution_count": 13,
   "metadata": {
    "hidden": true
   },
   "outputs": [
    {
     "data": {
      "text/plain": [
       "Penalized logistic regression object\n",
       "96 regression coefficients of which 21 are non-zero\n",
       "\n",
       "Loglikelihood =\t -29.43123 \n",
       "L1 penalty =\t 11.05014 \tat lambda1 =  1.101719 \n",
       "L2 penalty =\t 2.022953 \tat lambda2 =  0.2437073 "
      ]
     },
     "metadata": {},
     "output_type": "display_data"
    }
   ],
   "source": [
    "model2b"
   ]
  },
  {
   "cell_type": "markdown",
   "metadata": {},
   "source": [
    "### Testing Model "
   ]
  },
  {
   "cell_type": "code",
   "execution_count": 14,
   "metadata": {},
   "outputs": [],
   "source": [
    "preds2b <- predict(model2b, penalized = diffstest  )"
   ]
  },
  {
   "cell_type": "code",
   "execution_count": 15,
   "metadata": {},
   "outputs": [],
   "source": [
    "preds2bClass <- 1*(preds2b >= 0.5)"
   ]
  },
  {
   "cell_type": "code",
   "execution_count": 27,
   "metadata": {
    "scrolled": false
   },
   "outputs": [
    {
     "name": "stdout",
     "output_type": "stream",
     "text": [
      "MODEL A CONFUSION MATRIX"
     ]
    },
    {
     "data": {
      "text/plain": [
       "       preds2aClass\n",
       "tsclass  0  1\n",
       "      0 24 12\n",
       "      1  6 58"
      ]
     },
     "metadata": {},
     "output_type": "display_data"
    },
    {
     "name": "stdout",
     "output_type": "stream",
     "text": [
      "Accuracy is:  82 %\n",
      "\n",
      "MODEL B CONFUSION MATRIX"
     ]
    },
    {
     "data": {
      "text/plain": [
       "       preds2bClass\n",
       "tsclass  0  1\n",
       "      0 27  9\n",
       "      1  7 57"
      ]
     },
     "metadata": {},
     "output_type": "display_data"
    },
    {
     "name": "stdout",
     "output_type": "stream",
     "text": [
      "Accuracy is:  84 %"
     ]
    }
   ],
   "source": [
    "cat(\"MODEL A CONFUSION MATRIX\")\n",
    "table( cbind(Actuals = as.data.frame(tsclass) ,Predictions = as.data.frame(preds2aClass)  ) )\n",
    "acc = sum(preds2aClass == tsclass)/length(tsclass)\n",
    "cat(\"Accuracy is: \",acc*100,\"%\\n\\n\" )\n",
    "\n",
    "cat(\"MODEL B CONFUSION MATRIX\")\n",
    "table( cbind(Actuals = as.data.frame(tsclass) ,Predictions = as.data.frame(preds2bClass)  ) )\n",
    "acc = sum(preds2bClass == tsclass)/length(tsclass)\n",
    "cat(\"Accuracy is: \",acc*100,\"%\" )"
   ]
  },
  {
   "cell_type": "markdown",
   "metadata": {},
   "source": [
    "Looking at confusion matricies, in the second model, **3 more observations** from **class -1**, and **1 less observation** from **class 1** were predicted correctly. Overall, second model is better looking at accuracy scores which are **82%** and **84%** in order.         \n",
    "To sum up, **Model B** has better **Accuracy** and **Specifity** rate and **Model A** has better **Sensitivity** rate. "
   ]
  },
  {
   "cell_type": "markdown",
   "metadata": {
    "heading_collapsed": true
   },
   "source": [
    "## Task d: Interpretting Coefficients "
   ]
  },
  {
   "cell_type": "code",
   "execution_count": 30,
   "metadata": {
    "hidden": true
   },
   "outputs": [],
   "source": [
    "CoefficientsB = c(model2b@unpenalized,model2b@penalized)"
   ]
  },
  {
   "cell_type": "code",
   "execution_count": 31,
   "metadata": {
    "hidden": true,
    "scrolled": false
   },
   "outputs": [
    {
     "data": {
      "text/html": [
       "<dl class=dl-horizontal>\n",
       "\t<dt>(Intercept)</dt>\n",
       "\t\t<dd>-0.58923663779798</dd>\n",
       "\t<dt>2</dt>\n",
       "\t\t<dd>0.303994674218526</dd>\n",
       "\t<dt>3</dt>\n",
       "\t\t<dd>0.893885949063488</dd>\n",
       "\t<dt>4</dt>\n",
       "\t\t<dd>0</dd>\n",
       "\t<dt>5</dt>\n",
       "\t\t<dd>-0.453347090558684</dd>\n",
       "\t<dt>6</dt>\n",
       "\t\t<dd>-0.0521083323782678</dd>\n",
       "\t<dt>7</dt>\n",
       "\t\t<dd>0</dd>\n",
       "\t<dt>8</dt>\n",
       "\t\t<dd>0.278239390994089</dd>\n",
       "\t<dt>9</dt>\n",
       "\t\t<dd>0.287141597524279</dd>\n",
       "\t<dt>10</dt>\n",
       "\t\t<dd>0.287141597524279</dd>\n",
       "\t<dt>11</dt>\n",
       "\t\t<dd>0.281684139093484</dd>\n",
       "\t<dt>12</dt>\n",
       "\t\t<dd>0.281684139093484</dd>\n",
       "\t<dt>13</dt>\n",
       "\t\t<dd>0</dd>\n",
       "\t<dt>14</dt>\n",
       "\t\t<dd>0</dd>\n",
       "\t<dt>15</dt>\n",
       "\t\t<dd>0</dd>\n",
       "\t<dt>16</dt>\n",
       "\t\t<dd>0</dd>\n",
       "\t<dt>17</dt>\n",
       "\t\t<dd>0</dd>\n",
       "\t<dt>18</dt>\n",
       "\t\t<dd>0</dd>\n",
       "\t<dt>19</dt>\n",
       "\t\t<dd>0</dd>\n",
       "\t<dt>20</dt>\n",
       "\t\t<dd>0</dd>\n",
       "\t<dt>21</dt>\n",
       "\t\t<dd>0</dd>\n",
       "\t<dt>22</dt>\n",
       "\t\t<dd>0</dd>\n",
       "\t<dt>23</dt>\n",
       "\t\t<dd>0</dd>\n",
       "\t<dt>24</dt>\n",
       "\t\t<dd>0</dd>\n",
       "\t<dt>25</dt>\n",
       "\t\t<dd>0</dd>\n",
       "\t<dt>26</dt>\n",
       "\t\t<dd>0</dd>\n",
       "\t<dt>27</dt>\n",
       "\t\t<dd>0</dd>\n",
       "\t<dt>28</dt>\n",
       "\t\t<dd>0</dd>\n",
       "\t<dt>29</dt>\n",
       "\t\t<dd>-0.236931277343182</dd>\n",
       "\t<dt>30</dt>\n",
       "\t\t<dd>-0.236931277343182</dd>\n",
       "\t<dt>31</dt>\n",
       "\t\t<dd>0</dd>\n",
       "\t<dt>32</dt>\n",
       "\t\t<dd>0</dd>\n",
       "\t<dt>33</dt>\n",
       "\t\t<dd>0</dd>\n",
       "\t<dt>34</dt>\n",
       "\t\t<dd>0</dd>\n",
       "\t<dt>35</dt>\n",
       "\t\t<dd>0</dd>\n",
       "\t<dt>36</dt>\n",
       "\t\t<dd>0.556061989193453</dd>\n",
       "\t<dt>37</dt>\n",
       "\t\t<dd>0.602121232319494</dd>\n",
       "\t<dt>38</dt>\n",
       "\t\t<dd>0.997918362341551</dd>\n",
       "\t<dt>39</dt>\n",
       "\t\t<dd>0.997918362341551</dd>\n",
       "\t<dt>40</dt>\n",
       "\t\t<dd>0.997918362341551</dd>\n",
       "\t<dt>41</dt>\n",
       "\t\t<dd>0.244315568107497</dd>\n",
       "\t<dt>42</dt>\n",
       "\t\t<dd>0</dd>\n",
       "\t<dt>43</dt>\n",
       "\t\t<dd>0</dd>\n",
       "\t<dt>44</dt>\n",
       "\t\t<dd>0</dd>\n",
       "\t<dt>45</dt>\n",
       "\t\t<dd>0</dd>\n",
       "\t<dt>46</dt>\n",
       "\t\t<dd>0</dd>\n",
       "\t<dt>47</dt>\n",
       "\t\t<dd>0</dd>\n",
       "\t<dt>48</dt>\n",
       "\t\t<dd>0</dd>\n",
       "\t<dt>49</dt>\n",
       "\t\t<dd>0</dd>\n",
       "\t<dt>50</dt>\n",
       "\t\t<dd>0</dd>\n",
       "\t<dt>51</dt>\n",
       "\t\t<dd>0</dd>\n",
       "\t<dt>52</dt>\n",
       "\t\t<dd>0</dd>\n",
       "\t<dt>53</dt>\n",
       "\t\t<dd>0</dd>\n",
       "\t<dt>54</dt>\n",
       "\t\t<dd>0</dd>\n",
       "\t<dt>55</dt>\n",
       "\t\t<dd>0</dd>\n",
       "\t<dt>56</dt>\n",
       "\t\t<dd>0</dd>\n",
       "\t<dt>57</dt>\n",
       "\t\t<dd>0</dd>\n",
       "\t<dt>58</dt>\n",
       "\t\t<dd>0</dd>\n",
       "\t<dt>59</dt>\n",
       "\t\t<dd>0</dd>\n",
       "\t<dt>60</dt>\n",
       "\t\t<dd>0</dd>\n",
       "\t<dt>61</dt>\n",
       "\t\t<dd>0</dd>\n",
       "\t<dt>62</dt>\n",
       "\t\t<dd>0</dd>\n",
       "\t<dt>63</dt>\n",
       "\t\t<dd>0</dd>\n",
       "\t<dt>64</dt>\n",
       "\t\t<dd>0</dd>\n",
       "\t<dt>65</dt>\n",
       "\t\t<dd>0</dd>\n",
       "\t<dt>66</dt>\n",
       "\t\t<dd>0</dd>\n",
       "\t<dt>67</dt>\n",
       "\t\t<dd>0</dd>\n",
       "\t<dt>68</dt>\n",
       "\t\t<dd>0</dd>\n",
       "\t<dt>69</dt>\n",
       "\t\t<dd>0</dd>\n",
       "\t<dt>70</dt>\n",
       "\t\t<dd>0</dd>\n",
       "\t<dt>71</dt>\n",
       "\t\t<dd>0</dd>\n",
       "\t<dt>72</dt>\n",
       "\t\t<dd>0</dd>\n",
       "\t<dt>73</dt>\n",
       "\t\t<dd>0</dd>\n",
       "\t<dt>74</dt>\n",
       "\t\t<dd>0</dd>\n",
       "\t<dt>75</dt>\n",
       "\t\t<dd>0</dd>\n",
       "\t<dt>76</dt>\n",
       "\t\t<dd>0</dd>\n",
       "\t<dt>77</dt>\n",
       "\t\t<dd>0</dd>\n",
       "\t<dt>78</dt>\n",
       "\t\t<dd>-0.825733741530411</dd>\n",
       "\t<dt>79</dt>\n",
       "\t\t<dd>0</dd>\n",
       "\t<dt>80</dt>\n",
       "\t\t<dd>0</dd>\n",
       "\t<dt>81</dt>\n",
       "\t\t<dd>0</dd>\n",
       "\t<dt>82</dt>\n",
       "\t\t<dd>0</dd>\n",
       "\t<dt>83</dt>\n",
       "\t\t<dd>0</dd>\n",
       "\t<dt>84</dt>\n",
       "\t\t<dd>0</dd>\n",
       "\t<dt>85</dt>\n",
       "\t\t<dd>0</dd>\n",
       "\t<dt>86</dt>\n",
       "\t\t<dd>0</dd>\n",
       "\t<dt>87</dt>\n",
       "\t\t<dd>0</dd>\n",
       "\t<dt>88</dt>\n",
       "\t\t<dd>0</dd>\n",
       "\t<dt>89</dt>\n",
       "\t\t<dd>0</dd>\n",
       "\t<dt>90</dt>\n",
       "\t\t<dd>0</dd>\n",
       "\t<dt>91</dt>\n",
       "\t\t<dd>0</dd>\n",
       "\t<dt>92</dt>\n",
       "\t\t<dd>0</dd>\n",
       "\t<dt>93</dt>\n",
       "\t\t<dd>0</dd>\n",
       "\t<dt>94</dt>\n",
       "\t\t<dd>-0.607413693627478</dd>\n",
       "\t<dt>95</dt>\n",
       "\t\t<dd>-0.607413693627478</dd>\n",
       "\t<dt>96</dt>\n",
       "\t\t<dd>0</dd>\n",
       "</dl>\n"
      ],
      "text/latex": [
       "\\begin{description*}\n",
       "\\item[(Intercept)] -0.58923663779798\n",
       "\\item[2] 0.303994674218526\n",
       "\\item[3] 0.893885949063488\n",
       "\\item[4] 0\n",
       "\\item[5] -0.453347090558684\n",
       "\\item[6] -0.0521083323782678\n",
       "\\item[7] 0\n",
       "\\item[8] 0.278239390994089\n",
       "\\item[9] 0.287141597524279\n",
       "\\item[10] 0.287141597524279\n",
       "\\item[11] 0.281684139093484\n",
       "\\item[12] 0.281684139093484\n",
       "\\item[13] 0\n",
       "\\item[14] 0\n",
       "\\item[15] 0\n",
       "\\item[16] 0\n",
       "\\item[17] 0\n",
       "\\item[18] 0\n",
       "\\item[19] 0\n",
       "\\item[20] 0\n",
       "\\item[21] 0\n",
       "\\item[22] 0\n",
       "\\item[23] 0\n",
       "\\item[24] 0\n",
       "\\item[25] 0\n",
       "\\item[26] 0\n",
       "\\item[27] 0\n",
       "\\item[28] 0\n",
       "\\item[29] -0.236931277343182\n",
       "\\item[30] -0.236931277343182\n",
       "\\item[31] 0\n",
       "\\item[32] 0\n",
       "\\item[33] 0\n",
       "\\item[34] 0\n",
       "\\item[35] 0\n",
       "\\item[36] 0.556061989193453\n",
       "\\item[37] 0.602121232319494\n",
       "\\item[38] 0.997918362341551\n",
       "\\item[39] 0.997918362341551\n",
       "\\item[40] 0.997918362341551\n",
       "\\item[41] 0.244315568107497\n",
       "\\item[42] 0\n",
       "\\item[43] 0\n",
       "\\item[44] 0\n",
       "\\item[45] 0\n",
       "\\item[46] 0\n",
       "\\item[47] 0\n",
       "\\item[48] 0\n",
       "\\item[49] 0\n",
       "\\item[50] 0\n",
       "\\item[51] 0\n",
       "\\item[52] 0\n",
       "\\item[53] 0\n",
       "\\item[54] 0\n",
       "\\item[55] 0\n",
       "\\item[56] 0\n",
       "\\item[57] 0\n",
       "\\item[58] 0\n",
       "\\item[59] 0\n",
       "\\item[60] 0\n",
       "\\item[61] 0\n",
       "\\item[62] 0\n",
       "\\item[63] 0\n",
       "\\item[64] 0\n",
       "\\item[65] 0\n",
       "\\item[66] 0\n",
       "\\item[67] 0\n",
       "\\item[68] 0\n",
       "\\item[69] 0\n",
       "\\item[70] 0\n",
       "\\item[71] 0\n",
       "\\item[72] 0\n",
       "\\item[73] 0\n",
       "\\item[74] 0\n",
       "\\item[75] 0\n",
       "\\item[76] 0\n",
       "\\item[77] 0\n",
       "\\item[78] -0.825733741530411\n",
       "\\item[79] 0\n",
       "\\item[80] 0\n",
       "\\item[81] 0\n",
       "\\item[82] 0\n",
       "\\item[83] 0\n",
       "\\item[84] 0\n",
       "\\item[85] 0\n",
       "\\item[86] 0\n",
       "\\item[87] 0\n",
       "\\item[88] 0\n",
       "\\item[89] 0\n",
       "\\item[90] 0\n",
       "\\item[91] 0\n",
       "\\item[92] 0\n",
       "\\item[93] 0\n",
       "\\item[94] -0.607413693627478\n",
       "\\item[95] -0.607413693627478\n",
       "\\item[96] 0\n",
       "\\end{description*}\n"
      ],
      "text/markdown": [
       "(Intercept)\n",
       ":   -0.589236637797982\n",
       ":   0.3039946742185263\n",
       ":   0.8938859490634884\n",
       ":   05\n",
       ":   -0.4533470905586846\n",
       ":   -0.05210833237826787\n",
       ":   08\n",
       ":   0.2782393909940899\n",
       ":   0.28714159752427910\n",
       ":   0.28714159752427911\n",
       ":   0.28168413909348412\n",
       ":   0.28168413909348413\n",
       ":   014\n",
       ":   015\n",
       ":   016\n",
       ":   017\n",
       ":   018\n",
       ":   019\n",
       ":   020\n",
       ":   021\n",
       ":   022\n",
       ":   023\n",
       ":   024\n",
       ":   025\n",
       ":   026\n",
       ":   027\n",
       ":   028\n",
       ":   029\n",
       ":   -0.23693127734318230\n",
       ":   -0.23693127734318231\n",
       ":   032\n",
       ":   033\n",
       ":   034\n",
       ":   035\n",
       ":   036\n",
       ":   0.55606198919345337\n",
       ":   0.60212123231949438\n",
       ":   0.99791836234155139\n",
       ":   0.99791836234155140\n",
       ":   0.99791836234155141\n",
       ":   0.24431556810749742\n",
       ":   043\n",
       ":   044\n",
       ":   045\n",
       ":   046\n",
       ":   047\n",
       ":   048\n",
       ":   049\n",
       ":   050\n",
       ":   051\n",
       ":   052\n",
       ":   053\n",
       ":   054\n",
       ":   055\n",
       ":   056\n",
       ":   057\n",
       ":   058\n",
       ":   059\n",
       ":   060\n",
       ":   061\n",
       ":   062\n",
       ":   063\n",
       ":   064\n",
       ":   065\n",
       ":   066\n",
       ":   067\n",
       ":   068\n",
       ":   069\n",
       ":   070\n",
       ":   071\n",
       ":   072\n",
       ":   073\n",
       ":   074\n",
       ":   075\n",
       ":   076\n",
       ":   077\n",
       ":   078\n",
       ":   -0.82573374153041179\n",
       ":   080\n",
       ":   081\n",
       ":   082\n",
       ":   083\n",
       ":   084\n",
       ":   085\n",
       ":   086\n",
       ":   087\n",
       ":   088\n",
       ":   089\n",
       ":   090\n",
       ":   091\n",
       ":   092\n",
       ":   093\n",
       ":   094\n",
       ":   -0.60741369362747895\n",
       ":   -0.60741369362747896\n",
       ":   0\n",
       "\n"
      ],
      "text/plain": [
       "(Intercept)                                                             \n",
       "-0.58923664  0.30399467  0.89388595  0.00000000 -0.45334709 -0.05210833 \n",
       "                                                                        \n",
       " 0.00000000  0.27823939  0.28714160  0.28714160  0.28168414  0.28168414 \n",
       "                                                                        \n",
       " 0.00000000  0.00000000  0.00000000  0.00000000  0.00000000  0.00000000 \n",
       "                                                                        \n",
       " 0.00000000  0.00000000  0.00000000  0.00000000  0.00000000  0.00000000 \n",
       "                                                                        \n",
       " 0.00000000  0.00000000  0.00000000  0.00000000 -0.23693128 -0.23693128 \n",
       "                                                                        \n",
       " 0.00000000  0.00000000  0.00000000  0.00000000  0.00000000  0.55606199 \n",
       "                                                                        \n",
       " 0.60212123  0.99791836  0.99791836  0.99791836  0.24431557  0.00000000 \n",
       "                                                                        \n",
       " 0.00000000  0.00000000  0.00000000  0.00000000  0.00000000  0.00000000 \n",
       "                                                                        \n",
       " 0.00000000  0.00000000  0.00000000  0.00000000  0.00000000  0.00000000 \n",
       "                                                                        \n",
       " 0.00000000  0.00000000  0.00000000  0.00000000  0.00000000  0.00000000 \n",
       "                                                                        \n",
       " 0.00000000  0.00000000  0.00000000  0.00000000  0.00000000  0.00000000 \n",
       "                                                                        \n",
       " 0.00000000  0.00000000  0.00000000  0.00000000  0.00000000  0.00000000 \n",
       "                                                                        \n",
       " 0.00000000  0.00000000  0.00000000  0.00000000  0.00000000 -0.82573374 \n",
       "                                                                        \n",
       " 0.00000000  0.00000000  0.00000000  0.00000000  0.00000000  0.00000000 \n",
       "                                                                        \n",
       " 0.00000000  0.00000000  0.00000000  0.00000000  0.00000000  0.00000000 \n",
       "                                                                        \n",
       " 0.00000000  0.00000000  0.00000000 -0.60741369 -0.60741369  0.00000000 "
      ]
     },
     "metadata": {},
     "output_type": "display_data"
    }
   ],
   "source": [
    "CoefficientsB"
   ]
  },
  {
   "cell_type": "code",
   "execution_count": 38,
   "metadata": {
    "hidden": true
   },
   "outputs": [
    {
     "data": {
      "text/html": [
       "21"
      ],
      "text/latex": [
       "21"
      ],
      "text/markdown": [
       "21"
      ],
      "text/plain": [
       "[1] 21"
      ]
     },
     "metadata": {},
     "output_type": "display_data"
    }
   ],
   "source": [
    "length(coef(model2b))"
   ]
  },
  {
   "cell_type": "code",
   "execution_count": 39,
   "metadata": {
    "hidden": true
   },
   "outputs": [
    {
     "data": {
      "text/html": [
       "<ol class=list-inline>\n",
       "\t<li>100</li>\n",
       "\t<li>95</li>\n",
       "</ol>\n"
      ],
      "text/latex": [
       "\\begin{enumerate*}\n",
       "\\item 100\n",
       "\\item 95\n",
       "\\end{enumerate*}\n"
      ],
      "text/markdown": [
       "1. 100\n",
       "2. 95\n",
       "\n",
       "\n"
      ],
      "text/plain": [
       "[1] 100  95"
      ]
     },
     "metadata": {},
     "output_type": "display_data"
    }
   ],
   "source": [
    "dim(diffstest)"
   ]
  },
  {
   "cell_type": "markdown",
   "metadata": {
    "hidden": true
   },
   "source": [
    "**21** coefficients of the model is not equal to zero out of **95**. This model has more non-zero coefficients compared to **Model A**. Again, many consecutive coefficients are equal in this model too as expected but there are more exceptions in this one. Non-zero coefficients can be seen below:\n",
    "\n",
    "$\\theta_0 \\neq \\theta_1 \\neq \\theta_2 \\neq \\theta_4 \\neq \\theta_5$   \n",
    "$\\theta_7 \\neq \\theta_8 = \\theta_9 \\neq \\theta_{10} = \\theta_{11} $ (All have very close values.)    \n",
    "$\\theta_{28} = \\theta_{29}$   \n",
    "$\\theta_{35} \\neq \\theta_{36} \\neq \\theta_{37} = \\theta_{38} = \\theta_{39} \\neq \\theta_{40}$    \n",
    "$\\theta_{77}$   \n",
    "$\\theta_{93} = \\theta_{94}$   \n",
    "\n",
    "Among coefficients, $\\theta_{37} = \\theta_{38} = \\theta_{39}$ share the highest value and the one with the lowest value is $\\theta_{77}$.\n",
    "\n",
    "Comparing to the coefficients of the **Model A**, **7 variables** that had non-zero coefficients in Model A have its related coefficients both **zero** in this model. Which are: $x_{31}, x_{32}, x_{33}, x_{34}, x_{44}, x_{45}$ and $x_{96} $. Rest of the variables have at least one related coefficient non-zero in Model B."
   ]
  },
  {
   "cell_type": "markdown",
   "metadata": {},
   "source": [
    "## Task e: Combined Set "
   ]
  },
  {
   "cell_type": "markdown",
   "metadata": {
    "heading_collapsed": true
   },
   "source": [
    "### Creating Datasets "
   ]
  },
  {
   "cell_type": "code",
   "execution_count": 49,
   "metadata": {
    "hidden": true
   },
   "outputs": [],
   "source": [
    "colnames(diffstrain) <- paste(\"diff\",colnames(diffstrain),sep=\"\")\n",
    "colnames(diffstest) <- paste(\"diff\",colnames(diffstest),sep=\"\")"
   ]
  },
  {
   "cell_type": "code",
   "execution_count": 50,
   "metadata": {
    "hidden": true
   },
   "outputs": [],
   "source": [
    "combinedtrain = cbind(traindata, diffs = diffstrain)\n",
    "combinedtest = cbind(testdata, diffs = diffstest)"
   ]
  },
  {
   "cell_type": "markdown",
   "metadata": {
    "heading_collapsed": true
   },
   "source": [
    "### Tuning L1"
   ]
  },
  {
   "cell_type": "code",
   "execution_count": 52,
   "metadata": {
    "hidden": true
   },
   "outputs": [
    {
     "name": "stdout",
     "output_type": "stream",
     "text": [
      "lambda= 8.362104 \tcvl= -47.37956 \n",
      "lambda= 13.53017 \tcvl= -55.1972 \n",
      "lambda= 5.168065 \tcvl= -41.3855 \n",
      "lambda= 3.19404 \tcvl= -38.45015 \n",
      "lambda= 1.974025 \tcvl= -37.0869 \n",
      "lambda= 1.220015 \tcvl= -38.44436 \n",
      "lambda= 2.206035 \tcvl= -37.22086 \n",
      "lambda= 1.970313 \tcvl= -37.08589 \n",
      "lambda= 1.865786 \tcvl= -37.07762 \n",
      "lambda= 1.619123 \tcvl= -37.38286 \n",
      "lambda= 1.896086 \tcvl= -37.07161 \n",
      "lambda= 1.907468 \tcvl= -37.07384 \n",
      "lambda= 1.891422 \tcvl= -37.07084 \n",
      "lambda= 1.881629 \tcvl= -37.07236 \n",
      "lambda= 1.890024 \tcvl= -37.07062 \n",
      "lambda= 1.886818 \tcvl= -37.07089 \n",
      "lambda= 1.889218 \tcvl= -37.0705 \n",
      "lambda= 1.888301 \tcvl= -37.07049 \n",
      "lambda= 1.88864 \tcvl= -37.07042 \n",
      "lambda= 1.88876 \tcvl= -37.07044 \n"
     ]
    }
   ],
   "source": [
    "set.seed(7)\n",
    "fit2c1 <- optL1(response = as.factor(trclass), penalized=combinedtrain ,fusedl = TRUE, fold = 10, model = \"logistic\")"
   ]
  },
  {
   "cell_type": "code",
   "execution_count": 53,
   "metadata": {
    "hidden": true
   },
   "outputs": [
    {
     "data": {
      "text/html": [
       "1.88864037732801"
      ],
      "text/latex": [
       "1.88864037732801"
      ],
      "text/markdown": [
       "1.88864037732801"
      ],
      "text/plain": [
       "[1] 1.88864"
      ]
     },
     "metadata": {},
     "output_type": "display_data"
    },
    {
     "data": {
      "text/html": [
       "-37.0704181983108"
      ],
      "text/latex": [
       "-37.0704181983108"
      ],
      "text/markdown": [
       "-37.0704181983108"
      ],
      "text/plain": [
       "[1] -37.07042"
      ]
     },
     "metadata": {},
     "output_type": "display_data"
    }
   ],
   "source": [
    "fit2c1$lambda; fit2c1$cvl"
   ]
  },
  {
   "cell_type": "markdown",
   "metadata": {
    "heading_collapsed": true
   },
   "source": [
    "### Tuning L2"
   ]
  },
  {
   "cell_type": "code",
   "execution_count": 54,
   "metadata": {
    "hidden": true
   },
   "outputs": [
    {
     "name": "stdout",
     "output_type": "stream",
     "text": [
      "lambda= Inf \tcvl= -63.15148 \n",
      "lambda= 1 \tcvl= -35.75647 \n",
      "lambda= 10 \tcvl= -42.49461 \n",
      "lambda= 0.1 \tcvl= -35.83539 \n",
      "lambda= 3.881464 \tcvl= -39.49009 \n",
      "lambda= 6.218536 \tcvl= -40.82693 \n",
      "lambda= 2.437073 \tcvl= -38.56437 \n",
      "lambda= 1.544391 \tcvl= -36.69081 \n",
      "lambda= 0.9926824 \tcvl= -35.74371 \n",
      "lambda= 0.6517081 \tcvl= -35.41035 \n",
      "lambda= 0.2316834 \tcvl= -35.50094 \n",
      "lambda= 0.5104659 \tcvl= -35.42077 \n",
      "lambda= 0.6535639 \tcvl= -35.41058 \n",
      "lambda= 0.6081957 \tcvl= -35.42521 \n",
      "lambda= 0.6350878 \tcvl= -35.42098 \n",
      "lambda= 0.6453597 \tcvl= -35.41481 \n",
      "lambda= 0.6520333 \tcvl= -35.41075 \n",
      "lambda= 0.6492832 \tcvl= -35.41115 \n",
      "lambda= 0.6507819 \tcvl= -35.41067 \n",
      "lambda= 0.6513543 \tcvl= -35.41071 \n",
      "lambda= 0.651573 \tcvl= -35.41072 \n",
      "lambda= 0.6518323 \tcvl= -35.41074 \n"
     ]
    }
   ],
   "source": [
    "set.seed(7)\n",
    "fit2c2 <- optL2(response = as.factor(trclass), penalized=combinedtrain ,fusedl = TRUE, fold = 10,\n",
    "                model = \"logistic\", lambda1 = 1.88864037732801)"
   ]
  },
  {
   "cell_type": "code",
   "execution_count": 56,
   "metadata": {
    "hidden": true
   },
   "outputs": [
    {
     "data": {
      "text/html": [
       "0.651708091008328"
      ],
      "text/latex": [
       "0.651708091008328"
      ],
      "text/markdown": [
       "0.651708091008328"
      ],
      "text/plain": [
       "[1] 0.6517081"
      ]
     },
     "metadata": {},
     "output_type": "display_data"
    },
    {
     "data": {
      "text/html": [
       "-35.4103510772348"
      ],
      "text/latex": [
       "-35.4103510772348"
      ],
      "text/markdown": [
       "-35.4103510772348"
      ],
      "text/plain": [
       "[1] -35.41035"
      ]
     },
     "metadata": {},
     "output_type": "display_data"
    }
   ],
   "source": [
    "fit2c2$lambda; fit2c2$cvl"
   ]
  },
  {
   "cell_type": "markdown",
   "metadata": {
    "heading_collapsed": true
   },
   "source": [
    "### Cross Check "
   ]
  },
  {
   "cell_type": "code",
   "execution_count": 57,
   "metadata": {
    "hidden": true
   },
   "outputs": [
    {
     "name": "stdout",
     "output_type": "stream",
     "text": [
      "lambda= 8.362104 \tcvl= -47.99788 \n",
      "lambda= 13.53017 \tcvl= -56.27814 \n",
      "lambda= 5.168065 \tcvl= -41.79184 \n",
      "lambda= 3.19404 \tcvl= -38.13353 \n",
      "lambda= 1.974025 \tcvl= -35.72225 \n",
      "lambda= 1.220015 \tcvl= -35.07178 \n",
      "lambda= 0.8325308 \tcvl= -36.43173 \n",
      "lambda= 1.484411 \tcvl= -34.95247 \n",
      "lambda= 1.436289 \tcvl= -34.92158 \n",
      "lambda= 1.39685 \tcvl= -34.90618 \n",
      "lambda= 1.329305 \tcvl= -34.98911 \n",
      "lambda= 1.348584 \tcvl= -34.95159 \n",
      "lambda= 1.403707 \tcvl= -34.9069 \n",
      "lambda= 1.394349 \tcvl= -34.90423 \n",
      "lambda= 1.376869 \tcvl= -34.90188 \n",
      "lambda= 1.383525 \tcvl= -34.90157 \n",
      "lambda= 1.3816 \tcvl= -34.90113 \n",
      "lambda= 1.380604 \tcvl= -34.90111 \n",
      "lambda= 1.380932 \tcvl= -34.90104 \n",
      "lambda= 1.381069 \tcvl= -34.90102 \n",
      "lambda= 1.381272 \tcvl= -34.90105 \n"
     ]
    }
   ],
   "source": [
    "set.seed(7)\n",
    "fit2c3 <- optL1(response = as.factor(trclass), penalized=combinedtrain ,fusedl = TRUE, fold = 10,\n",
    "                model = \"logistic\", lambda2 = 0.651708091008328)"
   ]
  },
  {
   "cell_type": "code",
   "execution_count": 58,
   "metadata": {
    "hidden": true
   },
   "outputs": [
    {
     "data": {
      "text/html": [
       "1.38106887054735"
      ],
      "text/latex": [
       "1.38106887054735"
      ],
      "text/markdown": [
       "1.38106887054735"
      ],
      "text/plain": [
       "[1] 1.381069"
      ]
     },
     "metadata": {},
     "output_type": "display_data"
    },
    {
     "data": {
      "text/html": [
       "-34.9010170723632"
      ],
      "text/latex": [
       "-34.9010170723632"
      ],
      "text/markdown": [
       "-34.9010170723632"
      ],
      "text/plain": [
       "[1] -34.90102"
      ]
     },
     "metadata": {},
     "output_type": "display_data"
    }
   ],
   "source": [
    "fit2c3$lambda; fit2c3$cvl"
   ]
  },
  {
   "cell_type": "markdown",
   "metadata": {
    "heading_collapsed": true
   },
   "source": [
    "### Re-tuning L2 "
   ]
  },
  {
   "cell_type": "code",
   "execution_count": 66,
   "metadata": {
    "hidden": true
   },
   "outputs": [
    {
     "name": "stdout",
     "output_type": "stream",
     "text": [
      "lambda= Inf \tcvl= -63.15148 \n",
      "lambda= 1 \tcvl= -35.32308 \n",
      "lambda= 10 \tcvl= -42.36754 \n",
      "lambda= 0.1 \tcvl= -36.55996 \n",
      "lambda= 3.881464 \tcvl= -38.79285 \n",
      "lambda= 6.218536 \tcvl= -41.89447 \n",
      "lambda= 2.437073 \tcvl= -37.99506 \n",
      "lambda= 1.811408 \tcvl= -36.84908 \n",
      "lambda= 1.157708 \tcvl= -35.5465 \n",
      "lambda= 0.7536997 \tcvl= -34.91139 \n",
      "lambda= 0.5040086 \tcvl= -35.14379 \n",
      "lambda= 0.7504047 \tcvl= -34.90875 \n",
      "lambda= 0.6951001 \tcvl= -34.8884 \n",
      "lambda= 0.6221097 \tcvl= -34.90989 \n",
      "lambda= 0.6871192 \tcvl= -34.8962 \n",
      "lambda= 0.7140965 \tcvl= -34.88058 \n",
      "lambda= 0.7144154 \tcvl= -34.88081 \n",
      "lambda= 0.7081003 \tcvl= -34.8764 \n",
      "lambda= 0.7031347 \tcvl= -34.87737 \n",
      "lambda= 0.7068165 \tcvl= -34.87574 \n",
      "lambda= 0.7061233 \tcvl= -34.87578 \n",
      "lambda= 0.7065536 \tcvl= -34.87561 \n",
      "lambda= 0.7064883 \tcvl= -34.87558 \n",
      "lambda= 0.7063489 \tcvl= -34.87566 \n"
     ]
    }
   ],
   "source": [
    "set.seed(7)\n",
    "fit2c4 <- optL2(response = as.factor(trclass), penalized=combinedtrain ,fusedl = TRUE, fold = 10,\n",
    "                model = \"logistic\", lambda1 = fit2c3$lambda)"
   ]
  },
  {
   "cell_type": "code",
   "execution_count": 67,
   "metadata": {
    "hidden": true
   },
   "outputs": [
    {
     "data": {
      "text/html": [
       "0.706488317400167"
      ],
      "text/latex": [
       "0.706488317400167"
      ],
      "text/markdown": [
       "0.706488317400167"
      ],
      "text/plain": [
       "[1] 0.7064883"
      ]
     },
     "metadata": {},
     "output_type": "display_data"
    },
    {
     "data": {
      "text/html": [
       "-34.8755833097394"
      ],
      "text/latex": [
       "-34.8755833097394"
      ],
      "text/markdown": [
       "-34.8755833097394"
      ],
      "text/plain": [
       "[1] -34.87558"
      ]
     },
     "metadata": {},
     "output_type": "display_data"
    }
   ],
   "source": [
    "fit2c4$lambda; fit2c4$cvl"
   ]
  },
  {
   "cell_type": "markdown",
   "metadata": {
    "hidden": true
   },
   "source": [
    "Cvl does not improve a lot. We can use this fit."
   ]
  },
  {
   "cell_type": "code",
   "execution_count": 68,
   "metadata": {
    "hidden": true
   },
   "outputs": [
    {
     "name": "stdout",
     "output_type": "stream",
     "text": [
      "1.381069 0.7064883"
     ]
    }
   ],
   "source": [
    "l1 = fit2c3$lambda; l2 = fit2c4$lambda; cat(l1,l2)"
   ]
  },
  {
   "cell_type": "markdown",
   "metadata": {
    "heading_collapsed": true
   },
   "source": [
    "### Training Model "
   ]
  },
  {
   "cell_type": "code",
   "execution_count": 69,
   "metadata": {
    "hidden": true
   },
   "outputs": [
    {
     "name": "stdout",
     "output_type": "stream",
     "text": [
      "\n"
     ]
    }
   ],
   "source": [
    "set.seed(7)\n",
    "model2c <-penalized(response = as.factor(trclass), penalized = combinedtrain, fusedl = TRUE,\n",
    "                 model = \"logistic\", lambda1 = l1, lambda2 = l2 )"
   ]
  },
  {
   "cell_type": "code",
   "execution_count": 70,
   "metadata": {
    "hidden": true
   },
   "outputs": [
    {
     "data": {
      "text/plain": [
       "Penalized logistic regression object\n",
       "192 regression coefficients of which 26 are non-zero\n",
       "\n",
       "Loglikelihood =\t -25.92308 \n",
       "L1 penalty =\t 7.67544 \tat lambda1 =  1.381069 \n",
       "L2 penalty =\t 2.596797 \tat lambda2 =  0.7064883 "
      ]
     },
     "metadata": {},
     "output_type": "display_data"
    }
   ],
   "source": [
    "model2c"
   ]
  },
  {
   "cell_type": "markdown",
   "metadata": {},
   "source": [
    "### Testing Model"
   ]
  },
  {
   "cell_type": "code",
   "execution_count": 71,
   "metadata": {},
   "outputs": [],
   "source": [
    "preds2c <- predict(model2c, penalized = combinedtest  )"
   ]
  },
  {
   "cell_type": "code",
   "execution_count": 72,
   "metadata": {},
   "outputs": [],
   "source": [
    "preds2cClass <- 1*(preds2c >= 0.5)"
   ]
  },
  {
   "cell_type": "code",
   "execution_count": 73,
   "metadata": {},
   "outputs": [
    {
     "name": "stdout",
     "output_type": "stream",
     "text": [
      "MODEL A CONFUSION MATRIX"
     ]
    },
    {
     "data": {
      "text/plain": [
       "       preds2aClass\n",
       "tsclass  0  1\n",
       "      0 24 12\n",
       "      1  6 58"
      ]
     },
     "metadata": {},
     "output_type": "display_data"
    },
    {
     "name": "stdout",
     "output_type": "stream",
     "text": [
      "Accuracy is:  82 %\n",
      "\n",
      "MODEL B CONFUSION MATRIX"
     ]
    },
    {
     "data": {
      "text/plain": [
       "       preds2bClass\n",
       "tsclass  0  1\n",
       "      0 27  9\n",
       "      1  7 57"
      ]
     },
     "metadata": {},
     "output_type": "display_data"
    },
    {
     "name": "stdout",
     "output_type": "stream",
     "text": [
      "Accuracy is:  84 %\n",
      "\n",
      "MODEL C CONFUSION MATRIX"
     ]
    },
    {
     "data": {
      "text/plain": [
       "       preds2cClass\n",
       "tsclass  0  1\n",
       "      0 25 11\n",
       "      1  6 58"
      ]
     },
     "metadata": {},
     "output_type": "display_data"
    },
    {
     "name": "stdout",
     "output_type": "stream",
     "text": [
      "Accuracy is:  83 %"
     ]
    }
   ],
   "source": [
    "cat(\"MODEL A CONFUSION MATRIX\")\n",
    "table( cbind(Actuals = as.data.frame(tsclass) ,Predictions = as.data.frame(preds2aClass)  ) )\n",
    "acc = sum(preds2aClass == tsclass)/length(tsclass)\n",
    "cat(\"Accuracy is: \",acc*100,\"%\\n\\n\" )\n",
    "\n",
    "cat(\"MODEL B CONFUSION MATRIX\")\n",
    "table( cbind(Actuals = as.data.frame(tsclass) ,Predictions = as.data.frame(preds2bClass)  ) )\n",
    "acc = sum(preds2bClass == tsclass)/length(tsclass)\n",
    "cat(\"Accuracy is: \",acc*100,\"%\\n\\n\" )\n",
    "\n",
    "cat(\"MODEL C CONFUSION MATRIX\")\n",
    "table( cbind(Actuals = as.data.frame(tsclass) ,Predictions = as.data.frame(preds2cClass)  ) )\n",
    "acc = sum(preds2cClass == tsclass)/length(tsclass)\n",
    "cat(\"Accuracy is: \",acc*100,\"%\" )"
   ]
  },
  {
   "cell_type": "markdown",
   "metadata": {},
   "source": [
    "Results of the **Model C** resulted between **A** and **B**. The Accuracy value is **83%**."
   ]
  },
  {
   "cell_type": "markdown",
   "metadata": {},
   "source": [
    "## Task f: Interpreting Coefficients "
   ]
  },
  {
   "cell_type": "code",
   "execution_count": 74,
   "metadata": {},
   "outputs": [],
   "source": [
    "CoefficientsC = c(model2c@unpenalized,model2c@penalized)"
   ]
  },
  {
   "cell_type": "code",
   "execution_count": 76,
   "metadata": {
    "scrolled": false
   },
   "outputs": [
    {
     "data": {
      "text/html": [
       "<dl class=dl-horizontal>\n",
       "\t<dt>(Intercept)</dt>\n",
       "\t\t<dd>0.370921061315582</dd>\n",
       "\t<dt>V2</dt>\n",
       "\t\t<dd>-0.174836654098051</dd>\n",
       "\t<dt>V3</dt>\n",
       "\t\t<dd>0</dd>\n",
       "\t<dt>V4</dt>\n",
       "\t\t<dd>0</dd>\n",
       "\t<dt>V5</dt>\n",
       "\t\t<dd>0</dd>\n",
       "\t<dt>V6</dt>\n",
       "\t\t<dd>0</dd>\n",
       "\t<dt>V7</dt>\n",
       "\t\t<dd>-0.204455729810524</dd>\n",
       "\t<dt>V8</dt>\n",
       "\t\t<dd>-0.204455729810524</dd>\n",
       "\t<dt>V9</dt>\n",
       "\t\t<dd>-0.204455729810524</dd>\n",
       "\t<dt>V10</dt>\n",
       "\t\t<dd>0</dd>\n",
       "\t<dt>V11</dt>\n",
       "\t\t<dd>0</dd>\n",
       "\t<dt>V12</dt>\n",
       "\t\t<dd>0.0331995950571946</dd>\n",
       "\t<dt>V13</dt>\n",
       "\t\t<dd>0.359110181682982</dd>\n",
       "\t<dt>V14</dt>\n",
       "\t\t<dd>0.359110181682982</dd>\n",
       "\t<dt>V15</dt>\n",
       "\t\t<dd>0</dd>\n",
       "\t<dt>V16</dt>\n",
       "\t\t<dd>0</dd>\n",
       "\t<dt>V17</dt>\n",
       "\t\t<dd>0</dd>\n",
       "\t<dt>V18</dt>\n",
       "\t\t<dd>0</dd>\n",
       "\t<dt>V19</dt>\n",
       "\t\t<dd>0</dd>\n",
       "\t<dt>V20</dt>\n",
       "\t\t<dd>0</dd>\n",
       "\t<dt>V21</dt>\n",
       "\t\t<dd>0</dd>\n",
       "\t<dt>V22</dt>\n",
       "\t\t<dd>0</dd>\n",
       "\t<dt>V23</dt>\n",
       "\t\t<dd>0</dd>\n",
       "\t<dt>V24</dt>\n",
       "\t\t<dd>0</dd>\n",
       "\t<dt>V25</dt>\n",
       "\t\t<dd>0</dd>\n",
       "\t<dt>V26</dt>\n",
       "\t\t<dd>0</dd>\n",
       "\t<dt>V27</dt>\n",
       "\t\t<dd>0</dd>\n",
       "\t<dt>V28</dt>\n",
       "\t\t<dd>0</dd>\n",
       "\t<dt>V29</dt>\n",
       "\t\t<dd>0</dd>\n",
       "\t<dt>V30</dt>\n",
       "\t\t<dd>0</dd>\n",
       "\t<dt>V31</dt>\n",
       "\t\t<dd>-0.214236242990678</dd>\n",
       "\t<dt>V32</dt>\n",
       "\t\t<dd>-0.214236242990678</dd>\n",
       "\t<dt>V33</dt>\n",
       "\t\t<dd>-0.214236242990678</dd>\n",
       "\t<dt>V34</dt>\n",
       "\t\t<dd>-0.214236242990678</dd>\n",
       "\t<dt>V35</dt>\n",
       "\t\t<dd>-0.214236242990678</dd>\n",
       "\t<dt>V36</dt>\n",
       "\t\t<dd>-0.214236242990678</dd>\n",
       "\t<dt>V37</dt>\n",
       "\t\t<dd>0</dd>\n",
       "\t<dt>V38</dt>\n",
       "\t\t<dd>0</dd>\n",
       "\t<dt>V39</dt>\n",
       "\t\t<dd>0</dd>\n",
       "\t<dt>V40</dt>\n",
       "\t\t<dd>0</dd>\n",
       "\t<dt>V41</dt>\n",
       "\t\t<dd>0</dd>\n",
       "\t<dt>V42</dt>\n",
       "\t\t<dd>0.152694620223306</dd>\n",
       "\t<dt>V43</dt>\n",
       "\t\t<dd>0.152694620223306</dd>\n",
       "\t<dt>V44</dt>\n",
       "\t\t<dd>0.152694620223306</dd>\n",
       "\t<dt>V45</dt>\n",
       "\t\t<dd>0.152694620223306</dd>\n",
       "\t<dt>V46</dt>\n",
       "\t\t<dd>0.152694620223306</dd>\n",
       "\t<dt>V47</dt>\n",
       "\t\t<dd>0.152694620223306</dd>\n",
       "\t<dt>V48</dt>\n",
       "\t\t<dd>0</dd>\n",
       "\t<dt>V49</dt>\n",
       "\t\t<dd>0</dd>\n",
       "\t<dt>V50</dt>\n",
       "\t\t<dd>0</dd>\n",
       "\t<dt>V51</dt>\n",
       "\t\t<dd>0</dd>\n",
       "\t<dt>V52</dt>\n",
       "\t\t<dd>0</dd>\n",
       "\t<dt>V53</dt>\n",
       "\t\t<dd>0</dd>\n",
       "\t<dt>V54</dt>\n",
       "\t\t<dd>0</dd>\n",
       "\t<dt>V55</dt>\n",
       "\t\t<dd>0</dd>\n",
       "\t<dt>V56</dt>\n",
       "\t\t<dd>0</dd>\n",
       "\t<dt>V57</dt>\n",
       "\t\t<dd>0</dd>\n",
       "\t<dt>V58</dt>\n",
       "\t\t<dd>0</dd>\n",
       "\t<dt>V59</dt>\n",
       "\t\t<dd>0</dd>\n",
       "\t<dt>V60</dt>\n",
       "\t\t<dd>0</dd>\n",
       "\t<dt>V61</dt>\n",
       "\t\t<dd>0</dd>\n",
       "\t<dt>V62</dt>\n",
       "\t\t<dd>0</dd>\n",
       "\t<dt>V63</dt>\n",
       "\t\t<dd>0</dd>\n",
       "\t<dt>V64</dt>\n",
       "\t\t<dd>0</dd>\n",
       "\t<dt>V65</dt>\n",
       "\t\t<dd>0</dd>\n",
       "\t<dt>V66</dt>\n",
       "\t\t<dd>0</dd>\n",
       "\t<dt>V67</dt>\n",
       "\t\t<dd>0</dd>\n",
       "\t<dt>V68</dt>\n",
       "\t\t<dd>0</dd>\n",
       "\t<dt>V69</dt>\n",
       "\t\t<dd>0</dd>\n",
       "\t<dt>V70</dt>\n",
       "\t\t<dd>0</dd>\n",
       "\t<dt>V71</dt>\n",
       "\t\t<dd>0</dd>\n",
       "\t<dt>V72</dt>\n",
       "\t\t<dd>0</dd>\n",
       "\t<dt>V73</dt>\n",
       "\t\t<dd>0</dd>\n",
       "\t<dt>V74</dt>\n",
       "\t\t<dd>0</dd>\n",
       "\t<dt>V75</dt>\n",
       "\t\t<dd>0</dd>\n",
       "\t<dt>V76</dt>\n",
       "\t\t<dd>0</dd>\n",
       "\t<dt>V77</dt>\n",
       "\t\t<dd>0</dd>\n",
       "\t<dt>V78</dt>\n",
       "\t\t<dd>0</dd>\n",
       "\t<dt>V79</dt>\n",
       "\t\t<dd>0</dd>\n",
       "\t<dt>V80</dt>\n",
       "\t\t<dd>0</dd>\n",
       "\t<dt>V81</dt>\n",
       "\t\t<dd>0</dd>\n",
       "\t<dt>V82</dt>\n",
       "\t\t<dd>-0.0882942484387414</dd>\n",
       "\t<dt>V83</dt>\n",
       "\t\t<dd>-0.0882942484387414</dd>\n",
       "\t<dt>V84</dt>\n",
       "\t\t<dd>-0.0882942484387414</dd>\n",
       "\t<dt>V85</dt>\n",
       "\t\t<dd>-0.0882942484387414</dd>\n",
       "\t<dt>V86</dt>\n",
       "\t\t<dd>0</dd>\n",
       "\t<dt>V87</dt>\n",
       "\t\t<dd>0</dd>\n",
       "\t<dt>V88</dt>\n",
       "\t\t<dd>0</dd>\n",
       "\t<dt>V89</dt>\n",
       "\t\t<dd>0</dd>\n",
       "\t<dt>V90</dt>\n",
       "\t\t<dd>0</dd>\n",
       "\t<dt>V91</dt>\n",
       "\t\t<dd>0</dd>\n",
       "\t<dt>V92</dt>\n",
       "\t\t<dd>0</dd>\n",
       "\t<dt>V93</dt>\n",
       "\t\t<dd>0</dd>\n",
       "\t<dt>V94</dt>\n",
       "\t\t<dd>0</dd>\n",
       "\t<dt>V95</dt>\n",
       "\t\t<dd>0</dd>\n",
       "\t<dt>V96</dt>\n",
       "\t\t<dd>-0.731611201393364</dd>\n",
       "\t<dt>V97</dt>\n",
       "\t\t<dd>-0.731611201393364</dd>\n",
       "\t<dt>diffV3</dt>\n",
       "\t\t<dd>0</dd>\n",
       "\t<dt>diffV4</dt>\n",
       "\t\t<dd>0</dd>\n",
       "\t<dt>diffV5</dt>\n",
       "\t\t<dd>0</dd>\n",
       "\t<dt>diffV6</dt>\n",
       "\t\t<dd>0</dd>\n",
       "\t<dt>diffV7</dt>\n",
       "\t\t<dd>0</dd>\n",
       "\t<dt>diffV8</dt>\n",
       "\t\t<dd>0</dd>\n",
       "\t<dt>diffV9</dt>\n",
       "\t\t<dd>0</dd>\n",
       "\t<dt>diffV10</dt>\n",
       "\t\t<dd>0</dd>\n",
       "\t<dt>diffV11</dt>\n",
       "\t\t<dd>0</dd>\n",
       "\t<dt>diffV12</dt>\n",
       "\t\t<dd>0</dd>\n",
       "\t<dt>diffV13</dt>\n",
       "\t\t<dd>0</dd>\n",
       "\t<dt>diffV14</dt>\n",
       "\t\t<dd>0</dd>\n",
       "\t<dt>diffV15</dt>\n",
       "\t\t<dd>0</dd>\n",
       "\t<dt>diffV16</dt>\n",
       "\t\t<dd>0</dd>\n",
       "\t<dt>diffV17</dt>\n",
       "\t\t<dd>0</dd>\n",
       "\t<dt>diffV18</dt>\n",
       "\t\t<dd>0</dd>\n",
       "\t<dt>diffV19</dt>\n",
       "\t\t<dd>0</dd>\n",
       "\t<dt>diffV20</dt>\n",
       "\t\t<dd>0</dd>\n",
       "\t<dt>diffV21</dt>\n",
       "\t\t<dd>0</dd>\n",
       "\t<dt>diffV22</dt>\n",
       "\t\t<dd>0</dd>\n",
       "\t<dt>diffV23</dt>\n",
       "\t\t<dd>0</dd>\n",
       "\t<dt>diffV24</dt>\n",
       "\t\t<dd>0</dd>\n",
       "\t<dt>diffV25</dt>\n",
       "\t\t<dd>0</dd>\n",
       "\t<dt>diffV26</dt>\n",
       "\t\t<dd>0</dd>\n",
       "\t<dt>diffV27</dt>\n",
       "\t\t<dd>0</dd>\n",
       "\t<dt>diffV28</dt>\n",
       "\t\t<dd>0</dd>\n",
       "\t<dt>diffV29</dt>\n",
       "\t\t<dd>0</dd>\n",
       "\t<dt>diffV30</dt>\n",
       "\t\t<dd>0</dd>\n",
       "\t<dt>diffV31</dt>\n",
       "\t\t<dd>0</dd>\n",
       "\t<dt>diffV32</dt>\n",
       "\t\t<dd>0</dd>\n",
       "\t<dt>diffV33</dt>\n",
       "\t\t<dd>0</dd>\n",
       "\t<dt>diffV34</dt>\n",
       "\t\t<dd>0</dd>\n",
       "\t<dt>diffV35</dt>\n",
       "\t\t<dd>0</dd>\n",
       "\t<dt>diffV36</dt>\n",
       "\t\t<dd>0</dd>\n",
       "\t<dt>diffV37</dt>\n",
       "\t\t<dd>0</dd>\n",
       "\t<dt>diffV38</dt>\n",
       "\t\t<dd>0</dd>\n",
       "\t<dt>diffV39</dt>\n",
       "\t\t<dd>0</dd>\n",
       "\t<dt>diffV40</dt>\n",
       "\t\t<dd>0</dd>\n",
       "\t<dt>diffV41</dt>\n",
       "\t\t<dd>0</dd>\n",
       "\t<dt>diffV42</dt>\n",
       "\t\t<dd>0</dd>\n",
       "\t<dt>diffV43</dt>\n",
       "\t\t<dd>0</dd>\n",
       "\t<dt>diffV44</dt>\n",
       "\t\t<dd>0</dd>\n",
       "\t<dt>diffV45</dt>\n",
       "\t\t<dd>0</dd>\n",
       "\t<dt>diffV46</dt>\n",
       "\t\t<dd>0</dd>\n",
       "\t<dt>diffV47</dt>\n",
       "\t\t<dd>0</dd>\n",
       "\t<dt>diffV48</dt>\n",
       "\t\t<dd>0</dd>\n",
       "\t<dt>diffV49</dt>\n",
       "\t\t<dd>0</dd>\n",
       "\t<dt>diffV50</dt>\n",
       "\t\t<dd>0</dd>\n",
       "\t<dt>diffV51</dt>\n",
       "\t\t<dd>0</dd>\n",
       "\t<dt>diffV52</dt>\n",
       "\t\t<dd>0</dd>\n",
       "\t<dt>diffV53</dt>\n",
       "\t\t<dd>0</dd>\n",
       "\t<dt>diffV54</dt>\n",
       "\t\t<dd>0</dd>\n",
       "\t<dt>diffV55</dt>\n",
       "\t\t<dd>0</dd>\n",
       "\t<dt>diffV56</dt>\n",
       "\t\t<dd>0</dd>\n",
       "\t<dt>diffV57</dt>\n",
       "\t\t<dd>0</dd>\n",
       "\t<dt>diffV58</dt>\n",
       "\t\t<dd>0</dd>\n",
       "\t<dt>diffV59</dt>\n",
       "\t\t<dd>0</dd>\n",
       "\t<dt>diffV60</dt>\n",
       "\t\t<dd>0</dd>\n",
       "\t<dt>diffV61</dt>\n",
       "\t\t<dd>0</dd>\n",
       "\t<dt>diffV62</dt>\n",
       "\t\t<dd>0</dd>\n",
       "\t<dt>diffV63</dt>\n",
       "\t\t<dd>0</dd>\n",
       "\t<dt>diffV64</dt>\n",
       "\t\t<dd>0</dd>\n",
       "\t<dt>diffV65</dt>\n",
       "\t\t<dd>0</dd>\n",
       "\t<dt>diffV66</dt>\n",
       "\t\t<dd>0</dd>\n",
       "\t<dt>diffV67</dt>\n",
       "\t\t<dd>0</dd>\n",
       "\t<dt>diffV68</dt>\n",
       "\t\t<dd>0</dd>\n",
       "\t<dt>diffV69</dt>\n",
       "\t\t<dd>0</dd>\n",
       "\t<dt>diffV70</dt>\n",
       "\t\t<dd>0</dd>\n",
       "\t<dt>diffV71</dt>\n",
       "\t\t<dd>0</dd>\n",
       "\t<dt>diffV72</dt>\n",
       "\t\t<dd>0</dd>\n",
       "\t<dt>diffV73</dt>\n",
       "\t\t<dd>0</dd>\n",
       "\t<dt>diffV74</dt>\n",
       "\t\t<dd>0</dd>\n",
       "\t<dt>diffV75</dt>\n",
       "\t\t<dd>0</dd>\n",
       "\t<dt>diffV76</dt>\n",
       "\t\t<dd>0</dd>\n",
       "\t<dt>diffV77</dt>\n",
       "\t\t<dd>0</dd>\n",
       "\t<dt>diffV78</dt>\n",
       "\t\t<dd>0</dd>\n",
       "\t<dt>diffV79</dt>\n",
       "\t\t<dd>0</dd>\n",
       "\t<dt>diffV80</dt>\n",
       "\t\t<dd>0</dd>\n",
       "\t<dt>diffV81</dt>\n",
       "\t\t<dd>0</dd>\n",
       "\t<dt>diffV82</dt>\n",
       "\t\t<dd>0</dd>\n",
       "\t<dt>diffV83</dt>\n",
       "\t\t<dd>0</dd>\n",
       "\t<dt>diffV84</dt>\n",
       "\t\t<dd>0</dd>\n",
       "\t<dt>diffV85</dt>\n",
       "\t\t<dd>0</dd>\n",
       "\t<dt>diffV86</dt>\n",
       "\t\t<dd>0</dd>\n",
       "\t<dt>diffV87</dt>\n",
       "\t\t<dd>0</dd>\n",
       "\t<dt>diffV88</dt>\n",
       "\t\t<dd>0</dd>\n",
       "\t<dt>diffV89</dt>\n",
       "\t\t<dd>0</dd>\n",
       "\t<dt>diffV90</dt>\n",
       "\t\t<dd>0</dd>\n",
       "\t<dt>diffV91</dt>\n",
       "\t\t<dd>0</dd>\n",
       "\t<dt>diffV92</dt>\n",
       "\t\t<dd>0</dd>\n",
       "\t<dt>diffV93</dt>\n",
       "\t\t<dd>0</dd>\n",
       "\t<dt>diffV94</dt>\n",
       "\t\t<dd>0</dd>\n",
       "\t<dt>diffV95</dt>\n",
       "\t\t<dd>0</dd>\n",
       "\t<dt>diffV96</dt>\n",
       "\t\t<dd>0</dd>\n",
       "\t<dt>diffV97</dt>\n",
       "\t\t<dd>0</dd>\n",
       "</dl>\n"
      ],
      "text/latex": [
       "\\begin{description*}\n",
       "\\item[(Intercept)] 0.370921061315582\n",
       "\\item[V2] -0.174836654098051\n",
       "\\item[V3] 0\n",
       "\\item[V4] 0\n",
       "\\item[V5] 0\n",
       "\\item[V6] 0\n",
       "\\item[V7] -0.204455729810524\n",
       "\\item[V8] -0.204455729810524\n",
       "\\item[V9] -0.204455729810524\n",
       "\\item[V10] 0\n",
       "\\item[V11] 0\n",
       "\\item[V12] 0.0331995950571946\n",
       "\\item[V13] 0.359110181682982\n",
       "\\item[V14] 0.359110181682982\n",
       "\\item[V15] 0\n",
       "\\item[V16] 0\n",
       "\\item[V17] 0\n",
       "\\item[V18] 0\n",
       "\\item[V19] 0\n",
       "\\item[V20] 0\n",
       "\\item[V21] 0\n",
       "\\item[V22] 0\n",
       "\\item[V23] 0\n",
       "\\item[V24] 0\n",
       "\\item[V25] 0\n",
       "\\item[V26] 0\n",
       "\\item[V27] 0\n",
       "\\item[V28] 0\n",
       "\\item[V29] 0\n",
       "\\item[V30] 0\n",
       "\\item[V31] -0.214236242990678\n",
       "\\item[V32] -0.214236242990678\n",
       "\\item[V33] -0.214236242990678\n",
       "\\item[V34] -0.214236242990678\n",
       "\\item[V35] -0.214236242990678\n",
       "\\item[V36] -0.214236242990678\n",
       "\\item[V37] 0\n",
       "\\item[V38] 0\n",
       "\\item[V39] 0\n",
       "\\item[V40] 0\n",
       "\\item[V41] 0\n",
       "\\item[V42] 0.152694620223306\n",
       "\\item[V43] 0.152694620223306\n",
       "\\item[V44] 0.152694620223306\n",
       "\\item[V45] 0.152694620223306\n",
       "\\item[V46] 0.152694620223306\n",
       "\\item[V47] 0.152694620223306\n",
       "\\item[V48] 0\n",
       "\\item[V49] 0\n",
       "\\item[V50] 0\n",
       "\\item[V51] 0\n",
       "\\item[V52] 0\n",
       "\\item[V53] 0\n",
       "\\item[V54] 0\n",
       "\\item[V55] 0\n",
       "\\item[V56] 0\n",
       "\\item[V57] 0\n",
       "\\item[V58] 0\n",
       "\\item[V59] 0\n",
       "\\item[V60] 0\n",
       "\\item[V61] 0\n",
       "\\item[V62] 0\n",
       "\\item[V63] 0\n",
       "\\item[V64] 0\n",
       "\\item[V65] 0\n",
       "\\item[V66] 0\n",
       "\\item[V67] 0\n",
       "\\item[V68] 0\n",
       "\\item[V69] 0\n",
       "\\item[V70] 0\n",
       "\\item[V71] 0\n",
       "\\item[V72] 0\n",
       "\\item[V73] 0\n",
       "\\item[V74] 0\n",
       "\\item[V75] 0\n",
       "\\item[V76] 0\n",
       "\\item[V77] 0\n",
       "\\item[V78] 0\n",
       "\\item[V79] 0\n",
       "\\item[V80] 0\n",
       "\\item[V81] 0\n",
       "\\item[V82] -0.0882942484387414\n",
       "\\item[V83] -0.0882942484387414\n",
       "\\item[V84] -0.0882942484387414\n",
       "\\item[V85] -0.0882942484387414\n",
       "\\item[V86] 0\n",
       "\\item[V87] 0\n",
       "\\item[V88] 0\n",
       "\\item[V89] 0\n",
       "\\item[V90] 0\n",
       "\\item[V91] 0\n",
       "\\item[V92] 0\n",
       "\\item[V93] 0\n",
       "\\item[V94] 0\n",
       "\\item[V95] 0\n",
       "\\item[V96] -0.731611201393364\n",
       "\\item[V97] -0.731611201393364\n",
       "\\item[diffV3] 0\n",
       "\\item[diffV4] 0\n",
       "\\item[diffV5] 0\n",
       "\\item[diffV6] 0\n",
       "\\item[diffV7] 0\n",
       "\\item[diffV8] 0\n",
       "\\item[diffV9] 0\n",
       "\\item[diffV10] 0\n",
       "\\item[diffV11] 0\n",
       "\\item[diffV12] 0\n",
       "\\item[diffV13] 0\n",
       "\\item[diffV14] 0\n",
       "\\item[diffV15] 0\n",
       "\\item[diffV16] 0\n",
       "\\item[diffV17] 0\n",
       "\\item[diffV18] 0\n",
       "\\item[diffV19] 0\n",
       "\\item[diffV20] 0\n",
       "\\item[diffV21] 0\n",
       "\\item[diffV22] 0\n",
       "\\item[diffV23] 0\n",
       "\\item[diffV24] 0\n",
       "\\item[diffV25] 0\n",
       "\\item[diffV26] 0\n",
       "\\item[diffV27] 0\n",
       "\\item[diffV28] 0\n",
       "\\item[diffV29] 0\n",
       "\\item[diffV30] 0\n",
       "\\item[diffV31] 0\n",
       "\\item[diffV32] 0\n",
       "\\item[diffV33] 0\n",
       "\\item[diffV34] 0\n",
       "\\item[diffV35] 0\n",
       "\\item[diffV36] 0\n",
       "\\item[diffV37] 0\n",
       "\\item[diffV38] 0\n",
       "\\item[diffV39] 0\n",
       "\\item[diffV40] 0\n",
       "\\item[diffV41] 0\n",
       "\\item[diffV42] 0\n",
       "\\item[diffV43] 0\n",
       "\\item[diffV44] 0\n",
       "\\item[diffV45] 0\n",
       "\\item[diffV46] 0\n",
       "\\item[diffV47] 0\n",
       "\\item[diffV48] 0\n",
       "\\item[diffV49] 0\n",
       "\\item[diffV50] 0\n",
       "\\item[diffV51] 0\n",
       "\\item[diffV52] 0\n",
       "\\item[diffV53] 0\n",
       "\\item[diffV54] 0\n",
       "\\item[diffV55] 0\n",
       "\\item[diffV56] 0\n",
       "\\item[diffV57] 0\n",
       "\\item[diffV58] 0\n",
       "\\item[diffV59] 0\n",
       "\\item[diffV60] 0\n",
       "\\item[diffV61] 0\n",
       "\\item[diffV62] 0\n",
       "\\item[diffV63] 0\n",
       "\\item[diffV64] 0\n",
       "\\item[diffV65] 0\n",
       "\\item[diffV66] 0\n",
       "\\item[diffV67] 0\n",
       "\\item[diffV68] 0\n",
       "\\item[diffV69] 0\n",
       "\\item[diffV70] 0\n",
       "\\item[diffV71] 0\n",
       "\\item[diffV72] 0\n",
       "\\item[diffV73] 0\n",
       "\\item[diffV74] 0\n",
       "\\item[diffV75] 0\n",
       "\\item[diffV76] 0\n",
       "\\item[diffV77] 0\n",
       "\\item[diffV78] 0\n",
       "\\item[diffV79] 0\n",
       "\\item[diffV80] 0\n",
       "\\item[diffV81] 0\n",
       "\\item[diffV82] 0\n",
       "\\item[diffV83] 0\n",
       "\\item[diffV84] 0\n",
       "\\item[diffV85] 0\n",
       "\\item[diffV86] 0\n",
       "\\item[diffV87] 0\n",
       "\\item[diffV88] 0\n",
       "\\item[diffV89] 0\n",
       "\\item[diffV90] 0\n",
       "\\item[diffV91] 0\n",
       "\\item[diffV92] 0\n",
       "\\item[diffV93] 0\n",
       "\\item[diffV94] 0\n",
       "\\item[diffV95] 0\n",
       "\\item[diffV96] 0\n",
       "\\item[diffV97] 0\n",
       "\\end{description*}\n"
      ],
      "text/markdown": [
       "(Intercept)\n",
       ":   0.370921061315582V2\n",
       ":   -0.174836654098051V3\n",
       ":   0V4\n",
       ":   0V5\n",
       ":   0V6\n",
       ":   0V7\n",
       ":   -0.204455729810524V8\n",
       ":   -0.204455729810524V9\n",
       ":   -0.204455729810524V10\n",
       ":   0V11\n",
       ":   0V12\n",
       ":   0.0331995950571946V13\n",
       ":   0.359110181682982V14\n",
       ":   0.359110181682982V15\n",
       ":   0V16\n",
       ":   0V17\n",
       ":   0V18\n",
       ":   0V19\n",
       ":   0V20\n",
       ":   0V21\n",
       ":   0V22\n",
       ":   0V23\n",
       ":   0V24\n",
       ":   0V25\n",
       ":   0V26\n",
       ":   0V27\n",
       ":   0V28\n",
       ":   0V29\n",
       ":   0V30\n",
       ":   0V31\n",
       ":   -0.214236242990678V32\n",
       ":   -0.214236242990678V33\n",
       ":   -0.214236242990678V34\n",
       ":   -0.214236242990678V35\n",
       ":   -0.214236242990678V36\n",
       ":   -0.214236242990678V37\n",
       ":   0V38\n",
       ":   0V39\n",
       ":   0V40\n",
       ":   0V41\n",
       ":   0V42\n",
       ":   0.152694620223306V43\n",
       ":   0.152694620223306V44\n",
       ":   0.152694620223306V45\n",
       ":   0.152694620223306V46\n",
       ":   0.152694620223306V47\n",
       ":   0.152694620223306V48\n",
       ":   0V49\n",
       ":   0V50\n",
       ":   0V51\n",
       ":   0V52\n",
       ":   0V53\n",
       ":   0V54\n",
       ":   0V55\n",
       ":   0V56\n",
       ":   0V57\n",
       ":   0V58\n",
       ":   0V59\n",
       ":   0V60\n",
       ":   0V61\n",
       ":   0V62\n",
       ":   0V63\n",
       ":   0V64\n",
       ":   0V65\n",
       ":   0V66\n",
       ":   0V67\n",
       ":   0V68\n",
       ":   0V69\n",
       ":   0V70\n",
       ":   0V71\n",
       ":   0V72\n",
       ":   0V73\n",
       ":   0V74\n",
       ":   0V75\n",
       ":   0V76\n",
       ":   0V77\n",
       ":   0V78\n",
       ":   0V79\n",
       ":   0V80\n",
       ":   0V81\n",
       ":   0V82\n",
       ":   -0.0882942484387414V83\n",
       ":   -0.0882942484387414V84\n",
       ":   -0.0882942484387414V85\n",
       ":   -0.0882942484387414V86\n",
       ":   0V87\n",
       ":   0V88\n",
       ":   0V89\n",
       ":   0V90\n",
       ":   0V91\n",
       ":   0V92\n",
       ":   0V93\n",
       ":   0V94\n",
       ":   0V95\n",
       ":   0V96\n",
       ":   -0.731611201393364V97\n",
       ":   -0.731611201393364diffV3\n",
       ":   0diffV4\n",
       ":   0diffV5\n",
       ":   0diffV6\n",
       ":   0diffV7\n",
       ":   0diffV8\n",
       ":   0diffV9\n",
       ":   0diffV10\n",
       ":   0diffV11\n",
       ":   0diffV12\n",
       ":   0diffV13\n",
       ":   0diffV14\n",
       ":   0diffV15\n",
       ":   0diffV16\n",
       ":   0diffV17\n",
       ":   0diffV18\n",
       ":   0diffV19\n",
       ":   0diffV20\n",
       ":   0diffV21\n",
       ":   0diffV22\n",
       ":   0diffV23\n",
       ":   0diffV24\n",
       ":   0diffV25\n",
       ":   0diffV26\n",
       ":   0diffV27\n",
       ":   0diffV28\n",
       ":   0diffV29\n",
       ":   0diffV30\n",
       ":   0diffV31\n",
       ":   0diffV32\n",
       ":   0diffV33\n",
       ":   0diffV34\n",
       ":   0diffV35\n",
       ":   0diffV36\n",
       ":   0diffV37\n",
       ":   0diffV38\n",
       ":   0diffV39\n",
       ":   0diffV40\n",
       ":   0diffV41\n",
       ":   0diffV42\n",
       ":   0diffV43\n",
       ":   0diffV44\n",
       ":   0diffV45\n",
       ":   0diffV46\n",
       ":   0diffV47\n",
       ":   0diffV48\n",
       ":   0diffV49\n",
       ":   0diffV50\n",
       ":   0diffV51\n",
       ":   0diffV52\n",
       ":   0diffV53\n",
       ":   0diffV54\n",
       ":   0diffV55\n",
       ":   0diffV56\n",
       ":   0diffV57\n",
       ":   0diffV58\n",
       ":   0diffV59\n",
       ":   0diffV60\n",
       ":   0diffV61\n",
       ":   0diffV62\n",
       ":   0diffV63\n",
       ":   0diffV64\n",
       ":   0diffV65\n",
       ":   0diffV66\n",
       ":   0diffV67\n",
       ":   0diffV68\n",
       ":   0diffV69\n",
       ":   0diffV70\n",
       ":   0diffV71\n",
       ":   0diffV72\n",
       ":   0diffV73\n",
       ":   0diffV74\n",
       ":   0diffV75\n",
       ":   0diffV76\n",
       ":   0diffV77\n",
       ":   0diffV78\n",
       ":   0diffV79\n",
       ":   0diffV80\n",
       ":   0diffV81\n",
       ":   0diffV82\n",
       ":   0diffV83\n",
       ":   0diffV84\n",
       ":   0diffV85\n",
       ":   0diffV86\n",
       ":   0diffV87\n",
       ":   0diffV88\n",
       ":   0diffV89\n",
       ":   0diffV90\n",
       ":   0diffV91\n",
       ":   0diffV92\n",
       ":   0diffV93\n",
       ":   0diffV94\n",
       ":   0diffV95\n",
       ":   0diffV96\n",
       ":   0diffV97\n",
       ":   0\n",
       "\n"
      ],
      "text/plain": [
       "(Intercept)          V2          V3          V4          V5          V6 \n",
       " 0.37092106 -0.17483665  0.00000000  0.00000000  0.00000000  0.00000000 \n",
       "         V7          V8          V9         V10         V11         V12 \n",
       "-0.20445573 -0.20445573 -0.20445573  0.00000000  0.00000000  0.03319960 \n",
       "        V13         V14         V15         V16         V17         V18 \n",
       " 0.35911018  0.35911018  0.00000000  0.00000000  0.00000000  0.00000000 \n",
       "        V19         V20         V21         V22         V23         V24 \n",
       " 0.00000000  0.00000000  0.00000000  0.00000000  0.00000000  0.00000000 \n",
       "        V25         V26         V27         V28         V29         V30 \n",
       " 0.00000000  0.00000000  0.00000000  0.00000000  0.00000000  0.00000000 \n",
       "        V31         V32         V33         V34         V35         V36 \n",
       "-0.21423624 -0.21423624 -0.21423624 -0.21423624 -0.21423624 -0.21423624 \n",
       "        V37         V38         V39         V40         V41         V42 \n",
       " 0.00000000  0.00000000  0.00000000  0.00000000  0.00000000  0.15269462 \n",
       "        V43         V44         V45         V46         V47         V48 \n",
       " 0.15269462  0.15269462  0.15269462  0.15269462  0.15269462  0.00000000 \n",
       "        V49         V50         V51         V52         V53         V54 \n",
       " 0.00000000  0.00000000  0.00000000  0.00000000  0.00000000  0.00000000 \n",
       "        V55         V56         V57         V58         V59         V60 \n",
       " 0.00000000  0.00000000  0.00000000  0.00000000  0.00000000  0.00000000 \n",
       "        V61         V62         V63         V64         V65         V66 \n",
       " 0.00000000  0.00000000  0.00000000  0.00000000  0.00000000  0.00000000 \n",
       "        V67         V68         V69         V70         V71         V72 \n",
       " 0.00000000  0.00000000  0.00000000  0.00000000  0.00000000  0.00000000 \n",
       "        V73         V74         V75         V76         V77         V78 \n",
       " 0.00000000  0.00000000  0.00000000  0.00000000  0.00000000  0.00000000 \n",
       "        V79         V80         V81         V82         V83         V84 \n",
       " 0.00000000  0.00000000  0.00000000 -0.08829425 -0.08829425 -0.08829425 \n",
       "        V85         V86         V87         V88         V89         V90 \n",
       "-0.08829425  0.00000000  0.00000000  0.00000000  0.00000000  0.00000000 \n",
       "        V91         V92         V93         V94         V95         V96 \n",
       " 0.00000000  0.00000000  0.00000000  0.00000000  0.00000000 -0.73161120 \n",
       "        V97      diffV3      diffV4      diffV5      diffV6      diffV7 \n",
       "-0.73161120  0.00000000  0.00000000  0.00000000  0.00000000  0.00000000 \n",
       "     diffV8      diffV9     diffV10     diffV11     diffV12     diffV13 \n",
       " 0.00000000  0.00000000  0.00000000  0.00000000  0.00000000  0.00000000 \n",
       "    diffV14     diffV15     diffV16     diffV17     diffV18     diffV19 \n",
       " 0.00000000  0.00000000  0.00000000  0.00000000  0.00000000  0.00000000 \n",
       "    diffV20     diffV21     diffV22     diffV23     diffV24     diffV25 \n",
       " 0.00000000  0.00000000  0.00000000  0.00000000  0.00000000  0.00000000 \n",
       "    diffV26     diffV27     diffV28     diffV29     diffV30     diffV31 \n",
       " 0.00000000  0.00000000  0.00000000  0.00000000  0.00000000  0.00000000 \n",
       "    diffV32     diffV33     diffV34     diffV35     diffV36     diffV37 \n",
       " 0.00000000  0.00000000  0.00000000  0.00000000  0.00000000  0.00000000 \n",
       "    diffV38     diffV39     diffV40     diffV41     diffV42     diffV43 \n",
       " 0.00000000  0.00000000  0.00000000  0.00000000  0.00000000  0.00000000 \n",
       "    diffV44     diffV45     diffV46     diffV47     diffV48     diffV49 \n",
       " 0.00000000  0.00000000  0.00000000  0.00000000  0.00000000  0.00000000 \n",
       "    diffV50     diffV51     diffV52     diffV53     diffV54     diffV55 \n",
       " 0.00000000  0.00000000  0.00000000  0.00000000  0.00000000  0.00000000 \n",
       "    diffV56     diffV57     diffV58     diffV59     diffV60     diffV61 \n",
       " 0.00000000  0.00000000  0.00000000  0.00000000  0.00000000  0.00000000 \n",
       "    diffV62     diffV63     diffV64     diffV65     diffV66     diffV67 \n",
       " 0.00000000  0.00000000  0.00000000  0.00000000  0.00000000  0.00000000 \n",
       "    diffV68     diffV69     diffV70     diffV71     diffV72     diffV73 \n",
       " 0.00000000  0.00000000  0.00000000  0.00000000  0.00000000  0.00000000 \n",
       "    diffV74     diffV75     diffV76     diffV77     diffV78     diffV79 \n",
       " 0.00000000  0.00000000  0.00000000  0.00000000  0.00000000  0.00000000 \n",
       "    diffV80     diffV81     diffV82     diffV83     diffV84     diffV85 \n",
       " 0.00000000  0.00000000  0.00000000  0.00000000  0.00000000  0.00000000 \n",
       "    diffV86     diffV87     diffV88     diffV89     diffV90     diffV91 \n",
       " 0.00000000  0.00000000  0.00000000  0.00000000  0.00000000  0.00000000 \n",
       "    diffV92     diffV93     diffV94     diffV95     diffV96     diffV97 \n",
       " 0.00000000  0.00000000  0.00000000  0.00000000  0.00000000  0.00000000 "
      ]
     },
     "metadata": {},
     "output_type": "display_data"
    }
   ],
   "source": [
    "CoefficientsC"
   ]
  },
  {
   "cell_type": "code",
   "execution_count": 77,
   "metadata": {},
   "outputs": [
    {
     "data": {
      "text/html": [
       "26"
      ],
      "text/latex": [
       "26"
      ],
      "text/markdown": [
       "26"
      ],
      "text/plain": [
       "[1] 26"
      ]
     },
     "metadata": {},
     "output_type": "display_data"
    }
   ],
   "source": [
    "length(coef(model2c))"
   ]
  },
  {
   "cell_type": "code",
   "execution_count": 78,
   "metadata": {},
   "outputs": [
    {
     "data": {
      "text/html": [
       "<ol class=list-inline>\n",
       "\t<li>100</li>\n",
       "\t<li>191</li>\n",
       "</ol>\n"
      ],
      "text/latex": [
       "\\begin{enumerate*}\n",
       "\\item 100\n",
       "\\item 191\n",
       "\\end{enumerate*}\n"
      ],
      "text/markdown": [
       "1. 100\n",
       "2. 191\n",
       "\n",
       "\n"
      ],
      "text/plain": [
       "[1] 100 191"
      ]
     },
     "metadata": {},
     "output_type": "display_data"
    }
   ],
   "source": [
    "dim(combinedtest)"
   ]
  },
  {
   "cell_type": "markdown",
   "metadata": {},
   "source": [
    "**26** coefficients of the model is not equal to zero out of **191**. Number of non-zero coefficients is increased but ratio of the number of non-zero coefficients is the lowest in this model. Looking at the cooefficients, only those belong to the **Model A** are non-zero. Somewhat we have a model very similar to the model A but with better results.  \n",
    "\n",
    "All coefficients that are non-zero in the Model A are non-zero in this model as well. Additionally, $\\theta_8$, $\\theta_{11}$, $\\theta_{13}$, $\\theta_{41}$, $\\theta_{42}$, $\\theta_{43}$, $\\theta_{46}$, $\\theta_{81}$, $\\theta_{82}$, $\\theta_{83}$ and $\\theta_{84}$. Also, these coefficients are equal:\n",
    "\n",
    "$\\theta_6 = \\theta_7 = \\theta_8$    \n",
    "$\\theta_{12} = \\theta_{13}$    \n",
    "$\\theta_{30} = \\theta_{31} = \\theta_{32} = \\theta_{33} = \\theta_{34} = \\theta_{35}$    \n",
    "$\\theta_{41} = \\theta_{42} = \\theta_{43} = \\theta_{44} = \\theta_{45} = \\theta_{46}$    \n",
    "$\\theta_{81} = \\theta_{82} = \\theta_{83} = \\theta_{84}$    \n",
    "$\\theta_{95} = \\theta_{96}$ \n",
    "\n",
    "Looking the equations above, we have longer sequences of equal coefficients in this model different from previous models."
   ]
  }
 ],
 "metadata": {
  "kernelspec": {
   "display_name": "R",
   "language": "R",
   "name": "ir"
  },
  "language_info": {
   "codemirror_mode": "r",
   "file_extension": ".r",
   "mimetype": "text/x-r-source",
   "name": "R",
   "pygments_lexer": "r",
   "version": "3.6.1"
  }
 },
 "nbformat": 4,
 "nbformat_minor": 4
}
