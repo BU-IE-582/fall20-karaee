{
 "cells": [
  {
   "cell_type": "markdown",
   "metadata": {},
   "source": [
    "# Homework 2\n",
    "<span style=\"font-size:1.25em\"> Emre Kara  </span>  \n",
    "<span style=\"font-size:1em\"> 12.12.2020 </span>"
   ]
  },
  {
   "cell_type": "markdown",
   "metadata": {},
   "source": [
    "## Data Load and Preparation"
   ]
  },
  {
   "cell_type": "code",
   "execution_count": null,
   "metadata": {},
   "outputs": [],
   "source": [
    "#Libraries\n",
    "require(dplyr, quietly = TRUE)\n",
    "require(data.table, quietly = TRUE)\n",
    "require(glue, quietly = TRUE)\n",
    "require(rmarkdown, quietly = TRUE)\n",
    "require(ggplot2, quietly = TRUE)\n",
    "require(scatterplot3d, quietly = TRUE)\n",
    "require(gridExtra, quietly = TRUE)\n",
    "require(tidyr, quietly = TRUE)"
   ]
  },
  {
   "cell_type": "code",
   "execution_count": 2,
   "metadata": {},
   "outputs": [],
   "source": [
    "#Dataload\n",
    "axes <- c(\"X\",\"Y\",\"Z\")\n",
    "df <- list(); dftest <- list()\n",
    "\n",
    "for (i in axes){\n",
    "    df[[length(df) + 1]] <- fread(glue(\"Data/Train/uWaveGestureLibrary_{i}_TRAIN\"))\n",
    "    dftest[[length(dftest) + 1]] <- fread(glue(\"Data/Test/uWaveGestureLibrary_{i}_TEST\"))\n",
    "    \n",
    "}"
   ]
  },
  {
   "cell_type": "code",
   "execution_count": 3,
   "metadata": {},
   "outputs": [],
   "source": [
    "for (i in 1:3){\n",
    "    \n",
    "    ax = axes[i]\n",
    "    \n",
    "    #Train Data Preparation\n",
    "    \n",
    "    df[[i]][,\"Observation\"] = row.names(df[[i]])\n",
    "    setcolorder(df[[i]], c(length(df[[i]]),1,2:(length(df[[i]])-1)))\n",
    "    newcolnames <- c(\"Observation\",\"Class\",1:(length(df[[i]])-2)) #New Colnames\n",
    "    setnames(df[[i]], new = newcolnames)\n",
    "    \n",
    "    acolname = glue(\"Acc{ax}\")\n",
    "    df[[i]] <- data.table(gather(df[[i]],\"Time\", !!acolname,3:length(df[[i]])))\n",
    "    df[[i]][, Observation:= as.integer(Observation) ]\n",
    "    df[[i]][, Class:= as.integer(Class) ]\n",
    "    df[[i]][, Time:= as.integer(Time) ]\n",
    "    \n",
    "    for (o in unique(df[[i]]$Observation)){\n",
    "        acolname = glue(\"Acc{ax}\")\n",
    "        speedcolname = glue(\"Speed{ax}\")\n",
    "        loccolname = glue(\"Loc{ax}\")\n",
    "        df[[i]][Observation==o, paste(speedcolname)] = cumsum(df[[i]][Observation==o, ..acolname])\n",
    "        df[[i]][Observation==o, paste(loccolname)] = cumsum(df[[i]][Observation==o, ..speedcolname])\n",
    "    }\n",
    "    \n",
    "    #Test Data Preparation\n",
    "    \n",
    "    dftest[[i]][,\"Observation\"] = row.names(dftest[[i]])\n",
    "    setcolorder(dftest[[i]], c(length(dftest[[i]]),1,2:(length(dftest[[i]])-1)))\n",
    "    newcolnames <- c(\"Observation\",\"Class\",1:(length(dftest[[i]])-2)) #New Colnames\n",
    "    setnames(dftest[[i]], new = newcolnames)\n",
    "    \n",
    "    acolname = glue(\"Acc{ax}\")\n",
    "    dftest[[i]] <- data.table(gather(dftest[[i]],\"Time\", !!acolname,3:length(dftest[[i]])))\n",
    "    dftest[[i]][, Observation:= as.integer(Observation) ]\n",
    "    dftest[[i]][, Class:= as.integer(Class) ]\n",
    "    dftest[[i]][, Time:= as.integer(Time) ]\n",
    "    \n",
    "    for (o in unique(dftest[[i]]$Observation)){\n",
    "        acolname = glue(\"Acc{ax}\")\n",
    "        speedcolname = glue(\"Speed{ax}\")\n",
    "        loccolname = glue(\"Loc{ax}\")\n",
    "        dftest[[i]][Observation==o, paste(speedcolname)] = cumsum(dftest[[i]][Observation==o, ..acolname])\n",
    "        dftest[[i]][Observation==o, paste(loccolname)] = cumsum(dftest[[i]][Observation==o, ..speedcolname])\n",
    "    }\n",
    "}\n"
   ]
  },
  {
   "cell_type": "code",
   "execution_count": 4,
   "metadata": {},
   "outputs": [
    {
     "data": {
      "text/html": [
       "<table>\n",
       "<thead><tr><th scope=col>row</th><th scope=col>col</th></tr></thead>\n",
       "<tbody>\n",
       "</tbody>\n",
       "</table>\n"
      ],
      "text/latex": [
       "\\begin{tabular}{ll}\n",
       " row & col\\\\\n",
       "\\hline\n",
       "\\end{tabular}\n"
      ],
      "text/markdown": [
       "\n",
       "| row | col |\n",
       "|---|---|\n",
       "\n"
      ],
      "text/plain": [
       "     row col"
      ]
     },
     "metadata": {},
     "output_type": "display_data"
    },
    {
     "data": {
      "text/html": [
       "<table>\n",
       "<thead><tr><th scope=col>row</th><th scope=col>col</th></tr></thead>\n",
       "<tbody>\n",
       "</tbody>\n",
       "</table>\n"
      ],
      "text/latex": [
       "\\begin{tabular}{ll}\n",
       " row & col\\\\\n",
       "\\hline\n",
       "\\end{tabular}\n"
      ],
      "text/markdown": [
       "\n",
       "| row | col |\n",
       "|---|---|\n",
       "\n"
      ],
      "text/plain": [
       "     row col"
      ]
     },
     "metadata": {},
     "output_type": "display_data"
    },
    {
     "data": {
      "text/html": [
       "<table>\n",
       "<thead><tr><th scope=col>Observation</th><th scope=col>Time</th><th scope=col>Class</th><th scope=col>AccX</th><th scope=col>SpeedX</th><th scope=col>LocX</th><th scope=col>AccY</th><th scope=col>SpeedY</th><th scope=col>LocY</th><th scope=col>AccZ</th><th scope=col>SpeedZ</th><th scope=col>LocZ</th></tr></thead>\n",
       "<tbody>\n",
       "\t<tr><td>1         </td><td>1         </td><td>6         </td><td>-0.3042432</td><td>-0.3042432</td><td>-0.3042432</td><td>-2.119396 </td><td> -2.119396</td><td> -2.119396</td><td>-1.528965 </td><td>-1.528965 </td><td> -1.528965</td></tr>\n",
       "\t<tr><td>1         </td><td>2         </td><td>6         </td><td>-0.3042432</td><td>-0.6084864</td><td>-0.9127296</td><td>-2.119396 </td><td> -4.238792</td><td> -6.358187</td><td>-1.528965 </td><td>-3.057930 </td><td> -4.586895</td></tr>\n",
       "\t<tr><td>1         </td><td>3         </td><td>6         </td><td>-0.3042432</td><td>-0.9127296</td><td>-1.8254593</td><td>-2.119396 </td><td> -6.358187</td><td>-12.716375</td><td>-1.528965 </td><td>-4.586895 </td><td> -9.173791</td></tr>\n",
       "\t<tr><td>1         </td><td>4         </td><td>6         </td><td>-0.3042432</td><td>-1.2169728</td><td>-3.0424321</td><td>-2.119396 </td><td> -8.477583</td><td>-21.193958</td><td>-1.528965 </td><td>-6.115860 </td><td>-15.289651</td></tr>\n",
       "\t<tr><td>1         </td><td>5         </td><td>6         </td><td>-0.3042432</td><td>-1.5212161</td><td>-4.5636481</td><td>-2.119396 </td><td>-10.596979</td><td>-31.790937</td><td>-1.528965 </td><td>-7.644825 </td><td>-22.934476</td></tr>\n",
       "\t<tr><td>1         </td><td>6         </td><td>6         </td><td>-0.3042432</td><td>-1.8254593</td><td>-6.3891074</td><td>-2.119396 </td><td>-12.716375</td><td>-44.507312</td><td>-1.528965 </td><td>-9.173791 </td><td>-32.108267</td></tr>\n",
       "</tbody>\n",
       "</table>\n"
      ],
      "text/latex": [
       "\\begin{tabular}{r|llllllllllll}\n",
       " Observation & Time & Class & AccX & SpeedX & LocX & AccY & SpeedY & LocY & AccZ & SpeedZ & LocZ\\\\\n",
       "\\hline\n",
       "\t 1          & 1          & 6          & -0.3042432 & -0.3042432 & -0.3042432 & -2.119396  &  -2.119396 &  -2.119396 & -1.528965  & -1.528965  &  -1.528965\\\\\n",
       "\t 1          & 2          & 6          & -0.3042432 & -0.6084864 & -0.9127296 & -2.119396  &  -4.238792 &  -6.358187 & -1.528965  & -3.057930  &  -4.586895\\\\\n",
       "\t 1          & 3          & 6          & -0.3042432 & -0.9127296 & -1.8254593 & -2.119396  &  -6.358187 & -12.716375 & -1.528965  & -4.586895  &  -9.173791\\\\\n",
       "\t 1          & 4          & 6          & -0.3042432 & -1.2169728 & -3.0424321 & -2.119396  &  -8.477583 & -21.193958 & -1.528965  & -6.115860  & -15.289651\\\\\n",
       "\t 1          & 5          & 6          & -0.3042432 & -1.5212161 & -4.5636481 & -2.119396  & -10.596979 & -31.790937 & -1.528965  & -7.644825  & -22.934476\\\\\n",
       "\t 1          & 6          & 6          & -0.3042432 & -1.8254593 & -6.3891074 & -2.119396  & -12.716375 & -44.507312 & -1.528965  & -9.173791  & -32.108267\\\\\n",
       "\\end{tabular}\n"
      ],
      "text/markdown": [
       "\n",
       "| Observation | Time | Class | AccX | SpeedX | LocX | AccY | SpeedY | LocY | AccZ | SpeedZ | LocZ |\n",
       "|---|---|---|---|---|---|---|---|---|---|---|---|\n",
       "| 1          | 1          | 6          | -0.3042432 | -0.3042432 | -0.3042432 | -2.119396  |  -2.119396 |  -2.119396 | -1.528965  | -1.528965  |  -1.528965 |\n",
       "| 1          | 2          | 6          | -0.3042432 | -0.6084864 | -0.9127296 | -2.119396  |  -4.238792 |  -6.358187 | -1.528965  | -3.057930  |  -4.586895 |\n",
       "| 1          | 3          | 6          | -0.3042432 | -0.9127296 | -1.8254593 | -2.119396  |  -6.358187 | -12.716375 | -1.528965  | -4.586895  |  -9.173791 |\n",
       "| 1          | 4          | 6          | -0.3042432 | -1.2169728 | -3.0424321 | -2.119396  |  -8.477583 | -21.193958 | -1.528965  | -6.115860  | -15.289651 |\n",
       "| 1          | 5          | 6          | -0.3042432 | -1.5212161 | -4.5636481 | -2.119396  | -10.596979 | -31.790937 | -1.528965  | -7.644825  | -22.934476 |\n",
       "| 1          | 6          | 6          | -0.3042432 | -1.8254593 | -6.3891074 | -2.119396  | -12.716375 | -44.507312 | -1.528965  | -9.173791  | -32.108267 |\n",
       "\n"
      ],
      "text/plain": [
       "  Observation Time Class AccX       SpeedX     LocX       AccY      SpeedY    \n",
       "1 1           1    6     -0.3042432 -0.3042432 -0.3042432 -2.119396  -2.119396\n",
       "2 1           2    6     -0.3042432 -0.6084864 -0.9127296 -2.119396  -4.238792\n",
       "3 1           3    6     -0.3042432 -0.9127296 -1.8254593 -2.119396  -6.358187\n",
       "4 1           4    6     -0.3042432 -1.2169728 -3.0424321 -2.119396  -8.477583\n",
       "5 1           5    6     -0.3042432 -1.5212161 -4.5636481 -2.119396 -10.596979\n",
       "6 1           6    6     -0.3042432 -1.8254593 -6.3891074 -2.119396 -12.716375\n",
       "  LocY       AccZ      SpeedZ    LocZ      \n",
       "1  -2.119396 -1.528965 -1.528965  -1.528965\n",
       "2  -6.358187 -1.528965 -3.057930  -4.586895\n",
       "3 -12.716375 -1.528965 -4.586895  -9.173791\n",
       "4 -21.193958 -1.528965 -6.115860 -15.289651\n",
       "5 -31.790937 -1.528965 -7.644825 -22.934476\n",
       "6 -44.507312 -1.528965 -9.173791 -32.108267"
      ]
     },
     "metadata": {},
     "output_type": "display_data"
    },
    {
     "data": {
      "text/html": [
       "<table>\n",
       "<thead><tr><th scope=col>Observation</th><th scope=col>Time</th><th scope=col>Class</th><th scope=col>AccX</th><th scope=col>SpeedX</th><th scope=col>LocX</th><th scope=col>AccY</th><th scope=col>SpeedY</th><th scope=col>LocY</th><th scope=col>AccZ</th><th scope=col>SpeedZ</th><th scope=col>LocZ</th></tr></thead>\n",
       "<tbody>\n",
       "\t<tr><td>1        </td><td>1        </td><td>5        </td><td>1.557018 </td><td>1.557018 </td><td> 1.557018</td><td>1.166554 </td><td>1.166554 </td><td> 1.166554</td><td>1.861277 </td><td> 1.861277</td><td> 1.861277</td></tr>\n",
       "\t<tr><td>1        </td><td>2        </td><td>5        </td><td>1.557018 </td><td>3.114035 </td><td> 4.671053</td><td>1.166554 </td><td>2.333108 </td><td> 3.499662</td><td>1.861277 </td><td> 3.722555</td><td> 5.583832</td></tr>\n",
       "\t<tr><td>1        </td><td>3        </td><td>5        </td><td>1.557018 </td><td>4.671053 </td><td> 9.342106</td><td>1.166554 </td><td>3.499662 </td><td> 6.999324</td><td>1.861277 </td><td> 5.583832</td><td>11.167664</td></tr>\n",
       "\t<tr><td>1        </td><td>4        </td><td>5        </td><td>1.557018 </td><td>6.228070 </td><td>15.570176</td><td>1.166554 </td><td>4.666216 </td><td>11.665540</td><td>1.861277 </td><td> 7.445109</td><td>18.612773</td></tr>\n",
       "\t<tr><td>1        </td><td>5        </td><td>5        </td><td>1.557018 </td><td>7.785088 </td><td>23.355264</td><td>1.166554 </td><td>5.832770 </td><td>17.498310</td><td>1.861277 </td><td> 9.306387</td><td>27.919159</td></tr>\n",
       "\t<tr><td>1        </td><td>6        </td><td>5        </td><td>1.557018 </td><td>9.342106 </td><td>32.697370</td><td>1.166554 </td><td>6.999324 </td><td>24.497634</td><td>1.861277 </td><td>11.167664</td><td>39.086823</td></tr>\n",
       "</tbody>\n",
       "</table>\n"
      ],
      "text/latex": [
       "\\begin{tabular}{r|llllllllllll}\n",
       " Observation & Time & Class & AccX & SpeedX & LocX & AccY & SpeedY & LocY & AccZ & SpeedZ & LocZ\\\\\n",
       "\\hline\n",
       "\t 1         & 1         & 5         & 1.557018  & 1.557018  &  1.557018 & 1.166554  & 1.166554  &  1.166554 & 1.861277  &  1.861277 &  1.861277\\\\\n",
       "\t 1         & 2         & 5         & 1.557018  & 3.114035  &  4.671053 & 1.166554  & 2.333108  &  3.499662 & 1.861277  &  3.722555 &  5.583832\\\\\n",
       "\t 1         & 3         & 5         & 1.557018  & 4.671053  &  9.342106 & 1.166554  & 3.499662  &  6.999324 & 1.861277  &  5.583832 & 11.167664\\\\\n",
       "\t 1         & 4         & 5         & 1.557018  & 6.228070  & 15.570176 & 1.166554  & 4.666216  & 11.665540 & 1.861277  &  7.445109 & 18.612773\\\\\n",
       "\t 1         & 5         & 5         & 1.557018  & 7.785088  & 23.355264 & 1.166554  & 5.832770  & 17.498310 & 1.861277  &  9.306387 & 27.919159\\\\\n",
       "\t 1         & 6         & 5         & 1.557018  & 9.342106  & 32.697370 & 1.166554  & 6.999324  & 24.497634 & 1.861277  & 11.167664 & 39.086823\\\\\n",
       "\\end{tabular}\n"
      ],
      "text/markdown": [
       "\n",
       "| Observation | Time | Class | AccX | SpeedX | LocX | AccY | SpeedY | LocY | AccZ | SpeedZ | LocZ |\n",
       "|---|---|---|---|---|---|---|---|---|---|---|---|\n",
       "| 1         | 1         | 5         | 1.557018  | 1.557018  |  1.557018 | 1.166554  | 1.166554  |  1.166554 | 1.861277  |  1.861277 |  1.861277 |\n",
       "| 1         | 2         | 5         | 1.557018  | 3.114035  |  4.671053 | 1.166554  | 2.333108  |  3.499662 | 1.861277  |  3.722555 |  5.583832 |\n",
       "| 1         | 3         | 5         | 1.557018  | 4.671053  |  9.342106 | 1.166554  | 3.499662  |  6.999324 | 1.861277  |  5.583832 | 11.167664 |\n",
       "| 1         | 4         | 5         | 1.557018  | 6.228070  | 15.570176 | 1.166554  | 4.666216  | 11.665540 | 1.861277  |  7.445109 | 18.612773 |\n",
       "| 1         | 5         | 5         | 1.557018  | 7.785088  | 23.355264 | 1.166554  | 5.832770  | 17.498310 | 1.861277  |  9.306387 | 27.919159 |\n",
       "| 1         | 6         | 5         | 1.557018  | 9.342106  | 32.697370 | 1.166554  | 6.999324  | 24.497634 | 1.861277  | 11.167664 | 39.086823 |\n",
       "\n"
      ],
      "text/plain": [
       "  Observation Time Class AccX     SpeedX   LocX      AccY     SpeedY  \n",
       "1 1           1    5     1.557018 1.557018  1.557018 1.166554 1.166554\n",
       "2 1           2    5     1.557018 3.114035  4.671053 1.166554 2.333108\n",
       "3 1           3    5     1.557018 4.671053  9.342106 1.166554 3.499662\n",
       "4 1           4    5     1.557018 6.228070 15.570176 1.166554 4.666216\n",
       "5 1           5    5     1.557018 7.785088 23.355264 1.166554 5.832770\n",
       "6 1           6    5     1.557018 9.342106 32.697370 1.166554 6.999324\n",
       "  LocY      AccZ     SpeedZ    LocZ     \n",
       "1  1.166554 1.861277  1.861277  1.861277\n",
       "2  3.499662 1.861277  3.722555  5.583832\n",
       "3  6.999324 1.861277  5.583832 11.167664\n",
       "4 11.665540 1.861277  7.445109 18.612773\n",
       "5 17.498310 1.861277  9.306387 27.919159\n",
       "6 24.497634 1.861277 11.167664 39.086823"
      ]
     },
     "metadata": {},
     "output_type": "display_data"
    }
   ],
   "source": [
    "# Merging Tables\n",
    "\n",
    "dfmelted <- merge(df[[1]], df[[2]], by = c(\"Observation\",\"Time\", \"Class\"), all=TRUE)\n",
    "dfmelted <- merge(dfmelted, df[[3]], by = c(\"Observation\",\"Time\", \"Class\"), all=TRUE)\n",
    "\n",
    "dftestmelted <- merge(dftest[[1]], dftest[[2]], by = c(\"Observation\",\"Time\", \"Class\"), all=TRUE)\n",
    "dftestmelted <- merge(dftestmelted, dftest[[3]], by = c(\"Observation\",\"Time\", \"Class\"), all=TRUE)\n",
    "\n",
    "which(is.na(dfmelted),TRUE);which(is.na(dftestmelted),TRUE)\n",
    "\n",
    "head(dfmelted); head(dftestmelted)"
   ]
  },
  {
   "cell_type": "markdown",
   "metadata": {},
   "source": [
    "## Task a"
   ]
  },
  {
   "cell_type": "code",
   "execution_count": 5,
   "metadata": {
    "scrolled": true
   },
   "outputs": [
    {
     "data": {
      "text/plain": [
       "Counts\n",
       "    1     2     3     4     5     6     7     8 \n",
       "38430 34020 33390 34650 40005 34965 35280 31500 "
      ]
     },
     "metadata": {},
     "output_type": "display_data"
    },
    {
     "data": {
      "text/html": [
       "<table>\n",
       "<thead><tr><th scope=col>Group.1</th><th scope=col>x</th></tr></thead>\n",
       "<tbody>\n",
       "\t<tr><td>1 </td><td>11</td></tr>\n",
       "\t<tr><td>2 </td><td>15</td></tr>\n",
       "\t<tr><td>3 </td><td> 4</td></tr>\n",
       "\t<tr><td>4 </td><td> 5</td></tr>\n",
       "\t<tr><td>5 </td><td> 2</td></tr>\n",
       "\t<tr><td>6 </td><td> 1</td></tr>\n",
       "\t<tr><td>7 </td><td> 7</td></tr>\n",
       "\t<tr><td>8 </td><td> 6</td></tr>\n",
       "</tbody>\n",
       "</table>\n"
      ],
      "text/latex": [
       "\\begin{tabular}{r|ll}\n",
       " Group.1 & x\\\\\n",
       "\\hline\n",
       "\t 1  & 11\\\\\n",
       "\t 2  & 15\\\\\n",
       "\t 3  &  4\\\\\n",
       "\t 4  &  5\\\\\n",
       "\t 5  &  2\\\\\n",
       "\t 6  &  1\\\\\n",
       "\t 7  &  7\\\\\n",
       "\t 8  &  6\\\\\n",
       "\\end{tabular}\n"
      ],
      "text/markdown": [
       "\n",
       "| Group.1 | x |\n",
       "|---|---|\n",
       "| 1  | 11 |\n",
       "| 2  | 15 |\n",
       "| 3  |  4 |\n",
       "| 4  |  5 |\n",
       "| 5  |  2 |\n",
       "| 6  |  1 |\n",
       "| 7  |  7 |\n",
       "| 8  |  6 |\n",
       "\n"
      ],
      "text/plain": [
       "  Group.1 x \n",
       "1 1       11\n",
       "2 2       15\n",
       "3 3        4\n",
       "4 4        5\n",
       "5 5        2\n",
       "6 6        1\n",
       "7 7        7\n",
       "8 8        6"
      ]
     },
     "metadata": {},
     "output_type": "display_data"
    }
   ],
   "source": [
    "table(dfmelted[,Class],dnn = \"Counts\");\n",
    "obs <- data.table(aggregate(dfmelted$Observation, list(dfmelted$Class), first)); obs"
   ]
  },
  {
   "cell_type": "markdown",
   "metadata": {},
   "source": [
    "### Plots of Examples from Each Class"
   ]
  },
  {
   "cell_type": "markdown",
   "metadata": {},
   "source": [
    "An observation from each class is visualized using location data. Points go from brighter to darker as time goes up."
   ]
  },
  {
   "cell_type": "code",
   "execution_count": 6,
   "metadata": {
    "scrolled": false
   },
   "outputs": [
    {
     "data": {
      "image/png": "[encoded data removed]",
      "text/plain": [
       "Plot with title \"Class 1\""
      ]
     },
     "metadata": {},
     "output_type": "display_data"
    },
    {
     "data": {
      "image/png": "[encoded data removed]",
      "text/plain": [
       "Plot with title \"Class 2\""
      ]
     },
     "metadata": {},
     "output_type": "display_data"
    },
    {
     "data": {
      "image/png": "[encoded data removed]",
      "text/plain": [
       "Plot with title \"Class 3\""
      ]
     },
     "metadata": {},
     "output_type": "display_data"
    },
    {
     "data": {
      "image/png": "[encoded data removed]",
      "text/plain": [
       "Plot with title \"Class 4\""
      ]
     },
     "metadata": {},
     "output_type": "display_data"
    },
    {
     "data": {
      "image/png": "[encoded data removed]",
      "text/plain": [
       "Plot with title \"Class 5\""
      ]
     },
     "metadata": {},
     "output_type": "display_data"
    },
    {
     "data": {
      "image/png": "[encoded data removed]",
      "text/plain": [
       "Plot with title \"Class 6\""
      ]
     },
     "metadata": {},
     "output_type": "display_data"
    },
    {
     "data": {
      "image/png": "[encoded data removed]",
      "text/plain": [
       "Plot with title \"Class 7\""
      ]
     },
     "metadata": {},
     "output_type": "display_data"
    },
    {
     "data": {
      "image/png": "[encoded data removed]",
      "text/plain": [
       "Plot with title \"Class 8\""
      ]
     },
     "metadata": {},
     "output_type": "display_data"
    }
   ],
   "source": [
    "idx = dfmelted$Observation == obs[1,2][[1]]; Title = \"Class 1\"\n",
    "scatterplot3d(dfmelted$LocX[idx],dfmelted$LocY[idx],dfmelted$LocZ[idx],\n",
    "              xlab = \"X\", ylab = \"Y\", zlab = \"Z\", main = Title, \n",
    "              color = grey((1:length(dfmelted$LocX[idx]))/length(dfmelted$LocX[idx])))\n",
    "    \n",
    "idx = dfmelted$Observation == obs[2,2][[1]]; Title = \"Class 2\"\n",
    "scatterplot3d(dfmelted$LocX[idx],dfmelted$LocY[idx],dfmelted$LocZ[idx],\n",
    "              xlab = \"X\", ylab = \"Y\", zlab = \"Z\", main = Title, \n",
    "              color = grey((1:length(dfmelted$LocX[idx]))/length(dfmelted$LocX[idx])))\n",
    "\n",
    "idx = dfmelted$Observation == obs[3,2][[1]]; Title = \"Class 3\"\n",
    "scatterplot3d(dfmelted$LocX[idx],dfmelted$LocY[idx],dfmelted$LocZ[idx],\n",
    "              xlab = \"X\", ylab = \"Y\", zlab = \"Z\", main = Title, \n",
    "              color = grey((1:length(dfmelted$LocX[idx]))/length(dfmelted$LocX[idx])))\n",
    "\n",
    "idx = dfmelted$Observation == obs[4,2][[1]]; Title = \"Class 4\"\n",
    "scatterplot3d(dfmelted$LocX[idx],dfmelted$LocY[idx],dfmelted$LocZ[idx],\n",
    "              xlab = \"X\", ylab = \"Y\", zlab = \"Z\", main = Title, \n",
    "              color = grey((1:length(dfmelted$LocX[idx]))/length(dfmelted$LocX[idx])))\n",
    "\n",
    "idx = dfmelted$Observation == obs[5,2][[1]]; Title = \"Class 5\"\n",
    "scatterplot3d(dfmelted$LocX[idx],dfmelted$LocY[idx],dfmelted$LocZ[idx],\n",
    "              xlab = \"X\", ylab = \"Y\", zlab = \"Z\", main = Title, \n",
    "              color = grey((1:length(dfmelted$LocX[idx]))/length(dfmelted$LocX[idx])))\n",
    "\n",
    "idx = dfmelted$Observation == obs[6,2][[1]]; Title = \"Class 6\"\n",
    "scatterplot3d(dfmelted$LocX[idx],dfmelted$LocY[idx],dfmelted$LocZ[idx],\n",
    "              xlab = \"X\", ylab = \"Y\", zlab = \"Z\", main = Title, \n",
    "              color = grey((1:length(dfmelted$LocX[idx]))/length(dfmelted$LocX[idx])))\n",
    "\n",
    "idx = dfmelted$Observation == obs[7,2][[1]]; Title = \"Class 7\"\n",
    "scatterplot3d(dfmelted$LocX[idx],dfmelted$LocY[idx],dfmelted$LocZ[idx],\n",
    "              xlab = \"X\", ylab = \"Y\", zlab = \"Z\", main = Title, \n",
    "              color = grey((1:length(dfmelted$LocX[idx]))/length(dfmelted$LocX[idx])))\n",
    "\n",
    "idx = dfmelted$Observation == obs[8,2][[1]]; Title = \"Class 8\"\n",
    "scatterplot3d(dfmelted$LocX[idx],dfmelted$LocY[idx],dfmelted$LocZ[idx],\n",
    "              xlab = \"X\", ylab = \"Y\", zlab = \"Z\", main = Title, \n",
    "              color = grey((1:length(dfmelted$LocX[idx]))/length(dfmelted$LocX[idx])))\n"
   ]
  },
  {
   "cell_type": "markdown",
   "metadata": {},
   "source": [
    "## Task b"
   ]
  },
  {
   "cell_type": "markdown",
   "metadata": {},
   "source": [
    "#### Making PCA Transformation 3D -> 1D"
   ]
  },
  {
   "cell_type": "code",
   "execution_count": 7,
   "metadata": {},
   "outputs": [],
   "source": [
    "m1 <- prcomp(dfmelted[,c(\"LocX\",\"LocY\",\"LocZ\")],scale = TRUE)"
   ]
  },
  {
   "cell_type": "code",
   "execution_count": 8,
   "metadata": {},
   "outputs": [
    {
     "data": {
      "text/plain": [
       "Standard deviations (1, .., p=3):\n",
       "[1] 1.2724995 1.0380930 0.5505524\n",
       "\n",
       "Rotation (n x k) = (3 x 3):\n",
       "           PC1        PC2        PC3\n",
       "LocX 0.2092858 -0.9084781  0.3617554\n",
       "LocY 0.7231731 -0.1052159 -0.6826055\n",
       "LocZ 0.6581946  0.4044714  0.6349668"
      ]
     },
     "metadata": {},
     "output_type": "display_data"
    }
   ],
   "source": [
    "m1"
   ]
  },
  {
   "cell_type": "markdown",
   "metadata": {},
   "source": [
    "Principal component with highest standard deviaton value has the formula:\n",
    "\n",
    "$$ PC_{1,i} = 0.2092858 \\times X_{i} + 0.7231731 \\times Y_{i} + 0.6581946 \\times Z_{i} $$"
   ]
  },
  {
   "cell_type": "markdown",
   "metadata": {},
   "source": [
    "#### Plotting PC1's of Classes"
   ]
  },
  {
   "cell_type": "code",
   "execution_count": 9,
   "metadata": {},
   "outputs": [],
   "source": [
    "PC1 <- function(x,y,z) 0.2092858*x + 0.7231731*y + 0.6581946*z"
   ]
  },
  {
   "cell_type": "code",
   "execution_count": 10,
   "metadata": {},
   "outputs": [
    {
     "data": {
      "text/html": [
       "<ol class=list-inline>\n",
       "\t<li>59</li>\n",
       "\t<li>378</li>\n",
       "\t<li>193</li>\n",
       "\t<li>111</li>\n",
       "\t<li>729</li>\n",
       "\t<li>239</li>\n",
       "\t<li>342</li>\n",
       "\t<li>690</li>\n",
       "\t<li>494</li>\n",
       "\t<li>480</li>\n",
       "\t<li>169</li>\n",
       "\t<li>716</li>\n",
       "\t<li>330</li>\n",
       "\t<li>260</li>\n",
       "\t<li>105</li>\n",
       "\t<li>278</li>\n",
       "</ol>\n"
      ],
      "text/latex": [
       "\\begin{enumerate*}\n",
       "\\item 59\n",
       "\\item 378\n",
       "\\item 193\n",
       "\\item 111\n",
       "\\item 729\n",
       "\\item 239\n",
       "\\item 342\n",
       "\\item 690\n",
       "\\item 494\n",
       "\\item 480\n",
       "\\item 169\n",
       "\\item 716\n",
       "\\item 330\n",
       "\\item 260\n",
       "\\item 105\n",
       "\\item 278\n",
       "\\end{enumerate*}\n"
      ],
      "text/markdown": [
       "1. 59\n",
       "2. 378\n",
       "3. 193\n",
       "4. 111\n",
       "5. 729\n",
       "6. 239\n",
       "7. 342\n",
       "8. 690\n",
       "9. 494\n",
       "10. 480\n",
       "11. 169\n",
       "12. 716\n",
       "13. 330\n",
       "14. 260\n",
       "15. 105\n",
       "16. 278\n",
       "\n",
       "\n"
      ],
      "text/plain": [
       " [1]  59 378 193 111 729 239 342 690 494 480 169 716 330 260 105 278"
      ]
     },
     "metadata": {},
     "output_type": "display_data"
    }
   ],
   "source": [
    "obs = NULL\n",
    "obs <- append(obs,sample(unique(dfmelted[Class ==1,Observation]),2))\n",
    "obs <- append(obs,sample(unique(dfmelted[Class ==2,Observation]),2))\n",
    "obs <- append(obs,sample(unique(dfmelted[Class ==3,Observation]),2))\n",
    "obs <- append(obs,sample(unique(dfmelted[Class ==4,Observation]),2))\n",
    "obs <- append(obs,sample(unique(dfmelted[Class ==5,Observation]),2))\n",
    "obs <- append(obs,sample(unique(dfmelted[Class ==6,Observation]),2))\n",
    "obs <- append(obs,sample(unique(dfmelted[Class ==7,Observation]),2))\n",
    "obs <- append(obs,sample(unique(dfmelted[Class ==8,Observation]),2))\n",
    "obs"
   ]
  },
  {
   "cell_type": "code",
   "execution_count": 43,
   "metadata": {
    "scrolled": false
   },
   "outputs": [
    {
     "data": {
      "image/png": "[encoded data removed]",
      "text/plain": [
       "plot without title"
      ]
     },
     "metadata": {},
     "output_type": "display_data"
    }
   ],
   "source": [
    "fig <- ggplot()\n",
    "data = list()\n",
    "\n",
    "for (i in 1:length(obs)){\n",
    "    data[[ length(data)+1 ]] <- dfmelted[Observation == obs[i]]\n",
    "}\n",
    "\n",
    "fig <- fig +\n",
    "geom_line(data = data[[1]],aes(1: dim(data[[1]])[1],PC1(LocX,LocY,LocZ),group = as.factor(Class), col = as.factor(Class)), size =1 ) +\n",
    "geom_line(data = data[[2]],aes(1: dim(data[[2]])[1],PC1(LocX,LocY,LocZ),group = as.factor(Class), col = as.factor(Class)), size =1 ) +\n",
    "geom_line(data = data[[3]],aes(1: dim(data[[3]])[1],PC1(LocX,LocY,LocZ),group = as.factor(Class), col = as.factor(Class)), size =1 ) +\n",
    "geom_line(data = data[[4]],aes(1: dim(data[[4]])[1],PC1(LocX,LocY,LocZ),group = as.factor(Class), col = as.factor(Class)), size =1 ) +\n",
    "geom_line(data = data[[5]],aes(1: dim(data[[5]])[1],PC1(LocX,LocY,LocZ),group = as.factor(Class), col = as.factor(Class)), size =1 ) +\n",
    "geom_line(data = data[[6]],aes(1: dim(data[[6]])[1],PC1(LocX,LocY,LocZ),group = as.factor(Class), col = as.factor(Class)), size =1 ) +\n",
    "geom_line(data = data[[7]],aes(1: dim(data[[7]])[1],PC1(LocX,LocY,LocZ),group = as.factor(Class), col = as.factor(Class)), size =1 ) +\n",
    "geom_line(data = data[[8]],aes(1: dim(data[[8]])[1],PC1(LocX,LocY,LocZ),group = as.factor(Class), col = as.factor(Class)), size =1 ) +\n",
    "geom_line(data = data[[9]],aes(1: dim(data[[9]])[1],PC1(LocX,LocY,LocZ),group = as.factor(Class), col = as.factor(Class)), size =1 ) +\n",
    "geom_line(data = data[[10]],aes(1: dim(data[[10]])[1],PC1(LocX,LocY,LocZ),group = as.factor(Class), col = as.factor(Class)), size =1 ) +\n",
    "geom_line(data = data[[11]],aes(1: dim(data[[11]])[1],PC1(LocX,LocY,LocZ),group = as.factor(Class), col = as.factor(Class)), size =1 ) +\n",
    "geom_line(data = data[[12]],aes(1: dim(data[[12]])[1],PC1(LocX,LocY,LocZ),group = as.factor(Class), col = as.factor(Class)), size =1 ) +\n",
    "geom_line(data = data[[13]],aes(1: dim(data[[13]])[1],PC1(LocX,LocY,LocZ),group = as.factor(Class), col = as.factor(Class)), size =1 ) +\n",
    "geom_line(data = data[[14]],aes(1: dim(data[[14]])[1],PC1(LocX,LocY,LocZ),group = as.factor(Class), col = as.factor(Class)), size =1 ) +\n",
    "geom_line(data = data[[15]],aes(1: dim(data[[15]])[1],PC1(LocX,LocY,LocZ),group = as.factor(Class), col = as.factor(Class)), size =1 ) +\n",
    "geom_line(data = data[[16]],aes(1: dim(data[[16]])[1],PC1(LocX,LocY,LocZ),group = as.factor(Class), col = as.factor(Class)), size =1 ) +\n",
    "ylab('PC1')+xlab('Time')\n",
    "fig\n",
    "\n"
   ]
  },
  {
   "cell_type": "markdown",
   "metadata": {},
   "source": [
    "When we look ak the plot, we see that distance between lines generally increases as time goes up. Hence, we can look at final values for classification. Class 5 and 6 end up at the uppermost and lowermost values in the plot. Class 1, which finishes the series above 6, also can be seperated from class 6 and the classes in the middle. Finally, PC1 values of examples from class 8 are very close to each other. If the rest of the observations are around these values, this class can be distinguished from others easily.\n",
    "\n",
    "Rest of the classes look problematic though. PC1 values belong to these classes came out between each other. The most difficult looking one is class 3, whose observations have PC1 values around classes  2,7 and 8.This class seem to have dispersed PC1 values and it will be hard to distinguish it from the other classes using PC1 statistic. It is also possible to determine an interval for class 4 although smaller PC1 value is less than greater PC1 value of an observation from class 3 if values belonging to the rest of the observations are between these two."
   ]
  },
  {
   "cell_type": "markdown",
   "metadata": {},
   "source": [
    "## Task c"
   ]
  },
  {
   "cell_type": "code",
   "execution_count": 56,
   "metadata": {},
   "outputs": [],
   "source": [
    "pcamodels <- list()\n",
    "for (i in 1:8){\n",
    "    pcamodels[[i]] <- prcomp(dfmelted[Class==i,c(\"LocX\",\"LocY\",\"LocZ\")],scale = TRUE)\n",
    "}"
   ]
  },
  {
   "cell_type": "markdown",
   "metadata": {},
   "source": [
    "### Class 1"
   ]
  },
  {
   "cell_type": "code",
   "execution_count": 67,
   "metadata": {
    "scrolled": true
   },
   "outputs": [
    {
     "data": {
      "text/plain": [
       "Standard deviations (1, .., p=3):\n",
       "[1] 1.2932492 1.0091473 0.5559931\n",
       "\n",
       "Rotation (n x k) = (3 x 3):\n",
       "           PC1         PC2        PC3\n",
       "LocX 0.1192782  0.97300528  0.1975688\n",
       "LocY 0.6932689 -0.22406752  0.6849613\n",
       "LocZ 0.7107398  0.05526735 -0.7012806"
      ]
     },
     "metadata": {},
     "output_type": "display_data"
    },
    {
     "data": {
      "text/html": [
       "<ol class=list-inline>\n",
       "\t<li>55.7497844220641</li>\n",
       "\t<li>33.9459391120253</li>\n",
       "\t<li>10.3042764659106</li>\n",
       "</ol>\n"
      ],
      "text/latex": [
       "\\begin{enumerate*}\n",
       "\\item 55.7497844220641\n",
       "\\item 33.9459391120253\n",
       "\\item 10.3042764659106\n",
       "\\end{enumerate*}\n"
      ],
      "text/markdown": [
       "1. 55.7497844220641\n",
       "2. 33.9459391120253\n",
       "3. 10.3042764659106\n",
       "\n",
       "\n"
      ],
      "text/plain": [
       "[1] 55.74978 33.94594 10.30428"
      ]
     },
     "metadata": {},
     "output_type": "display_data"
    }
   ],
   "source": [
    "pcamodels[[1]];\n",
    "( pcamodels[[1]]$sdev^2/sum(pcamodels[[1]]$sdev^2) )*100"
   ]
  },
  {
   "cell_type": "markdown",
   "metadata": {},
   "source": [
    "By looking at variance values, it can be said that first component covers **$55.75\\%$** of the variance in the model. **$33.95\\%$** and **$10.30\\%$** of the variance is explaned by second and third component respectively.\n",
    "\n",
    "Coefficients of **LocZ** and **LocY** variables are **$0.7107398$** and **$0.6932689$** for PC1 response variable. These variables are most significant ones in distinguishing Class 1. **LocX** variable with **$0.1192782$** coefficient is the least significant one among these observations. The probability of a gesture being in class 1 increases as coordinate values increase in general."
   ]
  },
  {
   "cell_type": "markdown",
   "metadata": {},
   "source": [
    "### Class 2"
   ]
  },
  {
   "cell_type": "code",
   "execution_count": 68,
   "metadata": {
    "scrolled": true
   },
   "outputs": [
    {
     "data": {
      "text/plain": [
       "Standard deviations (1, .., p=3):\n",
       "[1] 1.1286537 0.9457021 0.9120243\n",
       "\n",
       "Rotation (n x k) = (3 x 3):\n",
       "            PC1        PC2        PC3\n",
       "LocX -0.5353964 -0.8143691  0.2239501\n",
       "LocY -0.6126143  0.1919057 -0.7667306\n",
       "LocZ -0.5814244  0.5476999  0.6016398"
      ]
     },
     "metadata": {},
     "output_type": "display_data"
    },
    {
     "data": {
      "text/html": [
       "<ol class=list-inline>\n",
       "\t<li>42.4619706410768</li>\n",
       "\t<li>29.8117497407532</li>\n",
       "\t<li>27.72627961817</li>\n",
       "</ol>\n"
      ],
      "text/latex": [
       "\\begin{enumerate*}\n",
       "\\item 42.4619706410768\n",
       "\\item 29.8117497407532\n",
       "\\item 27.72627961817\n",
       "\\end{enumerate*}\n"
      ],
      "text/markdown": [
       "1. 42.4619706410768\n",
       "2. 29.8117497407532\n",
       "3. 27.72627961817\n",
       "\n",
       "\n"
      ],
      "text/plain": [
       "[1] 42.46197 29.81175 27.72628"
      ]
     },
     "metadata": {},
     "output_type": "display_data"
    }
   ],
   "source": [
    "pcamodels[[2]];\n",
    "( pcamodels[[2]]$sdev^2/sum(pcamodels[[2]]$sdev^2) )*100"
   ]
  },
  {
   "cell_type": "markdown",
   "metadata": {},
   "source": [
    "Principal components explain *$42.46\\%$*, *$29.81\\%$* and *$27.72\\%$* of the variance respectively. PC1 of this model explains less variability than the first model.\n",
    "\n",
    "PC1 Coefficients are **$-0.5353964$**, **$-0.6126143$** and **$-0.5814244$**. All coefficients are negative. Thus, being in Class 2 is inversely proportional to the distance from the origin. From the results it can also be said that Class 2 gestures distinguish themselves mostly in their Y coordinates which is followed by Z. The effect of X coordinates are close although it is the least effective one."
   ]
  },
  {
   "cell_type": "markdown",
   "metadata": {},
   "source": [
    "### Class 3"
   ]
  },
  {
   "cell_type": "code",
   "execution_count": 69,
   "metadata": {
    "scrolled": true
   },
   "outputs": [
    {
     "data": {
      "text/plain": [
       "Standard deviations (1, .., p=3):\n",
       "[1] 1.2156489 1.0027730 0.7187794\n",
       "\n",
       "Rotation (n x k) = (3 x 3):\n",
       "            PC1         PC2        PC3\n",
       "LocX -0.7091356 0.005581685  0.7050501\n",
       "LocY -0.3714170 0.847018528 -0.3802749\n",
       "LocZ  0.5993130 0.531534061  0.5985778"
      ]
     },
     "metadata": {},
     "output_type": "display_data"
    },
    {
     "data": {
      "text/html": [
       "<ol class=list-inline>\n",
       "\t<li>49.260077346221</li>\n",
       "\t<li>33.5184595831844</li>\n",
       "\t<li>17.2214630705948</li>\n",
       "</ol>\n"
      ],
      "text/latex": [
       "\\begin{enumerate*}\n",
       "\\item 49.260077346221\n",
       "\\item 33.5184595831844\n",
       "\\item 17.2214630705948\n",
       "\\end{enumerate*}\n"
      ],
      "text/markdown": [
       "1. 49.260077346221\n",
       "2. 33.5184595831844\n",
       "3. 17.2214630705948\n",
       "\n",
       "\n"
      ],
      "text/plain": [
       "[1] 49.26008 33.51846 17.22146"
      ]
     },
     "metadata": {},
     "output_type": "display_data"
    }
   ],
   "source": [
    "pcamodels[[3]];\n",
    "( pcamodels[[3]]$sdev^2/sum(pcamodels[[1]]$sdev^2) )*100"
   ]
  },
  {
   "cell_type": "markdown",
   "metadata": {},
   "source": [
    "Principal components explain *$49.26\\%$*, *$33.52\\%$* and *$17.22\\%$* of the variance respectively. PC1 transformation explains more than model 2 and less than model 1.\n",
    "\n",
    "PC1 Coefficients are **$-0.7091356$**, **$-0.3714170$** and **$0.5993130$**. Result of this model is interesting as Z coordinate coefficient is positive and the others are negative. This means that gestures belonging to this class mostly consists of motions through +Z direction and -X,-Y directions."
   ]
  },
  {
   "cell_type": "markdown",
   "metadata": {},
   "source": [
    "### Class 4"
   ]
  },
  {
   "cell_type": "code",
   "execution_count": 70,
   "metadata": {
    "scrolled": true
   },
   "outputs": [
    {
     "data": {
      "text/plain": [
       "Standard deviations (1, .., p=3):\n",
       "[1] 1.2855781 0.9914895 0.6035210\n",
       "\n",
       "Rotation (n x k) = (3 x 3):\n",
       "            PC1         PC2        PC3\n",
       "LocX  0.7018889 -0.04016825  0.7111529\n",
       "LocY  0.6740385 -0.28531139 -0.6813733\n",
       "LocZ -0.2302696 -0.95759278  0.1731820"
      ]
     },
     "metadata": {},
     "output_type": "display_data"
    },
    {
     "data": {
      "text/html": [
       "<ol class=list-inline>\n",
       "\t<li>55.0903685896694</li>\n",
       "\t<li>32.7683788494061</li>\n",
       "\t<li>12.1412525609247</li>\n",
       "</ol>\n"
      ],
      "text/latex": [
       "\\begin{enumerate*}\n",
       "\\item 55.0903685896694\n",
       "\\item 32.7683788494061\n",
       "\\item 12.1412525609247\n",
       "\\end{enumerate*}\n"
      ],
      "text/markdown": [
       "1. 55.0903685896694\n",
       "2. 32.7683788494061\n",
       "3. 12.1412525609247\n",
       "\n",
       "\n"
      ],
      "text/plain": [
       "[1] 55.09037 32.76838 12.14125"
      ]
     },
     "metadata": {},
     "output_type": "display_data"
    }
   ],
   "source": [
    "pcamodels[[4]];\n",
    "( pcamodels[[4]]$sdev^2/sum(pcamodels[[1]]$sdev^2) )*100"
   ]
  },
  {
   "cell_type": "markdown",
   "metadata": {},
   "source": [
    "Principal components explain $55.09\\%$, $32.77\\%$ and $12.14\\%$ of the variance respectively. PC1 transformation is as powerful as first model in explaining variability.\n",
    "\n",
    "PC1 Coefficients are $0.7018889$, $0.6740385$ and $-0.2302696$. Probability of being in Class 4 is affected significantly by increasing X and Y values. Decreasing Z values have small effect on Class 4 classification."
   ]
  },
  {
   "cell_type": "markdown",
   "metadata": {},
   "source": [
    "### Class 5"
   ]
  },
  {
   "cell_type": "code",
   "execution_count": 71,
   "metadata": {
    "scrolled": true
   },
   "outputs": [
    {
     "data": {
      "text/plain": [
       "Standard deviations (1, .., p=3):\n",
       "[1] 1.4038307 0.9685920 0.3018095\n",
       "\n",
       "Rotation (n x k) = (3 x 3):\n",
       "           PC1        PC2         PC3\n",
       "LocX 0.2447432  0.9695753 -0.00493898\n",
       "LocY 0.6852038 -0.1765608 -0.70662724\n",
       "LocZ 0.6860004 -0.1695580  0.70756876"
      ]
     },
     "metadata": {},
     "output_type": "display_data"
    },
    {
     "data": {
      "text/html": [
       "<ol class=list-inline>\n",
       "\t<li>65.6913514518699</li>\n",
       "\t<li>31.2723495606295</li>\n",
       "\t<li>3.03629898750073</li>\n",
       "</ol>\n"
      ],
      "text/latex": [
       "\\begin{enumerate*}\n",
       "\\item 65.6913514518699\n",
       "\\item 31.2723495606295\n",
       "\\item 3.03629898750073\n",
       "\\end{enumerate*}\n"
      ],
      "text/markdown": [
       "1. 65.6913514518699\n",
       "2. 31.2723495606295\n",
       "3. 3.03629898750073\n",
       "\n",
       "\n"
      ],
      "text/plain": [
       "[1] 65.691351 31.272350  3.036299"
      ]
     },
     "metadata": {},
     "output_type": "display_data"
    }
   ],
   "source": [
    "pcamodels[[5]];\n",
    "( pcamodels[[5]]$sdev^2/sum(pcamodels[[1]]$sdev^2) )*100"
   ]
  },
  {
   "cell_type": "markdown",
   "metadata": {},
   "source": [
    "Principal components explain $65.69\\%$, $31.27\\%$ and $3.04\\%$ of the variance respectively. PC1 transformation is the most powerful one so far.\n",
    "\n",
    "PC1 Coefficients are $0.2447432$, $0.6852038$ and $0.6860004 $. Class 5 observations are in a correlation with Y and Z coordinates. X coordinates have less significance among Class 5 gestures."
   ]
  },
  {
   "cell_type": "markdown",
   "metadata": {},
   "source": [
    "### Class 6"
   ]
  },
  {
   "cell_type": "code",
   "execution_count": 72,
   "metadata": {
    "scrolled": true
   },
   "outputs": [
    {
     "data": {
      "text/plain": [
       "Standard deviations (1, .., p=3):\n",
       "[1] 1.3400570 0.9638120 0.5247033\n",
       "\n",
       "Rotation (n x k) = (3 x 3):\n",
       "            PC1       PC2         PC3\n",
       "LocX  0.2914464 0.9545361 -0.06260863\n",
       "LocY -0.6705561 0.2505396  0.69827247\n",
       "LocZ -0.6822122 0.1615264 -0.71308885"
      ]
     },
     "metadata": {},
     "output_type": "display_data"
    },
    {
     "data": {
      "text/html": [
       "<ol class=list-inline>\n",
       "\t<li>59.8584278658799</li>\n",
       "\t<li>30.9644528770865</li>\n",
       "\t<li>9.17711925703362</li>\n",
       "</ol>\n"
      ],
      "text/latex": [
       "\\begin{enumerate*}\n",
       "\\item 59.8584278658799\n",
       "\\item 30.9644528770865\n",
       "\\item 9.17711925703362\n",
       "\\end{enumerate*}\n"
      ],
      "text/markdown": [
       "1. 59.8584278658799\n",
       "2. 30.9644528770865\n",
       "3. 9.17711925703362\n",
       "\n",
       "\n"
      ],
      "text/plain": [
       "[1] 59.858428 30.964453  9.177119"
      ]
     },
     "metadata": {},
     "output_type": "display_data"
    }
   ],
   "source": [
    "pcamodels[[6]];\n",
    "( pcamodels[[6]]$sdev^2/sum(pcamodels[[1]]$sdev^2) )*100"
   ]
  },
  {
   "cell_type": "markdown",
   "metadata": {},
   "source": [
    "Principal components explain $59.86\\%$, $30.96\\%$ and $9.18\\%$ of the variance respectively. Variance explained by PC1 latent variable looks significant.\n",
    "\n",
    "PC1 Coefficients are $0.2914464$, $-0.6705561$ and $-0.6822122$. Class 6 observations are highly affected from and inversely proportional with Y and Z coordinates. Considering class 5, X coordinates have higher effect in this model but yet it is the least significant one."
   ]
  },
  {
   "cell_type": "markdown",
   "metadata": {},
   "source": [
    "### Class 7"
   ]
  },
  {
   "cell_type": "code",
   "execution_count": 73,
   "metadata": {
    "scrolled": true
   },
   "outputs": [
    {
     "data": {
      "text/plain": [
       "Standard deviations (1, .., p=3):\n",
       "[1] 1.2971922 0.8883869 0.7266781\n",
       "\n",
       "Rotation (n x k) = (3 x 3):\n",
       "            PC1        PC2        PC3\n",
       "LocX -0.5959625  0.4866072  0.6387817\n",
       "LocY -0.6316921  0.2070350 -0.7470620\n",
       "LocZ -0.4957760 -0.8487343  0.1840008"
      ]
     },
     "metadata": {},
     "output_type": "display_data"
    },
    {
     "data": {
      "text/html": [
       "<ol class=list-inline>\n",
       "\t<li>56.0902552899361</li>\n",
       "\t<li>26.3077105654971</li>\n",
       "\t<li>17.6020341445668</li>\n",
       "</ol>\n"
      ],
      "text/latex": [
       "\\begin{enumerate*}\n",
       "\\item 56.0902552899361\n",
       "\\item 26.3077105654971\n",
       "\\item 17.6020341445668\n",
       "\\end{enumerate*}\n"
      ],
      "text/markdown": [
       "1. 56.0902552899361\n",
       "2. 26.3077105654971\n",
       "3. 17.6020341445668\n",
       "\n",
       "\n"
      ],
      "text/plain": [
       "[1] 56.09026 26.30771 17.60203"
      ]
     },
     "metadata": {},
     "output_type": "display_data"
    }
   ],
   "source": [
    "pcamodels[[7]];\n",
    "( pcamodels[[7]]$sdev^2/sum(pcamodels[[1]]$sdev^2) )*100"
   ]
  },
  {
   "cell_type": "markdown",
   "metadata": {},
   "source": [
    "Principal components explain $56.09\\%$, $26.31\\%$ and $17.60\\%$ of the variance respectively. PC1 value has an above average variance value.\n",
    "\n",
    "PC1 coefficients are all negative: $-0.5959625$, $-0.6316921$ and $-0.4957760$ respectively. Absolute values of all coefficients are large compared with other models. This means Class 7 gestures are significantly inversely proportional with all coordinate values being Y as the most significant one."
   ]
  },
  {
   "cell_type": "markdown",
   "metadata": {},
   "source": [
    "### Class 8"
   ]
  },
  {
   "cell_type": "code",
   "execution_count": 74,
   "metadata": {
    "scrolled": true
   },
   "outputs": [
    {
     "data": {
      "text/plain": [
       "Standard deviations (1, .., p=3):\n",
       "[1] 1.2203138 0.9683089 0.7571078\n",
       "\n",
       "Rotation (n x k) = (3 x 3):\n",
       "           PC1        PC2         PC3\n",
       "LocX 0.6637304 -0.2527282  0.70398181\n",
       "LocY 0.3367113  0.9413848  0.02049627\n",
       "LocZ 0.6678978 -0.2234346 -0.70992219"
      ]
     },
     "metadata": {},
     "output_type": "display_data"
    },
    {
     "data": {
      "text/html": [
       "<ol class=list-inline>\n",
       "\t<li>49.6388550254559</li>\n",
       "\t<li>31.254070829308</li>\n",
       "\t<li>19.107074145236</li>\n",
       "</ol>\n"
      ],
      "text/latex": [
       "\\begin{enumerate*}\n",
       "\\item 49.6388550254559\n",
       "\\item 31.254070829308\n",
       "\\item 19.107074145236\n",
       "\\end{enumerate*}\n"
      ],
      "text/markdown": [
       "1. 49.6388550254559\n",
       "2. 31.254070829308\n",
       "3. 19.107074145236\n",
       "\n",
       "\n"
      ],
      "text/plain": [
       "[1] 49.63886 31.25407 19.10707"
      ]
     },
     "metadata": {},
     "output_type": "display_data"
    }
   ],
   "source": [
    "pcamodels[[8]];\n",
    "( pcamodels[[8]]$sdev^2/sum(pcamodels[[1]]$sdev^2) )*100"
   ]
  },
  {
   "cell_type": "markdown",
   "metadata": {},
   "source": [
    "Principal components explain $49.64\\%$, $31.25\\%$ and $19.11\\%$ of the variance respectively. PC1 variance is the third smallest one.\n",
    "\n",
    "PC1 Coefficients are all positive. Coefficients are $0.6637304$, $0.3367113$ and $0.6678978$. Class 8 observations are positively proportional with coordinate values. X and Z locations look equally significant while Y seems the least significant one."
   ]
  },
  {
   "cell_type": "markdown",
   "metadata": {},
   "source": [
    "### Summary"
   ]
  },
  {
   "cell_type": "markdown",
   "metadata": {},
   "source": [
    "Summarizing coefficients of PCA1 (0.50 is taken as a threshold value)\n",
    "1. 0,+,+\n",
    "2. -,-,-\n",
    "3. -,-,+\n",
    "4. +,+,0\n",
    "5. 0,+,+\n",
    "6. 0,-,-\n",
    "7. -,-,0\n",
    "8. +,0,+\n",
    "\n",
    "Classes seem seperable except Class 1 and 5. This result is different here as in Task b, it was not an issue to seperate Class 1 and 5. Adding new observations may have changed the result as there were just 2 observations in Task b. Also this can be a result of different approach.\n",
    "\n",
    "Another point is that, Class 2 and 7 both have all negative coefficients. In task b, this two classes came out with similar results as well. In terms of comparing Class 2 and 7, we can say that results of Task b and c are similar.\n"
   ]
  },
  {
   "cell_type": "markdown",
   "metadata": {},
   "source": [
    "## Task d"
   ]
  },
  {
   "cell_type": "code",
   "execution_count": 106,
   "metadata": {},
   "outputs": [],
   "source": [
    "#Dataload\n",
    "axes <- c(\"X\",\"Y\",\"Z\")\n",
    "df <- list(); dftest <- list()\n",
    "\n",
    "for (i in axes){\n",
    "    df[[length(df) + 1]] <- fread(glue(\"Data/Train/uWaveGestureLibrary_{i}_TRAIN\"))\n",
    "    dftest[[length(dftest) + 1]] <- fread(glue(\"Data/Test/uWaveGestureLibrary_{i}_TEST\"))\n",
    "    \n",
    "}"
   ]
  },
  {
   "cell_type": "markdown",
   "metadata": {},
   "source": [
    "### Distance Matrix Calculation"
   ]
  },
  {
   "cell_type": "markdown",
   "metadata": {},
   "source": [
    "Distance formulas are:\n",
    "\n",
    "$ d_{C,i,j} = \\sqrt{ \\sum{(a_{i} - a_{j})^2} } \\quad  \\forall i,j \\in Obs. \\quad C = X,Y,Z $\n",
    "\n",
    "Combining all three distanceswe obtain general distance terms:\n",
    "\n",
    "$ d_{i,j} = \\sqrt{ d_{X,i,j}^2 + d_{Y,i,j}^2 +d_{Z,i,j}^2} \\quad  \\forall i,j \\in Obs. $"
   ]
  },
  {
   "cell_type": "code",
   "execution_count": 107,
   "metadata": {},
   "outputs": [],
   "source": [
    "distX <- as.matrix(dist(df[[1]][,-1], method = \"euclidean\"))\n",
    "distY <- as.matrix(dist(df[[2]][,-1], method = \"euclidean\"))\n",
    "distZ <- as.matrix(dist(df[[3]][,-1], method = \"euclidean\"))"
   ]
  },
  {
   "cell_type": "code",
   "execution_count": 108,
   "metadata": {},
   "outputs": [
    {
     "data": {
      "text/html": [
       "<table>\n",
       "<thead><tr><th scope=col>1</th><th scope=col>2</th><th scope=col>3</th><th scope=col>4</th><th scope=col>5</th><th scope=col>6</th><th scope=col>7</th><th scope=col>8</th><th scope=col>9</th><th scope=col>10</th><th scope=col>...</th><th scope=col>887</th><th scope=col>888</th><th scope=col>889</th><th scope=col>890</th><th scope=col>891</th><th scope=col>892</th><th scope=col>893</th><th scope=col>894</th><th scope=col>895</th><th scope=col>896</th></tr></thead>\n",
       "<tbody>\n",
       "\t<tr><td> 0.00000</td><td>51.30385</td><td>46.49263</td><td>50.00557</td><td>40.53065</td><td>48.77339</td><td>49.78434</td><td>34.47481</td><td>38.36707</td><td>30.47860</td><td>...     </td><td>46.01287</td><td>39.73031</td><td>41.26587</td><td>37.26560</td><td>52.64993</td><td>34.61732</td><td>40.36802</td><td>43.59052</td><td>47.17981</td><td>52.29014</td></tr>\n",
       "\t<tr><td>51.30385</td><td> 0.00000</td><td>26.15062</td><td>36.84757</td><td>32.71092</td><td>37.63036</td><td>38.19377</td><td>50.04145</td><td>37.77742</td><td>57.60482</td><td>...     </td><td>46.03559</td><td>49.01368</td><td>32.31978</td><td>49.04021</td><td>34.11599</td><td>44.40307</td><td>54.65286</td><td>41.24253</td><td>43.26349</td><td>24.41367</td></tr>\n",
       "\t<tr><td>46.49263</td><td>26.15062</td><td> 0.00000</td><td>43.11491</td><td>34.68557</td><td>34.77018</td><td>52.90127</td><td>45.07319</td><td>39.31871</td><td>54.02186</td><td>...     </td><td>49.77938</td><td>43.33303</td><td>34.88315</td><td>48.61401</td><td>36.60350</td><td>37.87980</td><td>49.85753</td><td>47.86957</td><td>52.75303</td><td>23.00783</td></tr>\n",
       "\t<tr><td>50.00557</td><td>36.84757</td><td>43.11491</td><td> 0.00000</td><td>45.09594</td><td>41.03078</td><td>39.72564</td><td>55.62494</td><td>49.68671</td><td>44.87356</td><td>...     </td><td>41.21545</td><td>38.46376</td><td>47.07113</td><td>44.03824</td><td>33.65578</td><td>43.62841</td><td>45.17318</td><td>36.47610</td><td>37.77271</td><td>37.73935</td></tr>\n",
       "\t<tr><td>40.53065</td><td>32.71092</td><td>34.68557</td><td>45.09594</td><td> 0.00000</td><td>36.55246</td><td>44.96919</td><td>34.49307</td><td>20.71561</td><td>48.63792</td><td>...     </td><td>47.36377</td><td>53.91140</td><td>17.27920</td><td>36.79339</td><td>49.61586</td><td>44.74386</td><td>44.68900</td><td>45.79881</td><td>44.43520</td><td>39.75526</td></tr>\n",
       "\t<tr><td>48.77339</td><td>37.63036</td><td>34.77018</td><td>41.03078</td><td>36.55246</td><td> 0.00000</td><td>48.51623</td><td>48.43767</td><td>42.56081</td><td>51.06056</td><td>...     </td><td>48.74836</td><td>52.96310</td><td>37.81844</td><td>42.26116</td><td>40.39066</td><td>46.14251</td><td>39.92165</td><td>43.24382</td><td>47.93611</td><td>32.42908</td></tr>\n",
       "</tbody>\n",
       "</table>\n"
      ],
      "text/latex": [
       "\\begin{tabular}{r|llllllllllllllllllllllllllllllllllllllllllllllllllllllllllllllllllllllllllllllllllllllllllllllllllllllllllllllllllllllllllllllllllllllllllllllllllllllllllllllllllllllllllllllllllllllllllllllllllllllllllllllllllllllllllllllllllllllllllllllllllllllllllllllllllllllllllllllllllllllllllllllllllllllllllllllllllllllllllllllllllllllllllllllllllllllllllllllllllllllllllllllllllllllllllllllllllllllllllllllllllllllllllllllllllllllllllllllllllllllllllllllllllllllllllllllllllllllllllllllllllllllllllllllllllllllllllllllllllllllllllllllllllllllllllllllllllllllllllllllllllllllllllllllllllllllllllllllllllllllllllllllllllllllllllllllllllllllllllllllllllllllllllllllllllllllllllllllllllllllllllllllllllllllllllllllllllllllllllllllllllllllllllllllllllllllllllllllllllllllllllllllllllllllllllllllllllllllllllllllllllllllllllllllllllllllllllllllllllllllllllllllllllllllllllllllllllllllllllllllllllllllllllllllll}\n",
       " 1 & 2 & 3 & 4 & 5 & 6 & 7 & 8 & 9 & 10 & ... & 887 & 888 & 889 & 890 & 891 & 892 & 893 & 894 & 895 & 896\\\\\n",
       "\\hline\n",
       "\t  0.00000 & 51.30385 & 46.49263 & 50.00557 & 40.53065 & 48.77339 & 49.78434 & 34.47481 & 38.36707 & 30.47860 & ...      & 46.01287 & 39.73031 & 41.26587 & 37.26560 & 52.64993 & 34.61732 & 40.36802 & 43.59052 & 47.17981 & 52.29014\\\\\n",
       "\t 51.30385 &  0.00000 & 26.15062 & 36.84757 & 32.71092 & 37.63036 & 38.19377 & 50.04145 & 37.77742 & 57.60482 & ...      & 46.03559 & 49.01368 & 32.31978 & 49.04021 & 34.11599 & 44.40307 & 54.65286 & 41.24253 & 43.26349 & 24.41367\\\\\n",
       "\t 46.49263 & 26.15062 &  0.00000 & 43.11491 & 34.68557 & 34.77018 & 52.90127 & 45.07319 & 39.31871 & 54.02186 & ...      & 49.77938 & 43.33303 & 34.88315 & 48.61401 & 36.60350 & 37.87980 & 49.85753 & 47.86957 & 52.75303 & 23.00783\\\\\n",
       "\t 50.00557 & 36.84757 & 43.11491 &  0.00000 & 45.09594 & 41.03078 & 39.72564 & 55.62494 & 49.68671 & 44.87356 & ...      & 41.21545 & 38.46376 & 47.07113 & 44.03824 & 33.65578 & 43.62841 & 45.17318 & 36.47610 & 37.77271 & 37.73935\\\\\n",
       "\t 40.53065 & 32.71092 & 34.68557 & 45.09594 &  0.00000 & 36.55246 & 44.96919 & 34.49307 & 20.71561 & 48.63792 & ...      & 47.36377 & 53.91140 & 17.27920 & 36.79339 & 49.61586 & 44.74386 & 44.68900 & 45.79881 & 44.43520 & 39.75526\\\\\n",
       "\t 48.77339 & 37.63036 & 34.77018 & 41.03078 & 36.55246 &  0.00000 & 48.51623 & 48.43767 & 42.56081 & 51.06056 & ...      & 48.74836 & 52.96310 & 37.81844 & 42.26116 & 40.39066 & 46.14251 & 39.92165 & 43.24382 & 47.93611 & 32.42908\\\\\n",
       "\\end{tabular}\n"
      ],
      "text/markdown": [
       "\n",
       "| 1 | 2 | 3 | 4 | 5 | 6 | 7 | 8 | 9 | 10 | ... | 887 | 888 | 889 | 890 | 891 | 892 | 893 | 894 | 895 | 896 |\n",
       "|---|---|---|---|---|---|---|---|---|---|---|---|---|---|---|---|---|---|---|---|---|\n",
       "|  0.00000 | 51.30385 | 46.49263 | 50.00557 | 40.53065 | 48.77339 | 49.78434 | 34.47481 | 38.36707 | 30.47860 | ...      | 46.01287 | 39.73031 | 41.26587 | 37.26560 | 52.64993 | 34.61732 | 40.36802 | 43.59052 | 47.17981 | 52.29014 |\n",
       "| 51.30385 |  0.00000 | 26.15062 | 36.84757 | 32.71092 | 37.63036 | 38.19377 | 50.04145 | 37.77742 | 57.60482 | ...      | 46.03559 | 49.01368 | 32.31978 | 49.04021 | 34.11599 | 44.40307 | 54.65286 | 41.24253 | 43.26349 | 24.41367 |\n",
       "| 46.49263 | 26.15062 |  0.00000 | 43.11491 | 34.68557 | 34.77018 | 52.90127 | 45.07319 | 39.31871 | 54.02186 | ...      | 49.77938 | 43.33303 | 34.88315 | 48.61401 | 36.60350 | 37.87980 | 49.85753 | 47.86957 | 52.75303 | 23.00783 |\n",
       "| 50.00557 | 36.84757 | 43.11491 |  0.00000 | 45.09594 | 41.03078 | 39.72564 | 55.62494 | 49.68671 | 44.87356 | ...      | 41.21545 | 38.46376 | 47.07113 | 44.03824 | 33.65578 | 43.62841 | 45.17318 | 36.47610 | 37.77271 | 37.73935 |\n",
       "| 40.53065 | 32.71092 | 34.68557 | 45.09594 |  0.00000 | 36.55246 | 44.96919 | 34.49307 | 20.71561 | 48.63792 | ...      | 47.36377 | 53.91140 | 17.27920 | 36.79339 | 49.61586 | 44.74386 | 44.68900 | 45.79881 | 44.43520 | 39.75526 |\n",
       "| 48.77339 | 37.63036 | 34.77018 | 41.03078 | 36.55246 |  0.00000 | 48.51623 | 48.43767 | 42.56081 | 51.06056 | ...      | 48.74836 | 52.96310 | 37.81844 | 42.26116 | 40.39066 | 46.14251 | 39.92165 | 43.24382 | 47.93611 | 32.42908 |\n",
       "\n"
      ],
      "text/plain": [
       "  1        2        3        4        5        6        7        8       \n",
       "1  0.00000 51.30385 46.49263 50.00557 40.53065 48.77339 49.78434 34.47481\n",
       "2 51.30385  0.00000 26.15062 36.84757 32.71092 37.63036 38.19377 50.04145\n",
       "3 46.49263 26.15062  0.00000 43.11491 34.68557 34.77018 52.90127 45.07319\n",
       "4 50.00557 36.84757 43.11491  0.00000 45.09594 41.03078 39.72564 55.62494\n",
       "5 40.53065 32.71092 34.68557 45.09594  0.00000 36.55246 44.96919 34.49307\n",
       "6 48.77339 37.63036 34.77018 41.03078 36.55246  0.00000 48.51623 48.43767\n",
       "  9        10       ... 887      888      889      890      891      892     \n",
       "1 38.36707 30.47860 ... 46.01287 39.73031 41.26587 37.26560 52.64993 34.61732\n",
       "2 37.77742 57.60482 ... 46.03559 49.01368 32.31978 49.04021 34.11599 44.40307\n",
       "3 39.31871 54.02186 ... 49.77938 43.33303 34.88315 48.61401 36.60350 37.87980\n",
       "4 49.68671 44.87356 ... 41.21545 38.46376 47.07113 44.03824 33.65578 43.62841\n",
       "5 20.71561 48.63792 ... 47.36377 53.91140 17.27920 36.79339 49.61586 44.74386\n",
       "6 42.56081 51.06056 ... 48.74836 52.96310 37.81844 42.26116 40.39066 46.14251\n",
       "  893      894      895      896     \n",
       "1 40.36802 43.59052 47.17981 52.29014\n",
       "2 54.65286 41.24253 43.26349 24.41367\n",
       "3 49.85753 47.86957 52.75303 23.00783\n",
       "4 45.17318 36.47610 37.77271 37.73935\n",
       "5 44.68900 45.79881 44.43520 39.75526\n",
       "6 39.92165 43.24382 47.93611 32.42908"
      ]
     },
     "metadata": {},
     "output_type": "display_data"
    }
   ],
   "source": [
    "distXYZ <- sqrt(distX^2 + distY^2 + distZ^2 ); head(distXYZ)"
   ]
  },
  {
   "cell_type": "code",
   "execution_count": 109,
   "metadata": {
    "scrolled": true
   },
   "outputs": [],
   "source": [
    "modelmds <- cmdscale(distXYZ)"
   ]
  },
  {
   "cell_type": "markdown",
   "metadata": {},
   "source": [
    "### Visualization of Results"
   ]
  },
  {
   "cell_type": "code",
   "execution_count": 122,
   "metadata": {},
   "outputs": [
    {
     "data": {
      "text/html": [
       "<table>\n",
       "<thead><tr><th scope=col>V1</th><th scope=col>V1</th><th scope=col>V2</th></tr></thead>\n",
       "<tbody>\n",
       "\t<tr><td>6         </td><td> 15.383398</td><td> 14.833435</td></tr>\n",
       "\t<tr><td>5         </td><td>-27.454443</td><td> -4.121066</td></tr>\n",
       "\t<tr><td>5         </td><td>-22.189073</td><td> 15.005511</td></tr>\n",
       "\t<tr><td>3         </td><td> -8.326597</td><td>-14.042294</td></tr>\n",
       "\t<tr><td>4         </td><td> -9.602607</td><td> 11.221899</td></tr>\n",
       "\t<tr><td>8         </td><td>-13.280966</td><td>  8.761481</td></tr>\n",
       "\t<tr><td>7         </td><td> -2.460507</td><td>-22.692845</td></tr>\n",
       "\t<tr><td>4         </td><td> 10.190133</td><td> 16.005871</td></tr>\n",
       "\t<tr><td>4         </td><td> -5.965854</td><td> 13.359863</td></tr>\n",
       "\t<tr><td>6         </td><td> 24.632023</td><td>  2.470865</td></tr>\n",
       "</tbody>\n",
       "</table>\n"
      ],
      "text/latex": [
       "\\begin{tabular}{r|lll}\n",
       " V1 & V1 & V2\\\\\n",
       "\\hline\n",
       "\t 6          &  15.383398 &  14.833435\\\\\n",
       "\t 5          & -27.454443 &  -4.121066\\\\\n",
       "\t 5          & -22.189073 &  15.005511\\\\\n",
       "\t 3          &  -8.326597 & -14.042294\\\\\n",
       "\t 4          &  -9.602607 &  11.221899\\\\\n",
       "\t 8          & -13.280966 &   8.761481\\\\\n",
       "\t 7          &  -2.460507 & -22.692845\\\\\n",
       "\t 4          &  10.190133 &  16.005871\\\\\n",
       "\t 4          &  -5.965854 &  13.359863\\\\\n",
       "\t 6          &  24.632023 &   2.470865\\\\\n",
       "\\end{tabular}\n"
      ],
      "text/markdown": [
       "\n",
       "| V1 | V1 | V2 |\n",
       "|---|---|---|\n",
       "| 6          |  15.383398 |  14.833435 |\n",
       "| 5          | -27.454443 |  -4.121066 |\n",
       "| 5          | -22.189073 |  15.005511 |\n",
       "| 3          |  -8.326597 | -14.042294 |\n",
       "| 4          |  -9.602607 |  11.221899 |\n",
       "| 8          | -13.280966 |   8.761481 |\n",
       "| 7          |  -2.460507 | -22.692845 |\n",
       "| 4          |  10.190133 |  16.005871 |\n",
       "| 4          |  -5.965854 |  13.359863 |\n",
       "| 6          |  24.632023 |   2.470865 |\n",
       "\n"
      ],
      "text/plain": [
       "   V1 V1         V2        \n",
       "1  6   15.383398  14.833435\n",
       "2  5  -27.454443  -4.121066\n",
       "3  5  -22.189073  15.005511\n",
       "4  3   -8.326597 -14.042294\n",
       "5  4   -9.602607  11.221899\n",
       "6  8  -13.280966   8.761481\n",
       "7  7   -2.460507 -22.692845\n",
       "8  4   10.190133  16.005871\n",
       "9  4   -5.965854  13.359863\n",
       "10 6   24.632023   2.470865"
      ]
     },
     "metadata": {},
     "output_type": "display_data"
    }
   ],
   "source": [
    "finaldata <- cbind(df[[1]][,1],modelmds ); head(finaldata,10)"
   ]
  },
  {
   "cell_type": "code",
   "execution_count": 123,
   "metadata": {},
   "outputs": [
    {
     "name": "stderr",
     "output_type": "stream",
     "text": [
      "Warning message in setnames(finaldata, \"V1\", \"Class\"):\n",
      "\"Item 1 of 'old' is 'V1' which appears several times in column names. Just the first will be changed. There are 0 other items in old that are also duplicated in column names.\""
     ]
    },
    {
     "data": {
      "text/html": [
       "<table>\n",
       "<thead><tr><th scope=col>Class</th><th scope=col>V1</th><th scope=col>V2</th></tr></thead>\n",
       "<tbody>\n",
       "\t<tr><td>6         </td><td> 15.383398</td><td> 14.833435</td></tr>\n",
       "\t<tr><td>5         </td><td>-27.454443</td><td> -4.121066</td></tr>\n",
       "\t<tr><td>5         </td><td>-22.189073</td><td> 15.005511</td></tr>\n",
       "\t<tr><td>3         </td><td> -8.326597</td><td>-14.042294</td></tr>\n",
       "\t<tr><td>4         </td><td> -9.602607</td><td> 11.221899</td></tr>\n",
       "\t<tr><td>8         </td><td>-13.280966</td><td>  8.761481</td></tr>\n",
       "</tbody>\n",
       "</table>\n"
      ],
      "text/latex": [
       "\\begin{tabular}{r|lll}\n",
       " Class & V1 & V2\\\\\n",
       "\\hline\n",
       "\t 6          &  15.383398 &  14.833435\\\\\n",
       "\t 5          & -27.454443 &  -4.121066\\\\\n",
       "\t 5          & -22.189073 &  15.005511\\\\\n",
       "\t 3          &  -8.326597 & -14.042294\\\\\n",
       "\t 4          &  -9.602607 &  11.221899\\\\\n",
       "\t 8          & -13.280966 &   8.761481\\\\\n",
       "\\end{tabular}\n"
      ],
      "text/markdown": [
       "\n",
       "| Class | V1 | V2 |\n",
       "|---|---|---|\n",
       "| 6          |  15.383398 |  14.833435 |\n",
       "| 5          | -27.454443 |  -4.121066 |\n",
       "| 5          | -22.189073 |  15.005511 |\n",
       "| 3          |  -8.326597 | -14.042294 |\n",
       "| 4          |  -9.602607 |  11.221899 |\n",
       "| 8          | -13.280966 |   8.761481 |\n",
       "\n"
      ],
      "text/plain": [
       "  Class V1         V2        \n",
       "1 6      15.383398  14.833435\n",
       "2 5     -27.454443  -4.121066\n",
       "3 5     -22.189073  15.005511\n",
       "4 3      -8.326597 -14.042294\n",
       "5 4      -9.602607  11.221899\n",
       "6 8     -13.280966   8.761481"
      ]
     },
     "metadata": {},
     "output_type": "display_data"
    }
   ],
   "source": [
    "setnames(finaldata,\"V1\",\"Class\");head(finaldata)"
   ]
  },
  {
   "cell_type": "code",
   "execution_count": 126,
   "metadata": {
    "scrolled": false
   },
   "outputs": [
    {
     "data": {
      "image/png": "[encoded data removed]",
      "text/plain": [
       "plot without title"
      ]
     },
     "metadata": {},
     "output_type": "display_data"
    }
   ],
   "source": [
    "qplot(data = finaldata,V1,V2,col=as.factor(Class))"
   ]
  },
  {
   "cell_type": "markdown",
   "metadata": {},
   "source": [
    "When we look at the plot, it is possible to guess different central points for each class. Some class pairs look linearly seperable and quite distinct. For example Class 7 and 5; Class 2 and 5; Class 1 and 8. However, there are many classes that have large intersection. Class 4, 5 and 8; Class 6 and 8; Class 2 and 7 can be given as examples."
   ]
  },
  {
   "cell_type": "markdown",
   "metadata": {},
   "source": [
    "### References"
   ]
  },
  {
   "cell_type": "markdown",
   "metadata": {},
   "source": [
    "[1] J. Liu, Z. Wang, L. Zhong, J. Wickramasuriya, and V. Vasudevan. uWave: Accelerometer-based\n",
    "personalized gesture recognition and its applications. Pervasive Computing and Communications,\n",
    "IEEE International Conference on, 0:1-9, 2009.\n",
    "(link: http://www.ruf.rice.edu/~mobile/publications/liu09percom.pdf)"
   ]
  }
 ],
 "metadata": {
  "kernelspec": {
   "display_name": "R",
   "language": "R",
   "name": "ir"
  },
  "language_info": {
   "codemirror_mode": "r",
   "file_extension": ".r",
   "mimetype": "text/x-r-source",
   "name": "R",
   "pygments_lexer": "r",
   "version": "3.6.1"
  }
 },
 "nbformat": 4,
 "nbformat_minor": 4
}
